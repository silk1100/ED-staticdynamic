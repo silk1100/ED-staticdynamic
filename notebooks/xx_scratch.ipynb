{
 "cells": [
  {
   "cell_type": "code",
   "execution_count": 3,
   "id": "8420a3a4-1bec-42aa-8cec-41e60c005bd6",
   "metadata": {},
   "outputs": [],
   "source": [
    "import pandas as pd\n",
    "import numpy as np\n",
    "import matplotlib.pyplot as plt\n",
    "from wordcloud import WordCloud\n",
    "from collections import defaultdict, Counter\n",
    "import seaborn as sns\n",
    "import os"
   ]
  },
  {
   "cell_type": "markdown",
   "id": "e1858165-8c36-4aba-aa7d-6c46deef7a7b",
   "metadata": {},
   "source": [
    "# Compare between sequential Thread, Parallel "
   ]
  },
  {
   "cell_type": "code",
   "execution_count": 4,
   "id": "e89567f0-0cc8-4139-b2b2-018aa5069fe3",
   "metadata": {},
   "outputs": [],
   "source": [
    "STATIC_DYNAMIC_DATA_DIR = '/work/InternalMedicine/s223850/ED-StaticDynamic/static_dynamic_ds/'"
   ]
  },
  {
   "cell_type": "code",
   "execution_count": 5,
   "id": "a01b7d0f-81e5-4a71-9f62-dfe89fd7632b",
   "metadata": {},
   "outputs": [
    {
     "data": {
      "text/plain": [
       "['static_202_thread.csv',\n",
       " 'dynamic_202_thread.csv',\n",
       " 'dynamic_20.csv',\n",
       " 'dynamic_80.csv',\n",
       " 'static_80.csv',\n",
       " 'static_201.csv',\n",
       " 'static_20.csv',\n",
       " 'dynamic_200.csv',\n",
       " 'static_201_proc.csv',\n",
       " 'static_202.csv',\n",
       " 'dynamic_201_proc.csv',\n",
       " 'static_200.csv']"
      ]
     },
     "execution_count": 5,
     "metadata": {},
     "output_type": "execute_result"
    }
   ],
   "source": [
    "os.listdir(STATIC_DYNAMIC_DATA_DIR)"
   ]
  },
  {
   "cell_type": "code",
   "execution_count": 6,
   "id": "ce687a45-d281-4e6f-acb0-2f28b6c9b252",
   "metadata": {},
   "outputs": [],
   "source": [
    "df_static_200 = pd.read_csv(os.path.join(STATIC_DYNAMIC_DATA_DIR, 'static_200.csv'))\n",
    "df_dynamic_200 = pd.read_csv(os.path.join(STATIC_DYNAMIC_DATA_DIR, 'dynamic_200.csv'))\n"
   ]
  },
  {
   "cell_type": "code",
   "execution_count": 7,
   "id": "08e7b681-d9cd-4dbd-b435-b46d8ccafa24",
   "metadata": {},
   "outputs": [],
   "source": [
    "df_static_200_thread = pd.read_csv(os.path.join(STATIC_DYNAMIC_DATA_DIR, 'static_202_thread.csv'))\n",
    "df_dynamic_200_thread = pd.read_csv(os.path.join(STATIC_DYNAMIC_DATA_DIR, 'dynamic_202_thread.csv'))\n"
   ]
  },
  {
   "cell_type": "code",
   "execution_count": 8,
   "id": "5d1e4037-6418-460f-ad6e-898e4911d2eb",
   "metadata": {},
   "outputs": [],
   "source": [
    "df_static_200_proc = pd.read_csv(os.path.join(STATIC_DYNAMIC_DATA_DIR, 'static_201_proc.csv'))\n",
    "df_dynamic_200_proc = pd.read_csv(os.path.join(STATIC_DYNAMIC_DATA_DIR, 'dynamic_201_proc.csv'))\n"
   ]
  },
  {
   "cell_type": "code",
   "execution_count": 9,
   "id": "fa91299b-6109-46ec-a548-841814337a26",
   "metadata": {},
   "outputs": [
    {
     "data": {
      "text/plain": [
       "((110300, 19), (110300, 19), (110300, 19))"
      ]
     },
     "execution_count": 9,
     "metadata": {},
     "output_type": "execute_result"
    }
   ],
   "source": [
    "df_static_200.shape, df_static_200_thread.shape, df_static_200_proc.shape"
   ]
  },
  {
   "cell_type": "code",
   "execution_count": 10,
   "id": "1966d7b9-b2f6-430f-b2c5-6bc25d876b96",
   "metadata": {},
   "outputs": [
    {
     "data": {
      "text/plain": [
       "((10062338, 9), (10064473, 9), (10063429, 9))"
      ]
     },
     "execution_count": 10,
     "metadata": {},
     "output_type": "execute_result"
    }
   ],
   "source": [
    "df_dynamic_200.shape, df_dynamic_200_thread.shape, df_dynamic_200_proc.shape"
   ]
  },
  {
   "cell_type": "code",
   "execution_count": 14,
   "id": "20b4c3f3-edba-4e06-9920-9909d46eefe8",
   "metadata": {},
   "outputs": [
    {
     "data": {
      "text/plain": [
       "Index(['Unnamed: 0', 'PAT_ENC_CSN_ID', 'Ethnicity', 'Sex', 'MultiRacial',\n",
       "       'Admitted_YN', 'Patient_Age', 'Coverage_Financial_Class_Grouper',\n",
       "       'Has Completed Appt in Last Seven Days',\n",
       "       'Has Hospital Encounter in Last Seven Days',\n",
       "       'Number of Inpatient Admissions in the last 30 Days',\n",
       "       'Number of past appointments in last 60 days',\n",
       "       'Number of past inpatient admissions over ED visits in last three years',\n",
       "       'Chief_Complaint_All', 'Count_of_Chief_Complaints', 'Means_Of_Arrival',\n",
       "       'Acuity_Level', 'FirstRace', 'Arrived_Time_appx'],\n",
       "      dtype='object')"
      ]
     },
     "execution_count": 14,
     "metadata": {},
     "output_type": "execute_result"
    }
   ],
   "source": [
    "df_static_200.columns"
   ]
  },
  {
   "cell_type": "code",
   "execution_count": 15,
   "id": "822e0108-aa2b-461c-b213-14690d882ba7",
   "metadata": {},
   "outputs": [
    {
     "data": {
      "text/plain": [
       "Index(['Unnamed: 0', 'PAT_ENC_CSN_ID', 'Ethnicity', 'Sex', 'MultiRacial',\n",
       "       'Admitted_YN', 'Patient_Age', 'Coverage_Financial_Class_Grouper',\n",
       "       'Has Completed Appt in Last Seven Days',\n",
       "       'Has Hospital Encounter in Last Seven Days',\n",
       "       'Number of Inpatient Admissions in the last 30 Days',\n",
       "       'Number of past appointments in last 60 days',\n",
       "       'Number of past inpatient admissions over ED visits in last three years',\n",
       "       'Chief_Complaint_All', 'Count_of_Chief_Complaints', 'Means_Of_Arrival',\n",
       "       'Acuity_Level', 'FirstRace', 'Arrived_Time_appx'],\n",
       "      dtype='object')"
      ]
     },
     "execution_count": 15,
     "metadata": {},
     "output_type": "execute_result"
    }
   ],
   "source": [
    "df_static_200_thread.columns"
   ]
  },
  {
   "cell_type": "code",
   "execution_count": 16,
   "id": "b24dddee-7fc6-4f4f-b630-a4e615f85e43",
   "metadata": {},
   "outputs": [],
   "source": [
    "df_seq_s = df_static_200.set_index('PAT_ENC_CSN_ID')\n",
    "df_thr_s = df_static_200_thread.set_index('PAT_ENC_CSN_ID')"
   ]
  },
  {
   "cell_type": "code",
   "execution_count": 21,
   "id": "5d5d12b9-c18f-47dd-a0fd-0e2b5d9a7c59",
   "metadata": {},
   "outputs": [
    {
     "data": {
      "text/html": [
       "<div>\n",
       "<style scoped>\n",
       "    .dataframe tbody tr th:only-of-type {\n",
       "        vertical-align: middle;\n",
       "    }\n",
       "\n",
       "    .dataframe tbody tr th {\n",
       "        vertical-align: top;\n",
       "    }\n",
       "\n",
       "    .dataframe thead th {\n",
       "        text-align: right;\n",
       "    }\n",
       "</style>\n",
       "<table border=\"1\" class=\"dataframe\">\n",
       "  <thead>\n",
       "    <tr style=\"text-align: right;\">\n",
       "      <th></th>\n",
       "      <th>Unnamed: 0</th>\n",
       "      <th>Ethnicity</th>\n",
       "      <th>Sex</th>\n",
       "      <th>MultiRacial</th>\n",
       "      <th>Admitted_YN</th>\n",
       "      <th>Patient_Age</th>\n",
       "      <th>Coverage_Financial_Class_Grouper</th>\n",
       "      <th>Has Completed Appt in Last Seven Days</th>\n",
       "      <th>Has Hospital Encounter in Last Seven Days</th>\n",
       "      <th>Number of Inpatient Admissions in the last 30 Days</th>\n",
       "      <th>Number of past appointments in last 60 days</th>\n",
       "      <th>Number of past inpatient admissions over ED visits in last three years</th>\n",
       "      <th>Chief_Complaint_All</th>\n",
       "      <th>Count_of_Chief_Complaints</th>\n",
       "      <th>Means_Of_Arrival</th>\n",
       "      <th>Acuity_Level</th>\n",
       "      <th>FirstRace</th>\n",
       "      <th>Arrived_Time_appx</th>\n",
       "    </tr>\n",
       "    <tr>\n",
       "      <th>PAT_ENC_CSN_ID</th>\n",
       "      <th></th>\n",
       "      <th></th>\n",
       "      <th></th>\n",
       "      <th></th>\n",
       "      <th></th>\n",
       "      <th></th>\n",
       "      <th></th>\n",
       "      <th></th>\n",
       "      <th></th>\n",
       "      <th></th>\n",
       "      <th></th>\n",
       "      <th></th>\n",
       "      <th></th>\n",
       "      <th></th>\n",
       "      <th></th>\n",
       "      <th></th>\n",
       "      <th></th>\n",
       "      <th></th>\n",
       "    </tr>\n",
       "  </thead>\n",
       "  <tbody>\n",
       "    <tr>\n",
       "      <th>86725001</th>\n",
       "      <td>98</td>\n",
       "      <td>Non-Hispanic/Latino</td>\n",
       "      <td>Female</td>\n",
       "      <td>0</td>\n",
       "      <td>Not Admitted</td>\n",
       "      <td>40.774811</td>\n",
       "      <td>Medicaid</td>\n",
       "      <td>Yes</td>\n",
       "      <td>No</td>\n",
       "      <td>0</td>\n",
       "      <td>14</td>\n",
       "      <td>0</td>\n",
       "      <td>EYELID PROBLEMS</td>\n",
       "      <td>1</td>\n",
       "      <td>Car</td>\n",
       "      <td>II</td>\n",
       "      <td>Unavailable/Unknown</td>\n",
       "      <td>2017-04-02 09:58:34</td>\n",
       "    </tr>\n",
       "    <tr>\n",
       "      <th>619927095</th>\n",
       "      <td>108</td>\n",
       "      <td>Non-Hispanic/Latino</td>\n",
       "      <td>Female</td>\n",
       "      <td>0</td>\n",
       "      <td>Not Admitted</td>\n",
       "      <td>43.392197</td>\n",
       "      <td>Medicaid</td>\n",
       "      <td>Yes</td>\n",
       "      <td>No</td>\n",
       "      <td>0</td>\n",
       "      <td>14</td>\n",
       "      <td>0</td>\n",
       "      <td>EYE PROBLEM</td>\n",
       "      <td>1</td>\n",
       "      <td>Car</td>\n",
       "      <td>II</td>\n",
       "      <td>Unavailable/Unknown</td>\n",
       "      <td>2019-11-14 10:19:52</td>\n",
       "    </tr>\n",
       "    <tr>\n",
       "      <th>651542751</th>\n",
       "      <td>138</td>\n",
       "      <td>Non-Hispanic/Latino</td>\n",
       "      <td>Male</td>\n",
       "      <td>0</td>\n",
       "      <td>Not Admitted</td>\n",
       "      <td>73.494866</td>\n",
       "      <td>Other</td>\n",
       "      <td>No</td>\n",
       "      <td>No</td>\n",
       "      <td>0</td>\n",
       "      <td>110</td>\n",
       "      <td>0</td>\n",
       "      <td>LEG PAIN,THROAT PROBLEM</td>\n",
       "      <td>2</td>\n",
       "      <td>Car</td>\n",
       "      <td>III</td>\n",
       "      <td>Black or African American</td>\n",
       "      <td>2021-11-01 00:44:44</td>\n",
       "    </tr>\n",
       "    <tr>\n",
       "      <th>651542792</th>\n",
       "      <td>169</td>\n",
       "      <td>Non-Hispanic/Latino</td>\n",
       "      <td>Male</td>\n",
       "      <td>0</td>\n",
       "      <td>Admitted</td>\n",
       "      <td>27.173169</td>\n",
       "      <td>Medicaid</td>\n",
       "      <td>No</td>\n",
       "      <td>No</td>\n",
       "      <td>0</td>\n",
       "      <td>0</td>\n",
       "      <td>0</td>\n",
       "      <td>HEADACHE</td>\n",
       "      <td>1</td>\n",
       "      <td>Car</td>\n",
       "      <td>III</td>\n",
       "      <td>Black or African American</td>\n",
       "      <td>2021-11-01 01:51:36</td>\n",
       "    </tr>\n",
       "    <tr>\n",
       "      <th>651542795</th>\n",
       "      <td>276</td>\n",
       "      <td>Hispanic or Latino</td>\n",
       "      <td>Male</td>\n",
       "      <td>1</td>\n",
       "      <td>Not Admitted</td>\n",
       "      <td>42.050650</td>\n",
       "      <td>Medicare</td>\n",
       "      <td>No</td>\n",
       "      <td>No</td>\n",
       "      <td>0</td>\n",
       "      <td>0</td>\n",
       "      <td>0</td>\n",
       "      <td>BLOOD SUGAR PROBLEM</td>\n",
       "      <td>1</td>\n",
       "      <td>Car</td>\n",
       "      <td>II</td>\n",
       "      <td>White</td>\n",
       "      <td>2021-11-01 00:55:01</td>\n",
       "    </tr>\n",
       "    <tr>\n",
       "      <th>...</th>\n",
       "      <td>...</td>\n",
       "      <td>...</td>\n",
       "      <td>...</td>\n",
       "      <td>...</td>\n",
       "      <td>...</td>\n",
       "      <td>...</td>\n",
       "      <td>...</td>\n",
       "      <td>...</td>\n",
       "      <td>...</td>\n",
       "      <td>...</td>\n",
       "      <td>...</td>\n",
       "      <td>...</td>\n",
       "      <td>...</td>\n",
       "      <td>...</td>\n",
       "      <td>...</td>\n",
       "      <td>...</td>\n",
       "      <td>...</td>\n",
       "      <td>...</td>\n",
       "    </tr>\n",
       "    <tr>\n",
       "      <th>693399528</th>\n",
       "      <td>10084217</td>\n",
       "      <td>Non-Hispanic/Latino</td>\n",
       "      <td>Female</td>\n",
       "      <td>0</td>\n",
       "      <td>Not Admitted</td>\n",
       "      <td>15.115674</td>\n",
       "      <td>Self-Pay</td>\n",
       "      <td>Yes</td>\n",
       "      <td>Yes</td>\n",
       "      <td>0</td>\n",
       "      <td>2</td>\n",
       "      <td>0</td>\n",
       "      <td>HEADACHE,CHILLS,COUGH,FLU-LIKE SYMPTOMS</td>\n",
       "      <td>4</td>\n",
       "      <td>Car</td>\n",
       "      <td>III</td>\n",
       "      <td>Black or African American</td>\n",
       "      <td>2023-11-20 18:12:29</td>\n",
       "    </tr>\n",
       "    <tr>\n",
       "      <th>693399583</th>\n",
       "      <td>10084300</td>\n",
       "      <td>Non-Hispanic/Latino</td>\n",
       "      <td>Male</td>\n",
       "      <td>0</td>\n",
       "      <td>Not Admitted</td>\n",
       "      <td>23.901437</td>\n",
       "      <td>None</td>\n",
       "      <td>Yes</td>\n",
       "      <td>Yes</td>\n",
       "      <td>0</td>\n",
       "      <td>1</td>\n",
       "      <td>0</td>\n",
       "      <td>THROAT PROBLEM</td>\n",
       "      <td>1</td>\n",
       "      <td>Car</td>\n",
       "      <td>III</td>\n",
       "      <td>Black or African American</td>\n",
       "      <td>2023-11-20 18:16:14</td>\n",
       "    </tr>\n",
       "    <tr>\n",
       "      <th>693401044</th>\n",
       "      <td>10084412</td>\n",
       "      <td>Hispanic or Latino</td>\n",
       "      <td>Male</td>\n",
       "      <td>0</td>\n",
       "      <td>Not Admitted</td>\n",
       "      <td>80.960985</td>\n",
       "      <td>Medicare</td>\n",
       "      <td>Yes</td>\n",
       "      <td>No</td>\n",
       "      <td>0</td>\n",
       "      <td>15</td>\n",
       "      <td>0</td>\n",
       "      <td>FALLS</td>\n",
       "      <td>1</td>\n",
       "      <td>Car</td>\n",
       "      <td>II</td>\n",
       "      <td>Some other race</td>\n",
       "      <td>2023-11-20 20:16:03</td>\n",
       "    </tr>\n",
       "    <tr>\n",
       "      <th>693401129</th>\n",
       "      <td>10084427</td>\n",
       "      <td>*Unspecified</td>\n",
       "      <td>Female</td>\n",
       "      <td>0</td>\n",
       "      <td>Not Admitted</td>\n",
       "      <td>60.284736</td>\n",
       "      <td>None</td>\n",
       "      <td>Yes</td>\n",
       "      <td>Yes</td>\n",
       "      <td>0</td>\n",
       "      <td>1</td>\n",
       "      <td>0</td>\n",
       "      <td>FALLS</td>\n",
       "      <td>1</td>\n",
       "      <td>Car</td>\n",
       "      <td>III</td>\n",
       "      <td>NaN</td>\n",
       "      <td>2023-11-20 20:25:14</td>\n",
       "    </tr>\n",
       "    <tr>\n",
       "      <th>693401341</th>\n",
       "      <td>10084461</td>\n",
       "      <td>Non-Hispanic/Latino</td>\n",
       "      <td>Female</td>\n",
       "      <td>0</td>\n",
       "      <td>Not Admitted</td>\n",
       "      <td>50.710472</td>\n",
       "      <td>Exchange</td>\n",
       "      <td>No</td>\n",
       "      <td>No</td>\n",
       "      <td>0</td>\n",
       "      <td>40</td>\n",
       "      <td>0</td>\n",
       "      <td>TOE PAIN</td>\n",
       "      <td>1</td>\n",
       "      <td>Car</td>\n",
       "      <td>IV</td>\n",
       "      <td>Black or African American</td>\n",
       "      <td>2023-11-20 20:46:30</td>\n",
       "    </tr>\n",
       "  </tbody>\n",
       "</table>\n",
       "<p>110300 rows × 18 columns</p>\n",
       "</div>"
      ],
      "text/plain": [
       "                Unnamed: 0            Ethnicity     Sex  MultiRacial  \\\n",
       "PAT_ENC_CSN_ID                                                         \n",
       "86725001                98  Non-Hispanic/Latino  Female            0   \n",
       "619927095              108  Non-Hispanic/Latino  Female            0   \n",
       "651542751              138  Non-Hispanic/Latino    Male            0   \n",
       "651542792              169  Non-Hispanic/Latino    Male            0   \n",
       "651542795              276   Hispanic or Latino    Male            1   \n",
       "...                    ...                  ...     ...          ...   \n",
       "693399528         10084217  Non-Hispanic/Latino  Female            0   \n",
       "693399583         10084300  Non-Hispanic/Latino    Male            0   \n",
       "693401044         10084412   Hispanic or Latino    Male            0   \n",
       "693401129         10084427         *Unspecified  Female            0   \n",
       "693401341         10084461  Non-Hispanic/Latino  Female            0   \n",
       "\n",
       "                 Admitted_YN  Patient_Age Coverage_Financial_Class_Grouper  \\\n",
       "PAT_ENC_CSN_ID                                                               \n",
       "86725001        Not Admitted    40.774811                         Medicaid   \n",
       "619927095       Not Admitted    43.392197                         Medicaid   \n",
       "651542751       Not Admitted    73.494866                            Other   \n",
       "651542792           Admitted    27.173169                         Medicaid   \n",
       "651542795       Not Admitted    42.050650                         Medicare   \n",
       "...                      ...          ...                              ...   \n",
       "693399528       Not Admitted    15.115674                         Self-Pay   \n",
       "693399583       Not Admitted    23.901437                             None   \n",
       "693401044       Not Admitted    80.960985                         Medicare   \n",
       "693401129       Not Admitted    60.284736                             None   \n",
       "693401341       Not Admitted    50.710472                         Exchange   \n",
       "\n",
       "               Has Completed Appt in Last Seven Days  \\\n",
       "PAT_ENC_CSN_ID                                         \n",
       "86725001                                         Yes   \n",
       "619927095                                        Yes   \n",
       "651542751                                         No   \n",
       "651542792                                         No   \n",
       "651542795                                         No   \n",
       "...                                              ...   \n",
       "693399528                                        Yes   \n",
       "693399583                                        Yes   \n",
       "693401044                                        Yes   \n",
       "693401129                                        Yes   \n",
       "693401341                                         No   \n",
       "\n",
       "               Has Hospital Encounter in Last Seven Days  \\\n",
       "PAT_ENC_CSN_ID                                             \n",
       "86725001                                              No   \n",
       "619927095                                             No   \n",
       "651542751                                             No   \n",
       "651542792                                             No   \n",
       "651542795                                             No   \n",
       "...                                                  ...   \n",
       "693399528                                            Yes   \n",
       "693399583                                            Yes   \n",
       "693401044                                             No   \n",
       "693401129                                            Yes   \n",
       "693401341                                             No   \n",
       "\n",
       "                Number of Inpatient Admissions in the last 30 Days  \\\n",
       "PAT_ENC_CSN_ID                                                       \n",
       "86725001                                                        0    \n",
       "619927095                                                       0    \n",
       "651542751                                                       0    \n",
       "651542792                                                       0    \n",
       "651542795                                                       0    \n",
       "...                                                           ...    \n",
       "693399528                                                       0    \n",
       "693399583                                                       0    \n",
       "693401044                                                       0    \n",
       "693401129                                                       0    \n",
       "693401341                                                       0    \n",
       "\n",
       "                Number of past appointments in last 60 days  \\\n",
       "PAT_ENC_CSN_ID                                                \n",
       "86725001                                                 14   \n",
       "619927095                                                14   \n",
       "651542751                                               110   \n",
       "651542792                                                 0   \n",
       "651542795                                                 0   \n",
       "...                                                     ...   \n",
       "693399528                                                 2   \n",
       "693399583                                                 1   \n",
       "693401044                                                15   \n",
       "693401129                                                 1   \n",
       "693401341                                                40   \n",
       "\n",
       "                Number of past inpatient admissions over ED visits in last three years  \\\n",
       "PAT_ENC_CSN_ID                                                                           \n",
       "86725001                                                        0                        \n",
       "619927095                                                       0                        \n",
       "651542751                                                       0                        \n",
       "651542792                                                       0                        \n",
       "651542795                                                       0                        \n",
       "...                                                           ...                        \n",
       "693399528                                                       0                        \n",
       "693399583                                                       0                        \n",
       "693401044                                                       0                        \n",
       "693401129                                                       0                        \n",
       "693401341                                                       0                        \n",
       "\n",
       "                                    Chief_Complaint_All  \\\n",
       "PAT_ENC_CSN_ID                                            \n",
       "86725001                                EYELID PROBLEMS   \n",
       "619927095                                   EYE PROBLEM   \n",
       "651542751                       LEG PAIN,THROAT PROBLEM   \n",
       "651542792                                      HEADACHE   \n",
       "651542795                           BLOOD SUGAR PROBLEM   \n",
       "...                                                 ...   \n",
       "693399528       HEADACHE,CHILLS,COUGH,FLU-LIKE SYMPTOMS   \n",
       "693399583                                THROAT PROBLEM   \n",
       "693401044                                         FALLS   \n",
       "693401129                                         FALLS   \n",
       "693401341                                      TOE PAIN   \n",
       "\n",
       "                Count_of_Chief_Complaints Means_Of_Arrival Acuity_Level  \\\n",
       "PAT_ENC_CSN_ID                                                            \n",
       "86725001                                1              Car           II   \n",
       "619927095                               1              Car           II   \n",
       "651542751                               2              Car          III   \n",
       "651542792                               1              Car          III   \n",
       "651542795                               1              Car           II   \n",
       "...                                   ...              ...          ...   \n",
       "693399528                               4              Car          III   \n",
       "693399583                               1              Car          III   \n",
       "693401044                               1              Car           II   \n",
       "693401129                               1              Car          III   \n",
       "693401341                               1              Car           IV   \n",
       "\n",
       "                                FirstRace    Arrived_Time_appx  \n",
       "PAT_ENC_CSN_ID                                                  \n",
       "86725001              Unavailable/Unknown  2017-04-02 09:58:34  \n",
       "619927095             Unavailable/Unknown  2019-11-14 10:19:52  \n",
       "651542751       Black or African American  2021-11-01 00:44:44  \n",
       "651542792       Black or African American  2021-11-01 01:51:36  \n",
       "651542795                           White  2021-11-01 00:55:01  \n",
       "...                                   ...                  ...  \n",
       "693399528       Black or African American  2023-11-20 18:12:29  \n",
       "693399583       Black or African American  2023-11-20 18:16:14  \n",
       "693401044                 Some other race  2023-11-20 20:16:03  \n",
       "693401129                             NaN  2023-11-20 20:25:14  \n",
       "693401341       Black or African American  2023-11-20 20:46:30  \n",
       "\n",
       "[110300 rows x 18 columns]"
      ]
     },
     "execution_count": 21,
     "metadata": {},
     "output_type": "execute_result"
    }
   ],
   "source": [
    "df_seq_s"
   ]
  },
  {
   "cell_type": "code",
   "execution_count": 24,
   "id": "3a7be5d1-7a06-4bb9-b8a7-60a8e11adaa5",
   "metadata": {},
   "outputs": [
    {
     "data": {
      "text/plain": [
       "array([False, False, False, ..., False, False,  True])"
      ]
     },
     "execution_count": 24,
     "metadata": {},
     "output_type": "execute_result"
    }
   ],
   "source": [
    "df_thr_s.index == df_seq_s.index"
   ]
  },
  {
   "cell_type": "code",
   "execution_count": 27,
   "id": "a0e83ffb-2f5b-4e7c-abb2-4fb93a3e2a01",
   "metadata": {},
   "outputs": [],
   "source": [
    "df_seq_s, df_thr_s = df_seq_s.align(df_thr_s, join='outer')"
   ]
  },
  {
   "cell_type": "code",
   "execution_count": 30,
   "id": "f9f50c5a-f77e-456e-8d41-30cd8e122850",
   "metadata": {},
   "outputs": [
    {
     "data": {
      "text/plain": [
       "Unnamed: 0                                                                1044\n",
       "Ethnicity                                                                    0\n",
       "Sex                                                                          0\n",
       "MultiRacial                                                                  0\n",
       "Admitted_YN                                                                  0\n",
       "Patient_Age                                                                  0\n",
       "Coverage_Financial_Class_Grouper                                             0\n",
       "Has Completed Appt in Last Seven Days                                        0\n",
       "Has Hospital Encounter in Last Seven Days                                    0\n",
       "Number of Inpatient Admissions in the last 30 Days                           0\n",
       "Number of past appointments in last 60 days                                  0\n",
       "Number of past inpatient admissions over ED visits in last three years       0\n",
       "Chief_Complaint_All                                                        407\n",
       "Count_of_Chief_Complaints                                                    0\n",
       "Means_Of_Arrival                                                            65\n",
       "Acuity_Level                                                              3748\n",
       "FirstRace                                                                  135\n",
       "Arrived_Time_appx                                                            0\n",
       "dtype: int64"
      ]
     },
     "execution_count": 30,
     "metadata": {},
     "output_type": "execute_result"
    }
   ],
   "source": [
    "(df_seq_s != df_thr_s).sum()"
   ]
  },
  {
   "cell_type": "code",
   "execution_count": 33,
   "id": "12bac9fd-05b2-4258-bb3b-5e31d690a295",
   "metadata": {},
   "outputs": [
    {
     "data": {
      "text/plain": [
       "(3748, 3748)"
      ]
     },
     "execution_count": 33,
     "metadata": {},
     "output_type": "execute_result"
    }
   ],
   "source": [
    "df_seq_s['Acuity_Level'].isna().sum(),df_thr_s['Acuity_Level'].isna().sum()"
   ]
  },
  {
   "cell_type": "code",
   "execution_count": 34,
   "id": "3f84b8f6-968f-4dab-84b4-d7da22d07027",
   "metadata": {},
   "outputs": [
    {
     "data": {
      "text/plain": [
       "Unnamed: 0                                                                   0\n",
       "PAT_ENC_CSN_ID                                                               0\n",
       "Ethnicity                                                                    0\n",
       "Sex                                                                          0\n",
       "MultiRacial                                                                  0\n",
       "Admitted_YN                                                                  0\n",
       "Patient_Age                                                                  0\n",
       "Coverage_Financial_Class_Grouper                                             0\n",
       "Has Completed Appt in Last Seven Days                                        0\n",
       "Has Hospital Encounter in Last Seven Days                                    0\n",
       "Number of Inpatient Admissions in the last 30 Days                           0\n",
       "Number of past appointments in last 60 days                                  0\n",
       "Number of past inpatient admissions over ED visits in last three years       0\n",
       "Chief_Complaint_All                                                        407\n",
       "Count_of_Chief_Complaints                                                    0\n",
       "Means_Of_Arrival                                                            65\n",
       "Acuity_Level                                                              3748\n",
       "FirstRace                                                                  135\n",
       "Arrived_Time_appx                                                            0\n",
       "dtype: int64"
      ]
     },
     "execution_count": 34,
     "metadata": {},
     "output_type": "execute_result"
    }
   ],
   "source": [
    "df_static_200_proc.isna().sum()"
   ]
  },
  {
   "cell_type": "code",
   "execution_count": null,
   "id": "63b80229-a289-4e1f-a57b-a67a613759b2",
   "metadata": {},
   "outputs": [],
   "source": []
  }
 ],
 "metadata": {
  "kernelspec": {
   "display_name": "Python 3 (ipykernel)",
   "language": "python",
   "name": "python3"
  },
  "language_info": {
   "codemirror_mode": {
    "name": "ipython",
    "version": 3
   },
   "file_extension": ".py",
   "mimetype": "text/x-python",
   "name": "python",
   "nbconvert_exporter": "python",
   "pygments_lexer": "ipython3",
   "version": "3.10.11"
  }
 },
 "nbformat": 4,
 "nbformat_minor": 5
}
