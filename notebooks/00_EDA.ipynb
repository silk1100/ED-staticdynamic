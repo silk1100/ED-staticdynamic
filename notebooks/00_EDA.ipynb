{
 "cells": [
  {
   "cell_type": "code",
   "execution_count": 1,
   "metadata": {},
   "outputs": [],
   "source": [
    "import pandas as pd\n",
    "from collections import defaultdict\n",
    "import re"
   ]
  },
  {
   "cell_type": "code",
   "execution_count": 2,
   "metadata": {},
   "outputs": [],
   "source": [
    "df = pd.read_csv('/work/InternalMedicine/s223850/ED-StaticDynamic/raw_data/ED Events - 12.1.23.csv')"
   ]
  },
  {
   "cell_type": "code",
   "execution_count": 3,
   "metadata": {},
   "outputs": [
    {
     "name": "stdout",
     "output_type": "stream",
     "text": [
      "<class 'pandas.core.frame.DataFrame'>\n",
      "RangeIndex: 16832198 entries, 0 to 16832197\n",
      "Data columns (total 30 columns):\n",
      " #   Column                                                                  Dtype  \n",
      "---  ------                                                                  -----  \n",
      " 0   PAT_ENC_CSN_ID                                                          int64  \n",
      " 1   PAT_MRN_ID                                                              int64  \n",
      " 2   PAT_ID                                                                  object \n",
      " 3   Ethnicity                                                               object \n",
      " 4   FirstRace                                                               object \n",
      " 5   MultiRacial                                                             int64  \n",
      " 6   Sex                                                                     object \n",
      " 7   Arrived_Time                                                            object \n",
      " 8   ED_Disposition                                                          object \n",
      " 9   Admitted_YN                                                             object \n",
      " 10  Patient_Age                                                             float64\n",
      " 11  Acuity_Level                                                            object \n",
      " 12  Means_Of_Arrival                                                        object \n",
      " 13  Chief_Complaint                                                         object \n",
      " 14  Chief_Complaint_All                                                     object \n",
      " 15  Count_of_Chief_Complaints                                               int64  \n",
      " 16  Calculated_DateTime                                                     object \n",
      " 17  Coverage_Financial_Class_Grouper                                        object \n",
      " 18  Has Completed Appt in Last Seven Days                                   object \n",
      " 19  Has Hospital Encounter in Last Seven Days                               object \n",
      " 20  Number of Inpatient Admissions in the last 30 Days                      int64  \n",
      " 21  Number of past appointments in last 60 days                             int64  \n",
      " 22  Number of past inpatient admissions over ED visits in last three years  int64  \n",
      " 23  Type                                                                    object \n",
      " 24  EVENT_NAME                                                              object \n",
      " 25  Order_Status                                                            object \n",
      " 26  Result_Flag                                                             object \n",
      " 27  Primary_DX_Name                                                         object \n",
      " 28  Primary_DX_First_ICD10                                                  object \n",
      " 29  Primary_DX_ICD10                                                        object \n",
      "dtypes: float64(1), int64(7), object(22)\n",
      "memory usage: 3.8+ GB\n"
     ]
    }
   ],
   "source": [
    "df.info()"
   ]
  },
  {
   "cell_type": "code",
   "execution_count": 4,
   "metadata": {},
   "outputs": [],
   "source": [
    "df['Calculated_DateTime'] = pd.to_datetime(df['Calculated_DateTime'])\n",
    "df['Arrived_Time'] = pd.to_datetime(df['Arrived_Time'])"
   ]
  },
  {
   "cell_type": "code",
   "execution_count": 10,
   "metadata": {},
   "outputs": [],
   "source": [
    "df = df.sort_values(by='Calculated_DateTime')"
   ]
  },
  {
   "cell_type": "code",
   "execution_count": 11,
   "metadata": {},
   "outputs": [
    {
     "data": {
      "text/plain": [
       "8580"
      ]
     },
     "execution_count": 11,
     "metadata": {},
     "output_type": "execute_result"
    }
   ],
   "source": [
    "daily_diff = (df['Calculated_DateTime']-df['Arrived_Time']).dt.total_seconds()/(60*60*24)\n",
    "(daily_diff > 3).sum()"
   ]
  },
  {
   "cell_type": "code",
   "execution_count": 12,
   "metadata": {},
   "outputs": [
    {
     "data": {
      "text/plain": [
       "Int64Index([11190203,  8435724,  8435725, 16513490, 10228257, 16513491,\n",
       "            13275353,  8435726, 10228258,  8435727,\n",
       "            ...\n",
       "            15371184,  4989354, 10667005, 10667002, 10667004,  4295462,\n",
       "            15324049, 12013116,  4989353, 15371301],\n",
       "           dtype='int64', length=8580)"
      ]
     },
     "execution_count": 12,
     "metadata": {},
     "output_type": "execute_result"
    }
   ],
   "source": [
    "daily_diff[daily_diff>3].index"
   ]
  },
  {
   "cell_type": "code",
   "execution_count": 16,
   "metadata": {},
   "outputs": [],
   "source": [
    "df_first_group = df.groupby('PAT_ENC_CSN_ID')[['Calculated_DateTime','Arrived_Time','EVENT_NAME','Type']].first()"
   ]
  },
  {
   "cell_type": "code",
   "execution_count": 21,
   "metadata": {},
   "outputs": [
    {
     "data": {
      "text/html": [
       "<div>\n",
       "<style scoped>\n",
       "    .dataframe tbody tr th:only-of-type {\n",
       "        vertical-align: middle;\n",
       "    }\n",
       "\n",
       "    .dataframe tbody tr th {\n",
       "        vertical-align: top;\n",
       "    }\n",
       "\n",
       "    .dataframe thead th {\n",
       "        text-align: right;\n",
       "    }\n",
       "</style>\n",
       "<table border=\"1\" class=\"dataframe\">\n",
       "  <thead>\n",
       "    <tr style=\"text-align: right;\">\n",
       "      <th></th>\n",
       "      <th>Calculated_DateTime</th>\n",
       "      <th>Arrived_Time</th>\n",
       "      <th>EVENT_NAME</th>\n",
       "      <th>Type</th>\n",
       "      <th>time_diff</th>\n",
       "    </tr>\n",
       "    <tr>\n",
       "      <th>PAT_ENC_CSN_ID</th>\n",
       "      <th></th>\n",
       "      <th></th>\n",
       "      <th></th>\n",
       "      <th></th>\n",
       "      <th></th>\n",
       "    </tr>\n",
       "  </thead>\n",
       "  <tbody>\n",
       "    <tr>\n",
       "      <th>86725001</th>\n",
       "      <td>2017-04-02 09:58:23</td>\n",
       "      <td>2022-03-03 11:53:00</td>\n",
       "      <td>Prev Admission Rec Generated</td>\n",
       "      <td>Event</td>\n",
       "      <td>-1796.079595</td>\n",
       "    </tr>\n",
       "    <tr>\n",
       "      <th>619927095</th>\n",
       "      <td>2019-11-14 10:18:28</td>\n",
       "      <td>2022-03-03 11:43:00</td>\n",
       "      <td>Emergency encounter created</td>\n",
       "      <td>Event</td>\n",
       "      <td>-840.058704</td>\n",
       "    </tr>\n",
       "    <tr>\n",
       "      <th>633157523</th>\n",
       "      <td>2020-11-05 14:18:36</td>\n",
       "      <td>2021-11-08 19:50:00</td>\n",
       "      <td>Emergency encounter created</td>\n",
       "      <td>Event</td>\n",
       "      <td>-368.230139</td>\n",
       "    </tr>\n",
       "    <tr>\n",
       "      <th>651542751</th>\n",
       "      <td>2021-11-01 00:44:25</td>\n",
       "      <td>2021-11-01 00:44:00</td>\n",
       "      <td>Emergency encounter created</td>\n",
       "      <td>Event</td>\n",
       "      <td>0.000289</td>\n",
       "    </tr>\n",
       "    <tr>\n",
       "      <th>651542792</th>\n",
       "      <td>2021-11-01 00:53:45</td>\n",
       "      <td>2021-11-01 00:53:45</td>\n",
       "      <td>Emergency encounter created</td>\n",
       "      <td>Event</td>\n",
       "      <td>0.000000</td>\n",
       "    </tr>\n",
       "    <tr>\n",
       "      <th>...</th>\n",
       "      <td>...</td>\n",
       "      <td>...</td>\n",
       "      <td>...</td>\n",
       "      <td>...</td>\n",
       "      <td>...</td>\n",
       "    </tr>\n",
       "    <tr>\n",
       "      <th>693923279</th>\n",
       "      <td>2023-11-30 19:49:44</td>\n",
       "      <td>2023-11-30 19:49:44</td>\n",
       "      <td>Emergency encounter created</td>\n",
       "      <td>Event</td>\n",
       "      <td>0.000000</td>\n",
       "    </tr>\n",
       "    <tr>\n",
       "      <th>693923415</th>\n",
       "      <td>2023-11-30 20:01:12</td>\n",
       "      <td>2023-11-30 20:01:00</td>\n",
       "      <td>Emergency encounter created</td>\n",
       "      <td>Event</td>\n",
       "      <td>0.000139</td>\n",
       "    </tr>\n",
       "    <tr>\n",
       "      <th>693924042</th>\n",
       "      <td>2023-11-30 21:08:27</td>\n",
       "      <td>2023-11-30 21:08:00</td>\n",
       "      <td>Emergency encounter created</td>\n",
       "      <td>Event</td>\n",
       "      <td>0.000313</td>\n",
       "    </tr>\n",
       "    <tr>\n",
       "      <th>693924298</th>\n",
       "      <td>2023-11-30 21:41:12</td>\n",
       "      <td>2023-11-30 21:41:00</td>\n",
       "      <td>Emergency encounter created</td>\n",
       "      <td>Event</td>\n",
       "      <td>0.000139</td>\n",
       "    </tr>\n",
       "    <tr>\n",
       "      <th>693924643</th>\n",
       "      <td>2023-11-30 22:34:00</td>\n",
       "      <td>2023-11-30 22:34:00</td>\n",
       "      <td>Emergency encounter created</td>\n",
       "      <td>Event</td>\n",
       "      <td>0.000000</td>\n",
       "    </tr>\n",
       "  </tbody>\n",
       "</table>\n",
       "<p>122420 rows × 5 columns</p>\n",
       "</div>"
      ],
      "text/plain": [
       "               Calculated_DateTime        Arrived_Time  \\\n",
       "PAT_ENC_CSN_ID                                           \n",
       "86725001       2017-04-02 09:58:23 2022-03-03 11:53:00   \n",
       "619927095      2019-11-14 10:18:28 2022-03-03 11:43:00   \n",
       "633157523      2020-11-05 14:18:36 2021-11-08 19:50:00   \n",
       "651542751      2021-11-01 00:44:25 2021-11-01 00:44:00   \n",
       "651542792      2021-11-01 00:53:45 2021-11-01 00:53:45   \n",
       "...                            ...                 ...   \n",
       "693923279      2023-11-30 19:49:44 2023-11-30 19:49:44   \n",
       "693923415      2023-11-30 20:01:12 2023-11-30 20:01:00   \n",
       "693924042      2023-11-30 21:08:27 2023-11-30 21:08:00   \n",
       "693924298      2023-11-30 21:41:12 2023-11-30 21:41:00   \n",
       "693924643      2023-11-30 22:34:00 2023-11-30 22:34:00   \n",
       "\n",
       "                                  EVENT_NAME   Type    time_diff  \n",
       "PAT_ENC_CSN_ID                                                    \n",
       "86725001        Prev Admission Rec Generated  Event -1796.079595  \n",
       "619927095        Emergency encounter created  Event  -840.058704  \n",
       "633157523        Emergency encounter created  Event  -368.230139  \n",
       "651542751        Emergency encounter created  Event     0.000289  \n",
       "651542792        Emergency encounter created  Event     0.000000  \n",
       "...                                      ...    ...          ...  \n",
       "693923279        Emergency encounter created  Event     0.000000  \n",
       "693923415        Emergency encounter created  Event     0.000139  \n",
       "693924042        Emergency encounter created  Event     0.000313  \n",
       "693924298        Emergency encounter created  Event     0.000139  \n",
       "693924643        Emergency encounter created  Event     0.000000  \n",
       "\n",
       "[122420 rows x 5 columns]"
      ]
     },
     "execution_count": 21,
     "metadata": {},
     "output_type": "execute_result"
    }
   ],
   "source": [
    "df_first_group"
   ]
  },
  {
   "cell_type": "code",
   "execution_count": 19,
   "metadata": {},
   "outputs": [],
   "source": [
    "df_first_group['time_diff'] = (df_first_group['Calculated_DateTime']-df_first_group['Arrived_Time']).dt.total_seconds()/(60*60*24)"
   ]
  },
  {
   "cell_type": "code",
   "execution_count": 27,
   "metadata": {},
   "outputs": [
    {
     "data": {
      "text/html": [
       "<div>\n",
       "<style scoped>\n",
       "    .dataframe tbody tr th:only-of-type {\n",
       "        vertical-align: middle;\n",
       "    }\n",
       "\n",
       "    .dataframe tbody tr th {\n",
       "        vertical-align: top;\n",
       "    }\n",
       "\n",
       "    .dataframe thead th {\n",
       "        text-align: right;\n",
       "    }\n",
       "</style>\n",
       "<table border=\"1\" class=\"dataframe\">\n",
       "  <thead>\n",
       "    <tr style=\"text-align: right;\">\n",
       "      <th></th>\n",
       "      <th>Calculated_DateTime</th>\n",
       "      <th>Arrived_Time</th>\n",
       "      <th>EVENT_NAME</th>\n",
       "      <th>Type</th>\n",
       "      <th>time_diff</th>\n",
       "    </tr>\n",
       "    <tr>\n",
       "      <th>PAT_ENC_CSN_ID</th>\n",
       "      <th></th>\n",
       "      <th></th>\n",
       "      <th></th>\n",
       "      <th></th>\n",
       "      <th></th>\n",
       "    </tr>\n",
       "  </thead>\n",
       "  <tbody>\n",
       "    <tr>\n",
       "      <th>86725001</th>\n",
       "      <td>2017-04-02 09:58:23</td>\n",
       "      <td>2022-03-03 11:53:00</td>\n",
       "      <td>Prev Admission Rec Generated</td>\n",
       "      <td>Event</td>\n",
       "      <td>-1796.079595</td>\n",
       "    </tr>\n",
       "    <tr>\n",
       "      <th>619927095</th>\n",
       "      <td>2019-11-14 10:18:28</td>\n",
       "      <td>2022-03-03 11:43:00</td>\n",
       "      <td>Emergency encounter created</td>\n",
       "      <td>Event</td>\n",
       "      <td>-840.058704</td>\n",
       "    </tr>\n",
       "    <tr>\n",
       "      <th>633157523</th>\n",
       "      <td>2020-11-05 14:18:36</td>\n",
       "      <td>2021-11-08 19:50:00</td>\n",
       "      <td>Emergency encounter created</td>\n",
       "      <td>Event</td>\n",
       "      <td>-368.230139</td>\n",
       "    </tr>\n",
       "    <tr>\n",
       "      <th>662549179</th>\n",
       "      <td>2022-06-28 09:40:00</td>\n",
       "      <td>2022-05-24 10:46:06</td>\n",
       "      <td>ACETAMINOPHEN-CODEINE 300 MG-30 MG TAB</td>\n",
       "      <td>Order - Medication</td>\n",
       "      <td>34.954097</td>\n",
       "    </tr>\n",
       "  </tbody>\n",
       "</table>\n",
       "</div>"
      ],
      "text/plain": [
       "               Calculated_DateTime        Arrived_Time  \\\n",
       "PAT_ENC_CSN_ID                                           \n",
       "86725001       2017-04-02 09:58:23 2022-03-03 11:53:00   \n",
       "619927095      2019-11-14 10:18:28 2022-03-03 11:43:00   \n",
       "633157523      2020-11-05 14:18:36 2021-11-08 19:50:00   \n",
       "662549179      2022-06-28 09:40:00 2022-05-24 10:46:06   \n",
       "\n",
       "                                            EVENT_NAME                Type  \\\n",
       "PAT_ENC_CSN_ID                                                               \n",
       "86725001                  Prev Admission Rec Generated               Event   \n",
       "619927095                  Emergency encounter created               Event   \n",
       "633157523                  Emergency encounter created               Event   \n",
       "662549179       ACETAMINOPHEN-CODEINE 300 MG-30 MG TAB  Order - Medication   \n",
       "\n",
       "                  time_diff  \n",
       "PAT_ENC_CSN_ID               \n",
       "86725001       -1796.079595  \n",
       "619927095       -840.058704  \n",
       "633157523       -368.230139  \n",
       "662549179         34.954097  "
      ]
     },
     "execution_count": 27,
     "metadata": {},
     "output_type": "execute_result"
    }
   ],
   "source": [
    "df_first_group[(df_first_group['time_diff'] > 15) | (df_first_group['time_diff'] < -15)]"
   ]
  },
  {
   "cell_type": "code",
   "execution_count": 5,
   "metadata": {},
   "outputs": [],
   "source": [
    "df_uniq_cnts = df.groupby('PAT_ENC_CSN_ID').nunique()"
   ]
  },
  {
   "cell_type": "code",
   "execution_count": 6,
   "metadata": {},
   "outputs": [
    {
     "data": {
      "text/plain": [
       "PAT_MRN_ID                                                                122420\n",
       "PAT_ID                                                                    122420\n",
       "Ethnicity                                                                 122420\n",
       "FirstRace                                                                 122420\n",
       "MultiRacial                                                               122420\n",
       "Sex                                                                       122420\n",
       "Arrived_Time                                                              122420\n",
       "ED_Disposition                                                            122420\n",
       "Admitted_YN                                                               122420\n",
       "Patient_Age                                                               122420\n",
       "Acuity_Level                                                              122420\n",
       "Means_Of_Arrival                                                          122420\n",
       "Chief_Complaint                                                           122420\n",
       "Chief_Complaint_All                                                       122420\n",
       "Count_of_Chief_Complaints                                                 122420\n",
       "Calculated_DateTime                                                         1837\n",
       "Coverage_Financial_Class_Grouper                                          122420\n",
       "Has Completed Appt in Last Seven Days                                     122420\n",
       "Has Hospital Encounter in Last Seven Days                                 122420\n",
       "Number of Inpatient Admissions in the last 30 Days                        122420\n",
       "Number of past appointments in last 60 days                               122420\n",
       "Number of past inpatient admissions over ED visits in last three years    122420\n",
       "Type                                                                        8088\n",
       "EVENT_NAME                                                                  1605\n",
       "Order_Status                                                               24677\n",
       "Result_Flag                                                                14615\n",
       "Primary_DX_Name                                                            97123\n",
       "Primary_DX_First_ICD10                                                     97763\n",
       "Primary_DX_ICD10                                                           97692\n",
       "dtype: int64"
      ]
     },
     "execution_count": 6,
     "metadata": {},
     "output_type": "execute_result"
    }
   ],
   "source": [
    "(df_uniq_cnts<=1).sum()"
   ]
  },
  {
   "cell_type": "code",
   "execution_count": 63,
   "metadata": {},
   "outputs": [
    {
     "data": {
      "text/plain": [
       "Event                 7009562\n",
       "Lab Order - Result    5288796\n",
       "Order - Lab           1853181\n",
       "Order - Nursing        955960\n",
       "Order - Medication     775114\n",
       "Order - Imaging        551962\n",
       "Order - Consult         84933\n",
       "Order - Admission       81446\n",
       "Order - Procedures      11585\n",
       "Order - Discharge         320\n",
       "Name: Type, dtype: int64"
      ]
     },
     "execution_count": 63,
     "metadata": {},
     "output_type": "execute_result"
    }
   ],
   "source": [
    "df['Type'].value_counts()\n"
   ]
  },
  {
   "cell_type": "code",
   "execution_count": 18,
   "metadata": {},
   "outputs": [
    {
     "data": {
      "text/plain": [
       "120877"
      ]
     },
     "execution_count": 18,
     "metadata": {},
     "output_type": "execute_result"
    }
   ],
   "source": [
    "df['PAT_ENC_CSN_ID'].nunique()"
   ]
  },
  {
   "cell_type": "code",
   "execution_count": 19,
   "metadata": {},
   "outputs": [],
   "source": [
    "target = ['Admitted_YN']"
   ]
  },
  {
   "cell_type": "code",
   "execution_count": 28,
   "metadata": {},
   "outputs": [],
   "source": [
    "stationary_fields = ['PAT_ENC_CSN_ID','PAT_MRN_ID', 'PAT_ID', 'Ethnicity', 'Sex', 'MultiRacial', 'Arrived_Time', 'Admitted_YN', 'Patient_Age', \n",
    "                     'Coverage_Financial_Class_Grouper', 'Has Completed Appt in Last Seven Days', 'Has Hospital Encounter in Last Seven Days',\n",
    "                     'Number of Inpatient Admissions in the last 30 Days', 'Number of past appointments in last 60 days', 'FirstRace',\n",
    "                     'Number of past inpatient admissions over ED visits in last three years', 'Chief_Complaint_All', 'Count_of_Chief_Complaints', 'Means_Of_Arrival',\n",
    "                    'Acuity_Level']"
   ]
  },
  {
   "cell_type": "code",
   "execution_count": 8,
   "metadata": {},
   "outputs": [],
   "source": [
    "dynamic_fields = ['PAT_ENC_CSN_ID', 'Type', 'EVENT_NAME', 'Order_Status', 'Result_Flag', 'Primary_DX_Name', 'Primary_DX_ICD10', 'Calculated_DateTime']"
   ]
  },
  {
   "cell_type": "code",
   "execution_count": 9,
   "metadata": {},
   "outputs": [],
   "source": [
    "dropped_fields = ['PAT_MRN_ID', 'PAT_ID']"
   ]
  },
  {
   "cell_type": "code",
   "execution_count": 10,
   "metadata": {},
   "outputs": [
    {
     "data": {
      "text/plain": [
       "0"
      ]
     },
     "execution_count": 10,
     "metadata": {},
     "output_type": "execute_result"
    }
   ],
   "source": [
    "df['Admitted_YN'].isna().sum()"
   ]
  },
  {
   "cell_type": "markdown",
   "metadata": {},
   "source": [
    "# Stationary fields analysis"
   ]
  },
  {
   "cell_type": "code",
   "execution_count": 29,
   "metadata": {},
   "outputs": [],
   "source": [
    "df_stationary = df[stationary_fields].drop(columns=dropped_fields)"
   ]
  },
  {
   "cell_type": "code",
   "execution_count": 30,
   "metadata": {},
   "outputs": [
    {
     "data": {
      "text/html": [
       "<div>\n",
       "<style scoped>\n",
       "    .dataframe tbody tr th:only-of-type {\n",
       "        vertical-align: middle;\n",
       "    }\n",
       "\n",
       "    .dataframe tbody tr th {\n",
       "        vertical-align: top;\n",
       "    }\n",
       "\n",
       "    .dataframe thead th {\n",
       "        text-align: right;\n",
       "    }\n",
       "</style>\n",
       "<table border=\"1\" class=\"dataframe\">\n",
       "  <thead>\n",
       "    <tr style=\"text-align: right;\">\n",
       "      <th></th>\n",
       "      <th>PAT_ENC_CSN_ID</th>\n",
       "      <th>Ethnicity</th>\n",
       "      <th>Sex</th>\n",
       "      <th>MultiRacial</th>\n",
       "      <th>Arrived_Time</th>\n",
       "      <th>Admitted_YN</th>\n",
       "      <th>Patient_Age</th>\n",
       "      <th>Coverage_Financial_Class_Grouper</th>\n",
       "      <th>Has Completed Appt in Last Seven Days</th>\n",
       "      <th>Has Hospital Encounter in Last Seven Days</th>\n",
       "      <th>Number of Inpatient Admissions in the last 30 Days</th>\n",
       "      <th>Number of past appointments in last 60 days</th>\n",
       "      <th>FirstRace</th>\n",
       "      <th>Number of past inpatient admissions over ED visits in last three years</th>\n",
       "      <th>Chief_Complaint_All</th>\n",
       "      <th>Count_of_Chief_Complaints</th>\n",
       "      <th>Means_Of_Arrival</th>\n",
       "      <th>Acuity_Level</th>\n",
       "    </tr>\n",
       "  </thead>\n",
       "  <tbody>\n",
       "    <tr>\n",
       "      <th>0</th>\n",
       "      <td>663857849</td>\n",
       "      <td>Non-Hispanic/Latino</td>\n",
       "      <td>Male</td>\n",
       "      <td>0</td>\n",
       "      <td>2022-06-18 21:18:51</td>\n",
       "      <td>Not Admitted</td>\n",
       "      <td>74.81451</td>\n",
       "      <td>Self-Pay</td>\n",
       "      <td>Yes</td>\n",
       "      <td>No</td>\n",
       "      <td>0</td>\n",
       "      <td>17</td>\n",
       "      <td>White</td>\n",
       "      <td>0</td>\n",
       "      <td>SYNCOPE</td>\n",
       "      <td>1</td>\n",
       "      <td>Car</td>\n",
       "      <td>II</td>\n",
       "    </tr>\n",
       "    <tr>\n",
       "      <th>1</th>\n",
       "      <td>663857849</td>\n",
       "      <td>Non-Hispanic/Latino</td>\n",
       "      <td>Male</td>\n",
       "      <td>0</td>\n",
       "      <td>2022-06-18 21:18:51</td>\n",
       "      <td>Not Admitted</td>\n",
       "      <td>74.81451</td>\n",
       "      <td>Self-Pay</td>\n",
       "      <td>Yes</td>\n",
       "      <td>No</td>\n",
       "      <td>0</td>\n",
       "      <td>17</td>\n",
       "      <td>White</td>\n",
       "      <td>0</td>\n",
       "      <td>SYNCOPE</td>\n",
       "      <td>1</td>\n",
       "      <td>Car</td>\n",
       "      <td>II</td>\n",
       "    </tr>\n",
       "    <tr>\n",
       "      <th>2</th>\n",
       "      <td>663857849</td>\n",
       "      <td>Non-Hispanic/Latino</td>\n",
       "      <td>Male</td>\n",
       "      <td>0</td>\n",
       "      <td>2022-06-18 21:18:51</td>\n",
       "      <td>Not Admitted</td>\n",
       "      <td>74.81451</td>\n",
       "      <td>Self-Pay</td>\n",
       "      <td>Yes</td>\n",
       "      <td>No</td>\n",
       "      <td>0</td>\n",
       "      <td>17</td>\n",
       "      <td>White</td>\n",
       "      <td>0</td>\n",
       "      <td>SYNCOPE</td>\n",
       "      <td>1</td>\n",
       "      <td>Car</td>\n",
       "      <td>II</td>\n",
       "    </tr>\n",
       "    <tr>\n",
       "      <th>3</th>\n",
       "      <td>663857849</td>\n",
       "      <td>Non-Hispanic/Latino</td>\n",
       "      <td>Male</td>\n",
       "      <td>0</td>\n",
       "      <td>2022-06-18 21:18:51</td>\n",
       "      <td>Not Admitted</td>\n",
       "      <td>74.81451</td>\n",
       "      <td>Self-Pay</td>\n",
       "      <td>Yes</td>\n",
       "      <td>No</td>\n",
       "      <td>0</td>\n",
       "      <td>17</td>\n",
       "      <td>White</td>\n",
       "      <td>0</td>\n",
       "      <td>SYNCOPE</td>\n",
       "      <td>1</td>\n",
       "      <td>Car</td>\n",
       "      <td>II</td>\n",
       "    </tr>\n",
       "    <tr>\n",
       "      <th>4</th>\n",
       "      <td>663857849</td>\n",
       "      <td>Non-Hispanic/Latino</td>\n",
       "      <td>Male</td>\n",
       "      <td>0</td>\n",
       "      <td>2022-06-18 21:18:51</td>\n",
       "      <td>Not Admitted</td>\n",
       "      <td>74.81451</td>\n",
       "      <td>Self-Pay</td>\n",
       "      <td>Yes</td>\n",
       "      <td>No</td>\n",
       "      <td>0</td>\n",
       "      <td>17</td>\n",
       "      <td>White</td>\n",
       "      <td>0</td>\n",
       "      <td>SYNCOPE</td>\n",
       "      <td>1</td>\n",
       "      <td>Car</td>\n",
       "      <td>II</td>\n",
       "    </tr>\n",
       "  </tbody>\n",
       "</table>\n",
       "</div>"
      ],
      "text/plain": [
       "   PAT_ENC_CSN_ID            Ethnicity   Sex  MultiRacial        Arrived_Time  \\\n",
       "0       663857849  Non-Hispanic/Latino  Male            0 2022-06-18 21:18:51   \n",
       "1       663857849  Non-Hispanic/Latino  Male            0 2022-06-18 21:18:51   \n",
       "2       663857849  Non-Hispanic/Latino  Male            0 2022-06-18 21:18:51   \n",
       "3       663857849  Non-Hispanic/Latino  Male            0 2022-06-18 21:18:51   \n",
       "4       663857849  Non-Hispanic/Latino  Male            0 2022-06-18 21:18:51   \n",
       "\n",
       "    Admitted_YN  Patient_Age Coverage_Financial_Class_Grouper  \\\n",
       "0  Not Admitted     74.81451                         Self-Pay   \n",
       "1  Not Admitted     74.81451                         Self-Pay   \n",
       "2  Not Admitted     74.81451                         Self-Pay   \n",
       "3  Not Admitted     74.81451                         Self-Pay   \n",
       "4  Not Admitted     74.81451                         Self-Pay   \n",
       "\n",
       "  Has Completed Appt in Last Seven Days  \\\n",
       "0                                   Yes   \n",
       "1                                   Yes   \n",
       "2                                   Yes   \n",
       "3                                   Yes   \n",
       "4                                   Yes   \n",
       "\n",
       "  Has Hospital Encounter in Last Seven Days  \\\n",
       "0                                        No   \n",
       "1                                        No   \n",
       "2                                        No   \n",
       "3                                        No   \n",
       "4                                        No   \n",
       "\n",
       "   Number of Inpatient Admissions in the last 30 Days  \\\n",
       "0                                                  0    \n",
       "1                                                  0    \n",
       "2                                                  0    \n",
       "3                                                  0    \n",
       "4                                                  0    \n",
       "\n",
       "   Number of past appointments in last 60 days FirstRace  \\\n",
       "0                                           17     White   \n",
       "1                                           17     White   \n",
       "2                                           17     White   \n",
       "3                                           17     White   \n",
       "4                                           17     White   \n",
       "\n",
       "   Number of past inpatient admissions over ED visits in last three years  \\\n",
       "0                                                  0                        \n",
       "1                                                  0                        \n",
       "2                                                  0                        \n",
       "3                                                  0                        \n",
       "4                                                  0                        \n",
       "\n",
       "  Chief_Complaint_All  Count_of_Chief_Complaints Means_Of_Arrival Acuity_Level  \n",
       "0             SYNCOPE                          1              Car           II  \n",
       "1             SYNCOPE                          1              Car           II  \n",
       "2             SYNCOPE                          1              Car           II  \n",
       "3             SYNCOPE                          1              Car           II  \n",
       "4             SYNCOPE                          1              Car           II  "
      ]
     },
     "execution_count": 30,
     "metadata": {},
     "output_type": "execute_result"
    }
   ],
   "source": [
    "df_stationary.head()"
   ]
  },
  {
   "cell_type": "code",
   "execution_count": 31,
   "metadata": {},
   "outputs": [],
   "source": [
    "df_st_grb = df_stationary.groupby('PAT_ENC_CSN_ID')"
   ]
  },
  {
   "cell_type": "code",
   "execution_count": 32,
   "metadata": {},
   "outputs": [],
   "source": [
    "data_dict = dict()\n",
    "for pat_id, df_grb in df_st_grb:\n",
    "    for col in df_grb.columns:\n",
    "        assert(df_grb[col].nunique() <= 1)\n",
    "    data_dict[pat_id] = df_grb.iloc[-1].tolist()\n",
    "    "
   ]
  },
  {
   "cell_type": "code",
   "execution_count": 33,
   "metadata": {},
   "outputs": [],
   "source": [
    "df_stat_mat = pd.DataFrame(data_dict, index=[df_grb.columns]).T"
   ]
  },
  {
   "cell_type": "code",
   "execution_count": 34,
   "metadata": {},
   "outputs": [
    {
     "name": "stderr",
     "output_type": "stream",
     "text": [
      "/tmp/ipykernel_35357/1290416507.py:1: PerformanceWarning: dropping on a non-lexsorted multi-index without a level parameter may impact performance.\n",
      "  df_stat_mat.drop('PAT_ENC_CSN_ID', axis=1, inplace=True)\n"
     ]
    }
   ],
   "source": [
    "df_stat_mat.drop('PAT_ENC_CSN_ID', axis=1, inplace=True)"
   ]
  },
  {
   "cell_type": "code",
   "execution_count": 17,
   "metadata": {},
   "outputs": [
    {
     "name": "stdout",
     "output_type": "stream",
     "text": [
      "Number of unique values in ('Ethnicity',) is 9 ...\n",
      "Number of unique values in ('Sex',) is 4 ...\n",
      "Number of unique values in ('MultiRacial',) is 2 ...\n",
      "Number of unique values in ('Arrived_Time',) is 120628 ...\n",
      "Number of unique values in ('Admitted_YN',) is 2 ...\n",
      "Number of unique values in ('Patient_Age',) is 28292 ...\n",
      "Number of unique values in ('Coverage_Financial_Class_Grouper',) is 7 ...\n",
      "Number of unique values in ('Has Completed Appt in Last Seven Days',) is 2 ...\n",
      "Number of unique values in ('Has Hospital Encounter in Last Seven Days',) is 2 ...\n",
      "Number of unique values in ('Number of Inpatient Admissions in the last 30 Days',) is 97 ...\n",
      "Number of unique values in ('Number of past appointments in last 60 days',) is 491 ...\n",
      "Number of unique values in ('Number of past inpatient admissions over ED visits in last three years',) is 44 ...\n",
      "Number of unique values in ('Chief_Complaint_All',) is 10216 ...\n",
      "Number of unique values in ('Count_of_Chief_Complaints',) is 9 ...\n",
      "Number of unique values in ('Means_Of_Arrival',) is 12 ...\n",
      "Number of unique values in ('Acuity_Level',) is 5 ...\n"
     ]
    }
   ],
   "source": [
    "for col in df_stat_mat.columns:\n",
    "    print(f\"Number of unique values in {col} is {df_stat_mat[col].nunique()} ...\")"
   ]
  },
  {
   "cell_type": "code",
   "execution_count": 35,
   "metadata": {},
   "outputs": [
    {
     "data": {
      "text/plain": [
       "(FirstRace,)                             \n",
       "White                                        65697\n",
       "Black or African American                    40610\n",
       "Unavailable/Unknown                           7367\n",
       "Asian                                         3757\n",
       "Some other race                               2914\n",
       "American Indian or Alaska Native               529\n",
       "Declined                                       432\n",
       "Native Hawaiian or Other Pacific Islander      144\n",
       "dtype: int64"
      ]
     },
     "execution_count": 35,
     "metadata": {},
     "output_type": "execute_result"
    }
   ],
   "source": [
    "df_stat_mat['FirstRace'].value_counts()"
   ]
  },
  {
   "cell_type": "code",
   "execution_count": 18,
   "metadata": {},
   "outputs": [
    {
     "data": {
      "text/plain": [
       "II     8272447\n",
       "III    6344532\n",
       "IV      563246\n",
       "I       312590\n",
       "V        19940\n",
       "Name: Acuity_Level, dtype: int64"
      ]
     },
     "execution_count": 18,
     "metadata": {},
     "output_type": "execute_result"
    }
   ],
   "source": [
    "df['Acuity_Level'].value_counts()"
   ]
  },
  {
   "cell_type": "code",
   "execution_count": 19,
   "metadata": {},
   "outputs": [
    {
     "data": {
      "text/plain": [
       "(Acuity_Level,)\n",
       "II                 47604\n",
       "III                46741\n",
       "IV                  9088\n",
       "I                   1485\n",
       "V                    611\n",
       "dtype: int64"
      ]
     },
     "execution_count": 19,
     "metadata": {},
     "output_type": "execute_result"
    }
   ],
   "source": [
    "df_stat_mat['Acuity_Level'].value_counts()"
   ]
  },
  {
   "cell_type": "code",
   "execution_count": 20,
   "metadata": {},
   "outputs": [
    {
     "data": {
      "text/plain": [
       "Female          9522299\n",
       "Male            7308906\n",
       "Unknown             950\n",
       "*Unspecified         43\n",
       "Name: Sex, dtype: int64"
      ]
     },
     "execution_count": 20,
     "metadata": {},
     "output_type": "execute_result"
    }
   ],
   "source": [
    "df['Sex'].value_counts()"
   ]
  },
  {
   "cell_type": "code",
   "execution_count": 21,
   "metadata": {},
   "outputs": [
    {
     "data": {
      "text/plain": [
       "Car                      13316105\n",
       "Ambulance                 2889539\n",
       "Other                      189342\n",
       "Wheelchair                 148634\n",
       "Pedestrian                  80131\n",
       "Assist from Vehicle         40412\n",
       "Police                      39796\n",
       "Public Transportation       35361\n",
       "Helicopter                  27688\n",
       "Hospital Transport          20586\n",
       "Fixed Wing                  16011\n",
       "Taxi                        15796\n",
       "Name: Means_Of_Arrival, dtype: int64"
      ]
     },
     "execution_count": 21,
     "metadata": {},
     "output_type": "execute_result"
    }
   ],
   "source": [
    "df['Means_Of_Arrival'].value_counts()"
   ]
  },
  {
   "cell_type": "code",
   "execution_count": 22,
   "metadata": {},
   "outputs": [
    {
     "data": {
      "text/plain": [
       "Non-Hispanic/Latino                 13257472\n",
       "Hispanic or Latino                   3178852\n",
       "Unknown                               269799\n",
       "Declined                              105111\n",
       "*Unspecified                           13025\n",
       "American Indian or Alaska Native        3182\n",
       "White                                   2831\n",
       "Black or African American               1802\n",
       "Asian                                    124\n",
       "Name: Ethnicity, dtype: int64"
      ]
     },
     "execution_count": 22,
     "metadata": {},
     "output_type": "execute_result"
    }
   ],
   "source": [
    "df['Ethnicity'].value_counts()"
   ]
  },
  {
   "cell_type": "code",
   "execution_count": 23,
   "metadata": {},
   "outputs": [
    {
     "data": {
      "text/plain": [
       "Commercial    5313280\n",
       "Medicaid      4319466\n",
       "Self-Pay      3426114\n",
       "Medicare      1631902\n",
       "None          1437323\n",
       "Other          432437\n",
       "Exchange       271676\n",
       "Name: Coverage_Financial_Class_Grouper, dtype: int64"
      ]
     },
     "execution_count": 23,
     "metadata": {},
     "output_type": "execute_result"
    }
   ],
   "source": [
    "df['Coverage_Financial_Class_Grouper'].value_counts()"
   ]
  },
  {
   "cell_type": "code",
   "execution_count": 24,
   "metadata": {},
   "outputs": [
    {
     "data": {
      "text/plain": [
       "0"
      ]
     },
     "execution_count": 24,
     "metadata": {},
     "output_type": "execute_result"
    }
   ],
   "source": [
    "df['Coverage_Financial_Class_Grouper'].isna().sum()"
   ]
  },
  {
   "cell_type": "code",
   "execution_count": 25,
   "metadata": {},
   "outputs": [
    {
     "data": {
      "text/plain": [
       "PAT_ENC_CSN_ID                                                                   0\n",
       "PAT_MRN_ID                                                                       0\n",
       "PAT_ID                                                                           0\n",
       "Ethnicity                                                                        0\n",
       "FirstRace                                                                    11689\n",
       "MultiRacial                                                                      0\n",
       "Sex                                                                              0\n",
       "Arrived_Time                                                                     0\n",
       "ED_Disposition                                                               40993\n",
       "Admitted_YN                                                                      0\n",
       "Patient_Age                                                                     77\n",
       "Acuity_Level                                                               1319443\n",
       "Means_Of_Arrival                                                             12797\n",
       "Chief_Complaint                                                              62730\n",
       "Chief_Complaint_All                                                          62730\n",
       "Count_of_Chief_Complaints                                                        0\n",
       "Calculated_DateTime                                                              0\n",
       "Coverage_Financial_Class_Grouper                                                 0\n",
       "Has Completed Appt in Last Seven Days                                            0\n",
       "Has Hospital Encounter in Last Seven Days                                        0\n",
       "Number of Inpatient Admissions in the last 30 Days                               0\n",
       "Number of past appointments in last 60 days                                      0\n",
       "Number of past inpatient admissions over ED visits in last three years           0\n",
       "Type                                                                             0\n",
       "EVENT_NAME                                                                       0\n",
       "Order_Status                                                              13248259\n",
       "Result_Flag                                                                7889016\n",
       "Primary_DX_Name                                                            1838528\n",
       "Primary_DX_First_ICD10                                                     1838584\n",
       "Primary_DX_ICD10                                                           1838701\n",
       "dtype: int64"
      ]
     },
     "execution_count": 25,
     "metadata": {},
     "output_type": "execute_result"
    }
   ],
   "source": [
    "df.isna().sum()"
   ]
  },
  {
   "cell_type": "markdown",
   "metadata": {},
   "source": [
    "# Get the correlated flags"
   ]
  },
  {
   "cell_type": "code",
   "execution_count": 41,
   "metadata": {},
   "outputs": [],
   "source": [
    "df['EVENT_NAME_NORM'] = df['EVENT_NAME'].apply(lambda x: re.sub(r'[^a-zA-Z0-9_]', '', x))"
   ]
  },
  {
   "cell_type": "code",
   "execution_count": 43,
   "metadata": {},
   "outputs": [],
   "source": [
    "admi_df = df.loc[df['EVENT_NAME_NORM'].str.lower().str.contains('admi'), ['EVENT_NAME', 'EVENT_NAME_NORM', 'Admitted_YN']]"
   ]
  },
  {
   "cell_type": "code",
   "execution_count": 44,
   "metadata": {},
   "outputs": [],
   "source": [
    "admi_val_cnt = admi_df.groupby('Admitted_YN').value_counts()"
   ]
  },
  {
   "cell_type": "code",
   "execution_count": 62,
   "metadata": {},
   "outputs": [],
   "source": [
    "data_norm = pd.DataFrame(0, index=df['EVENT_NAME_NORM'].unique(), columns=['Admitted', 'Not Admitted'])\n",
    "data = pd.DataFrame(0, index=df['EVENT_NAME'].unique(), columns=['Admitted', 'Not Admitted'])\n",
    "\n",
    "for (target, event, event_norm), value in admi_val_cnt.items():\n",
    "    data.loc[event, target] += value\n",
    "    data_norm.loc[event_norm, target] = value\n"
   ]
  },
  {
   "cell_type": "code",
   "execution_count": 53,
   "metadata": {},
   "outputs": [],
   "source": [
    "data_norm['sum'] = data_norm.sum(axis=1)"
   ]
  },
  {
   "cell_type": "code",
   "execution_count": 54,
   "metadata": {},
   "outputs": [],
   "source": [
    "data_norm = data_norm[data_norm['sum']!=0]"
   ]
  },
  {
   "cell_type": "code",
   "execution_count": 55,
   "metadata": {},
   "outputs": [
    {
     "name": "stderr",
     "output_type": "stream",
     "text": [
      "/tmp/ipykernel_4668/3165786617.py:1: SettingWithCopyWarning: \n",
      "A value is trying to be set on a copy of a slice from a DataFrame.\n",
      "Try using .loc[row_indexer,col_indexer] = value instead\n",
      "\n",
      "See the caveats in the documentation: https://pandas.pydata.org/pandas-docs/stable/user_guide/indexing.html#returning-a-view-versus-a-copy\n",
      "  data_norm['perc_admit'] = data_norm['Admitted']/data_norm['sum']\n",
      "/tmp/ipykernel_4668/3165786617.py:2: SettingWithCopyWarning: \n",
      "A value is trying to be set on a copy of a slice from a DataFrame.\n",
      "Try using .loc[row_indexer,col_indexer] = value instead\n",
      "\n",
      "See the caveats in the documentation: https://pandas.pydata.org/pandas-docs/stable/user_guide/indexing.html#returning-a-view-versus-a-copy\n",
      "  data_norm['perc_nonadmit'] = data_norm['Not Admitted']/data_norm['sum']\n"
     ]
    }
   ],
   "source": [
    "data_norm['perc_admit'] = data_norm['Admitted']/data_norm['sum']\n",
    "data_norm['perc_nonadmit'] = data_norm['Not Admitted']/data_norm['sum']\n"
   ]
  },
  {
   "cell_type": "code",
   "execution_count": 56,
   "metadata": {},
   "outputs": [],
   "source": [
    "data_norm = data_norm.sort_values(by='perc_admit', ascending=False)"
   ]
  },
  {
   "cell_type": "code",
   "execution_count": 58,
   "metadata": {},
   "outputs": [
    {
     "data": {
      "text/plain": [
       "Index(['ConsultCardiologyAdmitsForUseByEDProvidersOnly',\n",
       "       'EDCUHHospitalistCOVIDAdmitsCompleted',\n",
       "       'NMRADIOPHARMACEUTICALIVTHERAPYADMINISTRATION',\n",
       "       'ConsultOrderedCONSULTCUHPULMMICUCOVIDADMITS',\n",
       "       'HospitalistAdmitsConsultCompleted', 'HospitalistAdmitsConsultInED',\n",
       "       'CHFVADHeartTXAdmitsReCalled',\n",
       "       'ConsultCHFVADHeartTXAdmitsForUseByEDProvidersOnly',\n",
       "       'CHFVADHeartTXAdmitsRespond', 'CHFVADHeartTXAdmitsCompleted',\n",
       "       'CUHPulmMICUCOVIDAdmitsReCalled', 'AdmissionOrderRecPrivatePend',\n",
       "       'ADMITASOBSERVATION', 'ZaleAdmitOrderPlaced',\n",
       "       'CUHPulmMICUCOVIDAdmitsConsultCalled', 'UHAdmitOrderPlaced',\n",
       "       'HospitalistAdmitsConsultReCalled',\n",
       "       'PHARMACYTECHCONSULTADMISSIONMEDICATIONHISTORY', 'ADMITASINPATIENT',\n",
       "       'POTENTIALADMISSIONBEDBOARDNOTIFICATION', 'AdmitStatusChange',\n",
       "       'AdmissionOrdersReconciled', 'HospitalistAdmitsConsultCalled',\n",
       "       'HospitalistAdmitsConsultOrdered',\n",
       "       'ConsultOrderedCONSULTCUHHOSPITALISTSCOVIDADMITS',\n",
       "       'CUHHospitalistCOVIDAdmitsConsultCalled', 'ADMITASOUTPATIENT',\n",
       "       'AdmittedLeftED', 'ConsultOrderedGIBMTADMITXCOVER',\n",
       "       'GIBMTADMITXCOVERConsultCalled', 'AdmissionOrderRecPublicPend',\n",
       "       'ConsultOrderedCARDIOLOGYADMITS', 'CardiologyAdmitsCalled',\n",
       "       'Vial2BagAdvanced20mmAdmixtureDevice', 'AntibioticsAdministeredIV',\n",
       "       'CHFVADHeartTXAdmitsCalled', 'ConsultOrderedCHFVADHEARTTXADMITS',\n",
       "       'ElectrolyteRepletionAdministeredIV', 'CardiologyAdmitsRecalled',\n",
       "       'Patientadmitted', 'AdmissionStatusChanged',\n",
       "       'CardiovascularDiureticMedAdministeredIV', 'InsulinAdministeredIV',\n",
       "       'AntiHypertensionMedsAdministeredIMIV', 'Admitonhold', 'Admitstarted',\n",
       "       'RESENDADMISSIONORDER', 'IPNURADMINISTERRHIMMUNEGLOBULIN'],\n",
       "      dtype='object')"
      ]
     },
     "execution_count": 58,
     "metadata": {},
     "output_type": "execute_result"
    }
   ],
   "source": [
    "data_norm.loc[(data_norm['perc_admit']>=0.70)|(data_norm['perc_admit']<=0.30)].index"
   ]
  },
  {
   "cell_type": "markdown",
   "metadata": {},
   "source": [
    "# Calculated_DateTime"
   ]
  },
  {
   "cell_type": "code",
   "execution_count": 64,
   "metadata": {},
   "outputs": [],
   "source": [
    " l = [86725001, 619927095, 657949013, 658712595, 668214622, 669861703,\n",
    "       682818856]"
   ]
  },
  {
   "cell_type": "code",
   "execution_count": 70,
   "metadata": {},
   "outputs": [
    {
     "data": {
      "text/html": [
       "<div>\n",
       "<style scoped>\n",
       "    .dataframe tbody tr th:only-of-type {\n",
       "        vertical-align: middle;\n",
       "    }\n",
       "\n",
       "    .dataframe tbody tr th {\n",
       "        vertical-align: top;\n",
       "    }\n",
       "\n",
       "    .dataframe thead th {\n",
       "        text-align: right;\n",
       "    }\n",
       "</style>\n",
       "<table border=\"1\" class=\"dataframe\">\n",
       "  <thead>\n",
       "    <tr style=\"text-align: right;\">\n",
       "      <th></th>\n",
       "      <th>Arrived_Time</th>\n",
       "      <th>Calculated_DateTime</th>\n",
       "      <th>PAT_MRN_ID</th>\n",
       "    </tr>\n",
       "  </thead>\n",
       "  <tbody>\n",
       "    <tr>\n",
       "      <th>6881445</th>\n",
       "      <td>2022-09-11 15:18:55.000</td>\n",
       "      <td>2022-09-11 15:18:55.000</td>\n",
       "      <td>92441846</td>\n",
       "    </tr>\n",
       "    <tr>\n",
       "      <th>6881446</th>\n",
       "      <td>2022-09-11 15:18:55.000</td>\n",
       "      <td>2022-09-11 15:19:13.000</td>\n",
       "      <td>92441846</td>\n",
       "    </tr>\n",
       "    <tr>\n",
       "      <th>6881447</th>\n",
       "      <td>2022-09-11 15:18:55.000</td>\n",
       "      <td>2022-09-11 15:19:13.000</td>\n",
       "      <td>92441846</td>\n",
       "    </tr>\n",
       "    <tr>\n",
       "      <th>6881448</th>\n",
       "      <td>2022-09-11 15:18:55.000</td>\n",
       "      <td>2022-09-11 15:19:13.000</td>\n",
       "      <td>92441846</td>\n",
       "    </tr>\n",
       "    <tr>\n",
       "      <th>6881449</th>\n",
       "      <td>2022-09-11 15:18:55.000</td>\n",
       "      <td>2022-09-11 15:19:13.000</td>\n",
       "      <td>92441846</td>\n",
       "    </tr>\n",
       "    <tr>\n",
       "      <th>...</th>\n",
       "      <td>...</td>\n",
       "      <td>...</td>\n",
       "      <td>...</td>\n",
       "    </tr>\n",
       "    <tr>\n",
       "      <th>6881637</th>\n",
       "      <td>2022-09-11 15:18:55.000</td>\n",
       "      <td>2022-09-11 23:48:00.000</td>\n",
       "      <td>92441846</td>\n",
       "    </tr>\n",
       "    <tr>\n",
       "      <th>6881638</th>\n",
       "      <td>2022-09-11 15:18:55.000</td>\n",
       "      <td>2022-09-11 23:48:00.000</td>\n",
       "      <td>92441846</td>\n",
       "    </tr>\n",
       "    <tr>\n",
       "      <th>6881639</th>\n",
       "      <td>2022-09-11 15:18:55.000</td>\n",
       "      <td>2022-09-11 23:48:00.000</td>\n",
       "      <td>92441846</td>\n",
       "    </tr>\n",
       "    <tr>\n",
       "      <th>6881640</th>\n",
       "      <td>2022-09-11 15:18:55.000</td>\n",
       "      <td>2022-09-11 23:48:00.000</td>\n",
       "      <td>92441846</td>\n",
       "    </tr>\n",
       "    <tr>\n",
       "      <th>6881641</th>\n",
       "      <td>2022-09-11 15:18:55.000</td>\n",
       "      <td>2022-09-11 23:48:00.000</td>\n",
       "      <td>92441846</td>\n",
       "    </tr>\n",
       "  </tbody>\n",
       "</table>\n",
       "<p>197 rows × 3 columns</p>\n",
       "</div>"
      ],
      "text/plain": [
       "                    Arrived_Time      Calculated_DateTime  PAT_MRN_ID\n",
       "6881445  2022-09-11 15:18:55.000  2022-09-11 15:18:55.000    92441846\n",
       "6881446  2022-09-11 15:18:55.000  2022-09-11 15:19:13.000    92441846\n",
       "6881447  2022-09-11 15:18:55.000  2022-09-11 15:19:13.000    92441846\n",
       "6881448  2022-09-11 15:18:55.000  2022-09-11 15:19:13.000    92441846\n",
       "6881449  2022-09-11 15:18:55.000  2022-09-11 15:19:13.000    92441846\n",
       "...                          ...                      ...         ...\n",
       "6881637  2022-09-11 15:18:55.000  2022-09-11 23:48:00.000    92441846\n",
       "6881638  2022-09-11 15:18:55.000  2022-09-11 23:48:00.000    92441846\n",
       "6881639  2022-09-11 15:18:55.000  2022-09-11 23:48:00.000    92441846\n",
       "6881640  2022-09-11 15:18:55.000  2022-09-11 23:48:00.000    92441846\n",
       "6881641  2022-09-11 15:18:55.000  2022-09-11 23:48:00.000    92441846\n",
       "\n",
       "[197 rows x 3 columns]"
      ]
     },
     "execution_count": 70,
     "metadata": {},
     "output_type": "execute_result"
    }
   ],
   "source": [
    "df[df['PAT_ENC_CSN_ID'] == l[4]][['Arrived_Time', 'Calculated_DateTime', 'PAT_MRN_ID']]"
   ]
  },
  {
   "cell_type": "code",
   "execution_count": null,
   "metadata": {},
   "outputs": [],
   "source": [
    "df"
   ]
  }
 ],
 "metadata": {
  "interpreter": {
   "hash": "90fde8f917245aa7c139ffa42cbd05c96e2f972282473c18d1e9322ba4c4c555"
  },
  "kernelspec": {
   "display_name": "Python 3 (ipykernel)",
   "language": "python",
   "name": "python3"
  },
  "language_info": {
   "codemirror_mode": {
    "name": "ipython",
    "version": 3
   },
   "file_extension": ".py",
   "mimetype": "text/x-python",
   "name": "python",
   "nbconvert_exporter": "python",
   "pygments_lexer": "ipython3",
   "version": "3.10.11"
  }
 },
 "nbformat": 4,
 "nbformat_minor": 4
}
