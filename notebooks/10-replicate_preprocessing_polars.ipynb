{
 "cells": [
  {
   "cell_type": "code",
   "execution_count": 49,
   "id": "0eaf451e-eb11-494f-b088-fa0d5ead8406",
   "metadata": {},
   "outputs": [],
   "source": [
    "import os\n",
    "import joblib\n",
    "import json\n",
    "import pandas as pd\n",
    "import matplotlib.pyplot as plt\n",
    "import seaborn as sns\n",
    "from collections import defaultdict, Counter\n",
    "import numpy as np\n",
    "import polars as pl\n",
    "from warnings import simplefilter\n",
    "import time\n",
    "simplefilter('ignore')\n",
    "%matplotlib inline"
   ]
  },
  {
   "cell_type": "code",
   "execution_count": 50,
   "id": "fa872f69-df32-42b7-b7e5-8a37de0e179d",
   "metadata": {},
   "outputs": [
    {
     "name": "stdout",
     "output_type": "stream",
     "text": [
      "Took polars to pandas:12.707985401153564 seconds\n"
     ]
    }
   ],
   "source": [
    "start = time.time()\n",
    "df = pl.read_csv('/work/InternalMedicine/s223850/ED-StaticDynamic/raw_data/ED Events - 12.21.23.csv',\n",
    "                 infer_schema_length=int(5e6),\n",
    "                 null_values=dict(Patient_Age='NULL'),\n",
    "                 dtypes=dict(Patient_Age=pl.Float64)\n",
    "                )\n",
    "# dff = df.to_pandas()\n",
    "print(f'Took polars to pandas:{time.time()-start} seconds')"
   ]
  },
  {
   "cell_type": "code",
   "execution_count": 7,
   "id": "ab09bc61-2567-42e9-a8e7-789191a8947d",
   "metadata": {},
   "outputs": [
    {
     "name": "stdout",
     "output_type": "stream",
     "text": [
      "Took polars to pandas:54.40079712867737 seconds\n"
     ]
    }
   ],
   "source": [
    "start = time.time()\n",
    "df = pd.read_csv('/work/InternalMedicine/s223850/ED-StaticDynamic/raw_data/ED Events - 12.21.23.csv')\n",
    "print(f'Took polars to pandas:{time.time()-start} seconds')"
   ]
  },
  {
   "cell_type": "markdown",
   "id": "0b94526c-c214-4056-a14e-e3f79355d332",
   "metadata": {},
   "source": [
    "# Functions to refactor"
   ]
  },
  {
   "cell_type": "code",
   "execution_count": 1,
   "id": "e50e56f9-2287-4ba9-84b7-c2d3d72e2549",
   "metadata": {},
   "outputs": [],
   "source": [
    "def exclude_admit_flags_prior_to_admission(df, admi_flags, pat_id, target_col, datecol, event_col):\n",
    "    admi_flags_times = defaultdict(list) # in minutes\n",
    "    df_admi = df[df[target_col]=='Admitted']\n",
    "    group_admi = df_admi.groupby(pat_id)\n",
    "\n",
    "    for grb, df_grb in group_admi:\n",
    "        admi_mask = df_grb[event_col].isin(admi_flags)\n",
    "\n",
    "        if admi_mask.sum() == 0:\n",
    "            continue\n",
    "\n",
    "        mask_admission = df_grb['Type'] == 'Order - Admission'\n",
    "        if mask_admission.sum() > 0:\n",
    "            admi_time = df_grb.iloc[np.where(mask_admission)[0][0]][datecol]\n",
    "            for idx, row in df_grb[admi_mask].iterrows():\n",
    "                admi_flags_times[row[event_col]].append(('admission', grb, (admi_time-row[datecol]).total_seconds()/60))\n",
    "    \n",
    "    \n",
    "    flag_time_dict = defaultdict(list)\n",
    "    for flag, data_list in admi_flags_times.items():\n",
    "        for d in data_list:\n",
    "            flag_time_dict[flag].append(d[-1])\n",
    "    \n",
    "    return list(map(lambda x: x[0], list(filter(lambda x: np.median(x[1])<=0, flag_time_dict.items()))))"
   ]
  },
  {
   "cell_type": "code",
   "execution_count": 2,
   "id": "a0a62d30-8bcb-4afd-b7fa-5d46290e04e5",
   "metadata": {},
   "outputs": [],
   "source": [
    "def get_target_flags(raw_file_path, event_col='EVENT_NAME', grb_col='Admitted_YN', flag='admi', normalize_text=True, corr_threshold=0.7):\n",
    "    if isinstance(raw_file_path, str):\n",
    "        df_raw = pd.read_csv(raw_file_path)\n",
    "    else:\n",
    "        df_raw = raw_file_path\n",
    "    if normalize_text:\n",
    "        df_raw[f'{event_col}_NORM'] = df_raw[event_col].apply(lambda x: re.sub(r'[^a-zA-Z0-9_]', '', x)).str.lower()\n",
    "        event_col = f'{event_col}_NORM'\n",
    "\n",
    "    flag_df = df_raw.loc[df_raw[event_col].str.lower().str.contains(flag), [event_col, grb_col]]\n",
    "    flag_grb = flag_df.groupby(grb_col).value_counts()\n",
    "\n",
    "    data = pd.DataFrame(0, index=flag_df[event_col].unique(), columns=flag_df[grb_col].unique())\n",
    "    for (flag, event), value in flag_grb.items():\n",
    "        data.loc[event, flag] = value\n",
    "    \n",
    "    data['total'] = data.sum(axis=1)\n",
    "    # TODO: This is a hardcoded value of the target params and need to be changed manually\n",
    "    data['perc_pos'] = data['Admitted']/data['total']\n",
    "\n",
    "    target_events = data.loc[(data['perc_pos']>=corr_threshold)|(data['perc_pos']<=(1-corr_threshold))].index\n",
    "    return target_events, data\n"
   ]
  },
  {
   "cell_type": "code",
   "execution_count": 3,
   "id": "39490c1f-d8ed-4864-b03a-3c453ba83d7b",
   "metadata": {},
   "outputs": [],
   "source": [
    "def get_all_target_flags(raw_data_path, event_col, target_col, normalize_text, corr_thr, datecol='Calculated_DateTime', pat_id='PAT_ENC_CSN_ID'):\n",
    "    if isinstance(raw_data_path, str):\n",
    "        df = pd.read_csv(raw_data_path)\n",
    "    else:\n",
    "        df = raw_data_path\n",
    "    df['Calculated_DateTime'] = pd.to_datetime(df['Calculated_DateTime'])\n",
    "    df = df.sort_values(by='Calculated_DateTime')\n",
    "\n",
    "    admi_flags, admi_data  = get_target_flags(df, event_col, target_col, 'admi', normalize_text, corr_thr)\n",
    "    admi_flags = exclude_admit_flags_prior_to_admission(df, admi_flags, pat_id, target_col, datecol, event_col if not normalize_text else f'{event_col}_NORM')\n",
    "\n",
    "    bed_flags, bed_data   = get_target_flags(df, event_col, target_col, 'bed', normalize_text, corr_thr)\n",
    "    bed_flags = exclude_admit_flags_prior_to_admission(df, bed_flags, pat_id, target_col, datecol, event_col if not normalize_text else f'{event_col}_NORM')\n",
    "\n",
    "    disch_flags, dishc_data = get_target_flags(df, event_col, target_col, 'disch', normalize_text, corr_thr)\n",
    "\n",
    "    consu_flags, consu_data = get_target_flags(df, event_col, target_col, 'consu', normalize_text, corr_thr)\n",
    "    consu_flags = exclude_admit_flags_prior_to_admission(df, consu_flags, pat_id, target_col, datecol, event_col if not normalize_text else f'{event_col}_NORM')\n",
    "\n",
    "    obser_flags, obser_data = get_target_flags(df, event_col, target_col, 'observ', normalize_text, corr_thr)\n",
    "    obser_flags = exclude_admit_flags_prior_to_admission(df, obser_flags, pat_id, target_col, datecol, event_col if not normalize_text else f'{event_col}_NORM')\n",
    "    all_flags = np.concatenate([admi_flags, bed_flags, disch_flags, consu_flags, obser_flags])\n",
    "    all_flags_list = list(set(all_flags))\n",
    "    return all_flags_list"
   ]
  },
  {
   "cell_type": "code",
   "execution_count": 4,
   "id": "81d61eb5-e86a-48cc-97ed-ccec2de1a827",
   "metadata": {},
   "outputs": [],
   "source": [
    "def set_admitted_discharged_only(df, target_col, admit_val, val2del, dropna=True):\n",
    "    if dropna:\n",
    "        print('Removing nans in the label if exists ...')\n",
    "        print(f'There are {df[target_col].isna().sum()} target nan values ...')\n",
    "        print(f'Size before removing nans: {df.shape} ...')\n",
    "        df = df[~df[target_col].isna()]\n",
    "        print(f'Size after removing nans: {df.shape} ...')\n",
    "\n",
    "    if len(val2del) > 0:\n",
    "        print(f\"Target values to be excluded {val2del}\")\n",
    "        print(f'Size before removing {val2del}: {df.shape} ...')\n",
    "        df = df.loc[~(df[target_col].isin(val2del))]\n",
    "        print(f'Size after removing {val2del}: {df.shape} ...')\n",
    "\n",
    "    df.loc[df[target_col]!=admit_val, target_col] = 'NotAdmitted'\n",
    "    return df"
   ]
  },
  {
   "cell_type": "code",
   "execution_count": 5,
   "id": "4c936dc9-0ea5-45c2-b867-af17fc8629b3",
   "metadata": {},
   "outputs": [],
   "source": [
    "def process_raw_data(raw_data, output_path, noflags, writedata=False):\n",
    "        df = pd.read_csv(raw_data)\n",
    "        subdir_name = os.path.basename(raw_data).split('-')[-1].strip().split('.csv')[0].replace('.','_')\n",
    "        output_dir = Path(output_path) / Path(subdir_name)\n",
    "        output_dir.mkdir(parents=True, exist_ok=True)\n",
    "\n",
    "        vals2del = [val for val in df['ED_Disposition'].unique() if val not in ['Admitted', 'Discharged']]\n",
    "        df = set_admitted_discharged_only(df, 'ED_Disposition', 'Admitted', vals2del)\n",
    "        if not noflags:\n",
    "            all_flags_list = get_all_target_flags(df, 'EVENT_NAME', 'ED_Disposition', True, 1.0)\n",
    "            # df_clean_list, error_list, orderbflag_list = clean_target(raw_data, all_flags_list, 'EVENT_NAME', 'PAT_ENC_CSN_ID', 'Calculated_DateTime', 'Type', 'Arrived_Time', True)\n",
    "            df_clean_list, error_list, orderbflag_list = clean_target_withnoterminationflags(df, all_flags_list, 'EVENT_NAME', 'PAT_ENC_CSN_ID', 'Calculated_DateTime', 'Type', 'Arrived_Time', True, min_date=pd.Timestamp(year=2021, month=1, day=1))\n",
    "            df_clean = pd.concat(df_clean_list)\n",
    "        else:\n",
    "            df_clean=df\n",
    "            error_list=[]\n",
    "            orderbflag_list=[]\n",
    "\n",
    "        if writedata:\n",
    "            df_clean.to_csv(os.path.join(output_dir, 'df_clean.csv'))\n",
    "            with open(os.path.join(output_dir, 'error_list.joblib'), 'wb') as f:\n",
    "                joblib.dump(error_list, f)\n",
    "            with open(os.path.join(output_dir, 'orderbflag.joblib'), 'wb') as f:\n",
    "                joblib.dump(orderbflag_list, f)\n",
    "\n",
    "        return df_clean, error_list, orderbflag_list, output_dir"
   ]
  },
  {
   "cell_type": "markdown",
   "id": "5e92dad9-357b-4ce8-a344-cf3a22915da1",
   "metadata": {},
   "source": [
    "# Refactoring draft"
   ]
  },
  {
   "cell_type": "markdown",
   "id": "017ff018-42d2-4f54-9378-605023e418b5",
   "metadata": {},
   "source": [
    "### Cleaning target variable `set_admitted_discharged_only`"
   ]
  },
  {
   "cell_type": "code",
   "execution_count": 51,
   "id": "7d9546c5-2645-4829-990b-94ee0771c64f",
   "metadata": {},
   "outputs": [],
   "source": [
    "df = df.filter((pl.col('ED_Disposition')=='Admitted')|(pl.col('ED_Disposition')=='Discharged'))\n",
    "df = df.with_columns([\n",
    "    pl.col('Arrived_Time').str.strptime(pl.Datetime, \"%Y-%m-%d %H:%M:%S%.f\"),\n",
    "    pl.col('Calculated_DateTime').str.strptime(pl.Datetime, \"%Y-%m-%d %H:%M:%S%.f\")\n",
    "])\n",
    "df = df.sort(by='Calculated_DateTime')"
   ]
  },
  {
   "cell_type": "code",
   "execution_count": 52,
   "id": "370cf8db-0940-4a85-98ee-632b85e00f5d",
   "metadata": {},
   "outputs": [],
   "source": [
    "df = df.with_columns([\n",
    "    (pl.col('Calculated_DateTime')-pl.col('Arrived_Time')).dt.total_minutes().alias('elapsed_time_min')\n",
    "])"
   ]
  },
  {
   "cell_type": "code",
   "execution_count": null,
   "id": "ec9e4e53-c189-4706-a801-862ca0c03282",
   "metadata": {},
   "outputs": [],
   "source": [
    "ppv = 0.45"
   ]
  },
  {
   "cell_type": "code",
   "execution_count": 57,
   "id": "e8049c8c-3dde-4e7e-a974-e88b870bfd6a",
   "metadata": {},
   "outputs": [
    {
     "name": "stdout",
     "output_type": "stream",
     "text": [
      "1.1067209243774414\n"
     ]
    }
   ],
   "source": [
    "t = time.time()\n",
    "\n",
    "# Step 1: Determine the last 'ED_Disposition' per group\n",
    "last_disposition = df.select([\n",
    "    pl.col(\"ED_Disposition\"),\n",
    "    pl.col(\"PAT_ENC_CSN_ID\")\n",
    "]).sort(\"ED_Disposition\", reverse=True).groupby(\"PAT_ENC_CSN_ID\").agg(pl.first(\"ED_Disposition\").alias(\"last_disposition\"))\n",
    "\n",
    "# Step 2: Determine the sum of 'Order - Admission' per group\n",
    "order_admission_count = df.filter(pl.col(\"Type\") == \"Order - Admission\").groupby(\"PAT_ENC_CSN_ID\").agg(pl.count(\"Type\").alias(\"order_admission_count\"))\n",
    "\n",
    "# Join these summaries back to the original DataFrame\n",
    "df = df.join(last_disposition, on=\"PAT_ENC_CSN_ID\", how=\"left\")\n",
    "df = df.join(order_admission_count, on=\"PAT_ENC_CSN_ID\", how=\"left\").fillna({\"order_admission_count\": 0})\n",
    "\n",
    "# Step 3: Add a flag based on conditions\n",
    "df = df.with_columns(\n",
    "    ((pl.col(\"last_disposition\") == \"Admitted\") & (pl.col(\"order_admission_count\") == 0)).alias(\"remove_group\")\n",
    ")\n",
    "\n",
    "# Filter out the rows based on the flag\n",
    "df_exclude_admit_with_no_order = df.filter(~pl.col(\"remove_group\"))\n",
    "\n",
    "# Optionally drop the helper columns and flag\n",
    "df_exclude_admit_with_no_order = df_exclude_admit_with_no_order.drop([\"last_disposition\", \"order_admission_count\", \"remove_group\"])\n",
    "\n",
    "\n",
    "# Step 4: Optionally drop helper columns if they are not needed further\n",
    "df_exclude_admit_with_no_order1 = df_exclude_admit_with_no_order1.drop(['last_disposition', 'order_admission_count'])\n",
    "print(time.time()-t)"
   ]
  },
  {
   "cell_type": "code",
   "execution_count": 36,
   "id": "08d05976-b100-4be1-9d66-ef346a1fc16c",
   "metadata": {},
   "outputs": [
    {
     "name": "stdout",
     "output_type": "stream",
     "text": [
      "18.308658599853516\n"
     ]
    }
   ],
   "source": [
    "t = time.time()\n",
    "df_exclude_admit_with_no_order = df.group_by('PAT_ENC_CSN_ID').apply(lambda df_group: pl.DataFrame({c: [] for c in df.columns}) if (df_group['ED_Disposition'][-1]=='Admitted') and (df_group['Type']=='Order - Admission').sum()==0 else df_group  )\n",
    "print(time.time()-t)"
   ]
  },
  {
   "cell_type": "code",
   "execution_count": 38,
   "id": "cf080400-772c-4883-b4e6-4ea6a5715453",
   "metadata": {},
   "outputs": [],
   "source": [
    "df_exclude_admit_with_no_order = df_exclude_admit_with_no_order.drop(['last_disposition', 'order_admission_count'])"
   ]
  },
  {
   "cell_type": "code",
   "execution_count": 58,
   "id": "a215c3a4-7d07-4bec-99af-e6e5c24491ae",
   "metadata": {},
   "outputs": [
    {
     "data": {
      "text/plain": [
       "(32, 32)"
      ]
     },
     "execution_count": 58,
     "metadata": {},
     "output_type": "execute_result"
    }
   ],
   "source": [
    "len(df_exclude_admit_with_no_order.columns), len(df_exclude_admit_with_no_order1.columns)"
   ]
  },
  {
   "cell_type": "code",
   "execution_count": 59,
   "id": "3c920aeb-f48d-4c0f-84a1-0c02e457c9b3",
   "metadata": {},
   "outputs": [
    {
     "data": {
      "text/plain": [
       "set()"
      ]
     },
     "execution_count": 59,
     "metadata": {},
     "output_type": "execute_result"
    }
   ],
   "source": [
    "set(df_exclude_admit_with_no_order.columns)-set(df_exclude_admit_with_no_order1.columns)"
   ]
  },
  {
   "cell_type": "code",
   "execution_count": 60,
   "id": "934b77ee-a32f-409f-bcb8-ceb398458d4c",
   "metadata": {},
   "outputs": [
    {
     "data": {
      "text/plain": [
       "(108248, 107939)"
      ]
     },
     "execution_count": 60,
     "metadata": {},
     "output_type": "execute_result"
    }
   ],
   "source": [
    "df_exclude_admit_with_no_order1['PAT_ENC_CSN_ID'].n_unique(), df_exclude_admit_with_no_order['PAT_ENC_CSN_ID'].n_unique()"
   ]
  },
  {
   "cell_type": "code",
   "execution_count": 61,
   "id": "86e3817e-d1a7-408b-a5cd-d8add559a3ab",
   "metadata": {
    "scrolled": true
   },
   "outputs": [],
   "source": [
    "mismatch_pat_id= set(df_exclude_admit_with_no_order1['PAT_ENC_CSN_ID'].unique())-set(df_exclude_admit_with_no_order['PAT_ENC_CSN_ID'].unique())"
   ]
  },
  {
   "cell_type": "code",
   "execution_count": 62,
   "id": "5e97e685-00ff-4d4b-b4b5-2ff931b493ca",
   "metadata": {},
   "outputs": [
    {
     "data": {
      "text/plain": [
       "309"
      ]
     },
     "execution_count": 62,
     "metadata": {},
     "output_type": "execute_result"
    }
   ],
   "source": [
    "len(mismatch_pat_id)"
   ]
  },
  {
   "cell_type": "code",
   "execution_count": 56,
   "id": "d412a281-62f0-438c-afce-b661a62691d4",
   "metadata": {},
   "outputs": [
    {
     "data": {
      "text/html": [
       "<div><style>\n",
       ".dataframe > thead > tr,\n",
       ".dataframe > tbody > tr {\n",
       "  text-align: right;\n",
       "  white-space: pre-wrap;\n",
       "}\n",
       "</style>\n",
       "<small>shape: (7, 2)</small><table border=\"1\" class=\"dataframe\"><thead><tr><th>Type</th><th>count</th></tr><tr><td>str</td><td>u32</td></tr></thead><tbody><tr><td>&quot;Order - Medica…</td><td>3</td></tr><tr><td>&quot;Order - Consul…</td><td>1</td></tr><tr><td>&quot;Order - Nursin…</td><td>1</td></tr><tr><td>&quot;Order - Imagin…</td><td>2</td></tr><tr><td>&quot;Lab Order - Re…</td><td>52</td></tr><tr><td>&quot;Event&quot;</td><td>56</td></tr><tr><td>&quot;Order - Lab&quot;</td><td>16</td></tr></tbody></table></div>"
      ],
      "text/plain": [
       "shape: (7, 2)\n",
       "┌────────────────────┬───────┐\n",
       "│ Type               ┆ count │\n",
       "│ ---                ┆ ---   │\n",
       "│ str                ┆ u32   │\n",
       "╞════════════════════╪═══════╡\n",
       "│ Order - Medication ┆ 3     │\n",
       "│ Order - Consult    ┆ 1     │\n",
       "│ Order - Nursing    ┆ 1     │\n",
       "│ Order - Imaging    ┆ 2     │\n",
       "│ Lab Order - Result ┆ 52    │\n",
       "│ Event              ┆ 56    │\n",
       "│ Order - Lab        ┆ 16    │\n",
       "└────────────────────┴───────┘"
      ]
     },
     "execution_count": 56,
     "metadata": {},
     "output_type": "execute_result"
    }
   ],
   "source": [
    "df.filter(pl.col('PAT_ENC_CSN_ID')==list(mismatch_pat_id)[0])['Type'].value_counts()"
   ]
  },
  {
   "cell_type": "code",
   "execution_count": 11,
   "id": "e1d5b689-2d0c-4425-a29a-a527dde21da6",
   "metadata": {},
   "outputs": [],
   "source": [
    "def process_group(df_group):\n",
    "    if df_group['ED_Disposition'][-1] == 'Admitted' and\\\n",
    "    df_group.filter(pl.col('Type') == 'Order - Admission').shape[0] == 0:\n",
    "        return pl.DataFrame(columns=df_group.columns)\n",
    "    if (df_group.filter(pl.col('Type') == 'Order - Admission').shape[0] == 0) and\\\n",
    "        (df_group.filter(pl.col('Type') == 'Order - Discharge').shape[0] == 0):\n",
    "        return df_group\n",
    "    for idx, row in enumerate(df_group.rows()):\n",
    "        if row['Type'] == 'Order - Admission':\n",
    "            return df_group.slice(0, idx+1)\n",
    "        elif row['Type'] == 'Order - Discharge':\n",
    "            return df_group.slice(0, idx+1)\n",
    "            \n",
    "    return df_group"
   ]
  },
  {
   "cell_type": "code",
   "execution_count": 12,
   "id": "25fdc5f9-08b2-4f28-8f7c-9ae7e0440250",
   "metadata": {},
   "outputs": [
    {
     "name": "stderr",
     "output_type": "stream",
     "text": [
      "thread 'python' panicked at py-polars/src/dataframe/general.rs:355:31:\n",
      "UDF failed: tuple indices must be integers or slices, not str\n"
     ]
    },
    {
     "ename": "PanicException",
     "evalue": "UDF failed: tuple indices must be integers or slices, not str",
     "output_type": "error",
     "traceback": [
      "\u001b[0;31m---------------------------------------------------------------------------\u001b[0m",
      "\u001b[0;31mPanicException\u001b[0m                            Traceback (most recent call last)",
      "Cell \u001b[0;32mIn[12], line 1\u001b[0m\n\u001b[0;32m----> 1\u001b[0m df_preproc \u001b[38;5;241m=\u001b[39m \u001b[43mdf\u001b[49m\u001b[38;5;241;43m.\u001b[39;49m\u001b[43mgroup_by\u001b[49m\u001b[43m(\u001b[49m\u001b[38;5;124;43m'\u001b[39;49m\u001b[38;5;124;43mPAT_ENC_CSN_ID\u001b[39;49m\u001b[38;5;124;43m'\u001b[39;49m\u001b[43m)\u001b[49m\u001b[38;5;241;43m.\u001b[39;49m\u001b[43mapply\u001b[49m\u001b[43m(\u001b[49m\u001b[43mprocess_group\u001b[49m\u001b[43m)\u001b[49m\n",
      "File \u001b[0;32m~/.conda/envs/ED/lib/python3.10/site-packages/polars/_utils/deprecation.py:60\u001b[0m, in \u001b[0;36mdeprecate_function.<locals>.decorate.<locals>.wrapper\u001b[0;34m(*args, **kwargs)\u001b[0m\n\u001b[1;32m     54\u001b[0m \u001b[38;5;129m@wraps\u001b[39m(function)\n\u001b[1;32m     55\u001b[0m \u001b[38;5;28;01mdef\u001b[39;00m \u001b[38;5;21mwrapper\u001b[39m(\u001b[38;5;241m*\u001b[39margs: P\u001b[38;5;241m.\u001b[39margs, \u001b[38;5;241m*\u001b[39m\u001b[38;5;241m*\u001b[39mkwargs: P\u001b[38;5;241m.\u001b[39mkwargs) \u001b[38;5;241m-\u001b[39m\u001b[38;5;241m>\u001b[39m T:\n\u001b[1;32m     56\u001b[0m     issue_deprecation_warning(\n\u001b[1;32m     57\u001b[0m         \u001b[38;5;124mf\u001b[39m\u001b[38;5;124m\"\u001b[39m\u001b[38;5;124m`\u001b[39m\u001b[38;5;132;01m{\u001b[39;00mfunction\u001b[38;5;241m.\u001b[39m\u001b[38;5;18m__name__\u001b[39m\u001b[38;5;132;01m}\u001b[39;00m\u001b[38;5;124m` is deprecated. \u001b[39m\u001b[38;5;132;01m{\u001b[39;00mmessage\u001b[38;5;132;01m}\u001b[39;00m\u001b[38;5;124m\"\u001b[39m,\n\u001b[1;32m     58\u001b[0m         version\u001b[38;5;241m=\u001b[39mversion,\n\u001b[1;32m     59\u001b[0m     )\n\u001b[0;32m---> 60\u001b[0m     \u001b[38;5;28;01mreturn\u001b[39;00m \u001b[43mfunction\u001b[49m\u001b[43m(\u001b[49m\u001b[38;5;241;43m*\u001b[39;49m\u001b[43margs\u001b[49m\u001b[43m,\u001b[49m\u001b[43m \u001b[49m\u001b[38;5;241;43m*\u001b[39;49m\u001b[38;5;241;43m*\u001b[39;49m\u001b[43mkwargs\u001b[49m\u001b[43m)\u001b[49m\n",
      "File \u001b[0;32m~/.conda/envs/ED/lib/python3.10/site-packages/polars/dataframe/group_by.py:789\u001b[0m, in \u001b[0;36mGroupBy.apply\u001b[0;34m(self, function)\u001b[0m\n\u001b[1;32m    776\u001b[0m \u001b[38;5;129m@deprecate_renamed_function\u001b[39m(\u001b[38;5;124m\"\u001b[39m\u001b[38;5;124mmap_groups\u001b[39m\u001b[38;5;124m\"\u001b[39m, version\u001b[38;5;241m=\u001b[39m\u001b[38;5;124m\"\u001b[39m\u001b[38;5;124m0.19.0\u001b[39m\u001b[38;5;124m\"\u001b[39m)\n\u001b[1;32m    777\u001b[0m \u001b[38;5;28;01mdef\u001b[39;00m \u001b[38;5;21mapply\u001b[39m(\u001b[38;5;28mself\u001b[39m, function: Callable[[DataFrame], DataFrame]) \u001b[38;5;241m-\u001b[39m\u001b[38;5;241m>\u001b[39m DataFrame:\n\u001b[1;32m    778\u001b[0m \u001b[38;5;250m    \u001b[39m\u001b[38;5;124;03m\"\"\"\u001b[39;00m\n\u001b[1;32m    779\u001b[0m \u001b[38;5;124;03m    Apply a custom/user-defined function (UDF) over the groups as a sub-DataFrame.\u001b[39;00m\n\u001b[1;32m    780\u001b[0m \n\u001b[0;32m   (...)\u001b[0m\n\u001b[1;32m    787\u001b[0m \u001b[38;5;124;03m        Custom function.\u001b[39;00m\n\u001b[1;32m    788\u001b[0m \u001b[38;5;124;03m    \"\"\"\u001b[39;00m\n\u001b[0;32m--> 789\u001b[0m     \u001b[38;5;28;01mreturn\u001b[39;00m \u001b[38;5;28;43mself\u001b[39;49m\u001b[38;5;241;43m.\u001b[39;49m\u001b[43mmap_groups\u001b[49m\u001b[43m(\u001b[49m\u001b[43mfunction\u001b[49m\u001b[43m)\u001b[49m\n",
      "File \u001b[0;32m~/.conda/envs/ED/lib/python3.10/site-packages/polars/dataframe/group_by.py:322\u001b[0m, in \u001b[0;36mGroupBy.map_groups\u001b[0;34m(self, function)\u001b[0m\n\u001b[1;32m    318\u001b[0m     msg \u001b[38;5;241m=\u001b[39m \u001b[38;5;124m\"\u001b[39m\u001b[38;5;124mcannot call `map_groups` when grouping by an expression\u001b[39m\u001b[38;5;124m\"\u001b[39m\n\u001b[1;32m    319\u001b[0m     \u001b[38;5;28;01mraise\u001b[39;00m \u001b[38;5;167;01mTypeError\u001b[39;00m(msg)\n\u001b[1;32m    321\u001b[0m \u001b[38;5;28;01mreturn\u001b[39;00m \u001b[38;5;28mself\u001b[39m\u001b[38;5;241m.\u001b[39mdf\u001b[38;5;241m.\u001b[39m\u001b[38;5;18m__class__\u001b[39m\u001b[38;5;241m.\u001b[39m_from_pydf(\n\u001b[0;32m--> 322\u001b[0m     \u001b[38;5;28;43mself\u001b[39;49m\u001b[38;5;241;43m.\u001b[39;49m\u001b[43mdf\u001b[49m\u001b[38;5;241;43m.\u001b[39;49m\u001b[43m_df\u001b[49m\u001b[38;5;241;43m.\u001b[39;49m\u001b[43mgroup_by_map_groups\u001b[49m\u001b[43m(\u001b[49m\n\u001b[1;32m    323\u001b[0m \u001b[43m        \u001b[49m\u001b[38;5;28;43mlist\u001b[39;49m\u001b[43m(\u001b[49m\u001b[38;5;28;43mself\u001b[39;49m\u001b[38;5;241;43m.\u001b[39;49m\u001b[43mby\u001b[49m\u001b[43m)\u001b[49m\u001b[43m,\u001b[49m\u001b[43m \u001b[49m\u001b[43mfunction\u001b[49m\u001b[43m,\u001b[49m\u001b[43m \u001b[49m\u001b[38;5;28;43mself\u001b[39;49m\u001b[38;5;241;43m.\u001b[39;49m\u001b[43mmaintain_order\u001b[49m\n\u001b[1;32m    324\u001b[0m \u001b[43m    \u001b[49m\u001b[43m)\u001b[49m\n\u001b[1;32m    325\u001b[0m )\n",
      "\u001b[0;31mPanicException\u001b[0m: UDF failed: tuple indices must be integers or slices, not str"
     ]
    }
   ],
   "source": [
    "df_preproc = df.group_by('PAT_ENC_CSN_ID').apply(process_group)"
   ]
  },
  {
   "cell_type": "code",
   "execution_count": 68,
   "id": "fb237167-83b4-454c-b289-202e420c6e66",
   "metadata": {},
   "outputs": [],
   "source": [
    "g = df.filter(pl.col('ED_Disposition')=='Admitted').group_by('PAT_ENC_CSN_ID')"
   ]
  },
  {
   "cell_type": "code",
   "execution_count": 70,
   "id": "c6b4ddcf-0b14-49b2-b360-00bff1c529fc",
   "metadata": {},
   "outputs": [],
   "source": [
    "d_s = next(iter(g))"
   ]
  },
  {
   "cell_type": "code",
   "execution_count": null,
   "id": "dcf967a4-82ae-4e27-a5ae-1f72be7f97f4",
   "metadata": {},
   "outputs": [],
   "source": []
  },
  {
   "cell_type": "code",
   "execution_count": 37,
   "id": "556bbdc3-e7da-4655-9ef0-590f58a732df",
   "metadata": {},
   "outputs": [],
   "source": [
    "total_pats = df['PAT_ENC_CSN_ID'].unique()"
   ]
  },
  {
   "cell_type": "code",
   "execution_count": 33,
   "id": "6ccc4c8c-7f08-4358-9487-b4f742d74007",
   "metadata": {},
   "outputs": [
    {
     "data": {
      "text/plain": [
       "((17305131, 32), 125732)"
      ]
     },
     "execution_count": 33,
     "metadata": {},
     "output_type": "execute_result"
    }
   ],
   "source": [
    "df.shape, df['PAT_ENC_CSN_ID'].n_unique()"
   ]
  },
  {
   "cell_type": "code",
   "execution_count": 35,
   "id": "3fbb939f-5501-4f3c-a0c0-208a0a94dadc",
   "metadata": {},
   "outputs": [
    {
     "data": {
      "text/plain": [
       "123188"
      ]
     },
     "execution_count": 35,
     "metadata": {},
     "output_type": "execute_result"
    }
   ],
   "source": [
    "df.filter( (pl.col('elapsed_time_min')>0)&(pl.col('elapsed_time_min')<1475))['PAT_ENC_CSN_ID'].n_unique()"
   ]
  },
  {
   "cell_type": "code",
   "execution_count": 47,
   "id": "91070884-d9e2-411b-897c-8499dfabc70c",
   "metadata": {},
   "outputs": [],
   "source": [
    "# Excluded patients due to length of stay in ED (negative and too long)\n",
    "neg_pats = df.filter(pl.col('elapsed_time_min')<0)['PAT_ENC_CSN_ID'].unique()"
   ]
  },
  {
   "cell_type": "code",
   "execution_count": 43,
   "id": "86ebde68-9737-4e02-8201-9201a82edf27",
   "metadata": {},
   "outputs": [],
   "source": [
    "outlier_val = np.percentile(df.filter(pl.col('elapsed_time_min')>0).select('elapsed_time_min').to_numpy(), 99.5)\n",
    "too_long_pats = df.filter((pl.col('elapsed_time_min')>0)&(pl.col('elapsed_time_min')<outlier_val))['PAT_ENC_CSN_ID'].unique()"
   ]
  },
  {
   "cell_type": "code",
   "execution_count": 41,
   "id": "a8da12a5-49fd-4a48-b071-2053c3a15264",
   "metadata": {},
   "outputs": [],
   "source": [
    "patients_with_negative_elapsed_time = np.setdiff1d(total_pats, too_long)"
   ]
  },
  {
   "cell_type": "code",
   "execution_count": 48,
   "id": "940569e3-f7b2-4028-acc2-156ab9d31949",
   "metadata": {},
   "outputs": [],
   "source": [
    "neg_pats.to_pandas().to_csv('patients_with_negative_elapsed_time.csv')"
   ]
  },
  {
   "cell_type": "code",
   "execution_count": 29,
   "id": "06c19726-a48b-4803-96af-bd9398fcbd08",
   "metadata": {},
   "outputs": [
    {
     "data": {
      "text/plain": [
       "1475.0"
      ]
     },
     "execution_count": 29,
     "metadata": {},
     "output_type": "execute_result"
    }
   ],
   "source": [
    "neg_pats.to_pandas().to_csv('patients_with_negative_elapsed_time.csv')"
   ]
  },
  {
   "cell_type": "code",
   "execution_count": 31,
   "id": "29280c5a-dee8-405b-acc1-92bf143036e6",
   "metadata": {},
   "outputs": [
    {
     "data": {
      "text/plain": [
       "<Axes: >"
      ]
     },
     "execution_count": 31,
     "metadata": {},
     "output_type": "execute_result"
    },
    {
     "data": {
      "image/png": "[encoded data removed]",
      "text/plain": [
       "<Figure size 640x480 with 1 Axes>"
      ]
     },
     "metadata": {},
     "output_type": "display_data"
    }
   ],
   "source": [
    "sns.boxplot().select('elapsed_time_min').to_numpy())"
   ]
  },
  {
   "cell_type": "code",
   "execution_count": null,
   "id": "7cf38c44-84f5-4aac-810f-2c696987b402",
   "metadata": {},
   "outputs": [],
   "source": []
  },
  {
   "cell_type": "code",
   "execution_count": null,
   "id": "57e3646a-3af9-4949-81e0-c39b9d99ae4c",
   "metadata": {},
   "outputs": [],
   "source": []
  },
  {
   "cell_type": "code",
   "execution_count": null,
   "id": "999672a9-a223-4b11-9a56-dbfbefe428cc",
   "metadata": {},
   "outputs": [],
   "source": []
  },
  {
   "cell_type": "code",
   "execution_count": null,
   "id": "95a96cc7-843d-415e-a68d-5c614bb480a0",
   "metadata": {},
   "outputs": [],
   "source": []
  }
 ],
 "metadata": {
  "kernelspec": {
   "display_name": "Python 3 (ipykernel)",
   "language": "python",
   "name": "python3"
  },
  "language_info": {
   "codemirror_mode": {
    "name": "ipython",
    "version": 3
   },
   "file_extension": ".py",
   "mimetype": "text/x-python",
   "name": "python",
   "nbconvert_exporter": "python",
   "pygments_lexer": "ipython3",
   "version": "3.10.11"
  }
 },
 "nbformat": 4,
 "nbformat_minor": 5
}
