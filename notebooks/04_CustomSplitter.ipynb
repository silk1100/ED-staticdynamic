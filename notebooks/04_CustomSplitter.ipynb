{
 "cells": [
  {
   "cell_type": "code",
   "execution_count": 5,
   "id": "5fb10c39-7ae7-4fc0-b57e-64ce42d42ee4",
   "metadata": {},
   "outputs": [],
   "source": [
    "import pandas as pd\n",
    "import numpy as np\n",
    "import os\n",
    "import seaborn as sns\n",
    "import matplotlib.pyplot as plt\n",
    "from warnings import simplefilter\n",
    "simplefilter('ignore')"
   ]
  },
  {
   "cell_type": "code",
   "execution_count": 6,
   "id": "a0703124-31dc-4693-97a8-a8e689487f4b",
   "metadata": {},
   "outputs": [],
   "source": [
    "ROOT_PATH = '/work/InternalMedicine/s223850/ED-StaticDynamic/static_dynamic_ds_parallel'"
   ]
  },
  {
   "cell_type": "code",
   "execution_count": 7,
   "id": "acb47f83-b73e-42b1-a90f-87ca43562005",
   "metadata": {},
   "outputs": [],
   "source": [
    "file_1_s = 'static_7.csv'\n",
    "file_1_d = 'dynamic_7.csv'"
   ]
  },
  {
   "cell_type": "code",
   "execution_count": 8,
   "id": "fee2a752-be4b-446d-a714-7cd6414f3e61",
   "metadata": {},
   "outputs": [],
   "source": [
    "file_2_s = 'static_100.csv'\n",
    "file_2_d = 'dynamic_100.csv'"
   ]
  },
  {
   "cell_type": "code",
   "execution_count": 9,
   "id": "ad04f603-e63a-44a5-ada0-01f0b2e9d712",
   "metadata": {},
   "outputs": [],
   "source": [
    "file_3_s = 'static_230.csv'\n",
    "file_3_d = 'dynamic_230.csv'"
   ]
  },
  {
   "cell_type": "code",
   "execution_count": 10,
   "id": "86f8fd60-91c5-4289-b5f0-21661ba78a4b",
   "metadata": {},
   "outputs": [],
   "source": [
    "def basic_preprocess(df):\n",
    "    if 'Arrived_Time' in df.columns:\n",
    "        df['Arrived_Time'] = pd.to_datetime(df['Arrived_Time'])\n",
    "    if 'Arrived_Time_appx' in df.columns:\n",
    "        df = df.loc[df['Arrived_Time_appx']!='-1']\n",
    "        df['Arrived_Time_appx'] = pd.to_datetime(df['Arrived_Time_appx'])\n",
    "    if 'Calculated_DateTime' in df.columns:\n",
    "        df['Calculated_DateTime'] = pd.to_datetime(df['Calculated_DateTime'])\n",
    "    unamed_cols = [col for col in df.columns if 'unnamed' in col.lower()]\n",
    "    if len(unamed_cols) >= 1:\n",
    "        df.drop(columns=unamed_cols, inplace=True)\n",
    "    return df"
   ]
  },
  {
   "cell_type": "code",
   "execution_count": 11,
   "id": "2b92ade0-eec4-4996-845e-b1a033c6f2c5",
   "metadata": {},
   "outputs": [],
   "source": [
    "df_static_1 = pd.read_csv(os.path.join(ROOT_PATH, file_1_s))\n",
    "df_static_2 = pd.read_csv(os.path.join(ROOT_PATH, file_2_s))\n",
    "df_static_3 = pd.read_csv(os.path.join(ROOT_PATH, file_3_s))\n",
    "\n",
    "df_dynamic_1 = pd.read_csv(os.path.join(ROOT_PATH, file_1_d))\n",
    "df_dynamic_2 = pd.read_csv(os.path.join(ROOT_PATH, file_2_d))\n",
    "df_dynamic_3 = pd.read_csv(os.path.join(ROOT_PATH, file_3_d))\n",
    "\n"
   ]
  },
  {
   "cell_type": "code",
   "execution_count": 12,
   "id": "c811faa1-fda8-4ff9-a46c-be57f3524ea1",
   "metadata": {},
   "outputs": [],
   "source": [
    "df_static_1 = basic_preprocess(df_static_1)\n",
    "df_static_2 = basic_preprocess(df_static_2)\n",
    "df_static_3 = basic_preprocess(df_static_3)\n",
    "\n",
    "df_dynamic_1 = basic_preprocess(df_dynamic_1)\n",
    "df_dynamic_2 = basic_preprocess(df_dynamic_2)\n",
    "df_dynamic_3 = basic_preprocess(df_dynamic_3)"
   ]
  },
  {
   "cell_type": "code",
   "execution_count": 57,
   "id": "dbea5ecd-7b10-4404-9fcc-af9afc44da38",
   "metadata": {},
   "outputs": [],
   "source": [
    "class CustomCrossValidator:\n",
    "    def __init__(self, date_col, training_period, testing_perid, overlap_perc=0):\n",
    "        self.tr_pr = training_period\n",
    "        self.te_pr = testing_perid\n",
    "        self.overlap = overlap_perc\n",
    "        self.date_col = date_col\n",
    "        self.size_of_overlap = int(overlap_perc*training_period)\n",
    "\n",
    "    def split(self, X, y=None):\n",
    "        Xc = X.sort_values(by=self.date_col)\n",
    "        start_date = X[self.date_col].iloc[0]\n",
    "        end_date = X[self.date_col].iloc[-1]\n",
    "\n",
    "        self.total_duration_in_month = (end_date-start_date).total_seconds()/(60*60*24*30);\n",
    "        \n",
    "        for idx, df_grp in df_sorted.groupby(['arr_mnth', 'arr_year']):\n",
    "            if len(group_training) < training_size:\n",
    "                group_training.append(df_grp)\n",
    "            elif len(group_testing) < testing_size:\n",
    "                group_testing.append(df_grp)\n",
    "            else:\n",
    "                df_train_fold = pd.concat(group_training)\n",
    "                df_test_fold = pd.concat(group_testing)\n",
    "                print(f\"Between {group_training[0]['Arrived_Time_appx'].min()} to {group_training[-1]['Arrived_Time_appx'].max()}, the training data contains {df_train_fold['PAT_ENC_CSN_ID'].nunique()} encounters with total of {len(df_train_fold)} rows ...\")\n",
    "                print(f\"Between {group_testing[0]['Arrived_Time_appx'].min()} to {group_testing[-1]['Arrived_Time_appx'].max()}, the testing data contains {df_test_fold['PAT_ENC_CSN_ID'].nunique()} encounters with total of {len(df_test_fold)} rows ...\")\n",
    "                print('-----------------------------')\n",
    "                group_training = []\n",
    "                group_testing = []\n",
    "                yield df_train_fold, df_test_fold\n",
    "                \n",
    "            \n",
    "        "
   ]
  },
  {
   "cell_type": "code",
   "execution_count": 10,
   "id": "00581844-d2e8-46f9-a08a-165f98076747",
   "metadata": {},
   "outputs": [
    {
     "data": {
      "text/plain": [
       "Index(['PAT_ENC_CSN_ID', 'Ethnicity', 'Sex', 'MultiRacial', 'Admitted_YN',\n",
       "       'Patient_Age', 'Coverage_Financial_Class_Grouper',\n",
       "       'Has Completed Appt in Last Seven Days',\n",
       "       'Has Hospital Encounter in Last Seven Days',\n",
       "       'Number of Inpatient Admissions in the last 30 Days',\n",
       "       'Number of past appointments in last 60 days',\n",
       "       'Number of past inpatient admissions over ED visits in last three years',\n",
       "       'Chief_Complaint_All', 'Count_of_Chief_Complaints', 'Means_Of_Arrival',\n",
       "       'Acuity_Level', 'FirstRace', 'Arrived_Time_appx'],\n",
       "      dtype='object')"
      ]
     },
     "execution_count": 10,
     "metadata": {},
     "output_type": "execute_result"
    }
   ],
   "source": [
    "CustomCrossValidator('Arrived_Time_appx', 6, 2, "
   ]
  },
  {
   "cell_type": "code",
   "execution_count": 74,
   "id": "228e1c7a-d73a-4c88-8948-f6cae4f618f6",
   "metadata": {},
   "outputs": [],
   "source": [
    "df_sorted = df_static_1.sort_values(by='Arrived_Time_appx')"
   ]
  },
  {
   "cell_type": "code",
   "execution_count": 14,
   "id": "24c846a2-b188-41bc-8bb5-5b88b477facb",
   "metadata": {},
   "outputs": [
    {
     "data": {
      "text/plain": [
       "0        2017-04-02 09:58:34\n",
       "1        2019-11-14 10:19:52\n",
       "2        2021-11-01 00:44:44\n",
       "4        2021-11-01 00:55:01\n",
       "5        2021-11-01 01:09:37\n",
       "                 ...        \n",
       "111760   2023-11-30 19:21:55\n",
       "111761   2023-11-30 19:50:05\n",
       "111762   2023-11-30 20:01:41\n",
       "111763   2023-11-30 21:08:44\n",
       "111764   2023-11-30 22:34:46\n",
       "Name: Arrived_Time_appx, Length: 111762, dtype: datetime64[ns]"
      ]
     },
     "execution_count": 14,
     "metadata": {},
     "output_type": "execute_result"
    }
   ],
   "source": [
    "df_sorted['Arrived_Time_appx']"
   ]
  },
  {
   "cell_type": "code",
   "execution_count": 75,
   "id": "760a8983-e8ef-4d23-af0b-8ced11c9508d",
   "metadata": {},
   "outputs": [],
   "source": [
    "df_sorted['arr_mnth'] = df_sorted['Arrived_Time_appx'].dt.month\n",
    "df_sorted['arr_year'] = df_sorted['Arrived_Time_appx'].dt.year"
   ]
  },
  {
   "cell_type": "code",
   "execution_count": 51,
   "id": "305871f7-92ed-44b1-a64e-c174520c671f",
   "metadata": {},
   "outputs": [
    {
     "data": {
      "text/plain": [
       "(Timestamp('2017-04-02 09:58:34'), Timestamp('2023-11-30 22:34:46'))"
      ]
     },
     "execution_count": 51,
     "metadata": {},
     "output_type": "execute_result"
    }
   ],
   "source": [
    "start_date = df_sorted['Arrived_Time_appx'].iloc[0]\n",
    "end_date = df_sorted['Arrived_Time_appx'].iloc[-1]\n",
    "start_date, end_date"
   ]
  },
  {
   "cell_type": "code",
   "execution_count": 78,
   "id": "13482b97-8c10-41cc-b450-bbab12be2745",
   "metadata": {},
   "outputs": [
    {
     "name": "stdout",
     "output_type": "stream",
     "text": [
      "stacking (2017, 4) to training group ...\n",
      "stacking (2019, 11) to training group ...\n",
      "stacking (2021, 11) to training group ...\n",
      "stacking (2021, 12) to training group ...\n",
      "stacking (2022, 1) to training group ...\n",
      "stacking (2022, 2) to training group ...\n",
      "stacking (2022, 3) to testing group ...\n",
      "stacking (2022, 4) to testing group ...\n",
      "Between 2017-04-02 09:58:34 to 2022-02-28 22:13:01, the training data contains 16842 encounters with total of 16842 rows ...\n",
      "Between 2022-03-01 00:17:41 to 2022-04-30 23:42:28, the testing data contains 8914 encounters with total of 8914 rows ...\n",
      "-----------------------------\n",
      "Between 2017-04-02 09:58:34 to 2022-02-28 22:13:01, the training data contains 16842 encounters with total of 16842 rows ...\n",
      "Between 2022-03-01 00:17:41 to 2022-04-30 23:42:28, the testing data contains 8914 encounters with total of 8914 rows ...\n",
      "-----------------------------\n",
      "Between 2017-04-02 09:58:34 to 2022-02-28 22:13:01, the training data contains 16842 encounters with total of 16842 rows ...\n",
      "Between 2022-03-01 00:17:41 to 2022-04-30 23:42:28, the testing data contains 8914 encounters with total of 8914 rows ...\n",
      "-----------------------------\n",
      "Between 2017-04-02 09:58:34 to 2022-02-28 22:13:01, the training data contains 16842 encounters with total of 16842 rows ...\n",
      "Between 2022-03-01 00:17:41 to 2022-04-30 23:42:28, the testing data contains 8914 encounters with total of 8914 rows ...\n",
      "-----------------------------\n",
      "Between 2017-04-02 09:58:34 to 2022-02-28 22:13:01, the training data contains 16842 encounters with total of 16842 rows ...\n",
      "Between 2022-03-01 00:17:41 to 2022-04-30 23:42:28, the testing data contains 8914 encounters with total of 8914 rows ...\n",
      "-----------------------------\n",
      "Between 2017-04-02 09:58:34 to 2022-02-28 22:13:01, the training data contains 16842 encounters with total of 16842 rows ...\n",
      "Between 2022-03-01 00:17:41 to 2022-04-30 23:42:28, the testing data contains 8914 encounters with total of 8914 rows ...\n",
      "-----------------------------\n",
      "Between 2017-04-02 09:58:34 to 2022-02-28 22:13:01, the training data contains 16842 encounters with total of 16842 rows ...\n",
      "Between 2022-03-01 00:17:41 to 2022-04-30 23:42:28, the testing data contains 8914 encounters with total of 8914 rows ...\n",
      "-----------------------------\n",
      "Between 2017-04-02 09:58:34 to 2022-02-28 22:13:01, the training data contains 16842 encounters with total of 16842 rows ...\n",
      "Between 2022-03-01 00:17:41 to 2022-04-30 23:42:28, the testing data contains 8914 encounters with total of 8914 rows ...\n",
      "-----------------------------\n",
      "Between 2017-04-02 09:58:34 to 2022-02-28 22:13:01, the training data contains 16842 encounters with total of 16842 rows ...\n",
      "Between 2022-03-01 00:17:41 to 2022-04-30 23:42:28, the testing data contains 8914 encounters with total of 8914 rows ...\n",
      "-----------------------------\n",
      "Between 2017-04-02 09:58:34 to 2022-02-28 22:13:01, the training data contains 16842 encounters with total of 16842 rows ...\n",
      "Between 2022-03-01 00:17:41 to 2022-04-30 23:42:28, the testing data contains 8914 encounters with total of 8914 rows ...\n",
      "-----------------------------\n",
      "Between 2017-04-02 09:58:34 to 2022-02-28 22:13:01, the training data contains 16842 encounters with total of 16842 rows ...\n",
      "Between 2022-03-01 00:17:41 to 2022-04-30 23:42:28, the testing data contains 8914 encounters with total of 8914 rows ...\n",
      "-----------------------------\n",
      "Between 2017-04-02 09:58:34 to 2022-02-28 22:13:01, the training data contains 16842 encounters with total of 16842 rows ...\n",
      "Between 2022-03-01 00:17:41 to 2022-04-30 23:42:28, the testing data contains 8914 encounters with total of 8914 rows ...\n",
      "-----------------------------\n",
      "Between 2017-04-02 09:58:34 to 2022-02-28 22:13:01, the training data contains 16842 encounters with total of 16842 rows ...\n",
      "Between 2022-03-01 00:17:41 to 2022-04-30 23:42:28, the testing data contains 8914 encounters with total of 8914 rows ...\n",
      "-----------------------------\n",
      "Between 2017-04-02 09:58:34 to 2022-02-28 22:13:01, the training data contains 16842 encounters with total of 16842 rows ...\n",
      "Between 2022-03-01 00:17:41 to 2022-04-30 23:42:28, the testing data contains 8914 encounters with total of 8914 rows ...\n",
      "-----------------------------\n",
      "Between 2017-04-02 09:58:34 to 2022-02-28 22:13:01, the training data contains 16842 encounters with total of 16842 rows ...\n",
      "Between 2022-03-01 00:17:41 to 2022-04-30 23:42:28, the testing data contains 8914 encounters with total of 8914 rows ...\n",
      "-----------------------------\n",
      "Between 2017-04-02 09:58:34 to 2022-02-28 22:13:01, the training data contains 16842 encounters with total of 16842 rows ...\n",
      "Between 2022-03-01 00:17:41 to 2022-04-30 23:42:28, the testing data contains 8914 encounters with total of 8914 rows ...\n",
      "-----------------------------\n",
      "Between 2017-04-02 09:58:34 to 2022-02-28 22:13:01, the training data contains 16842 encounters with total of 16842 rows ...\n",
      "Between 2022-03-01 00:17:41 to 2022-04-30 23:42:28, the testing data contains 8914 encounters with total of 8914 rows ...\n",
      "-----------------------------\n",
      "Between 2017-04-02 09:58:34 to 2022-02-28 22:13:01, the training data contains 16842 encounters with total of 16842 rows ...\n",
      "Between 2022-03-01 00:17:41 to 2022-04-30 23:42:28, the testing data contains 8914 encounters with total of 8914 rows ...\n",
      "-----------------------------\n",
      "Between 2017-04-02 09:58:34 to 2022-02-28 22:13:01, the training data contains 16842 encounters with total of 16842 rows ...\n",
      "Between 2022-03-01 00:17:41 to 2022-04-30 23:42:28, the testing data contains 8914 encounters with total of 8914 rows ...\n",
      "-----------------------------\n"
     ]
    }
   ],
   "source": [
    "training_size = 6\n",
    "testing_size = 2\n",
    "group_training = []\n",
    "group_testing = []\n",
    "\n",
    "for idx, df_grp in df_sorted.groupby(['arr_year', 'arr_mnth']):\n",
    "    if len(group_training) < training_size:\n",
    "        print(f'stacking {idx} to training group ...')\n",
    "        group_training.append(df_grp)\n",
    "    elif len(group_testing) < testing_size:\n",
    "        print(f'stacking {idx} to testing group ...')\n",
    "        group_testing.append(df_grp)\n",
    "    else:\n",
    "        df_train_fold = pd.concat(group_training)\n",
    "        df_test_fold = pd.concat(group_testing)\n",
    "        print(f\"Between {group_training[0]['Arrived_Time_appx'].min()} to {group_training[-1]['Arrived_Time_appx'].max()}, the training data contains {df_train_fold['PAT_ENC_CSN_ID'].nunique()} encounters with total of {len(df_train_fold)} rows ...\")\n",
    "        print(f\"Between {group_testing[0]['Arrived_Time_appx'].min()} to {group_testing[-1]['Arrived_Time_appx'].max()}, the testing data contains {df_test_fold['PAT_ENC_CSN_ID'].nunique()} encounters with total of {len(df_test_fold)} rows ...\")\n",
    "        print('-----------------------------')\n",
    "        # group_training = []\n",
    "        # group_testing = []\n",
    "        # break\n",
    "        # yield df_train_fold, df_test_fold\n",
    "        "
   ]
  },
  {
   "cell_type": "code",
   "execution_count": 65,
   "id": "58c30124-106d-45d4-b526-816ec2ca94ed",
   "metadata": {},
   "outputs": [
    {
     "data": {
      "text/plain": [
       "Arrived_Time_appx    2017-04-02 09:58:34\n",
       "arr_mnth                               4\n",
       "arr_year                            2017\n",
       "Name: 0, dtype: object"
      ]
     },
     "execution_count": 65,
     "metadata": {},
     "output_type": "execute_result"
    }
   ],
   "source": [
    "df_sorted[['Arrived_Time_appx', 'arr_mnth', 'arr_year']].iloc[0]"
   ]
  },
  {
   "cell_type": "code",
   "execution_count": 66,
   "id": "945acaf0-6a17-490c-b3d2-ce245d9eb4a5",
   "metadata": {},
   "outputs": [
    {
     "data": {
      "text/plain": [
       "Arrived_Time_appx    2021-11-01 00:44:44\n",
       "arr_mnth                              11\n",
       "arr_year                            2021\n",
       "Name: 2, dtype: object"
      ]
     },
     "execution_count": 66,
     "metadata": {},
     "output_type": "execute_result"
    }
   ],
   "source": [
    "df_sorted[['Arrived_Time_appx', 'arr_mnth', 'arr_year']].iloc[2]"
   ]
  },
  {
   "cell_type": "code",
   "execution_count": 67,
   "id": "e354e99c-32e4-4f32-a936-37d06ad45225",
   "metadata": {},
   "outputs": [
    {
     "data": {
      "text/plain": [
       "Arrived_Time_appx    2021-11-01 00:55:01\n",
       "arr_mnth                              11\n",
       "arr_year                            2021\n",
       "Name: 4, dtype: object"
      ]
     },
     "execution_count": 67,
     "metadata": {},
     "output_type": "execute_result"
    }
   ],
   "source": [
    "df_sorted[['Arrived_Time_appx', 'arr_mnth', 'arr_year']].iloc[3]"
   ]
  },
  {
   "cell_type": "code",
   "execution_count": 72,
   "id": "8084b413-1a66-4879-84fc-ba590aede232",
   "metadata": {},
   "outputs": [
    {
     "data": {
      "text/plain": [
       "(4, 2023)"
      ]
     },
     "execution_count": 72,
     "metadata": {},
     "output_type": "execute_result"
    }
   ],
   "source": [
    "idx"
   ]
  },
  {
   "cell_type": "code",
   "execution_count": null,
   "id": "be6b93a3-b7c5-4f63-ad60-efd49c686598",
   "metadata": {},
   "outputs": [],
   "source": []
  },
  {
   "cell_type": "code",
   "execution_count": 3,
   "id": "a5b71a20-9ded-4dd3-8195-59320fc04fdd",
   "metadata": {},
   "outputs": [],
   "source": [
    "df = pd.read_csv('/work/InternalMedicine/s223850/ED-StaticDynamic/raw_data/ED Events - 12.1.23.csv')"
   ]
  },
  {
   "cell_type": "code",
   "execution_count": 4,
   "id": "06c9b222-4a00-4eba-a4e2-0efbb333c7f3",
   "metadata": {},
   "outputs": [
    {
     "name": "stdout",
     "output_type": "stream",
     "text": [
      "<class 'pandas.core.frame.DataFrame'>\n",
      "RangeIndex: 16832198 entries, 0 to 16832197\n",
      "Data columns (total 30 columns):\n",
      " #   Column                                                                  Dtype  \n",
      "---  ------                                                                  -----  \n",
      " 0   PAT_ENC_CSN_ID                                                          int64  \n",
      " 1   PAT_MRN_ID                                                              int64  \n",
      " 2   PAT_ID                                                                  object \n",
      " 3   Ethnicity                                                               object \n",
      " 4   FirstRace                                                               object \n",
      " 5   MultiRacial                                                             int64  \n",
      " 6   Sex                                                                     object \n",
      " 7   Arrived_Time                                                            object \n",
      " 8   ED_Disposition                                                          object \n",
      " 9   Admitted_YN                                                             object \n",
      " 10  Patient_Age                                                             float64\n",
      " 11  Acuity_Level                                                            object \n",
      " 12  Means_Of_Arrival                                                        object \n",
      " 13  Chief_Complaint                                                         object \n",
      " 14  Chief_Complaint_All                                                     object \n",
      " 15  Count_of_Chief_Complaints                                               int64  \n",
      " 16  Calculated_DateTime                                                     object \n",
      " 17  Coverage_Financial_Class_Grouper                                        object \n",
      " 18  Has Completed Appt in Last Seven Days                                   object \n",
      " 19  Has Hospital Encounter in Last Seven Days                               object \n",
      " 20  Number of Inpatient Admissions in the last 30 Days                      int64  \n",
      " 21  Number of past appointments in last 60 days                             int64  \n",
      " 22  Number of past inpatient admissions over ED visits in last three years  int64  \n",
      " 23  Type                                                                    object \n",
      " 24  EVENT_NAME                                                              object \n",
      " 25  Order_Status                                                            object \n",
      " 26  Result_Flag                                                             object \n",
      " 27  Primary_DX_Name                                                         object \n",
      " 28  Primary_DX_First_ICD10                                                  object \n",
      " 29  Primary_DX_ICD10                                                        object \n",
      "dtypes: float64(1), int64(7), object(22)\n",
      "memory usage: 3.8+ GB\n"
     ]
    }
   ],
   "source": [
    "df.info()"
   ]
  },
  {
   "cell_type": "code",
   "execution_count": 17,
   "id": "92b1a4f1-dcba-45da-97bd-68f84923f68b",
   "metadata": {},
   "outputs": [
    {
     "data": {
      "text/plain": [
       "White                                        9502845\n",
       "Black or African American                    5329002\n",
       "Unavailable/Unknown                           923066\n",
       "Asian                                         517078\n",
       "Some other race                               392277\n",
       "American Indian or Alaska Native               76618\n",
       "Declined                                       59346\n",
       "Native Hawaiian or Other Pacific Islander      20277\n",
       "Name: FirstRace, dtype: int64"
      ]
     },
     "execution_count": 17,
     "metadata": {},
     "output_type": "execute_result"
    }
   ],
   "source": [
    "df['FirstRace'].value_counts()"
   ]
  },
  {
   "cell_type": "code",
   "execution_count": null,
   "id": "716c8e4e-6804-4264-8549-d59f8d74ea48",
   "metadata": {},
   "outputs": [],
   "source": []
  }
 ],
 "metadata": {
  "kernelspec": {
   "display_name": "Python 3 (ipykernel)",
   "language": "python",
   "name": "python3"
  },
  "language_info": {
   "codemirror_mode": {
    "name": "ipython",
    "version": 3
   },
   "file_extension": ".py",
   "mimetype": "text/x-python",
   "name": "python",
   "nbconvert_exporter": "python",
   "pygments_lexer": "ipython3",
   "version": "3.10.11"
  }
 },
 "nbformat": 4,
 "nbformat_minor": 5
}
