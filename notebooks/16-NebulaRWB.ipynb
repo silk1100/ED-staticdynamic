{
 "cells": [
  {
   "cell_type": "code",
   "execution_count": 1,
   "id": "6a854a69-9970-4f4e-aa50-447e7c895336",
   "metadata": {},
   "outputs": [],
   "source": [
    "import pandas as pd\n",
    "import polars as pl\n",
    "import re\n",
    "import numpy as np\n",
    "import os\n",
    "import datetime as dt"
   ]
  },
  {
   "cell_type": "code",
   "execution_count": 2,
   "id": "6f85505d-c2ab-4099-96ae-c55393bb0c7d",
   "metadata": {},
   "outputs": [],
   "source": [
    "RAW_DATA = '/work/InternalMedicine/s223850/ED-StaticDynamic/raw_data/ondemand-RWB1.csv'"
   ]
  },
  {
   "cell_type": "code",
   "execution_count": 3,
   "id": "f922b72b-f33d-4dd3-8b69-1c6fa5dfc873",
   "metadata": {},
   "outputs": [],
   "source": [
    "df_rwb = pd.read_csv(RAW_DATA)"
   ]
  },
  {
   "cell_type": "code",
   "execution_count": 4,
   "id": "1a99747a-ee08-46d3-8915-d6f8438791cf",
   "metadata": {},
   "outputs": [
    {
     "data": {
      "text/html": [
       "<div>\n",
       "<style scoped>\n",
       "    .dataframe tbody tr th:only-of-type {\n",
       "        vertical-align: middle;\n",
       "    }\n",
       "\n",
       "    .dataframe tbody tr th {\n",
       "        vertical-align: top;\n",
       "    }\n",
       "\n",
       "    .dataframe thead th {\n",
       "        text-align: right;\n",
       "    }\n",
       "</style>\n",
       "<table border=\"1\" class=\"dataframe\">\n",
       "  <thead>\n",
       "    <tr style=\"text-align: right;\">\n",
       "      <th></th>\n",
       "      <th>Unnamed: 0</th>\n",
       "      <th>Race</th>\n",
       "      <th>Acuity</th>\n",
       "      <th>Acuity Abbr</th>\n",
       "      <th>Arrival Method</th>\n",
       "      <th>Arrival Time</th>\n",
       "      <th>CC</th>\n",
       "      <th>CSN</th>\n",
       "      <th>ED Disposition</th>\n",
       "      <th>Ethnicity</th>\n",
       "      <th>Patient Name/Age/Gender</th>\n",
       "      <th>Primary Dx</th>\n",
       "      <th>Primary ED Dx</th>\n",
       "      <th>Primary FC</th>\n",
       "      <th>Arrived</th>\n",
       "    </tr>\n",
       "  </thead>\n",
       "  <tbody>\n",
       "    <tr>\n",
       "      <th>0</th>\n",
       "      <td>1</td>\n",
       "      <td>3</td>\n",
       "      <td>8.0</td>\n",
       "      <td>III</td>\n",
       "      <td>10.0</td>\n",
       "      <td>45900</td>\n",
       "      <td>BACK PAIN</td>\n",
       "      <td>706903249</td>\n",
       "      <td>DISCHARGED</td>\n",
       "      <td>13.0</td>\n",
       "      <td>BANGE,  A (61Y/O F)</td>\n",
       "      <td>ACUTE MIDLINE LOW BACK PAIN WITHOUT SCIATICA</td>\n",
       "      <td>ACUTE MIDLINE LOW BACK PAIN WITHOUT SCIATICA</td>\n",
       "      <td>2.0</td>\n",
       "      <td>5791092300</td>\n",
       "    </tr>\n",
       "    <tr>\n",
       "      <th>1</th>\n",
       "      <td>2</td>\n",
       "      <td>5</td>\n",
       "      <td>8.0</td>\n",
       "      <td>III</td>\n",
       "      <td>5.0</td>\n",
       "      <td>78416</td>\n",
       "      <td>CONSTIPATION</td>\n",
       "      <td>706909931</td>\n",
       "      <td>ADMITTED</td>\n",
       "      <td>3.0</td>\n",
       "      <td>MALDONADO,  M (59Y/O F)</td>\n",
       "      <td>CONSTIPATION, UNSPECIFIED CONSTIPATION TYPE</td>\n",
       "      <td>CONSTIPATION, UNSPECIFIED CONSTIPATION TYPE</td>\n",
       "      <td>101.0</td>\n",
       "      <td>5791038360</td>\n",
       "    </tr>\n",
       "    <tr>\n",
       "      <th>2</th>\n",
       "      <td>3</td>\n",
       "      <td>5</td>\n",
       "      <td>7.0</td>\n",
       "      <td>II</td>\n",
       "      <td>5.0</td>\n",
       "      <td>83100</td>\n",
       "      <td>RASH; OTHER</td>\n",
       "      <td>706910057</td>\n",
       "      <td>DISCHARGED</td>\n",
       "      <td>13.0</td>\n",
       "      <td>VINES,  C (73Y/O F)</td>\n",
       "      <td>RASH</td>\n",
       "      <td>RASH</td>\n",
       "      <td>2.0</td>\n",
       "      <td>5791043100</td>\n",
       "    </tr>\n",
       "    <tr>\n",
       "      <th>3</th>\n",
       "      <td>4</td>\n",
       "      <td>5</td>\n",
       "      <td>7.0</td>\n",
       "      <td>II</td>\n",
       "      <td>5.0</td>\n",
       "      <td>80760</td>\n",
       "      <td>DIFFICULTY BREATHING</td>\n",
       "      <td>706910107</td>\n",
       "      <td>DISCHARGED</td>\n",
       "      <td>3.0</td>\n",
       "      <td>ARELLANO,  S (24Y/O F)</td>\n",
       "      <td>CHEST PAIN, UNSPECIFIED TYPE</td>\n",
       "      <td>CHEST PAIN, UNSPECIFIED TYPE</td>\n",
       "      <td>101.0</td>\n",
       "      <td>5791040760</td>\n",
       "    </tr>\n",
       "    <tr>\n",
       "      <th>4</th>\n",
       "      <td>5</td>\n",
       "      <td>3</td>\n",
       "      <td>7.0</td>\n",
       "      <td>II</td>\n",
       "      <td>5.0</td>\n",
       "      <td>81100</td>\n",
       "      <td>GUN SHOT WOUND</td>\n",
       "      <td>706910138</td>\n",
       "      <td>TRANSFER TO ANOTHER FACILITY - CMC</td>\n",
       "      <td>13.0</td>\n",
       "      <td>BUTLER,  A (16Y/O M)</td>\n",
       "      <td>GSW (GUNSHOT WOUND)</td>\n",
       "      <td>GSW (GUNSHOT WOUND)</td>\n",
       "      <td>3.0</td>\n",
       "      <td>5791041060</td>\n",
       "    </tr>\n",
       "    <tr>\n",
       "      <th>...</th>\n",
       "      <td>...</td>\n",
       "      <td>...</td>\n",
       "      <td>...</td>\n",
       "      <td>...</td>\n",
       "      <td>...</td>\n",
       "      <td>...</td>\n",
       "      <td>...</td>\n",
       "      <td>...</td>\n",
       "      <td>...</td>\n",
       "      <td>...</td>\n",
       "      <td>...</td>\n",
       "      <td>...</td>\n",
       "      <td>...</td>\n",
       "      <td>...</td>\n",
       "      <td>...</td>\n",
       "    </tr>\n",
       "    <tr>\n",
       "      <th>9995</th>\n",
       "      <td>9996</td>\n",
       "      <td>8</td>\n",
       "      <td>8.0</td>\n",
       "      <td>III</td>\n",
       "      <td>5.0</td>\n",
       "      <td>77460</td>\n",
       "      <td>BLADDER PAIN</td>\n",
       "      <td>713697694</td>\n",
       "      <td>NaN</td>\n",
       "      <td>3.0</td>\n",
       "      <td>BONILLA,  I (60Y/O M)</td>\n",
       "      <td>LOWER URINARY TRACT SYMPTOMS (LUTS)</td>\n",
       "      <td>LOWER URINARY TRACT SYMPTOMS (LUTS)</td>\n",
       "      <td>101.0</td>\n",
       "      <td>5799591060</td>\n",
       "    </tr>\n",
       "    <tr>\n",
       "      <th>9996</th>\n",
       "      <td>9997</td>\n",
       "      <td>8\\n5</td>\n",
       "      <td>7.0</td>\n",
       "      <td>II</td>\n",
       "      <td>5.0</td>\n",
       "      <td>81180</td>\n",
       "      <td>CHEST PAIN</td>\n",
       "      <td>713698008</td>\n",
       "      <td>NaN</td>\n",
       "      <td>13.0</td>\n",
       "      <td>DAMICO,  A (77Y/O M)</td>\n",
       "      <td>LEFT ARM SWELLING</td>\n",
       "      <td>LEFT ARM SWELLING</td>\n",
       "      <td>2.0</td>\n",
       "      <td>5799594780</td>\n",
       "    </tr>\n",
       "    <tr>\n",
       "      <th>9997</th>\n",
       "      <td>9998</td>\n",
       "      <td>5</td>\n",
       "      <td>7.0</td>\n",
       "      <td>II</td>\n",
       "      <td>5.0</td>\n",
       "      <td>81360</td>\n",
       "      <td>BACK PAIN; DIFFICULTY BREATHING; CONFUSION</td>\n",
       "      <td>713698022</td>\n",
       "      <td>NaN</td>\n",
       "      <td>13.0</td>\n",
       "      <td>JACKSON,  L (95Y/O M)</td>\n",
       "      <td>ACUTE CONFUSIONAL STATE</td>\n",
       "      <td>ACUTE CONFUSIONAL STATE</td>\n",
       "      <td>2.0</td>\n",
       "      <td>5799594960</td>\n",
       "    </tr>\n",
       "    <tr>\n",
       "      <th>9998</th>\n",
       "      <td>9999</td>\n",
       "      <td>5</td>\n",
       "      <td>7.0</td>\n",
       "      <td>II</td>\n",
       "      <td>5.0</td>\n",
       "      <td>81660</td>\n",
       "      <td>OTHER</td>\n",
       "      <td>713698047</td>\n",
       "      <td>NaN</td>\n",
       "      <td>13.0</td>\n",
       "      <td>KITCHELL,  B (59Y/O M)</td>\n",
       "      <td>NaN</td>\n",
       "      <td>ESRD ON HEMODIALYSIS (*)</td>\n",
       "      <td>101.0</td>\n",
       "      <td>5799595260</td>\n",
       "    </tr>\n",
       "    <tr>\n",
       "      <th>9999</th>\n",
       "      <td>10000</td>\n",
       "      <td>5</td>\n",
       "      <td>7.0</td>\n",
       "      <td>II</td>\n",
       "      <td>5.0</td>\n",
       "      <td>85080</td>\n",
       "      <td>RECTAL BLEEDING</td>\n",
       "      <td>713698278</td>\n",
       "      <td>NaN</td>\n",
       "      <td>3.0</td>\n",
       "      <td>OSTOLAZA,  O (81Y/O M)</td>\n",
       "      <td>RECTAL BLEEDING</td>\n",
       "      <td>RECTAL BLEEDING</td>\n",
       "      <td>2.0</td>\n",
       "      <td>5799598680</td>\n",
       "    </tr>\n",
       "  </tbody>\n",
       "</table>\n",
       "<p>10000 rows × 15 columns</p>\n",
       "</div>"
      ],
      "text/plain": [
       "      Unnamed: 0  Race  Acuity Acuity Abbr  Arrival Method  Arrival Time  \\\n",
       "0              1     3     8.0         III            10.0         45900   \n",
       "1              2     5     8.0         III             5.0         78416   \n",
       "2              3     5     7.0          II             5.0         83100   \n",
       "3              4     5     7.0          II             5.0         80760   \n",
       "4              5     3     7.0          II             5.0         81100   \n",
       "...          ...   ...     ...         ...             ...           ...   \n",
       "9995        9996     8     8.0         III             5.0         77460   \n",
       "9996        9997  8\\n5     7.0          II             5.0         81180   \n",
       "9997        9998     5     7.0          II             5.0         81360   \n",
       "9998        9999     5     7.0          II             5.0         81660   \n",
       "9999       10000     5     7.0          II             5.0         85080   \n",
       "\n",
       "                                              CC        CSN  \\\n",
       "0                                      BACK PAIN  706903249   \n",
       "1                                   CONSTIPATION  706909931   \n",
       "2                                    RASH; OTHER  706910057   \n",
       "3                           DIFFICULTY BREATHING  706910107   \n",
       "4                                 GUN SHOT WOUND  706910138   \n",
       "...                                          ...        ...   \n",
       "9995                                BLADDER PAIN  713697694   \n",
       "9996                                  CHEST PAIN  713698008   \n",
       "9997  BACK PAIN; DIFFICULTY BREATHING; CONFUSION  713698022   \n",
       "9998                                       OTHER  713698047   \n",
       "9999                             RECTAL BLEEDING  713698278   \n",
       "\n",
       "                          ED Disposition  Ethnicity  Patient Name/Age/Gender  \\\n",
       "0                             DISCHARGED       13.0      BANGE,  A (61Y/O F)   \n",
       "1                               ADMITTED        3.0  MALDONADO,  M (59Y/O F)   \n",
       "2                             DISCHARGED       13.0      VINES,  C (73Y/O F)   \n",
       "3                             DISCHARGED        3.0   ARELLANO,  S (24Y/O F)   \n",
       "4     TRANSFER TO ANOTHER FACILITY - CMC       13.0     BUTLER,  A (16Y/O M)   \n",
       "...                                  ...        ...                      ...   \n",
       "9995                                 NaN        3.0    BONILLA,  I (60Y/O M)   \n",
       "9996                                 NaN       13.0     DAMICO,  A (77Y/O M)   \n",
       "9997                                 NaN       13.0    JACKSON,  L (95Y/O M)   \n",
       "9998                                 NaN       13.0   KITCHELL,  B (59Y/O M)   \n",
       "9999                                 NaN        3.0   OSTOLAZA,  O (81Y/O M)   \n",
       "\n",
       "                                        Primary Dx  \\\n",
       "0     ACUTE MIDLINE LOW BACK PAIN WITHOUT SCIATICA   \n",
       "1      CONSTIPATION, UNSPECIFIED CONSTIPATION TYPE   \n",
       "2                                             RASH   \n",
       "3                     CHEST PAIN, UNSPECIFIED TYPE   \n",
       "4                              GSW (GUNSHOT WOUND)   \n",
       "...                                            ...   \n",
       "9995           LOWER URINARY TRACT SYMPTOMS (LUTS)   \n",
       "9996                             LEFT ARM SWELLING   \n",
       "9997                       ACUTE CONFUSIONAL STATE   \n",
       "9998                                           NaN   \n",
       "9999                               RECTAL BLEEDING   \n",
       "\n",
       "                                     Primary ED Dx  Primary FC     Arrived  \n",
       "0     ACUTE MIDLINE LOW BACK PAIN WITHOUT SCIATICA         2.0  5791092300  \n",
       "1      CONSTIPATION, UNSPECIFIED CONSTIPATION TYPE       101.0  5791038360  \n",
       "2                                             RASH         2.0  5791043100  \n",
       "3                     CHEST PAIN, UNSPECIFIED TYPE       101.0  5791040760  \n",
       "4                              GSW (GUNSHOT WOUND)         3.0  5791041060  \n",
       "...                                            ...         ...         ...  \n",
       "9995           LOWER URINARY TRACT SYMPTOMS (LUTS)       101.0  5799591060  \n",
       "9996                             LEFT ARM SWELLING         2.0  5799594780  \n",
       "9997                       ACUTE CONFUSIONAL STATE         2.0  5799594960  \n",
       "9998                      ESRD ON HEMODIALYSIS (*)       101.0  5799595260  \n",
       "9999                               RECTAL BLEEDING         2.0  5799598680  \n",
       "\n",
       "[10000 rows x 15 columns]"
      ]
     },
     "execution_count": 4,
     "metadata": {},
     "output_type": "execute_result"
    }
   ],
   "source": [
    "df_rwb"
   ]
  },
  {
   "cell_type": "code",
   "execution_count": 32,
   "id": "2ab0e026-7a1b-4413-ac24-98febc69315e",
   "metadata": {},
   "outputs": [],
   "source": [
    "dx_len = df_rwb['Primary ED Dx'].apply(lambda x: x.split(';') if isinstance(x, str) else x).apply(lambda x: len(x) if isinstance(x, list) else 0)"
   ]
  },
  {
   "cell_type": "code",
   "execution_count": 28,
   "id": "64d7270e-416d-4548-ab89-4dc904a04e57",
   "metadata": {},
   "outputs": [],
   "source": [
    "cc_len = df_rwb['CC'].apply(lambda x: x.split(';') if isinstance(x, str) else x).apply(lambda x: len(x) if isinstance(x, list) else 0)"
   ]
  },
  {
   "cell_type": "code",
   "execution_count": 29,
   "id": "908ce20b-2bb1-459e-af08-c774620dade6",
   "metadata": {},
   "outputs": [
    {
     "data": {
      "text/plain": [
       "(0, 6)"
      ]
     },
     "execution_count": 29,
     "metadata": {},
     "output_type": "execute_result"
    }
   ],
   "source": [
    "cc_len.min(), cc_len.max()"
   ]
  },
  {
   "cell_type": "code",
   "execution_count": 33,
   "id": "8cce1ffc-8552-4b24-aaa4-1a65048016ce",
   "metadata": {},
   "outputs": [
    {
     "data": {
      "text/plain": [
       "(0, 3)"
      ]
     },
     "execution_count": 33,
     "metadata": {},
     "output_type": "execute_result"
    }
   ],
   "source": [
    "dx_len.min(), dx_len.max()"
   ]
  },
  {
   "cell_type": "code",
   "execution_count": 37,
   "id": "288ed0bc-94ad-4f43-9829-5f041dd70090",
   "metadata": {},
   "outputs": [
    {
     "data": {
      "text/plain": [
       "'CHEST PAIN, UNSPECIFIED TYPE; HX COMPLETE HEART BLOCK W/ PPM'"
      ]
     },
     "execution_count": 37,
     "metadata": {},
     "output_type": "execute_result"
    }
   ],
   "source": [
    "df_rwb.loc[dx_len==2, ['CC','Primary Dx', 'Primary ED Dx']]['Primary ED Dx'].iloc[-1]"
   ]
  },
  {
   "cell_type": "code",
   "execution_count": 26,
   "id": "9076d65e-04f1-451a-9215-324ceb22a5e7",
   "metadata": {},
   "outputs": [
    {
     "data": {
      "text/html": [
       "<div>\n",
       "<style scoped>\n",
       "    .dataframe tbody tr th:only-of-type {\n",
       "        vertical-align: middle;\n",
       "    }\n",
       "\n",
       "    .dataframe tbody tr th {\n",
       "        vertical-align: top;\n",
       "    }\n",
       "\n",
       "    .dataframe thead th {\n",
       "        text-align: right;\n",
       "    }\n",
       "</style>\n",
       "<table border=\"1\" class=\"dataframe\">\n",
       "  <thead>\n",
       "    <tr style=\"text-align: right;\">\n",
       "      <th></th>\n",
       "      <th>CC</th>\n",
       "      <th>Primary Dx</th>\n",
       "      <th>Primary ED Dx</th>\n",
       "    </tr>\n",
       "  </thead>\n",
       "  <tbody>\n",
       "    <tr>\n",
       "      <th>271</th>\n",
       "      <td>WOUND, NON HEALING</td>\n",
       "      <td>OPEN WOUND OF RIGHT FOOT, INITIAL ENCOUNTER</td>\n",
       "      <td>OPEN WOUND OF RIGHT FOOT, INITIAL ENCOUNTER</td>\n",
       "    </tr>\n",
       "    <tr>\n",
       "      <th>275</th>\n",
       "      <td>WOUND, NON HEALING</td>\n",
       "      <td>CELLULITIS OF LEFT LEG</td>\n",
       "      <td>CELLULITIS OF LEFT LEG</td>\n",
       "    </tr>\n",
       "    <tr>\n",
       "      <th>560</th>\n",
       "      <td>WOUND, NON HEALING</td>\n",
       "      <td>OPEN WOUND OF RIGHT GREAT TOE, INITIAL ENCOUNTER</td>\n",
       "      <td>OPEN WOUND OF RIGHT GREAT TOE, INITIAL ENCOUNTER</td>\n",
       "    </tr>\n",
       "    <tr>\n",
       "      <th>893</th>\n",
       "      <td>WOUND, NON HEALING</td>\n",
       "      <td>THERAPEUTIC DRUG MONITORING</td>\n",
       "      <td>WEAKNESS</td>\n",
       "    </tr>\n",
       "    <tr>\n",
       "      <th>1396</th>\n",
       "      <td>HERNIA,INGUINAL</td>\n",
       "      <td>LEFT INGUINAL HERNIA</td>\n",
       "      <td>LEFT INGUINAL HERNIA</td>\n",
       "    </tr>\n",
       "    <tr>\n",
       "      <th>1411</th>\n",
       "      <td>WOUND INFECTION, SURGICAL</td>\n",
       "      <td>SURGICAL SITE INFECTION</td>\n",
       "      <td>SURGICAL WOUND INFECTION</td>\n",
       "    </tr>\n",
       "    <tr>\n",
       "      <th>3400</th>\n",
       "      <td>ABDOMINAL PAIN; HERNIA,UMBILICAL</td>\n",
       "      <td>ABDOMINAL HERNIA WITHOUT OBSTRUCTION AND WITHO...</td>\n",
       "      <td>ABDOMINAL HERNIA WITHOUT OBSTRUCTION AND WITHO...</td>\n",
       "    </tr>\n",
       "    <tr>\n",
       "      <th>3980</th>\n",
       "      <td>WOUND INFECTION, SURGICAL</td>\n",
       "      <td>WOUND DISCHARGE</td>\n",
       "      <td>WOUND DISCHARGE</td>\n",
       "    </tr>\n",
       "    <tr>\n",
       "      <th>4131</th>\n",
       "      <td>DIFFICULTY BREATHING; WOUND, NON HEALING</td>\n",
       "      <td>SHORTNESS OF BREATH</td>\n",
       "      <td>SHORTNESS OF BREATH</td>\n",
       "    </tr>\n",
       "    <tr>\n",
       "      <th>4389</th>\n",
       "      <td>WOUND, NON HEALING</td>\n",
       "      <td>OPEN WOUND OF TOE, INITIAL ENCOUNTER</td>\n",
       "      <td>OPEN WOUND OF TOE, INITIAL ENCOUNTER</td>\n",
       "    </tr>\n",
       "    <tr>\n",
       "      <th>4412</th>\n",
       "      <td>WOUND, NON HEALING</td>\n",
       "      <td>LEFT FOOT INFECTION</td>\n",
       "      <td>LEFT FOOT INFECTION</td>\n",
       "    </tr>\n",
       "    <tr>\n",
       "      <th>4725</th>\n",
       "      <td>WOUND INFECTION, SURGICAL</td>\n",
       "      <td>WOUND CELLULITIS</td>\n",
       "      <td>WOUND CELLULITIS</td>\n",
       "    </tr>\n",
       "    <tr>\n",
       "      <th>4801</th>\n",
       "      <td>WOUND, NON HEALING</td>\n",
       "      <td>OPEN WOUND OF LEFT FOOT, INITIAL ENCOUNTER</td>\n",
       "      <td>OPEN WOUND OF LEFT FOOT, INITIAL ENCOUNTER</td>\n",
       "    </tr>\n",
       "    <tr>\n",
       "      <th>4820</th>\n",
       "      <td>HERNIA,UMBILICAL</td>\n",
       "      <td>UMBILICAL HERNIA WITHOUT OBSTRUCTION AND WITHO...</td>\n",
       "      <td>UMBILICAL HERNIA WITHOUT OBSTRUCTION AND WITHO...</td>\n",
       "    </tr>\n",
       "    <tr>\n",
       "      <th>4934</th>\n",
       "      <td>WOUND, NON HEALING</td>\n",
       "      <td>SEPSIS, DUE TO UNSPECIFIED ORGANISM, UNSPECIFI...</td>\n",
       "      <td>SEPSIS, DUE TO UNSPECIFIED ORGANISM, UNSPECIFI...</td>\n",
       "    </tr>\n",
       "    <tr>\n",
       "      <th>4942</th>\n",
       "      <td>WOUND, NON HEALING</td>\n",
       "      <td>LEFT FOOT INFECTION</td>\n",
       "      <td>WOUND INFECTION</td>\n",
       "    </tr>\n",
       "    <tr>\n",
       "      <th>5166</th>\n",
       "      <td>WOUND, NON HEALING</td>\n",
       "      <td>WOUND OF LEFT LOWER EXTREMITY, INITIAL ENCOUNTER</td>\n",
       "      <td>WOUND OF LEFT LOWER EXTREMITY, INITIAL ENCOUNTER</td>\n",
       "    </tr>\n",
       "    <tr>\n",
       "      <th>5397</th>\n",
       "      <td>WOUND, NON HEALING</td>\n",
       "      <td>ESRD ON HEMODIALYSIS (*)</td>\n",
       "      <td>WOUND INFECTION</td>\n",
       "    </tr>\n",
       "    <tr>\n",
       "      <th>5420</th>\n",
       "      <td>FEVER; WOUND, NON HEALING</td>\n",
       "      <td>SEPSIS, DUE TO UNSPECIFIED ORGANISM, UNSPECIFI...</td>\n",
       "      <td>WOUND OF BUTTOCK, UNSPECIFIED LATERALITY, INIT...</td>\n",
       "    </tr>\n",
       "    <tr>\n",
       "      <th>5510</th>\n",
       "      <td>WOUND, NON HEALING</td>\n",
       "      <td>OPEN WOUND OF TOE, INITIAL ENCOUNTER</td>\n",
       "      <td>OPEN WOUND OF TOE, INITIAL ENCOUNTER</td>\n",
       "    </tr>\n",
       "    <tr>\n",
       "      <th>5590</th>\n",
       "      <td>WOUND, NON HEALING</td>\n",
       "      <td>WOUND OF LEFT UPPER EXTREMITY, INITIAL ENCOUNTER</td>\n",
       "      <td>WOUND OF LEFT UPPER EXTREMITY, INITIAL ENCOUNTER</td>\n",
       "    </tr>\n",
       "    <tr>\n",
       "      <th>5866</th>\n",
       "      <td>WOUND, NON HEALING</td>\n",
       "      <td>DECUBITUS ULCER OF SACRAL REGION, STAGE 4 (*)</td>\n",
       "      <td>DECUBITUS ULCER OF SACRAL REGION, STAGE 4 (*)</td>\n",
       "    </tr>\n",
       "    <tr>\n",
       "      <th>6409</th>\n",
       "      <td>WOUND, NON HEALING</td>\n",
       "      <td>LEFT FOOT PAIN</td>\n",
       "      <td>LEFT FOOT PAIN</td>\n",
       "    </tr>\n",
       "    <tr>\n",
       "      <th>7584</th>\n",
       "      <td>WOUND, NON HEALING</td>\n",
       "      <td>OPEN WOUND OF RIGHT FOOT, INITIAL ENCOUNTER</td>\n",
       "      <td>OPEN WOUND OF RIGHT FOOT, INITIAL ENCOUNTER</td>\n",
       "    </tr>\n",
       "    <tr>\n",
       "      <th>7777</th>\n",
       "      <td>WOUND, NON HEALING</td>\n",
       "      <td>THERAPEUTIC DRUG MONITORING</td>\n",
       "      <td>GANGRENE OF LEFT FOOT (*)</td>\n",
       "    </tr>\n",
       "    <tr>\n",
       "      <th>8492</th>\n",
       "      <td>WOUND, NON HEALING</td>\n",
       "      <td>URETHRAL BLEEDING</td>\n",
       "      <td>URETHRAL BLEEDING</td>\n",
       "    </tr>\n",
       "    <tr>\n",
       "      <th>9160</th>\n",
       "      <td>WOUND, NON HEALING</td>\n",
       "      <td>PLEURAL EFFUSION</td>\n",
       "      <td>PLEURAL EFFUSION</td>\n",
       "    </tr>\n",
       "    <tr>\n",
       "      <th>9585</th>\n",
       "      <td>WOUND INFECTION, SURGICAL</td>\n",
       "      <td>WOUND INFECTION</td>\n",
       "      <td>WOUND INFECTION</td>\n",
       "    </tr>\n",
       "  </tbody>\n",
       "</table>\n",
       "</div>"
      ],
      "text/plain": [
       "                                            CC  \\\n",
       "271                         WOUND, NON HEALING   \n",
       "275                         WOUND, NON HEALING   \n",
       "560                         WOUND, NON HEALING   \n",
       "893                         WOUND, NON HEALING   \n",
       "1396                           HERNIA,INGUINAL   \n",
       "1411                 WOUND INFECTION, SURGICAL   \n",
       "3400          ABDOMINAL PAIN; HERNIA,UMBILICAL   \n",
       "3980                 WOUND INFECTION, SURGICAL   \n",
       "4131  DIFFICULTY BREATHING; WOUND, NON HEALING   \n",
       "4389                        WOUND, NON HEALING   \n",
       "4412                        WOUND, NON HEALING   \n",
       "4725                 WOUND INFECTION, SURGICAL   \n",
       "4801                        WOUND, NON HEALING   \n",
       "4820                          HERNIA,UMBILICAL   \n",
       "4934                        WOUND, NON HEALING   \n",
       "4942                        WOUND, NON HEALING   \n",
       "5166                        WOUND, NON HEALING   \n",
       "5397                        WOUND, NON HEALING   \n",
       "5420                 FEVER; WOUND, NON HEALING   \n",
       "5510                        WOUND, NON HEALING   \n",
       "5590                        WOUND, NON HEALING   \n",
       "5866                        WOUND, NON HEALING   \n",
       "6409                        WOUND, NON HEALING   \n",
       "7584                        WOUND, NON HEALING   \n",
       "7777                        WOUND, NON HEALING   \n",
       "8492                        WOUND, NON HEALING   \n",
       "9160                        WOUND, NON HEALING   \n",
       "9585                 WOUND INFECTION, SURGICAL   \n",
       "\n",
       "                                             Primary Dx  \\\n",
       "271         OPEN WOUND OF RIGHT FOOT, INITIAL ENCOUNTER   \n",
       "275                              CELLULITIS OF LEFT LEG   \n",
       "560    OPEN WOUND OF RIGHT GREAT TOE, INITIAL ENCOUNTER   \n",
       "893                         THERAPEUTIC DRUG MONITORING   \n",
       "1396                               LEFT INGUINAL HERNIA   \n",
       "1411                            SURGICAL SITE INFECTION   \n",
       "3400  ABDOMINAL HERNIA WITHOUT OBSTRUCTION AND WITHO...   \n",
       "3980                                    WOUND DISCHARGE   \n",
       "4131                                SHORTNESS OF BREATH   \n",
       "4389               OPEN WOUND OF TOE, INITIAL ENCOUNTER   \n",
       "4412                                LEFT FOOT INFECTION   \n",
       "4725                                   WOUND CELLULITIS   \n",
       "4801         OPEN WOUND OF LEFT FOOT, INITIAL ENCOUNTER   \n",
       "4820  UMBILICAL HERNIA WITHOUT OBSTRUCTION AND WITHO...   \n",
       "4934  SEPSIS, DUE TO UNSPECIFIED ORGANISM, UNSPECIFI...   \n",
       "4942                                LEFT FOOT INFECTION   \n",
       "5166   WOUND OF LEFT LOWER EXTREMITY, INITIAL ENCOUNTER   \n",
       "5397                           ESRD ON HEMODIALYSIS (*)   \n",
       "5420  SEPSIS, DUE TO UNSPECIFIED ORGANISM, UNSPECIFI...   \n",
       "5510               OPEN WOUND OF TOE, INITIAL ENCOUNTER   \n",
       "5590   WOUND OF LEFT UPPER EXTREMITY, INITIAL ENCOUNTER   \n",
       "5866      DECUBITUS ULCER OF SACRAL REGION, STAGE 4 (*)   \n",
       "6409                                     LEFT FOOT PAIN   \n",
       "7584        OPEN WOUND OF RIGHT FOOT, INITIAL ENCOUNTER   \n",
       "7777                        THERAPEUTIC DRUG MONITORING   \n",
       "8492                                  URETHRAL BLEEDING   \n",
       "9160                                   PLEURAL EFFUSION   \n",
       "9585                                    WOUND INFECTION   \n",
       "\n",
       "                                          Primary ED Dx  \n",
       "271         OPEN WOUND OF RIGHT FOOT, INITIAL ENCOUNTER  \n",
       "275                              CELLULITIS OF LEFT LEG  \n",
       "560    OPEN WOUND OF RIGHT GREAT TOE, INITIAL ENCOUNTER  \n",
       "893                                            WEAKNESS  \n",
       "1396                               LEFT INGUINAL HERNIA  \n",
       "1411                           SURGICAL WOUND INFECTION  \n",
       "3400  ABDOMINAL HERNIA WITHOUT OBSTRUCTION AND WITHO...  \n",
       "3980                                    WOUND DISCHARGE  \n",
       "4131                                SHORTNESS OF BREATH  \n",
       "4389               OPEN WOUND OF TOE, INITIAL ENCOUNTER  \n",
       "4412                                LEFT FOOT INFECTION  \n",
       "4725                                   WOUND CELLULITIS  \n",
       "4801         OPEN WOUND OF LEFT FOOT, INITIAL ENCOUNTER  \n",
       "4820  UMBILICAL HERNIA WITHOUT OBSTRUCTION AND WITHO...  \n",
       "4934  SEPSIS, DUE TO UNSPECIFIED ORGANISM, UNSPECIFI...  \n",
       "4942                                    WOUND INFECTION  \n",
       "5166   WOUND OF LEFT LOWER EXTREMITY, INITIAL ENCOUNTER  \n",
       "5397                                    WOUND INFECTION  \n",
       "5420  WOUND OF BUTTOCK, UNSPECIFIED LATERALITY, INIT...  \n",
       "5510               OPEN WOUND OF TOE, INITIAL ENCOUNTER  \n",
       "5590   WOUND OF LEFT UPPER EXTREMITY, INITIAL ENCOUNTER  \n",
       "5866      DECUBITUS ULCER OF SACRAL REGION, STAGE 4 (*)  \n",
       "6409                                     LEFT FOOT PAIN  \n",
       "7584        OPEN WOUND OF RIGHT FOOT, INITIAL ENCOUNTER  \n",
       "7777                          GANGRENE OF LEFT FOOT (*)  \n",
       "8492                                  URETHRAL BLEEDING  \n",
       "9160                                   PLEURAL EFFUSION  \n",
       "9585                                    WOUND INFECTION  "
      ]
     },
     "execution_count": 26,
     "metadata": {},
     "output_type": "execute_result"
    }
   ],
   "source": [
    "df_rwb.loc[cc_len==2, ['CC', 'Primary Dx', 'Primary ED Dx']]"
   ]
  },
  {
   "cell_type": "code",
   "execution_count": 4,
   "id": "13b33edc-e0e9-4c64-9297-af75514ce450",
   "metadata": {},
   "outputs": [],
   "source": [
    "pattern = r'\\((\\d+)Y/O\\s([MF])\\)'"
   ]
  },
  {
   "cell_type": "code",
   "execution_count": 5,
   "id": "115428a3-ef43-491f-9f17-d80e27e6071d",
   "metadata": {},
   "outputs": [],
   "source": [
    "df_rwb[['Patient_Age', 'Sex']] = df_rwb['Patient Name/Age/Gender'].str.extract(pattern)\n",
    "df_rwb['Patient_Age'] = df_rwb['Patient_Age'].astype(float)"
   ]
  },
  {
   "cell_type": "code",
   "execution_count": 6,
   "id": "1fc92ac1-3980-42f2-9f07-4b9160462dd3",
   "metadata": {},
   "outputs": [],
   "source": [
    "start_time = pd.Timestamp('1840-12-31 00:00:00')"
   ]
  },
  {
   "cell_type": "code",
   "execution_count": 7,
   "id": "783deeb2-d023-463a-93d2-ace682615761",
   "metadata": {},
   "outputs": [
    {
     "ename": "ValueError",
     "evalue": "invalid literal for int() with base 10: '5791375885[CDT'",
     "output_type": "error",
     "traceback": [
      "\u001b[0;31m---------------------------------------------------------------------------\u001b[0m",
      "\u001b[0;31mValueError\u001b[0m                                Traceback (most recent call last)",
      "Cell \u001b[0;32mIn[7], line 1\u001b[0m\n\u001b[0;32m----> 1\u001b[0m df_rwb[\u001b[38;5;124m'\u001b[39m\u001b[38;5;124mArrived_Time\u001b[39m\u001b[38;5;124m'\u001b[39m] \u001b[38;5;241m=\u001b[39m start_time\u001b[38;5;241m+\u001b[39mpd\u001b[38;5;241m.\u001b[39mto_timedelta(\u001b[43mdf_rwb\u001b[49m\u001b[43m[\u001b[49m\u001b[38;5;124;43m'\u001b[39;49m\u001b[38;5;124;43mArrived\u001b[39;49m\u001b[38;5;124;43m'\u001b[39;49m\u001b[43m]\u001b[49m\u001b[38;5;241;43m.\u001b[39;49m\u001b[43mastype\u001b[49m\u001b[43m(\u001b[49m\u001b[38;5;28;43mint\u001b[39;49m\u001b[43m)\u001b[49m, unit\u001b[38;5;241m=\u001b[39m\u001b[38;5;124m'\u001b[39m\u001b[38;5;124ms\u001b[39m\u001b[38;5;124m'\u001b[39m)\n",
      "File \u001b[0;32m~/.conda/envs/ED/lib/python3.10/site-packages/pandas/core/generic.py:6240\u001b[0m, in \u001b[0;36mNDFrame.astype\u001b[0;34m(self, dtype, copy, errors)\u001b[0m\n\u001b[1;32m   6233\u001b[0m     results \u001b[38;5;241m=\u001b[39m [\n\u001b[1;32m   6234\u001b[0m         \u001b[38;5;28mself\u001b[39m\u001b[38;5;241m.\u001b[39miloc[:, i]\u001b[38;5;241m.\u001b[39mastype(dtype, copy\u001b[38;5;241m=\u001b[39mcopy)\n\u001b[1;32m   6235\u001b[0m         \u001b[38;5;28;01mfor\u001b[39;00m i \u001b[38;5;129;01min\u001b[39;00m \u001b[38;5;28mrange\u001b[39m(\u001b[38;5;28mlen\u001b[39m(\u001b[38;5;28mself\u001b[39m\u001b[38;5;241m.\u001b[39mcolumns))\n\u001b[1;32m   6236\u001b[0m     ]\n\u001b[1;32m   6238\u001b[0m \u001b[38;5;28;01melse\u001b[39;00m:\n\u001b[1;32m   6239\u001b[0m     \u001b[38;5;66;03m# else, only a single dtype is given\u001b[39;00m\n\u001b[0;32m-> 6240\u001b[0m     new_data \u001b[38;5;241m=\u001b[39m \u001b[38;5;28;43mself\u001b[39;49m\u001b[38;5;241;43m.\u001b[39;49m\u001b[43m_mgr\u001b[49m\u001b[38;5;241;43m.\u001b[39;49m\u001b[43mastype\u001b[49m\u001b[43m(\u001b[49m\u001b[43mdtype\u001b[49m\u001b[38;5;241;43m=\u001b[39;49m\u001b[43mdtype\u001b[49m\u001b[43m,\u001b[49m\u001b[43m \u001b[49m\u001b[43mcopy\u001b[49m\u001b[38;5;241;43m=\u001b[39;49m\u001b[43mcopy\u001b[49m\u001b[43m,\u001b[49m\u001b[43m \u001b[49m\u001b[43merrors\u001b[49m\u001b[38;5;241;43m=\u001b[39;49m\u001b[43merrors\u001b[49m\u001b[43m)\u001b[49m\n\u001b[1;32m   6241\u001b[0m     \u001b[38;5;28;01mreturn\u001b[39;00m \u001b[38;5;28mself\u001b[39m\u001b[38;5;241m.\u001b[39m_constructor(new_data)\u001b[38;5;241m.\u001b[39m__finalize__(\u001b[38;5;28mself\u001b[39m, method\u001b[38;5;241m=\u001b[39m\u001b[38;5;124m\"\u001b[39m\u001b[38;5;124mastype\u001b[39m\u001b[38;5;124m\"\u001b[39m)\n\u001b[1;32m   6243\u001b[0m \u001b[38;5;66;03m# GH 33113: handle empty frame or series\u001b[39;00m\n",
      "File \u001b[0;32m~/.conda/envs/ED/lib/python3.10/site-packages/pandas/core/internals/managers.py:448\u001b[0m, in \u001b[0;36mBaseBlockManager.astype\u001b[0;34m(self, dtype, copy, errors)\u001b[0m\n\u001b[1;32m    447\u001b[0m \u001b[38;5;28;01mdef\u001b[39;00m \u001b[38;5;21mastype\u001b[39m(\u001b[38;5;28mself\u001b[39m: T, dtype, copy: \u001b[38;5;28mbool\u001b[39m \u001b[38;5;241m=\u001b[39m \u001b[38;5;28;01mFalse\u001b[39;00m, errors: \u001b[38;5;28mstr\u001b[39m \u001b[38;5;241m=\u001b[39m \u001b[38;5;124m\"\u001b[39m\u001b[38;5;124mraise\u001b[39m\u001b[38;5;124m\"\u001b[39m) \u001b[38;5;241m-\u001b[39m\u001b[38;5;241m>\u001b[39m T:\n\u001b[0;32m--> 448\u001b[0m     \u001b[38;5;28;01mreturn\u001b[39;00m \u001b[38;5;28;43mself\u001b[39;49m\u001b[38;5;241;43m.\u001b[39;49m\u001b[43mapply\u001b[49m\u001b[43m(\u001b[49m\u001b[38;5;124;43m\"\u001b[39;49m\u001b[38;5;124;43mastype\u001b[39;49m\u001b[38;5;124;43m\"\u001b[39;49m\u001b[43m,\u001b[49m\u001b[43m \u001b[49m\u001b[43mdtype\u001b[49m\u001b[38;5;241;43m=\u001b[39;49m\u001b[43mdtype\u001b[49m\u001b[43m,\u001b[49m\u001b[43m \u001b[49m\u001b[43mcopy\u001b[49m\u001b[38;5;241;43m=\u001b[39;49m\u001b[43mcopy\u001b[49m\u001b[43m,\u001b[49m\u001b[43m \u001b[49m\u001b[43merrors\u001b[49m\u001b[38;5;241;43m=\u001b[39;49m\u001b[43merrors\u001b[49m\u001b[43m)\u001b[49m\n",
      "File \u001b[0;32m~/.conda/envs/ED/lib/python3.10/site-packages/pandas/core/internals/managers.py:352\u001b[0m, in \u001b[0;36mBaseBlockManager.apply\u001b[0;34m(self, f, align_keys, ignore_failures, **kwargs)\u001b[0m\n\u001b[1;32m    350\u001b[0m         applied \u001b[38;5;241m=\u001b[39m b\u001b[38;5;241m.\u001b[39mapply(f, \u001b[38;5;241m*\u001b[39m\u001b[38;5;241m*\u001b[39mkwargs)\n\u001b[1;32m    351\u001b[0m     \u001b[38;5;28;01melse\u001b[39;00m:\n\u001b[0;32m--> 352\u001b[0m         applied \u001b[38;5;241m=\u001b[39m \u001b[38;5;28;43mgetattr\u001b[39;49m\u001b[43m(\u001b[49m\u001b[43mb\u001b[49m\u001b[43m,\u001b[49m\u001b[43m \u001b[49m\u001b[43mf\u001b[49m\u001b[43m)\u001b[49m\u001b[43m(\u001b[49m\u001b[38;5;241;43m*\u001b[39;49m\u001b[38;5;241;43m*\u001b[39;49m\u001b[43mkwargs\u001b[49m\u001b[43m)\u001b[49m\n\u001b[1;32m    353\u001b[0m \u001b[38;5;28;01mexcept\u001b[39;00m (\u001b[38;5;167;01mTypeError\u001b[39;00m, \u001b[38;5;167;01mNotImplementedError\u001b[39;00m):\n\u001b[1;32m    354\u001b[0m     \u001b[38;5;28;01mif\u001b[39;00m \u001b[38;5;129;01mnot\u001b[39;00m ignore_failures:\n",
      "File \u001b[0;32m~/.conda/envs/ED/lib/python3.10/site-packages/pandas/core/internals/blocks.py:526\u001b[0m, in \u001b[0;36mBlock.astype\u001b[0;34m(self, dtype, copy, errors)\u001b[0m\n\u001b[1;32m    508\u001b[0m \u001b[38;5;250m\u001b[39m\u001b[38;5;124;03m\"\"\"\u001b[39;00m\n\u001b[1;32m    509\u001b[0m \u001b[38;5;124;03mCoerce to the new dtype.\u001b[39;00m\n\u001b[1;32m    510\u001b[0m \n\u001b[0;32m   (...)\u001b[0m\n\u001b[1;32m    522\u001b[0m \u001b[38;5;124;03mBlock\u001b[39;00m\n\u001b[1;32m    523\u001b[0m \u001b[38;5;124;03m\"\"\"\u001b[39;00m\n\u001b[1;32m    524\u001b[0m values \u001b[38;5;241m=\u001b[39m \u001b[38;5;28mself\u001b[39m\u001b[38;5;241m.\u001b[39mvalues\n\u001b[0;32m--> 526\u001b[0m new_values \u001b[38;5;241m=\u001b[39m \u001b[43mastype_array_safe\u001b[49m\u001b[43m(\u001b[49m\u001b[43mvalues\u001b[49m\u001b[43m,\u001b[49m\u001b[43m \u001b[49m\u001b[43mdtype\u001b[49m\u001b[43m,\u001b[49m\u001b[43m \u001b[49m\u001b[43mcopy\u001b[49m\u001b[38;5;241;43m=\u001b[39;49m\u001b[43mcopy\u001b[49m\u001b[43m,\u001b[49m\u001b[43m \u001b[49m\u001b[43merrors\u001b[49m\u001b[38;5;241;43m=\u001b[39;49m\u001b[43merrors\u001b[49m\u001b[43m)\u001b[49m\n\u001b[1;32m    528\u001b[0m new_values \u001b[38;5;241m=\u001b[39m maybe_coerce_values(new_values)\n\u001b[1;32m    529\u001b[0m newb \u001b[38;5;241m=\u001b[39m \u001b[38;5;28mself\u001b[39m\u001b[38;5;241m.\u001b[39mmake_block(new_values)\n",
      "File \u001b[0;32m~/.conda/envs/ED/lib/python3.10/site-packages/pandas/core/dtypes/astype.py:299\u001b[0m, in \u001b[0;36mastype_array_safe\u001b[0;34m(values, dtype, copy, errors)\u001b[0m\n\u001b[1;32m    296\u001b[0m     \u001b[38;5;28;01mreturn\u001b[39;00m values\u001b[38;5;241m.\u001b[39mcopy()\n\u001b[1;32m    298\u001b[0m \u001b[38;5;28;01mtry\u001b[39;00m:\n\u001b[0;32m--> 299\u001b[0m     new_values \u001b[38;5;241m=\u001b[39m \u001b[43mastype_array\u001b[49m\u001b[43m(\u001b[49m\u001b[43mvalues\u001b[49m\u001b[43m,\u001b[49m\u001b[43m \u001b[49m\u001b[43mdtype\u001b[49m\u001b[43m,\u001b[49m\u001b[43m \u001b[49m\u001b[43mcopy\u001b[49m\u001b[38;5;241;43m=\u001b[39;49m\u001b[43mcopy\u001b[49m\u001b[43m)\u001b[49m\n\u001b[1;32m    300\u001b[0m \u001b[38;5;28;01mexcept\u001b[39;00m (\u001b[38;5;167;01mValueError\u001b[39;00m, \u001b[38;5;167;01mTypeError\u001b[39;00m):\n\u001b[1;32m    301\u001b[0m     \u001b[38;5;66;03m# e.g. astype_nansafe can fail on object-dtype of strings\u001b[39;00m\n\u001b[1;32m    302\u001b[0m     \u001b[38;5;66;03m#  trying to convert to float\u001b[39;00m\n\u001b[1;32m    303\u001b[0m     \u001b[38;5;28;01mif\u001b[39;00m errors \u001b[38;5;241m==\u001b[39m \u001b[38;5;124m\"\u001b[39m\u001b[38;5;124mignore\u001b[39m\u001b[38;5;124m\"\u001b[39m:\n",
      "File \u001b[0;32m~/.conda/envs/ED/lib/python3.10/site-packages/pandas/core/dtypes/astype.py:230\u001b[0m, in \u001b[0;36mastype_array\u001b[0;34m(values, dtype, copy)\u001b[0m\n\u001b[1;32m    227\u001b[0m     values \u001b[38;5;241m=\u001b[39m values\u001b[38;5;241m.\u001b[39mastype(dtype, copy\u001b[38;5;241m=\u001b[39mcopy)\n\u001b[1;32m    229\u001b[0m \u001b[38;5;28;01melse\u001b[39;00m:\n\u001b[0;32m--> 230\u001b[0m     values \u001b[38;5;241m=\u001b[39m \u001b[43mastype_nansafe\u001b[49m\u001b[43m(\u001b[49m\u001b[43mvalues\u001b[49m\u001b[43m,\u001b[49m\u001b[43m \u001b[49m\u001b[43mdtype\u001b[49m\u001b[43m,\u001b[49m\u001b[43m \u001b[49m\u001b[43mcopy\u001b[49m\u001b[38;5;241;43m=\u001b[39;49m\u001b[43mcopy\u001b[49m\u001b[43m)\u001b[49m\n\u001b[1;32m    232\u001b[0m \u001b[38;5;66;03m# in pandas we don't store numpy str dtypes, so convert to object\u001b[39;00m\n\u001b[1;32m    233\u001b[0m \u001b[38;5;28;01mif\u001b[39;00m \u001b[38;5;28misinstance\u001b[39m(dtype, np\u001b[38;5;241m.\u001b[39mdtype) \u001b[38;5;129;01mand\u001b[39;00m \u001b[38;5;28missubclass\u001b[39m(values\u001b[38;5;241m.\u001b[39mdtype\u001b[38;5;241m.\u001b[39mtype, \u001b[38;5;28mstr\u001b[39m):\n",
      "File \u001b[0;32m~/.conda/envs/ED/lib/python3.10/site-packages/pandas/core/dtypes/astype.py:170\u001b[0m, in \u001b[0;36mastype_nansafe\u001b[0;34m(arr, dtype, copy, skipna)\u001b[0m\n\u001b[1;32m    166\u001b[0m     \u001b[38;5;28;01mraise\u001b[39;00m \u001b[38;5;167;01mValueError\u001b[39;00m(msg)\n\u001b[1;32m    168\u001b[0m \u001b[38;5;28;01mif\u001b[39;00m copy \u001b[38;5;129;01mor\u001b[39;00m is_object_dtype(arr\u001b[38;5;241m.\u001b[39mdtype) \u001b[38;5;129;01mor\u001b[39;00m is_object_dtype(dtype):\n\u001b[1;32m    169\u001b[0m     \u001b[38;5;66;03m# Explicit copy, or required since NumPy can't view from / to object.\u001b[39;00m\n\u001b[0;32m--> 170\u001b[0m     \u001b[38;5;28;01mreturn\u001b[39;00m \u001b[43marr\u001b[49m\u001b[38;5;241;43m.\u001b[39;49m\u001b[43mastype\u001b[49m\u001b[43m(\u001b[49m\u001b[43mdtype\u001b[49m\u001b[43m,\u001b[49m\u001b[43m \u001b[49m\u001b[43mcopy\u001b[49m\u001b[38;5;241;43m=\u001b[39;49m\u001b[38;5;28;43;01mTrue\u001b[39;49;00m\u001b[43m)\u001b[49m\n\u001b[1;32m    172\u001b[0m \u001b[38;5;28;01mreturn\u001b[39;00m arr\u001b[38;5;241m.\u001b[39mastype(dtype, copy\u001b[38;5;241m=\u001b[39mcopy)\n",
      "\u001b[0;31mValueError\u001b[0m: invalid literal for int() with base 10: '5791375885[CDT'"
     ]
    }
   ],
   "source": [
    "df_rwb['Arrived_Time'] = start_time+pd.to_timedelta(df_rwb['Arrived'].astype(int), unit='s')"
   ]
  },
  {
   "cell_type": "code",
   "execution_count": null,
   "id": "2ef754d7-e26f-4a41-be45-cfc2a91581b0",
   "metadata": {},
   "outputs": [],
   "source": [
    "df_rwb['Arrived_Time']"
   ]
  },
  {
   "cell_type": "code",
   "execution_count": 164,
   "id": "e4d160e8-3bac-47b9-8566-3a9eb816e83b",
   "metadata": {},
   "outputs": [],
   "source": [
    "df_rwb['Race'] = df_rwb['Race'].apply(lambda x: x.split('\\n')[0] if isinstance(x, str) and len(x.split('\\n'))>1 else x)"
   ]
  },
  {
   "cell_type": "code",
   "execution_count": 165,
   "id": "36c71fbc-8cbb-44ab-a3e5-3f286ca7581b",
   "metadata": {},
   "outputs": [],
   "source": [
    "df_rwb = df_rwb.sort_values(by='Arrived_Time', ascending=False)\n"
   ]
  },
  {
   "cell_type": "code",
   "execution_count": 166,
   "id": "e2f69168-8d6d-45d0-8400-edfe9034bbac",
   "metadata": {},
   "outputs": [],
   "source": [
    "df_rwb.rename(columns={\n",
    "    'CSN':'PAT_ENC_CSN_ID',\n",
    "    'Unnamed: 0': 'index'\n",
    "}, inplace=True)"
   ]
  },
  {
   "cell_type": "code",
   "execution_count": 167,
   "id": "4f91da55-a08f-4521-99ce-e74f4425a16d",
   "metadata": {},
   "outputs": [],
   "source": [
    "df_rwb = df_rwb.drop(columns=['Acuity', 'Arrival Time', 'Patient Name/Age/Gender'])"
   ]
  },
  {
   "cell_type": "code",
   "execution_count": 83,
   "id": "085d37ec-7e54-472e-901e-e5451e1a0971",
   "metadata": {},
   "outputs": [],
   "source": [
    "# df_rwb['has_admit'] = 0\n",
    "# df_rwb.loc[df_rwb['ED Disposition'].isnull(), 'has_admit'] = np.nan\n",
    "# df_rwb.loc[df_rwb['ED Disposition']=='ADMITTED', 'has_admit'] = 1"
   ]
  },
  {
   "cell_type": "code",
   "execution_count": 84,
   "id": "a9c959ea-e5a9-44dc-a56e-41dc086ae9b2",
   "metadata": {},
   "outputs": [],
   "source": [
    "# df_rwb['has_admit'].value_counts()"
   ]
  },
  {
   "cell_type": "code",
   "execution_count": 85,
   "id": "043059a6-cb5f-420b-96e9-9322b6eba643",
   "metadata": {},
   "outputs": [],
   "source": [
    "# df_rwb.drop(columns=['ED Disposition'], inplace=True)"
   ]
  },
  {
   "cell_type": "markdown",
   "id": "efe0ec91-bbce-4def-9aad-a50ad83a44e1",
   "metadata": {},
   "source": [
    "# Make sure that every column has the same space of values of the data I have"
   ]
  },
  {
   "cell_type": "code",
   "execution_count": 2,
   "id": "c5c38cbb-df55-42b6-a777-dc4a082b8f4c",
   "metadata": {},
   "outputs": [],
   "source": [
    "df_o = pl.read_parquet('/work/InternalMedicine/s223850/ED-StaticDynamic/raw_data/ED Events Last 2 Years - compiled 6.6.24.parquet')"
   ]
  },
  {
   "cell_type": "code",
   "execution_count": 5,
   "id": "2f44d4b8-8477-4bce-800e-6ecb53c4c78b",
   "metadata": {},
   "outputs": [],
   "source": [
    "pats = np.random.choice(df_o['PAT_ENC_CSN_ID'].unique(), 10, replace=False)"
   ]
  },
  {
   "cell_type": "code",
   "execution_count": 8,
   "id": "9a16d09b-7cc9-4113-baea-206fa4a61039",
   "metadata": {},
   "outputs": [],
   "source": [
    "dff = df_o.filter(pl.col(\"PAT_ENC_CSN_ID\").is_in(pats))"
   ]
  },
  {
   "cell_type": "code",
   "execution_count": 10,
   "id": "f148e454-c3d3-4e8b-9ad6-2663ac2a7962",
   "metadata": {},
   "outputs": [],
   "source": [
    "dff.sort(by=['Arrived_Time', 'Calculated_DateTime']).write_csv('sample_original_data_10CSN.csv')"
   ]
  },
  {
   "cell_type": "code",
   "execution_count": 17,
   "id": "a19629da-d385-44c5-9c49-084fe8471ac7",
   "metadata": {},
   "outputs": [],
   "source": [
    "all_cc_list = df_o['Chief_Complaint_All'].to_pandas().str.split(',')"
   ]
  },
  {
   "cell_type": "code",
   "execution_count": 86,
   "id": "dfe9708e-88f0-4eda-8204-87e8b7ba178b",
   "metadata": {},
   "outputs": [],
   "source": [
    "cc_orig = []\n",
    "for d_list in all_cc_list:\n",
    "    if d_list is None:\n",
    "        continue\n",
    "    cc_orig.extend(d_list)\n",
    "    "
   ]
  },
  {
   "cell_type": "code",
   "execution_count": 87,
   "id": "806ec2ba-45b2-45d5-9e37-5ec801e83260",
   "metadata": {},
   "outputs": [],
   "source": [
    "all_cc_RWB = df_rwb['CC'].str.split(';')"
   ]
  },
  {
   "cell_type": "code",
   "execution_count": 88,
   "id": "ca7c962e-d08c-4243-aba5-b47760e73e32",
   "metadata": {},
   "outputs": [],
   "source": [
    "cc_RWB = []\n",
    "for d_list in all_cc_RWB:\n",
    "    if d_list is None or isinstance(d_list, float):\n",
    "        continue\n",
    "    cc_RWB.extend(d_list)"
   ]
  },
  {
   "cell_type": "code",
   "execution_count": 89,
   "id": "d6d091b1-4dd7-4e55-9603-3caaa161be2a",
   "metadata": {
    "scrolled": true
   },
   "outputs": [],
   "source": [
    "cc_RWB = list(map(lambda x: x.strip(), cc_RWB))\n",
    "cc_orig = list(map(lambda x: x.strip(), cc_orig))"
   ]
  },
  {
   "cell_type": "code",
   "execution_count": 90,
   "id": "e7c60ffa-89e5-4cc4-aa84-ddad12c65b3b",
   "metadata": {
    "scrolled": true
   },
   "outputs": [],
   "source": [
    "cc_RWB_norm = list(map(lambda x: re.sub(f'[^a-zA-Z0-9_-]+', '', x), cc_RWB))\n",
    "cc_orig_norm = list(map(lambda x: re.sub(f'[^a-zA-Z0-9_-]+', '', x), cc_orig))"
   ]
  },
  {
   "cell_type": "code",
   "execution_count": 91,
   "id": "f7b87875-44c7-4e77-b2a4-d8b69d6e977d",
   "metadata": {},
   "outputs": [],
   "source": [
    "cc_RWB_norm_uniq = np.unique(cc_RWB_norm)\n",
    "cc_orig_norm_uniq = np.unique(cc_orig_norm)\n"
   ]
  },
  {
   "cell_type": "code",
   "execution_count": 92,
   "id": "759b095b-c5d5-491f-b7cf-7664bca42c51",
   "metadata": {},
   "outputs": [
    {
     "name": "stdout",
     "output_type": "stream",
     "text": [
      "ARMSWELLINGREDNESS\n",
      "BPELEVATED176103TINGLINGINBOTHARMSSOA27WEEKSPREGNANTBPELEVATED176103TINGLINGINBOTHARMSSOA27WEEKSPREGNANT\n",
      "BUTTOCKPAIN\n",
      "CTCSAFTERHOURSCALLCTCSAFTERHOURSCALL\n",
      "DIFFICULTYBREATHING\n",
      "GASTROESOPHOGEALREFLUX\n",
      "HERNIAINGUINAL\n",
      "HERNIAUMBILICAL\n",
      "MEDICALQUESTIONPROBLEMPOST-PARTUMCOMPLICATIONSMEDICALQUESTIONPROBLEMPOST-PARTUMCOMPLICATIONSSHORTNESSOFAIRWITHANYEXERTIONINCREASEINEDEMAFROMTHEKNEESDOWNPRESSUREINHERCHESTPOSTOPERATIVEC-SECTION8212024\n",
      "PAINFULMENSES\n",
      "PERITONEALFLUIDINFECTION\n",
      "RULEOUTPRETERMLABOR\n",
      "SICKLECELL\n",
      "URINARYTRACTINFECTION\n",
      "WOUNDINFECTIONSURGICAL\n",
      "WOUNDNONHEALING\n"
     ]
    }
   ],
   "source": [
    "included = 0\n",
    "excluded = 0\n",
    "for v in cc_RWB_norm_uniq:\n",
    "    if v not in cc_orig_norm_uniq:\n",
    "        print(v)\n",
    "        excluded += 1\n",
    "    else:\n",
    "        included +=1"
   ]
  },
  {
   "cell_type": "code",
   "execution_count": 95,
   "id": "f512bf15-d4e2-4960-8659-4257b0cbcef1",
   "metadata": {},
   "outputs": [
    {
     "data": {
      "text/plain": [
       "(287, 16, 303)"
      ]
     },
     "execution_count": 95,
     "metadata": {},
     "output_type": "execute_result"
    }
   ],
   "source": [
    "included, excluded, len(cc_RWB_norm_uniq)"
   ]
  },
  {
   "cell_type": "code",
   "execution_count": 96,
   "id": "08753904-bc2d-4662-8000-75227ddbadaa",
   "metadata": {},
   "outputs": [
    {
     "name": "stdout",
     "output_type": "stream",
     "text": [
      "SICKLECELLCRISIS\n"
     ]
    }
   ],
   "source": [
    "for v in cc_orig_norm_uniq:\n",
    "    if 'sickle' in v.lower():\n",
    "        print(v)"
   ]
  },
  {
   "cell_type": "code",
   "execution_count": 97,
   "id": "df1ce27c-e159-4c94-b71b-d6043070a7d6",
   "metadata": {
    "scrolled": true
   },
   "outputs": [
    {
     "name": "stdout",
     "output_type": "stream",
     "text": [
      "ARMSWELLING\n"
     ]
    }
   ],
   "source": [
    "for v in cc_orig_norm_uniq:\n",
    "    if 'arms' in v.lower():\n",
    "        print(v)\n"
   ]
  },
  {
   "cell_type": "code",
   "execution_count": 98,
   "id": "8ea26f2b-aaf2-4de6-a20d-c8c70974aeba",
   "metadata": {},
   "outputs": [
    {
     "name": "stdout",
     "output_type": "stream",
     "text": [
      "LOSSOFMOTORCONTROL\n",
      "MOTORCYCLECRASH\n",
      "MOTORVEHICLECRASH\n",
      "MOTORVEHICLEVERSUSPEDESTRIAN\n"
     ]
    }
   ],
   "source": [
    "for v in cc_orig_norm_uniq:\n",
    "    if 'motor' in v.lower():\n",
    "        print(v)\n"
   ]
  },
  {
   "cell_type": "markdown",
   "id": "dbc2a9bd-be0c-4825-abf2-7ac87a9bf361",
   "metadata": {},
   "source": [
    "# Conclusion\n",
    "Out of the 303 unique chief_complaints, there are 287 matches the CC I have in the original data.\n",
    "Is there a ZC table for CC?"
   ]
  },
  {
   "cell_type": "code",
   "execution_count": 99,
   "id": "21aec170-0642-4b74-8752-15b0b95d24fa",
   "metadata": {},
   "outputs": [
    {
     "data": {
      "text/html": [
       "<div>\n",
       "<style scoped>\n",
       "    .dataframe tbody tr th:only-of-type {\n",
       "        vertical-align: middle;\n",
       "    }\n",
       "\n",
       "    .dataframe tbody tr th {\n",
       "        vertical-align: top;\n",
       "    }\n",
       "\n",
       "    .dataframe thead th {\n",
       "        text-align: right;\n",
       "    }\n",
       "</style>\n",
       "<table border=\"1\" class=\"dataframe\">\n",
       "  <thead>\n",
       "    <tr style=\"text-align: right;\">\n",
       "      <th></th>\n",
       "      <th>index</th>\n",
       "      <th>Race</th>\n",
       "      <th>Acuity Abbr</th>\n",
       "      <th>Arrival Method</th>\n",
       "      <th>CC</th>\n",
       "      <th>PAT_ENC_CSN_ID</th>\n",
       "      <th>ED Disposition</th>\n",
       "      <th>Ethnicity</th>\n",
       "      <th>Primary Dx</th>\n",
       "      <th>Primary ED Dx</th>\n",
       "      <th>Primary FC</th>\n",
       "      <th>Arrv Date/Time</th>\n",
       "      <th>Patient_Age</th>\n",
       "      <th>Sex</th>\n",
       "      <th>Arrived_Time</th>\n",
       "    </tr>\n",
       "  </thead>\n",
       "  <tbody>\n",
       "    <tr>\n",
       "      <th>5208</th>\n",
       "      <td>5209</td>\n",
       "      <td>5</td>\n",
       "      <td>III</td>\n",
       "      <td>5.0</td>\n",
       "      <td>BACK PAIN</td>\n",
       "      <td>713267364</td>\n",
       "      <td>NaN</td>\n",
       "      <td>3.0</td>\n",
       "      <td>NaN</td>\n",
       "      <td>NaN</td>\n",
       "      <td>101.0</td>\n",
       "      <td>5.799170e+09</td>\n",
       "      <td>39.0</td>\n",
       "      <td>F</td>\n",
       "      <td>2024-10-07 00:29:00</td>\n",
       "    </tr>\n",
       "    <tr>\n",
       "      <th>5207</th>\n",
       "      <td>5208</td>\n",
       "      <td>3</td>\n",
       "      <td>II</td>\n",
       "      <td>5.0</td>\n",
       "      <td>SICKLE CELL</td>\n",
       "      <td>713267340</td>\n",
       "      <td>NaN</td>\n",
       "      <td>13.0</td>\n",
       "      <td>SICKLE CELL ANEMIA WITH PAIN (*)</td>\n",
       "      <td>SICKLE CELL ANEMIA WITH PAIN (*)</td>\n",
       "      <td>107.0</td>\n",
       "      <td>5.799170e+09</td>\n",
       "      <td>34.0</td>\n",
       "      <td>M</td>\n",
       "      <td>2024-10-07 00:25:00</td>\n",
       "    </tr>\n",
       "    <tr>\n",
       "      <th>5206</th>\n",
       "      <td>5207</td>\n",
       "      <td>NaN</td>\n",
       "      <td>III</td>\n",
       "      <td>5.0</td>\n",
       "      <td>SHOULDER INJURY</td>\n",
       "      <td>713267205</td>\n",
       "      <td>DISCHARGED</td>\n",
       "      <td>NaN</td>\n",
       "      <td>ACUTE PAIN OF LEFT SHOULDER</td>\n",
       "      <td>ACUTE PAIN OF LEFT SHOULDER</td>\n",
       "      <td>NaN</td>\n",
       "      <td>5.799168e+09</td>\n",
       "      <td>31.0</td>\n",
       "      <td>M</td>\n",
       "      <td>2024-10-07 00:08:00</td>\n",
       "    </tr>\n",
       "    <tr>\n",
       "      <th>5205</th>\n",
       "      <td>5206</td>\n",
       "      <td>5</td>\n",
       "      <td>III</td>\n",
       "      <td>5.0</td>\n",
       "      <td>ABDOMINAL PAIN</td>\n",
       "      <td>713267114</td>\n",
       "      <td>NaN</td>\n",
       "      <td>3.0</td>\n",
       "      <td>ABDOMINAL PAIN, UNSPECIFIED ABDOMINAL LOCATION</td>\n",
       "      <td>ABDOMINAL PAIN, UNSPECIFIED ABDOMINAL LOCATION</td>\n",
       "      <td>NaN</td>\n",
       "      <td>5.799168e+09</td>\n",
       "      <td>29.0</td>\n",
       "      <td>M</td>\n",
       "      <td>2024-10-06 23:58:00</td>\n",
       "    </tr>\n",
       "    <tr>\n",
       "      <th>5204</th>\n",
       "      <td>5205</td>\n",
       "      <td>5</td>\n",
       "      <td>II</td>\n",
       "      <td>5.0</td>\n",
       "      <td>RECTAL PROBLEM</td>\n",
       "      <td>713267004</td>\n",
       "      <td>NaN</td>\n",
       "      <td>3.0</td>\n",
       "      <td>DIARRHEA, UNSPECIFIED TYPE</td>\n",
       "      <td>DIARRHEA, UNSPECIFIED TYPE</td>\n",
       "      <td>2.0</td>\n",
       "      <td>5.799167e+09</td>\n",
       "      <td>64.0</td>\n",
       "      <td>M</td>\n",
       "      <td>2024-10-06 23:36:00</td>\n",
       "    </tr>\n",
       "  </tbody>\n",
       "</table>\n",
       "</div>"
      ],
      "text/plain": [
       "      index Race Acuity Abbr  Arrival Method               CC  PAT_ENC_CSN_ID  \\\n",
       "5208   5209    5         III             5.0        BACK PAIN       713267364   \n",
       "5207   5208    3          II             5.0      SICKLE CELL       713267340   \n",
       "5206   5207  NaN         III             5.0  SHOULDER INJURY       713267205   \n",
       "5205   5206    5         III             5.0   ABDOMINAL PAIN       713267114   \n",
       "5204   5205    5          II             5.0   RECTAL PROBLEM       713267004   \n",
       "\n",
       "     ED Disposition  Ethnicity  \\\n",
       "5208            NaN        3.0   \n",
       "5207            NaN       13.0   \n",
       "5206     DISCHARGED        NaN   \n",
       "5205            NaN        3.0   \n",
       "5204            NaN        3.0   \n",
       "\n",
       "                                          Primary Dx  \\\n",
       "5208                                             NaN   \n",
       "5207                SICKLE CELL ANEMIA WITH PAIN (*)   \n",
       "5206                     ACUTE PAIN OF LEFT SHOULDER   \n",
       "5205  ABDOMINAL PAIN, UNSPECIFIED ABDOMINAL LOCATION   \n",
       "5204                      DIARRHEA, UNSPECIFIED TYPE   \n",
       "\n",
       "                                       Primary ED Dx  Primary FC  \\\n",
       "5208                                             NaN       101.0   \n",
       "5207                SICKLE CELL ANEMIA WITH PAIN (*)       107.0   \n",
       "5206                     ACUTE PAIN OF LEFT SHOULDER         NaN   \n",
       "5205  ABDOMINAL PAIN, UNSPECIFIED ABDOMINAL LOCATION         NaN   \n",
       "5204                      DIARRHEA, UNSPECIFIED TYPE         2.0   \n",
       "\n",
       "      Arrv Date/Time  Patient_Age Sex        Arrived_Time  \n",
       "5208    5.799170e+09         39.0   F 2024-10-07 00:29:00  \n",
       "5207    5.799170e+09         34.0   M 2024-10-07 00:25:00  \n",
       "5206    5.799168e+09         31.0   M 2024-10-07 00:08:00  \n",
       "5205    5.799168e+09         29.0   M 2024-10-06 23:58:00  \n",
       "5204    5.799167e+09         64.0   M 2024-10-06 23:36:00  "
      ]
     },
     "execution_count": 99,
     "metadata": {},
     "output_type": "execute_result"
    }
   ],
   "source": [
    "df_rwb.head()"
   ]
  },
  {
   "cell_type": "code",
   "execution_count": 18,
   "id": "e20cae38-d61a-41cf-84e0-83d5c293ac52",
   "metadata": {},
   "outputs": [
    {
     "data": {
      "text/plain": [
       "Index(['index', 'Race', 'Acuity Abbr', 'Arrival Method', 'CC',\n",
       "       'PAT_ENC_CSN_ID', 'ED Disposition', 'Ethnicity', 'Primary Dx',\n",
       "       'Primary ED Dx', 'Primary FC', 'Arrv Date/Time', 'Patient_Age', 'Sex',\n",
       "       'Arrived_Time'],\n",
       "      dtype='object')"
      ]
     },
     "execution_count": 18,
     "metadata": {},
     "output_type": "execute_result"
    }
   ],
   "source": [
    "df_rwb.columns"
   ]
  },
  {
   "cell_type": "code",
   "execution_count": 168,
   "id": "f1bda2a1-2ff6-435a-86ab-eb8e76cb9dbf",
   "metadata": {},
   "outputs": [
    {
     "name": "stdout",
     "output_type": "stream",
     "text": [
      "ClarityMirror_dbo_ZC_FINANCIAL_CLASS.csv\n",
      "ClarityMirror_dbo_ZC_ACUITY_LEVEL.csv\n",
      "ClarityMirror_dbo_ZC_PATIENT_RACE.csv\n",
      "ClarityMirror_dbo_ZC_ETHNIC_GROUP.csv\n",
      "ClarityMirror_dbo_ZC_ARRIV_MEANS.csv\n",
      "ClarityMirror_dbo_ZC_SEX.csv\n"
     ]
    }
   ],
   "source": [
    "ZC_tables_dir = '/work/InternalMedicine/s223850/ED-StaticDynamic/raw_data/zc_tables/'\n",
    "os.listdir(ZC_tables_dir)\n",
    "for tab in os.listdir(ZC_tables_dir):\n",
    "    df = pd.read_csv(os.path.join(ZC_tables_dir, tab))\n",
    "    print(tab)"
   ]
  },
  {
   "cell_type": "code",
   "execution_count": 169,
   "id": "fa9fe191-8cf8-4782-83f2-a6f6a4cf35e6",
   "metadata": {},
   "outputs": [],
   "source": [
    "df_zc = pd.read_csv(os.path.join(ZC_tables_dir, 'ClarityMirror_dbo_ZC_ETHNIC_GROUP.csv'))"
   ]
  },
  {
   "cell_type": "code",
   "execution_count": 170,
   "id": "d494e6b4-8a09-42b4-adb3-fdac3e1cc3a9",
   "metadata": {},
   "outputs": [],
   "source": [
    "col_zc_map = {\n",
    "    'Race':'ClarityMirror_dbo_ZC_PATIENT_RACE.csv',\n",
    "    # 'Acuity Abbr':'ClarityMirror_dbo_ZC_ACUITY_LEVEL.csv',\n",
    "    'Arrival Method': 'ClarityMirror_dbo_ZC_ARRIV_MEANS.csv',\n",
    "    \n",
    "    \n",
    "}"
   ]
  },
  {
   "cell_type": "code",
   "execution_count": 171,
   "id": "534b6c61-8205-4fd4-893c-1e1e42d73564",
   "metadata": {},
   "outputs": [],
   "source": [
    "race_dict = df_zc[['INTERNAL_ID', 'NAME']].set_index('INTERNAL_ID').to_dict()['NAME']"
   ]
  },
  {
   "cell_type": "code",
   "execution_count": null,
   "id": "19f8c45a-3250-442e-ab75-cad86b00b7f5",
   "metadata": {},
   "outputs": [],
   "source": [
    "df_rwb['Race'] = df_rwb['Race'].apply(lambda x: int(x) if x is not None and not isinstance(x, float) else -1).map(race_dict).fillna('unknown')"
   ]
  },
  {
   "cell_type": "code",
   "execution_count": 172,
   "id": "aaab9aa7-f392-45a6-9f92-636b3d3192ea",
   "metadata": {},
   "outputs": [],
   "source": [
    "df_rwb['Race'] = df_rwb['Race'].apply(lambda x: int(x) if x is not None and not isinstance(x, float) else -1).map(race_dict).fillna('unknown')"
   ]
  },
  {
   "cell_type": "code",
   "execution_count": 173,
   "id": "09886116-9546-4761-bde8-8d9261c0944b",
   "metadata": {},
   "outputs": [],
   "source": [
    "df_zc_arrmean = pd.read_csv(os.path.join(ZC_tables_dir, 'ClarityMirror_dbo_ZC_ARRIV_MEANS.csv'))"
   ]
  },
  {
   "cell_type": "code",
   "execution_count": 174,
   "id": "00637237-5f1f-42fc-be53-2b91683c0d81",
   "metadata": {},
   "outputs": [],
   "source": [
    "arrmean_dict = df_zc_arrmean[['INTERNAL_ID', 'NAME']].set_index('INTERNAL_ID').to_dict()['NAME']"
   ]
  },
  {
   "cell_type": "code",
   "execution_count": 175,
   "id": "04b17729-f98a-4710-a3fb-70ef839c0db0",
   "metadata": {},
   "outputs": [
    {
     "data": {
      "text/plain": [
       "{1: 'Hospital Transport',\n",
       " 10: 'Other',\n",
       " 11: 'Referred by Clinic',\n",
       " 12: 'Assist from Vehicle',\n",
       " 13: 'Helicopter',\n",
       " 14: 'Fixed Wing',\n",
       " 2: 'Public Transportation',\n",
       " 3: 'Police',\n",
       " 4: 'Wheelchair',\n",
       " 5: 'Car',\n",
       " 6: 'Taxi',\n",
       " 7: 'Medical Flight',\n",
       " 8: 'Ambulance',\n",
       " 9: 'Pedestrian'}"
      ]
     },
     "execution_count": 175,
     "metadata": {},
     "output_type": "execute_result"
    }
   ],
   "source": [
    "arrmean_dict"
   ]
  },
  {
   "cell_type": "code",
   "execution_count": 176,
   "id": "c37f3635-09a9-4d68-9247-0efac54a9ba8",
   "metadata": {
    "scrolled": true
   },
   "outputs": [],
   "source": [
    "df_rwb['Arrival Method'] = df_rwb['Arrival Method'].apply(lambda x: int(x) if x is not None and not np.isnan(x) else -1).map(arrmean_dict).fillna('unknown')"
   ]
  },
  {
   "cell_type": "code",
   "execution_count": 177,
   "id": "49f6d834-1459-4ea6-bcea-641ee934d013",
   "metadata": {},
   "outputs": [],
   "source": [
    "df_zc_eth = pd.read_csv(os.path.join(ZC_tables_dir, 'ClarityMirror_dbo_ZC_ETHNIC_GROUP.csv'))\n",
    "eth_dict = df_zc_eth[['INTERNAL_ID', 'NAME']].set_index('INTERNAL_ID').to_dict()['NAME']"
   ]
  },
  {
   "cell_type": "code",
   "execution_count": 178,
   "id": "1827a08b-3d5d-4a51-a0d6-60a05a9d593f",
   "metadata": {},
   "outputs": [],
   "source": [
    "df_rwb['Ethnicity'] = df_rwb['Ethnicity'].apply(lambda x: int(x) if x is not None and not np.isnan(x) else -1).map(eth_dict).fillna('unknown')"
   ]
  },
  {
   "cell_type": "code",
   "execution_count": 179,
   "id": "2f448668-db8e-42ec-b5b3-48c567780f36",
   "metadata": {},
   "outputs": [],
   "source": [
    "df_zc_fc = pd.read_csv(os.path.join(ZC_tables_dir, 'ClarityMirror_dbo_ZC_FINANCIAL_CLASS.csv'))\n",
    "fc_dict = df_zc_fc[['INTERNAL_ID', 'NAME']].set_index('INTERNAL_ID').to_dict()['NAME']"
   ]
  },
  {
   "cell_type": "code",
   "execution_count": 180,
   "id": "52b3f965-356e-49b0-9848-9bd47c91b8b1",
   "metadata": {},
   "outputs": [],
   "source": [
    "df_rwb['Primary FC'] = df_rwb['Primary FC'].apply(lambda x: int(x) if x is not None and not np.isnan(x) else -1).map(fc_dict).fillna('unknown')"
   ]
  },
  {
   "cell_type": "code",
   "execution_count": 181,
   "id": "f2684fd0-56ed-46d1-98f9-0480cd1aedab",
   "metadata": {
    "scrolled": true
   },
   "outputs": [
    {
     "data": {
      "text/html": [
       "<div>\n",
       "<style scoped>\n",
       "    .dataframe tbody tr th:only-of-type {\n",
       "        vertical-align: middle;\n",
       "    }\n",
       "\n",
       "    .dataframe tbody tr th {\n",
       "        vertical-align: top;\n",
       "    }\n",
       "\n",
       "    .dataframe thead th {\n",
       "        text-align: right;\n",
       "    }\n",
       "</style>\n",
       "<table border=\"1\" class=\"dataframe\">\n",
       "  <thead>\n",
       "    <tr style=\"text-align: right;\">\n",
       "      <th></th>\n",
       "      <th>index</th>\n",
       "      <th>Race</th>\n",
       "      <th>Acuity Abbr</th>\n",
       "      <th>Arrival Method</th>\n",
       "      <th>CC</th>\n",
       "      <th>PAT_ENC_CSN_ID</th>\n",
       "      <th>ED Disposition</th>\n",
       "      <th>Ethnicity</th>\n",
       "      <th>Primary Dx</th>\n",
       "      <th>Primary ED Dx</th>\n",
       "      <th>Primary FC</th>\n",
       "      <th>Arrived</th>\n",
       "      <th>Patient_Age</th>\n",
       "      <th>Sex</th>\n",
       "      <th>Arrived_Time</th>\n",
       "    </tr>\n",
       "  </thead>\n",
       "  <tbody>\n",
       "    <tr>\n",
       "      <th>9999</th>\n",
       "      <td>10000</td>\n",
       "      <td>unknown</td>\n",
       "      <td>II</td>\n",
       "      <td>Car</td>\n",
       "      <td>RECTAL BLEEDING</td>\n",
       "      <td>713698278</td>\n",
       "      <td>NaN</td>\n",
       "      <td>Hispanic or Latino</td>\n",
       "      <td>RECTAL BLEEDING</td>\n",
       "      <td>RECTAL BLEEDING</td>\n",
       "      <td>Medicare</td>\n",
       "      <td>5799598680</td>\n",
       "      <td>81.0</td>\n",
       "      <td>M</td>\n",
       "      <td>2024-10-11 23:38:00</td>\n",
       "    </tr>\n",
       "    <tr>\n",
       "      <th>9998</th>\n",
       "      <td>9999</td>\n",
       "      <td>unknown</td>\n",
       "      <td>II</td>\n",
       "      <td>Car</td>\n",
       "      <td>OTHER</td>\n",
       "      <td>713698047</td>\n",
       "      <td>NaN</td>\n",
       "      <td>Non-Hispanic/Latino</td>\n",
       "      <td>NaN</td>\n",
       "      <td>ESRD ON HEMODIALYSIS (*)</td>\n",
       "      <td>Managed Care</td>\n",
       "      <td>5799595260</td>\n",
       "      <td>59.0</td>\n",
       "      <td>M</td>\n",
       "      <td>2024-10-11 22:41:00</td>\n",
       "    </tr>\n",
       "    <tr>\n",
       "      <th>9997</th>\n",
       "      <td>9998</td>\n",
       "      <td>unknown</td>\n",
       "      <td>II</td>\n",
       "      <td>Car</td>\n",
       "      <td>BACK PAIN; DIFFICULTY BREATHING; CONFUSION</td>\n",
       "      <td>713698022</td>\n",
       "      <td>NaN</td>\n",
       "      <td>Non-Hispanic/Latino</td>\n",
       "      <td>ACUTE CONFUSIONAL STATE</td>\n",
       "      <td>ACUTE CONFUSIONAL STATE</td>\n",
       "      <td>Medicare</td>\n",
       "      <td>5799594960</td>\n",
       "      <td>95.0</td>\n",
       "      <td>M</td>\n",
       "      <td>2024-10-11 22:36:00</td>\n",
       "    </tr>\n",
       "    <tr>\n",
       "      <th>9996</th>\n",
       "      <td>9997</td>\n",
       "      <td>Unknown</td>\n",
       "      <td>II</td>\n",
       "      <td>Car</td>\n",
       "      <td>CHEST PAIN</td>\n",
       "      <td>713698008</td>\n",
       "      <td>NaN</td>\n",
       "      <td>Non-Hispanic/Latino</td>\n",
       "      <td>LEFT ARM SWELLING</td>\n",
       "      <td>LEFT ARM SWELLING</td>\n",
       "      <td>Medicare</td>\n",
       "      <td>5799594780</td>\n",
       "      <td>77.0</td>\n",
       "      <td>M</td>\n",
       "      <td>2024-10-11 22:33:00</td>\n",
       "    </tr>\n",
       "    <tr>\n",
       "      <th>9995</th>\n",
       "      <td>9996</td>\n",
       "      <td>Unknown</td>\n",
       "      <td>III</td>\n",
       "      <td>Car</td>\n",
       "      <td>BLADDER PAIN</td>\n",
       "      <td>713697694</td>\n",
       "      <td>NaN</td>\n",
       "      <td>Hispanic or Latino</td>\n",
       "      <td>LOWER URINARY TRACT SYMPTOMS (LUTS)</td>\n",
       "      <td>LOWER URINARY TRACT SYMPTOMS (LUTS)</td>\n",
       "      <td>Managed Care</td>\n",
       "      <td>5799591060</td>\n",
       "      <td>60.0</td>\n",
       "      <td>M</td>\n",
       "      <td>2024-10-11 21:31:00</td>\n",
       "    </tr>\n",
       "    <tr>\n",
       "      <th>...</th>\n",
       "      <td>...</td>\n",
       "      <td>...</td>\n",
       "      <td>...</td>\n",
       "      <td>...</td>\n",
       "      <td>...</td>\n",
       "      <td>...</td>\n",
       "      <td>...</td>\n",
       "      <td>...</td>\n",
       "      <td>...</td>\n",
       "      <td>...</td>\n",
       "      <td>...</td>\n",
       "      <td>...</td>\n",
       "      <td>...</td>\n",
       "      <td>...</td>\n",
       "      <td>...</td>\n",
       "    </tr>\n",
       "    <tr>\n",
       "      <th>5</th>\n",
       "      <td>6</td>\n",
       "      <td>unknown</td>\n",
       "      <td>III</td>\n",
       "      <td>Car</td>\n",
       "      <td>SYNCOPE</td>\n",
       "      <td>706910410</td>\n",
       "      <td>DISCHARGED</td>\n",
       "      <td>Hispanic or Latino</td>\n",
       "      <td>SYNCOPE, UNSPECIFIED SYNCOPE TYPE</td>\n",
       "      <td>ORTHOSTATIC SYNCOPE</td>\n",
       "      <td>unknown</td>\n",
       "      <td>5791044180</td>\n",
       "      <td>18.0</td>\n",
       "      <td>F</td>\n",
       "      <td>2024-07-04 23:23:00</td>\n",
       "    </tr>\n",
       "    <tr>\n",
       "      <th>2</th>\n",
       "      <td>3</td>\n",
       "      <td>unknown</td>\n",
       "      <td>II</td>\n",
       "      <td>Car</td>\n",
       "      <td>RASH; OTHER</td>\n",
       "      <td>706910057</td>\n",
       "      <td>DISCHARGED</td>\n",
       "      <td>Non-Hispanic/Latino</td>\n",
       "      <td>RASH</td>\n",
       "      <td>RASH</td>\n",
       "      <td>Medicare</td>\n",
       "      <td>5791043100</td>\n",
       "      <td>73.0</td>\n",
       "      <td>F</td>\n",
       "      <td>2024-07-04 23:05:00</td>\n",
       "    </tr>\n",
       "    <tr>\n",
       "      <th>4</th>\n",
       "      <td>5</td>\n",
       "      <td>Hispanic or Latino</td>\n",
       "      <td>II</td>\n",
       "      <td>Car</td>\n",
       "      <td>GUN SHOT WOUND</td>\n",
       "      <td>706910138</td>\n",
       "      <td>TRANSFER TO ANOTHER FACILITY - CMC</td>\n",
       "      <td>Non-Hispanic/Latino</td>\n",
       "      <td>GSW (GUNSHOT WOUND)</td>\n",
       "      <td>GSW (GUNSHOT WOUND)</td>\n",
       "      <td>Medicaid</td>\n",
       "      <td>5791041060</td>\n",
       "      <td>16.0</td>\n",
       "      <td>M</td>\n",
       "      <td>2024-07-04 22:31:00</td>\n",
       "    </tr>\n",
       "    <tr>\n",
       "      <th>3</th>\n",
       "      <td>4</td>\n",
       "      <td>unknown</td>\n",
       "      <td>II</td>\n",
       "      <td>Car</td>\n",
       "      <td>DIFFICULTY BREATHING</td>\n",
       "      <td>706910107</td>\n",
       "      <td>DISCHARGED</td>\n",
       "      <td>Hispanic or Latino</td>\n",
       "      <td>CHEST PAIN, UNSPECIFIED TYPE</td>\n",
       "      <td>CHEST PAIN, UNSPECIFIED TYPE</td>\n",
       "      <td>Managed Care</td>\n",
       "      <td>5791040760</td>\n",
       "      <td>24.0</td>\n",
       "      <td>F</td>\n",
       "      <td>2024-07-04 22:26:00</td>\n",
       "    </tr>\n",
       "    <tr>\n",
       "      <th>1</th>\n",
       "      <td>2</td>\n",
       "      <td>unknown</td>\n",
       "      <td>III</td>\n",
       "      <td>Car</td>\n",
       "      <td>CONSTIPATION</td>\n",
       "      <td>706909931</td>\n",
       "      <td>ADMITTED</td>\n",
       "      <td>Hispanic or Latino</td>\n",
       "      <td>CONSTIPATION, UNSPECIFIED CONSTIPATION TYPE</td>\n",
       "      <td>CONSTIPATION, UNSPECIFIED CONSTIPATION TYPE</td>\n",
       "      <td>Managed Care</td>\n",
       "      <td>5791038360</td>\n",
       "      <td>59.0</td>\n",
       "      <td>F</td>\n",
       "      <td>2024-07-04 21:46:00</td>\n",
       "    </tr>\n",
       "  </tbody>\n",
       "</table>\n",
       "<p>10000 rows × 15 columns</p>\n",
       "</div>"
      ],
      "text/plain": [
       "      index                Race Acuity Abbr Arrival Method  \\\n",
       "9999  10000             unknown          II            Car   \n",
       "9998   9999             unknown          II            Car   \n",
       "9997   9998             unknown          II            Car   \n",
       "9996   9997             Unknown          II            Car   \n",
       "9995   9996             Unknown         III            Car   \n",
       "...     ...                 ...         ...            ...   \n",
       "5         6             unknown         III            Car   \n",
       "2         3             unknown          II            Car   \n",
       "4         5  Hispanic or Latino          II            Car   \n",
       "3         4             unknown          II            Car   \n",
       "1         2             unknown         III            Car   \n",
       "\n",
       "                                              CC  PAT_ENC_CSN_ID  \\\n",
       "9999                             RECTAL BLEEDING       713698278   \n",
       "9998                                       OTHER       713698047   \n",
       "9997  BACK PAIN; DIFFICULTY BREATHING; CONFUSION       713698022   \n",
       "9996                                  CHEST PAIN       713698008   \n",
       "9995                                BLADDER PAIN       713697694   \n",
       "...                                          ...             ...   \n",
       "5                                        SYNCOPE       706910410   \n",
       "2                                    RASH; OTHER       706910057   \n",
       "4                                 GUN SHOT WOUND       706910138   \n",
       "3                           DIFFICULTY BREATHING       706910107   \n",
       "1                                   CONSTIPATION       706909931   \n",
       "\n",
       "                          ED Disposition            Ethnicity  \\\n",
       "9999                                 NaN   Hispanic or Latino   \n",
       "9998                                 NaN  Non-Hispanic/Latino   \n",
       "9997                                 NaN  Non-Hispanic/Latino   \n",
       "9996                                 NaN  Non-Hispanic/Latino   \n",
       "9995                                 NaN   Hispanic or Latino   \n",
       "...                                  ...                  ...   \n",
       "5                             DISCHARGED   Hispanic or Latino   \n",
       "2                             DISCHARGED  Non-Hispanic/Latino   \n",
       "4     TRANSFER TO ANOTHER FACILITY - CMC  Non-Hispanic/Latino   \n",
       "3                             DISCHARGED   Hispanic or Latino   \n",
       "1                               ADMITTED   Hispanic or Latino   \n",
       "\n",
       "                                       Primary Dx  \\\n",
       "9999                              RECTAL BLEEDING   \n",
       "9998                                          NaN   \n",
       "9997                      ACUTE CONFUSIONAL STATE   \n",
       "9996                            LEFT ARM SWELLING   \n",
       "9995          LOWER URINARY TRACT SYMPTOMS (LUTS)   \n",
       "...                                           ...   \n",
       "5               SYNCOPE, UNSPECIFIED SYNCOPE TYPE   \n",
       "2                                            RASH   \n",
       "4                             GSW (GUNSHOT WOUND)   \n",
       "3                    CHEST PAIN, UNSPECIFIED TYPE   \n",
       "1     CONSTIPATION, UNSPECIFIED CONSTIPATION TYPE   \n",
       "\n",
       "                                    Primary ED Dx    Primary FC     Arrived  \\\n",
       "9999                              RECTAL BLEEDING      Medicare  5799598680   \n",
       "9998                     ESRD ON HEMODIALYSIS (*)  Managed Care  5799595260   \n",
       "9997                      ACUTE CONFUSIONAL STATE      Medicare  5799594960   \n",
       "9996                            LEFT ARM SWELLING      Medicare  5799594780   \n",
       "9995          LOWER URINARY TRACT SYMPTOMS (LUTS)  Managed Care  5799591060   \n",
       "...                                           ...           ...         ...   \n",
       "5                             ORTHOSTATIC SYNCOPE       unknown  5791044180   \n",
       "2                                            RASH      Medicare  5791043100   \n",
       "4                             GSW (GUNSHOT WOUND)      Medicaid  5791041060   \n",
       "3                    CHEST PAIN, UNSPECIFIED TYPE  Managed Care  5791040760   \n",
       "1     CONSTIPATION, UNSPECIFIED CONSTIPATION TYPE  Managed Care  5791038360   \n",
       "\n",
       "      Patient_Age Sex        Arrived_Time  \n",
       "9999         81.0   M 2024-10-11 23:38:00  \n",
       "9998         59.0   M 2024-10-11 22:41:00  \n",
       "9997         95.0   M 2024-10-11 22:36:00  \n",
       "9996         77.0   M 2024-10-11 22:33:00  \n",
       "9995         60.0   M 2024-10-11 21:31:00  \n",
       "...           ...  ..                 ...  \n",
       "5            18.0   F 2024-07-04 23:23:00  \n",
       "2            73.0   F 2024-07-04 23:05:00  \n",
       "4            16.0   M 2024-07-04 22:31:00  \n",
       "3            24.0   F 2024-07-04 22:26:00  \n",
       "1            59.0   F 2024-07-04 21:46:00  \n",
       "\n",
       "[10000 rows x 15 columns]"
      ]
     },
     "execution_count": 181,
     "metadata": {},
     "output_type": "execute_result"
    }
   ],
   "source": [
    "df_rwb"
   ]
  },
  {
   "cell_type": "code",
   "execution_count": 183,
   "id": "b8ed950a-8087-4432-bfb9-b53d5f4c3401",
   "metadata": {},
   "outputs": [],
   "source": [
    "df_rwb = df_rwb.drop(columns=['Arrived']).set_index('index')"
   ]
  },
  {
   "cell_type": "code",
   "execution_count": 111,
   "id": "da4a0210-900f-4e97-9906-3202859164db",
   "metadata": {},
   "outputs": [],
   "source": [
    "all_pdx = df_rwb['Primary Dx'].to_list() + df_rwb['Primary ED Dx'].to_list()"
   ]
  },
  {
   "cell_type": "code",
   "execution_count": 87,
   "id": "def5c6c8-474f-4669-b55f-a5092449c52a",
   "metadata": {},
   "outputs": [],
   "source": [
    "rwb_all_pdx_norm = list(map(lambda x: re.sub(r'[^a-zA-Z0-9,_-]+', '', x).lower() if isinstance(x, str) else x, all_pdx))"
   ]
  },
  {
   "cell_type": "code",
   "execution_count": 89,
   "id": "48de9d0a-5b3c-4942-9e18-009d1eced815",
   "metadata": {},
   "outputs": [
    {
     "name": "stderr",
     "output_type": "stream",
     "text": [
      "/tmp/ipykernel_36888/1969497394.py:2: DeprecationWarning: `apply` is deprecated. It has been renamed to `map_elements`.\n",
      "  pl.col(\"Primary_DX_Name\").apply(\n",
      "/tmp/ipykernel_36888/1969497394.py:1: MapWithoutReturnDtypeWarning: Calling `map_elements` without specifying `return_dtype` can lead to unpredictable results. Specify `return_dtype` to silence this warning.\n",
      "  df_o = df_o.with_columns(\n"
     ]
    }
   ],
   "source": [
    "df_o = df_o.with_columns(\n",
    "    pl.col(\"Primary_DX_Name\").apply(\n",
    "        lambda x: re.sub(r'[^a-zA-Z0-9,_-]+', '', x).lower() if x is not None else x\n",
    "    ).alias(\"Primary_DX_Name_NORM\")\n",
    ")"
   ]
  },
  {
   "cell_type": "code",
   "execution_count": 90,
   "id": "ce61bd40-9059-4ee8-bd40-7350a902837e",
   "metadata": {},
   "outputs": [],
   "source": [
    "df_o = df_o.with_columns(\n",
    "    pl.col(\"Primary_DX_Name\").str.replace_all(r'[^a-zA-Z0-9,_-]+', '')\n",
    "    .str.to_lowercase()\n",
    "    .alias(\"Primary_DX_NAME_NORM1\")\n",
    ")"
   ]
  },
  {
   "cell_type": "code",
   "execution_count": 98,
   "id": "b9d4406e-e2c4-43bd-b0f9-06dfeea707a4",
   "metadata": {},
   "outputs": [],
   "source": [
    "all_pdx_o = df_o['Primary_DX_NAME_NORM1'].drop_nulls().to_list()"
   ]
  },
  {
   "cell_type": "code",
   "execution_count": 99,
   "id": "a92a71af-38c1-4bec-97e4-bc897a379b4d",
   "metadata": {},
   "outputs": [],
   "source": [
    "all_pdx_o_norm_uniq = np.unique(all_pdx_o)"
   ]
  },
  {
   "cell_type": "code",
   "execution_count": 100,
   "id": "855be789-1c95-40a6-a08c-02b11e8762cc",
   "metadata": {},
   "outputs": [],
   "source": [
    "all_pdx_rwb_norm_uniq = np.unique(rwb_all_pdx_norm)"
   ]
  },
  {
   "cell_type": "code",
   "execution_count": 104,
   "id": "6be3d793-13f2-4642-9ce5-0a198b5644e7",
   "metadata": {},
   "outputs": [
    {
     "name": "stdout",
     "output_type": "stream",
     "text": [
      "1512\n",
      "350\n",
      "1862\n"
     ]
    }
   ],
   "source": [
    "included = 0\n",
    "excluded = 0\n",
    "for v in all_pdx_rwb_norm_uniq:\n",
    "    if v not in all_pdx_o_norm_uniq:\n",
    "        excluded += 1\n",
    "    else:\n",
    "        included += 1\n",
    "\n",
    "\n",
    "print(included)\n",
    "print(excluded)\n",
    "print(len(all_pdx_rwb_norm_uniq))\n",
    "x=0        "
   ]
  },
  {
   "cell_type": "code",
   "execution_count": 184,
   "id": "f5513bda-750c-4976-b96b-d8e23502bed3",
   "metadata": {},
   "outputs": [],
   "source": [
    "\n",
    "df_rwb.to_parquet('/work/InternalMedicine/s223850/ED-StaticDynamic/raw_data/rwb_static_clean_OCT92024.parquet')"
   ]
  },
  {
   "cell_type": "markdown",
   "id": "2437e368-1783-4029-89a8-de877a6235f1",
   "metadata": {},
   "source": [
    "# Combine the original static and RWB"
   ]
  },
  {
   "cell_type": "code",
   "execution_count": 4,
   "id": "85d65b19-e7cd-4fad-b6a4-1d5313865db4",
   "metadata": {},
   "outputs": [],
   "source": [
    "df_rwb = pd.read_parquet('/work/InternalMedicine/s223850/ED-StaticDynamic/raw_data/rwb_static_clean_OCT92024.parquet')"
   ]
  },
  {
   "cell_type": "code",
   "execution_count": 5,
   "id": "4ec82ea1-4723-47aa-a13e-13ee74772033",
   "metadata": {},
   "outputs": [],
   "source": [
    "df_o = pl.read_parquet('/work/InternalMedicine/s223850/ED-StaticDynamic/raw_data/ED Events Last 2 Years - compiled 6.6.24.parquet')"
   ]
  },
  {
   "cell_type": "code",
   "execution_count": 9,
   "id": "74dc3458-9182-4473-8edc-7c317df91995",
   "metadata": {},
   "outputs": [],
   "source": [
    "df_rwb = pl.from_dataframe(df_rwb)"
   ]
  },
  {
   "cell_type": "code",
   "execution_count": 6,
   "id": "264a207b-cead-4524-bc9d-473032251ed6",
   "metadata": {},
   "outputs": [
    {
     "data": {
      "text/plain": [
       "Index(['Race', 'Acuity Abbr', 'Arrival Method', 'CC', 'PAT_ENC_CSN_ID',\n",
       "       'ED Disposition', 'Ethnicity', 'Primary Dx', 'Primary ED Dx',\n",
       "       'Primary FC', 'Patient_Age', 'Sex', 'Arrived_Time'],\n",
       "      dtype='object')"
      ]
     },
     "execution_count": 6,
     "metadata": {},
     "output_type": "execute_result"
    }
   ],
   "source": [
    "df_rwb.columns"
   ]
  },
  {
   "cell_type": "code",
   "execution_count": 30,
   "id": "0e5dc321-790e-4997-8a58-2edfd645d642",
   "metadata": {},
   "outputs": [],
   "source": [
    "df_rwb = df_rwb.with_columns(\n",
    "    pl.col('Race').alias('FirstRace'),\n",
    "    pl.col('Acuity Abbr').alias('Acuity_Level'),\n",
    "    pl.col('Arrival Method').alias('Means_Of_Arrival'),\n",
    "    pl.col('CC').alias('Chief_Complaint_All'),\n",
    "    pl.col('Primary FC').alias('Coverage_Financial_Class_Grouper'),\n",
    "    pl.col('Primary Dx').alias('Primary_DX_Name'),\n",
    "    pl.col('ED Disposition').alias('ED_Disposition')\n",
    ")"
   ]
  },
  {
   "cell_type": "code",
   "execution_count": 31,
   "id": "0c71232c-8e47-4ff7-8b7d-7004c3bf71ec",
   "metadata": {},
   "outputs": [],
   "source": [
    "df_os = df_o.select(['PAT_ENC_CSN_ID', 'FirstRace', 'Acuity_Level', 'Means_Of_Arrival', 'Arrived_Time', 'Chief_Complaint_All', 'Ethnicity',\n",
    "             'Sex', 'Patient_Age', 'Coverage_Financial_Class_Grouper', 'Primary_DX_Name', 'ED_Disposition'])\n",
    "             "
   ]
  },
  {
   "cell_type": "code",
   "execution_count": 33,
   "id": "98488489-0620-4256-8f36-aa6658953df0",
   "metadata": {},
   "outputs": [],
   "source": [
    "df_agg_s = df_os.group_by('PAT_ENC_CSN_ID').agg(\n",
    "    pl.col('FirstRace').last().alias('FirstRace'),\n",
    "    pl.col('Acuity_Level').last().alias('Acuity_Level'),\n",
    "    pl.col('Means_Of_Arrival').last().alias('Means_Of_Arrival'),\n",
    "    pl.col('Arrived_Time').last().alias('Arrived_Time'),\n",
    "    pl.col('Chief_Complaint_All').last().alias('Chief_Complaint_All'),\n",
    "    pl.col('Ethnicity').last().alias('Ethnicity'),\n",
    "    pl.col('Sex').last().alias('Sex'),\n",
    "    pl.col('Patient_Age').last().alias('Patient_Age'),\n",
    "    pl.col('Coverage_Financial_Class_Grouper').last().alias('Coverage_Financial_Class_Grouper'),\n",
    "    pl.col('Primary_DX_Name').last().alias('Primary_DX_Name'),\n",
    "    pl.col('ED_Disposition').last().alias('ED_Disposition')\n",
    ")"
   ]
  },
  {
   "cell_type": "code",
   "execution_count": 25,
   "id": "23040562-01ce-4392-9485-f41e9b5e80b8",
   "metadata": {},
   "outputs": [
    {
     "data": {
      "text/html": [
       "<div><style>\n",
       ".dataframe > thead > tr,\n",
       ".dataframe > tbody > tr {\n",
       "  text-align: right;\n",
       "  white-space: pre-wrap;\n",
       "}\n",
       "</style>\n",
       "<small>shape: (10_000, 23)</small><table border=\"1\" class=\"dataframe\"><thead><tr><th>Race</th><th>Acuity Abbr</th><th>Arrival Method</th><th>CC</th><th>PAT_ENC_CSN_ID</th><th>ED Disposition</th><th>Ethnicity</th><th>Primary Dx</th><th>Primary ED Dx</th><th>Primary FC</th><th>Patient_Age</th><th>Sex</th><th>Arrived_Time</th><th>FirstRace</th><th>Acuity_Level</th><th>Means_Of_Arrival</th><th>Chief_Complaint</th><th>Coverage_Financial_Class_Grouper</th><th>Primary_DX_Name</th><th>ED_Disposition</th><th>index</th><th>from_rwb</th><th>Chief_Complaint_All</th></tr><tr><td>str</td><td>str</td><td>str</td><td>str</td><td>i64</td><td>str</td><td>str</td><td>str</td><td>str</td><td>str</td><td>f64</td><td>str</td><td>datetime[ns]</td><td>str</td><td>str</td><td>str</td><td>str</td><td>str</td><td>str</td><td>str</td><td>i64</td><td>i64</td><td>str</td></tr></thead><tbody><tr><td>&quot;unknown&quot;</td><td>&quot;II&quot;</td><td>&quot;Car&quot;</td><td>&quot;RECTAL BLEEDIN…</td><td>713698278</td><td>null</td><td>&quot;Hispanic or La…</td><td>&quot;RECTAL BLEEDIN…</td><td>&quot;RECTAL BLEEDIN…</td><td>&quot;Medicare&quot;</td><td>81.0</td><td>&quot;M&quot;</td><td>2024-10-11 23:38:00</td><td>&quot;unknown&quot;</td><td>&quot;II&quot;</td><td>&quot;Car&quot;</td><td>&quot;RECTAL BLEEDIN…</td><td>&quot;Medicare&quot;</td><td>&quot;RECTAL BLEEDIN…</td><td>null</td><td>1</td><td>1</td><td>&quot;RECTAL BLEEDIN…</td></tr><tr><td>&quot;unknown&quot;</td><td>&quot;II&quot;</td><td>&quot;Car&quot;</td><td>&quot;OTHER&quot;</td><td>713698047</td><td>null</td><td>&quot;Non-Hispanic/L…</td><td>null</td><td>&quot;ESRD ON HEMODI…</td><td>&quot;Managed Care&quot;</td><td>59.0</td><td>&quot;M&quot;</td><td>2024-10-11 22:41:00</td><td>&quot;unknown&quot;</td><td>&quot;II&quot;</td><td>&quot;Car&quot;</td><td>&quot;OTHER&quot;</td><td>&quot;Managed Care&quot;</td><td>null</td><td>null</td><td>2</td><td>1</td><td>&quot;OTHER&quot;</td></tr><tr><td>&quot;unknown&quot;</td><td>&quot;II&quot;</td><td>&quot;Car&quot;</td><td>&quot;BACK PAIN; DIF…</td><td>713698022</td><td>null</td><td>&quot;Non-Hispanic/L…</td><td>&quot;ACUTE CONFUSIO…</td><td>&quot;ACUTE CONFUSIO…</td><td>&quot;Medicare&quot;</td><td>95.0</td><td>&quot;M&quot;</td><td>2024-10-11 22:36:00</td><td>&quot;unknown&quot;</td><td>&quot;II&quot;</td><td>&quot;Car&quot;</td><td>&quot;BACK PAIN; DIF…</td><td>&quot;Medicare&quot;</td><td>&quot;ACUTE CONFUSIO…</td><td>null</td><td>3</td><td>1</td><td>&quot;BACK PAIN; DIF…</td></tr><tr><td>&quot;Unknown&quot;</td><td>&quot;II&quot;</td><td>&quot;Car&quot;</td><td>&quot;CHEST PAIN&quot;</td><td>713698008</td><td>null</td><td>&quot;Non-Hispanic/L…</td><td>&quot;LEFT ARM SWELL…</td><td>&quot;LEFT ARM SWELL…</td><td>&quot;Medicare&quot;</td><td>77.0</td><td>&quot;M&quot;</td><td>2024-10-11 22:33:00</td><td>&quot;Unknown&quot;</td><td>&quot;II&quot;</td><td>&quot;Car&quot;</td><td>&quot;CHEST PAIN&quot;</td><td>&quot;Medicare&quot;</td><td>&quot;LEFT ARM SWELL…</td><td>null</td><td>4</td><td>1</td><td>&quot;CHEST PAIN&quot;</td></tr><tr><td>&quot;Unknown&quot;</td><td>&quot;III&quot;</td><td>&quot;Car&quot;</td><td>&quot;BLADDER PAIN&quot;</td><td>713697694</td><td>null</td><td>&quot;Hispanic or La…</td><td>&quot;LOWER URINARY …</td><td>&quot;LOWER URINARY …</td><td>&quot;Managed Care&quot;</td><td>60.0</td><td>&quot;M&quot;</td><td>2024-10-11 21:31:00</td><td>&quot;Unknown&quot;</td><td>&quot;III&quot;</td><td>&quot;Car&quot;</td><td>&quot;BLADDER PAIN&quot;</td><td>&quot;Managed Care&quot;</td><td>&quot;LOWER URINARY …</td><td>null</td><td>5</td><td>1</td><td>&quot;BLADDER PAIN&quot;</td></tr><tr><td>&hellip;</td><td>&hellip;</td><td>&hellip;</td><td>&hellip;</td><td>&hellip;</td><td>&hellip;</td><td>&hellip;</td><td>&hellip;</td><td>&hellip;</td><td>&hellip;</td><td>&hellip;</td><td>&hellip;</td><td>&hellip;</td><td>&hellip;</td><td>&hellip;</td><td>&hellip;</td><td>&hellip;</td><td>&hellip;</td><td>&hellip;</td><td>&hellip;</td><td>&hellip;</td><td>&hellip;</td><td>&hellip;</td></tr><tr><td>&quot;unknown&quot;</td><td>&quot;III&quot;</td><td>&quot;Car&quot;</td><td>&quot;SYNCOPE&quot;</td><td>706910410</td><td>&quot;DISCHARGED&quot;</td><td>&quot;Hispanic or La…</td><td>&quot;SYNCOPE, UNSPE…</td><td>&quot;ORTHOSTATIC SY…</td><td>&quot;unknown&quot;</td><td>18.0</td><td>&quot;F&quot;</td><td>2024-07-04 23:23:00</td><td>&quot;unknown&quot;</td><td>&quot;III&quot;</td><td>&quot;Car&quot;</td><td>&quot;SYNCOPE&quot;</td><td>&quot;unknown&quot;</td><td>&quot;SYNCOPE, UNSPE…</td><td>&quot;DISCHARGED&quot;</td><td>9996</td><td>1</td><td>&quot;SYNCOPE&quot;</td></tr><tr><td>&quot;unknown&quot;</td><td>&quot;II&quot;</td><td>&quot;Car&quot;</td><td>&quot;RASH; OTHER&quot;</td><td>706910057</td><td>&quot;DISCHARGED&quot;</td><td>&quot;Non-Hispanic/L…</td><td>&quot;RASH&quot;</td><td>&quot;RASH&quot;</td><td>&quot;Medicare&quot;</td><td>73.0</td><td>&quot;F&quot;</td><td>2024-07-04 23:05:00</td><td>&quot;unknown&quot;</td><td>&quot;II&quot;</td><td>&quot;Car&quot;</td><td>&quot;RASH; OTHER&quot;</td><td>&quot;Medicare&quot;</td><td>&quot;RASH&quot;</td><td>&quot;DISCHARGED&quot;</td><td>9997</td><td>1</td><td>&quot;RASH; OTHER&quot;</td></tr><tr><td>&quot;Hispanic or La…</td><td>&quot;II&quot;</td><td>&quot;Car&quot;</td><td>&quot;GUN SHOT WOUND…</td><td>706910138</td><td>&quot;TRANSFER TO AN…</td><td>&quot;Non-Hispanic/L…</td><td>&quot;GSW (GUNSHOT W…</td><td>&quot;GSW (GUNSHOT W…</td><td>&quot;Medicaid&quot;</td><td>16.0</td><td>&quot;M&quot;</td><td>2024-07-04 22:31:00</td><td>&quot;Hispanic or La…</td><td>&quot;II&quot;</td><td>&quot;Car&quot;</td><td>&quot;GUN SHOT WOUND…</td><td>&quot;Medicaid&quot;</td><td>&quot;GSW (GUNSHOT W…</td><td>&quot;TRANSFER TO AN…</td><td>9998</td><td>1</td><td>&quot;GUN SHOT WOUND…</td></tr><tr><td>&quot;unknown&quot;</td><td>&quot;II&quot;</td><td>&quot;Car&quot;</td><td>&quot;DIFFICULTY BRE…</td><td>706910107</td><td>&quot;DISCHARGED&quot;</td><td>&quot;Hispanic or La…</td><td>&quot;CHEST PAIN, UN…</td><td>&quot;CHEST PAIN, UN…</td><td>&quot;Managed Care&quot;</td><td>24.0</td><td>&quot;F&quot;</td><td>2024-07-04 22:26:00</td><td>&quot;unknown&quot;</td><td>&quot;II&quot;</td><td>&quot;Car&quot;</td><td>&quot;DIFFICULTY BRE…</td><td>&quot;Managed Care&quot;</td><td>&quot;CHEST PAIN, UN…</td><td>&quot;DISCHARGED&quot;</td><td>9999</td><td>1</td><td>&quot;DIFFICULTY BRE…</td></tr><tr><td>&quot;unknown&quot;</td><td>&quot;III&quot;</td><td>&quot;Car&quot;</td><td>&quot;CONSTIPATION&quot;</td><td>706909931</td><td>&quot;ADMITTED&quot;</td><td>&quot;Hispanic or La…</td><td>&quot;CONSTIPATION, …</td><td>&quot;CONSTIPATION, …</td><td>&quot;Managed Care&quot;</td><td>59.0</td><td>&quot;F&quot;</td><td>2024-07-04 21:46:00</td><td>&quot;unknown&quot;</td><td>&quot;III&quot;</td><td>&quot;Car&quot;</td><td>&quot;CONSTIPATION&quot;</td><td>&quot;Managed Care&quot;</td><td>&quot;CONSTIPATION, …</td><td>&quot;ADMITTED&quot;</td><td>10000</td><td>1</td><td>&quot;CONSTIPATION&quot;</td></tr></tbody></table></div>"
      ],
      "text/plain": [
       "shape: (10_000, 23)\n",
       "┌──────────────┬────────┬─────────┬─────────────┬───┬─────────────┬───────┬──────────┬─────────────┐\n",
       "│ Race         ┆ Acuity ┆ Arrival ┆ CC          ┆ … ┆ ED_Disposit ┆ index ┆ from_rwb ┆ Chief_Compl │\n",
       "│ ---          ┆ Abbr   ┆ Method  ┆ ---         ┆   ┆ ion         ┆ ---   ┆ ---      ┆ aint_All    │\n",
       "│ str          ┆ ---    ┆ ---     ┆ str         ┆   ┆ ---         ┆ i64   ┆ i64      ┆ ---         │\n",
       "│              ┆ str    ┆ str     ┆             ┆   ┆ str         ┆       ┆          ┆ str         │\n",
       "╞══════════════╪════════╪═════════╪═════════════╪═══╪═════════════╪═══════╪══════════╪═════════════╡\n",
       "│ unknown      ┆ II     ┆ Car     ┆ RECTAL      ┆ … ┆ null        ┆ 1     ┆ 1        ┆ RECTAL      │\n",
       "│              ┆        ┆         ┆ BLEEDING    ┆   ┆             ┆       ┆          ┆ BLEEDING    │\n",
       "│ unknown      ┆ II     ┆ Car     ┆ OTHER       ┆ … ┆ null        ┆ 2     ┆ 1        ┆ OTHER       │\n",
       "│ unknown      ┆ II     ┆ Car     ┆ BACK PAIN;  ┆ … ┆ null        ┆ 3     ┆ 1        ┆ BACK PAIN;  │\n",
       "│              ┆        ┆         ┆ DIFFICULTY  ┆   ┆             ┆       ┆          ┆ DIFFICULTY  │\n",
       "│              ┆        ┆         ┆ BREATHING;… ┆   ┆             ┆       ┆          ┆ BREATHING;… │\n",
       "│ Unknown      ┆ II     ┆ Car     ┆ CHEST PAIN  ┆ … ┆ null        ┆ 4     ┆ 1        ┆ CHEST PAIN  │\n",
       "│ Unknown      ┆ III    ┆ Car     ┆ BLADDER     ┆ … ┆ null        ┆ 5     ┆ 1        ┆ BLADDER     │\n",
       "│              ┆        ┆         ┆ PAIN        ┆   ┆             ┆       ┆          ┆ PAIN        │\n",
       "│ …            ┆ …      ┆ …       ┆ …           ┆ … ┆ …           ┆ …     ┆ …        ┆ …           │\n",
       "│ unknown      ┆ III    ┆ Car     ┆ SYNCOPE     ┆ … ┆ DISCHARGED  ┆ 9996  ┆ 1        ┆ SYNCOPE     │\n",
       "│ unknown      ┆ II     ┆ Car     ┆ RASH; OTHER ┆ … ┆ DISCHARGED  ┆ 9997  ┆ 1        ┆ RASH; OTHER │\n",
       "│ Hispanic or  ┆ II     ┆ Car     ┆ GUN SHOT    ┆ … ┆ TRANSFER TO ┆ 9998  ┆ 1        ┆ GUN SHOT    │\n",
       "│ Latino       ┆        ┆         ┆ WOUND       ┆   ┆ ANOTHER     ┆       ┆          ┆ WOUND       │\n",
       "│              ┆        ┆         ┆             ┆   ┆ FACILITY -  ┆       ┆          ┆             │\n",
       "│              ┆        ┆         ┆             ┆   ┆ C…          ┆       ┆          ┆             │\n",
       "│ unknown      ┆ II     ┆ Car     ┆ DIFFICULTY  ┆ … ┆ DISCHARGED  ┆ 9999  ┆ 1        ┆ DIFFICULTY  │\n",
       "│              ┆        ┆         ┆ BREATHING   ┆   ┆             ┆       ┆          ┆ BREATHING   │\n",
       "│ unknown      ┆ III    ┆ Car     ┆ CONSTIPATIO ┆ … ┆ ADMITTED    ┆ 10000 ┆ 1        ┆ CONSTIPATIO │\n",
       "│              ┆        ┆         ┆ N           ┆   ┆             ┆       ┆          ┆ N           │\n",
       "└──────────────┴────────┴─────────┴─────────────┴───┴─────────────┴───────┴──────────┴─────────────┘"
      ]
     },
     "execution_count": 25,
     "metadata": {},
     "output_type": "execute_result"
    }
   ],
   "source": [
    "df_rwb"
   ]
  },
  {
   "cell_type": "code",
   "execution_count": 26,
   "id": "6810f134-c512-42fd-a33d-33643f51b70e",
   "metadata": {},
   "outputs": [],
   "source": [
    "df_rwb = df_rwb.with_columns([pl.arange(1, len(df_rwb)+1,1).alias('index'), pl.lit(1).cast(pl.Int64).alias('from_rwb')])\n"
   ]
  },
  {
   "cell_type": "code",
   "execution_count": 34,
   "id": "dd1d6d95-4db8-43b7-ae37-1f2997580593",
   "metadata": {},
   "outputs": [],
   "source": [
    "df_rwb_s = df_rwb.select(['index', 'PAT_ENC_CSN_ID', 'FirstRace', 'Acuity_Level', 'Means_Of_Arrival', 'Arrived_Time', 'Chief_Complaint_All', 'Ethnicity', 'Sex', 'Patient_Age', 'Coverage_Financial_Class_Grouper', 'Primary_DX_Name', 'ED_Disposition', 'from_rwb'])"
   ]
  },
  {
   "cell_type": "code",
   "execution_count": 36,
   "id": "d30f667e-2f67-47b9-8f22-9d275dab970f",
   "metadata": {},
   "outputs": [],
   "source": [
    "df_agg_s = df_agg_s.with_columns([pl.arange(1, len(df_agg_s)+1,1).alias('index'), pl.lit(0).cast(pl.Int64).alias('from_rwb')])\n",
    "df_agg_s = df_agg_s.with_columns(\n",
    "    pl.col('Arrived_Time').str.strptime(pl.Datetime, \"%Y-%m-%d %H:%M:%S%.f\"),\n",
    ")"
   ]
  },
  {
   "cell_type": "code",
   "execution_count": 37,
   "id": "a1b49765-108a-437e-a532-1578b6d83967",
   "metadata": {},
   "outputs": [],
   "source": [
    "df_comb = pl.concat([df_agg_s, df_rwb_s.select(df_agg_s.columns)], how='vertical')"
   ]
  },
  {
   "cell_type": "code",
   "execution_count": 38,
   "id": "375bd810-f180-48e9-a33f-9262816a5c87",
   "metadata": {},
   "outputs": [],
   "source": [
    "df_comb.filter(pl.col('Arrived_Time')>=dt.datetime(2024, 4, 1)).write_parquet('/work/InternalMedicine/s223850/ED-StaticDynamic/raw_data/orig_rwb_comb_April2Oct2024.parquet')"
   ]
  },
  {
   "cell_type": "code",
   "execution_count": 65,
   "id": "1ecec1bc-6918-464b-bf92-fbc7ff9cc58a",
   "metadata": {},
   "outputs": [
    {
     "data": {
      "text/plain": [
       "OrderedDict([('index', Int64),\n",
       "             ('PAT_ENC_CSN_ID', Int64),\n",
       "             ('Race', String),\n",
       "             ('Acuity Abbr', String),\n",
       "             ('Arrival Method', String),\n",
       "             ('Arrived_Time', Datetime(time_unit='ns', time_zone=None)),\n",
       "             ('CC', String),\n",
       "             ('Ethnicity', String),\n",
       "             ('Sex', String),\n",
       "             ('Patient_Age', Float64),\n",
       "             ('Primary FC', String),\n",
       "             ('Primary Dx', String),\n",
       "             ('ED Disposition', String),\n",
       "             ('from_rwb', Int64)])"
      ]
     },
     "execution_count": 65,
     "metadata": {},
     "output_type": "execute_result"
    }
   ],
   "source": [
    "df_rwb_s.schema\n"
   ]
  },
  {
   "cell_type": "code",
   "execution_count": 67,
   "id": "17fdc5dd-0049-46d2-a10d-d7996a9033a8",
   "metadata": {},
   "outputs": [
    {
     "data": {
      "text/plain": [
       "OrderedDict([('PAT_ENC_CSN_ID', Int64),\n",
       "             ('Race', String),\n",
       "             ('Acuity Abbr', String),\n",
       "             ('Arrival Method', String),\n",
       "             ('Arrived_Time', Datetime(time_unit='ns', time_zone=None)),\n",
       "             ('CC', String),\n",
       "             ('Ethnicity', String),\n",
       "             ('Sex', String),\n",
       "             ('Patient_Age', Float64),\n",
       "             ('Primary FC', String),\n",
       "             ('Primary Dx', String),\n",
       "             ('ED Disposition', String),\n",
       "             ('index', Int64),\n",
       "             ('from_rwb', Int32)])"
      ]
     },
     "execution_count": 67,
     "metadata": {},
     "output_type": "execute_result"
    }
   ],
   "source": [
    "df_agg_s.schema"
   ]
  },
  {
   "cell_type": "code",
   "execution_count": null,
   "id": "df5eb1ba-77a6-4ae7-bb49-fbbe1f03b277",
   "metadata": {},
   "outputs": [],
   "source": []
  }
 ],
 "metadata": {
  "kernelspec": {
   "display_name": "Python 3 (ipykernel)",
   "language": "python",
   "name": "python3"
  },
  "language_info": {
   "codemirror_mode": {
    "name": "ipython",
    "version": 3
   },
   "file_extension": ".py",
   "mimetype": "text/x-python",
   "name": "python",
   "nbconvert_exporter": "python",
   "pygments_lexer": "ipython3",
   "version": "3.10.11"
  }
 },
 "nbformat": 4,
 "nbformat_minor": 5
}
