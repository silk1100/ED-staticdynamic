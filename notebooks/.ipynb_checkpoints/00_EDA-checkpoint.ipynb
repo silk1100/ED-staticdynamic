{
 "cells": [
  {
   "cell_type": "code",
   "execution_count": 1,
   "metadata": {},
   "outputs": [],
   "source": [
    "import pandas as pd"
   ]
  },
  {
   "cell_type": "code",
   "execution_count": 2,
   "metadata": {},
   "outputs": [],
   "source": [
    "df = pd.read_csv('/work/InternalMedicine/s223850/raw_data/ED Events - 11.21.23.csv')"
   ]
  },
  {
   "cell_type": "code",
   "execution_count": 3,
   "metadata": {},
   "outputs": [
    {
     "name": "stdout",
     "output_type": "stream",
     "text": [
      "<class 'pandas.core.frame.DataFrame'>\n",
      "RangeIndex: 16612859 entries, 0 to 16612858\n",
      "Data columns (total 29 columns):\n",
      " #   Column                                                                  Dtype  \n",
      "---  ------                                                                  -----  \n",
      " 0   PAT_ENC_CSN_ID                                                          int64  \n",
      " 1   PAT_MRN_ID                                                              int64  \n",
      " 2   PAT_ID                                                                  object \n",
      " 3   Ethnicity                                                               object \n",
      " 4   FirstRace                                                               object \n",
      " 5   MultiRacial                                                             int64  \n",
      " 6   Sex                                                                     object \n",
      " 7   Arrived_Time                                                            object \n",
      " 8   Admitted_YN                                                             object \n",
      " 9   Patient_Age                                                             float64\n",
      " 10  Acuity_Level                                                            object \n",
      " 11  Means_Of_Arrival                                                        object \n",
      " 12  Chief_Complaint                                                         object \n",
      " 13  Chief_Complaint_All                                                     object \n",
      " 14  Count_of_Chief_Complaints                                               int64  \n",
      " 15  Calculated_DateTime                                                     object \n",
      " 16  Coverage_Financial_Class_Grouper                                        object \n",
      " 17  Has Completed Appt in Last Seven Days                                   object \n",
      " 18  Has Hospital Encounter in Last Seven Days                               object \n",
      " 19  Number of Inpatient Admissions in the last 30 Days                      int64  \n",
      " 20  Number of past appointments in last 60 days                             int64  \n",
      " 21  Number of past inpatient admissions over ED visits in last three years  int64  \n",
      " 22  Type                                                                    object \n",
      " 23  EVENT_NAME                                                              object \n",
      " 24  Order_Status                                                            object \n",
      " 25  Result_Flag                                                             object \n",
      " 26  Primary_DX_Name                                                         object \n",
      " 27  Primary_DX_First_ICD10                                                  object \n",
      " 28  Primary_DX_ICD10                                                        object \n",
      "dtypes: float64(1), int64(7), object(21)\n",
      "memory usage: 3.6+ GB\n"
     ]
    }
   ],
   "source": [
    "df.info()"
   ]
  },
  {
   "cell_type": "code",
   "execution_count": 4,
   "metadata": {},
   "outputs": [],
   "source": [
    "df['Calculated_DateTime'] = pd.to_datetime(df['Calculated_DateTime'])\n",
    "df['Arrived_Time'] = pd.to_datetime(df['Arrived_Time'])"
   ]
  },
  {
   "cell_type": "code",
   "execution_count": 6,
   "metadata": {},
   "outputs": [],
   "source": [
    "df_uniq_cnts = df.groupby('PAT_ENC_CSN_ID').nunique()"
   ]
  },
  {
   "cell_type": "code",
   "execution_count": 8,
   "metadata": {},
   "outputs": [
    {
     "data": {
      "text/plain": [
       "PAT_MRN_ID                                                                120877\n",
       "PAT_ID                                                                    120877\n",
       "Ethnicity                                                                 120877\n",
       "FirstRace                                                                 119900\n",
       "MultiRacial                                                               120877\n",
       "Sex                                                                       120877\n",
       "Arrived_Time                                                              120877\n",
       "Admitted_YN                                                               120877\n",
       "Patient_Age                                                               120864\n",
       "Acuity_Level                                                              114450\n",
       "Means_Of_Arrival                                                          118943\n",
       "Chief_Complaint                                                           116626\n",
       "Chief_Complaint_All                                                       116626\n",
       "Count_of_Chief_Complaints                                                 120877\n",
       "Calculated_DateTime                                                         1824\n",
       "Coverage_Financial_Class_Grouper                                          120877\n",
       "Has Completed Appt in Last Seven Days                                     120877\n",
       "Has Hospital Encounter in Last Seven Days                                 120877\n",
       "Number of Inpatient Admissions in the last 30 Days                        120877\n",
       "Number of past appointments in last 60 days                               120877\n",
       "Number of past inpatient admissions over ED visits in last three years    120877\n",
       "Type                                                                        8027\n",
       "EVENT_NAME                                                                  1593\n",
       "Order_Status                                                               13741\n",
       "Result_Flag                                                                 3811\n",
       "Primary_DX_Name                                                            88676\n",
       "Primary_DX_First_ICD10                                                     89307\n",
       "Primary_DX_ICD10                                                           89233\n",
       "dtype: int64"
      ]
     },
     "execution_count": 8,
     "metadata": {},
     "output_type": "execute_result"
    }
   ],
   "source": [
    "(df_uniq_cnts==1).sum()"
   ]
  },
  {
   "cell_type": "code",
   "execution_count": 10,
   "metadata": {},
   "outputs": [
    {
     "data": {
      "text/plain": [
       "120877"
      ]
     },
     "execution_count": 10,
     "metadata": {},
     "output_type": "execute_result"
    }
   ],
   "source": [
    "df['PAT_ENC_CSN_ID'].nunique()"
   ]
  },
  {
   "cell_type": "code",
   "execution_count": null,
   "metadata": {},
   "outputs": [],
   "source": [
    "target = ['Admitted_YN']"
   ]
  },
  {
   "cell_type": "code",
   "execution_count": 11,
   "metadata": {},
   "outputs": [],
   "source": [
    "stationary_fields = ['PAT_MRN_ID', 'PAT_ID', 'Ethnicity', 'sex', 'MultiRacial', 'Arrived_Time', 'Admitted_YN', 'Patient_Age', \n",
    "                     'Coverage_Financial_Class_Grouper', 'Has Completed Appt in Last Seven Days', 'Has Hospital Encounter in Last Seven Days',\n",
    "                     'Number of Inpatient Admissions in the last 30 Days', 'Number of past appointments in last 60 days',\n",
    "                     'Number of past inpatient admissions over ED visits in last three years', 'Chief_Complaint_All', 'Means_Of_Arrival']"
   ]
  },
  {
   "cell_type": "code",
   "execution_count": null,
   "metadata": {},
   "outputs": [],
   "source": [
    "dynamic_fields = ['Type', 'EVENT_NAME', 'Order_Status', 'Result_Flag', 'Primary_DX_Name', 'Primary_DX_ICD10', 'Calculated_DateTime']"
   ]
  },
  {
   "cell_type": "code",
   "execution_count": null,
   "metadata": {},
   "outputs": [],
   "source": [
    "dropped_fields = ['PAT_MRN_ID', 'PAT_ID']"
   ]
  },
  {
   "cell_type": "code",
   "execution_count": null,
   "metadata": {},
   "outputs": [],
   "source": []
  }
 ],
 "metadata": {
  "interpreter": {
   "hash": "90fde8f917245aa7c139ffa42cbd05c96e2f972282473c18d1e9322ba4c4c555"
  },
  "kernelspec": {
   "display_name": "Python 3 (ipykernel)",
   "language": "python",
   "name": "python3"
  },
  "language_info": {
   "codemirror_mode": {
    "name": "ipython",
    "version": 3
   },
   "file_extension": ".py",
   "mimetype": "text/x-python",
   "name": "python",
   "nbconvert_exporter": "python",
   "pygments_lexer": "ipython3",
   "version": "3.10.11"
  }
 },
 "nbformat": 4,
 "nbformat_minor": 4
}
