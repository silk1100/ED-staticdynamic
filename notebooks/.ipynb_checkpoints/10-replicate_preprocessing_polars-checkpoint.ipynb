{
 "cells": [
  {
   "cell_type": "code",
   "execution_count": 3,
   "id": "0eaf451e-eb11-494f-b088-fa0d5ead8406",
   "metadata": {},
   "outputs": [],
   "source": [
    "import os\n",
    "import joblib\n",
    "import json\n",
    "import pandas as pd\n",
    "import matplotlib.pyplot as plt\n",
    "import seaborn as sns\n",
    "from collections import defaultdict, Counter\n",
    "import numpy as np\n",
    "import polars as pl\n",
    "from warnings import simplefilter\n",
    "import time\n",
    "simplefilter('ignore')\n",
    "%matplotlib inline"
   ]
  },
  {
   "cell_type": "code",
   "execution_count": 6,
   "id": "fa872f69-df32-42b7-b7e5-8a37de0e179d",
   "metadata": {},
   "outputs": [
    {
     "name": "stdout",
     "output_type": "stream",
     "text": [
      "Took polars to pandas:18.007650136947632 seconds\n"
     ]
    }
   ],
   "source": [
    "start = time.time()\n",
    "df = pl.read_csv('/work/InternalMedicine/s223850/ED-StaticDynamic/raw_data/ED Events - 12.21.23.csv',\n",
    "                 infer_schema_length=int(5e6),\n",
    "                 null_values=dict(Patient_Age='NULL'),\n",
    "                 dtypes=dict(Patient_Age=pl.Float64)\n",
    "                )\n",
    "dff = df.to_pandas()\n",
    "print(f'Took polars to pandas:{time.time()-start} seconds')"
   ]
  },
  {
   "cell_type": "code",
   "execution_count": 7,
   "id": "ab09bc61-2567-42e9-a8e7-789191a8947d",
   "metadata": {},
   "outputs": [
    {
     "name": "stdout",
     "output_type": "stream",
     "text": [
      "Took polars to pandas:54.40079712867737 seconds\n"
     ]
    }
   ],
   "source": [
    "start = time.time()\n",
    "df = pd.read_csv('/work/InternalMedicine/s223850/ED-StaticDynamic/raw_data/ED Events - 12.21.23.csv')\n",
    "print(f'Took polars to pandas:{time.time()-start} seconds')"
   ]
  },
  {
   "cell_type": "code",
   "execution_count": null,
   "id": "4c936dc9-0ea5-45c2-b867-af17fc8629b3",
   "metadata": {},
   "outputs": [],
   "source": []
  }
 ],
 "metadata": {
  "kernelspec": {
   "display_name": "Python 3 (ipykernel)",
   "language": "python",
   "name": "python3"
  },
  "language_info": {
   "codemirror_mode": {
    "name": "ipython",
    "version": 3
   },
   "file_extension": ".py",
   "mimetype": "text/x-python",
   "name": "python",
   "nbconvert_exporter": "python",
   "pygments_lexer": "ipython3",
   "version": "3.10.11"
  }
 },
 "nbformat": 4,
 "nbformat_minor": 5
}
