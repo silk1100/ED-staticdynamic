{
 "cells": [
  {
   "cell_type": "code",
   "execution_count": 1,
   "id": "99bb3d45-4448-4f67-b63a-ed29a60be673",
   "metadata": {},
   "outputs": [],
   "source": [
    "import os\n",
    "import joblib\n",
    "import json\n",
    "import pandas as pd\n",
    "import matplotlib.pyplot as plt\n",
    "import seaborn as sns\n",
    "from collections import defaultdict, Counter\n",
    "import numpy as np\n",
    "import polars as pl\n",
    "%matplotlib inline"
   ]
  },
  {
   "cell_type": "code",
   "execution_count": 2,
   "id": "5fa84938-71d5-4ded-b900-a24176048da4",
   "metadata": {},
   "outputs": [],
   "source": [
    "df = pl.read_csv('/work/InternalMedicine/s223850/ED-StaticDynamic/raw_data/ED Events - 12.21.23.csv',\n",
    "                infer_schema_length=int(1e6),\n",
    "                 null_values=dict(Patient_Age='NULL'),\n",
    "                 dtypes=dict(Patient_Age=pl.Float64)\n",
    "                )"
   ]
  },
  {
   "cell_type": "code",
   "execution_count": 3,
   "id": "4df33e01-f533-4220-8870-46b3e2bd81a5",
   "metadata": {},
   "outputs": [],
   "source": [
    "df = df.with_columns([\n",
    "    pl.col(\"Arrived_Time\").str.strptime(pl.Datetime, format=\"%Y-%m-%d %H:%M:%S%.f\"),\n",
    "    pl.col(\"Calculated_DateTime\").str.strptime(pl.Datetime, format=\"%Y-%m-%d %H:%M:%S%.f\"),\n",
    "])"
   ]
  },
  {
   "cell_type": "code",
   "execution_count": 18,
   "id": "0275cc29-ceae-4eb9-bb71-8e2040a26f0d",
   "metadata": {},
   "outputs": [],
   "source": [
    "# Include only admitted/discharged ed_disposition that occured in or after 2021 \n",
    "df = df.filter((pl.col(\"Calculated_DateTime\").dt.year()>=2021)&(pl.col(\"ED_Disposition\").is_not_null())&(pl.col(\"ED_Disposition\").is_in(['Admitted', 'Discharged']))).sort(\"Calculated_DateTime\")\n"
   ]
  },
  {
   "cell_type": "markdown",
   "id": "02367791-5744-410e-a2e9-538944356e07",
   "metadata": {},
   "source": [
    "# Add elapsed time and inverted elapsed time"
   ]
  },
  {
   "cell_type": "code",
   "execution_count": 19,
   "id": "9c00841e-1f83-465b-a035-e25279e31cab",
   "metadata": {},
   "outputs": [],
   "source": [
    "dd = df.group_by(\"PAT_ENC_CSN_ID\").map_groups(lambda x: x[:np.where(x['Type']=='Order - Admission')[0][0]+1] if 'Order - Admission' in x['Type'] else x)"
   ]
  },
  {
   "cell_type": "code",
   "execution_count": 20,
   "id": "3dcb8993-dbc2-4bd4-89a2-09bc4d656008",
   "metadata": {},
   "outputs": [],
   "source": [
    "de = dd.with_columns([\n",
    "    (pl.col(\"Calculated_DateTime\")-pl.col(\"Arrived_Time\")).dt.total_seconds().alias('elapsed_time_sec'),\n",
    "    (pl.col(\"Calculated_DateTime\")-pl.col(\"Arrived_Time\")).dt.total_hours().alias('elapsed_time_hr'),\n",
    "])"
   ]
  },
  {
   "cell_type": "code",
   "execution_count": 21,
   "id": "1cd8639a-12d3-44d5-8507-50efc87cd059",
   "metadata": {},
   "outputs": [],
   "source": [
    "dee = de.group_by(\n",
    "    'PAT_ENC_CSN_ID'\n",
    ").map_groups(\n",
    "    lambda x: x.with_columns((-1*(pl.col(\"elapsed_time_sec\")-x.get_column(\"elapsed_time_sec\")[-1])).alias('inv_elapsed_sec'))\n",
    ")\n",
    "dee = dee.with_columns(\n",
    "    (pl.col(\"inv_elapsed_sec\")/60).alias('inv_elapsed_min'),\n",
    "    (pl.col(\"inv_elapsed_sec\")/60/60).alias('inv_elapsed_hr'),\n",
    ")"
   ]
  },
  {
   "cell_type": "code",
   "execution_count": 22,
   "id": "68c1791d-e974-48c6-a15f-951324fae881",
   "metadata": {},
   "outputs": [
    {
     "name": "stderr",
     "output_type": "stream",
     "text": [
      "/tmp/ipykernel_6454/201789128.py:1: UserWarning: \n",
      "\n",
      "`distplot` is a deprecated function and will be removed in seaborn v0.14.0.\n",
      "\n",
      "Please adapt your code to use either `displot` (a figure-level function with\n",
      "similar flexibility) or `histplot` (an axes-level function for histograms).\n",
      "\n",
      "For a guide to updating your code to use the new functions, please see\n",
      "https://gist.github.com/mwaskom/de44147ed2974457ad6372750bbe5751\n",
      "\n",
      "  sns.distplot(dee.filter(pl.col('ED_Disposition')=='Admitted')['elapsed_time_hr'].to_numpy())\n"
     ]
    },
    {
     "data": {
      "text/plain": [
       "<Axes: ylabel='Density'>"
      ]
     },
     "execution_count": 22,
     "metadata": {},
     "output_type": "execute_result"
    },
    {
     "data": {
      "image/png": "[encoded data removed]",
      "text/plain": [
       "<Figure size 640x480 with 1 Axes>"
      ]
     },
     "metadata": {},
     "output_type": "display_data"
    }
   ],
   "source": [
    "sns.distplot(dee.filter(pl.col('ED_Disposition')=='Admitted')['elapsed_time_hr'].to_numpy())"
   ]
  },
  {
   "cell_type": "code",
   "execution_count": 29,
   "id": "7a79c17b-fdf7-4216-8083-69a137a71df2",
   "metadata": {},
   "outputs": [
    {
     "data": {
      "text/plain": [
       "array([[682315360, 'Event', 'Appointment Scheduled'],\n",
       "       [674253556, 'Lab Order - Result', 'ALBUMIN'],\n",
       "       [661002521, 'Event', 'Admission Order Rec Public Pend'],\n",
       "       [678090269, 'Order - Lab',\n",
       "        'HCV RNA,QN REAL-TIME PCR W/RFLX TO QL'],\n",
       "       [675563577, 'Lab Order - Result', 'ACETONE, UR'],\n",
       "       [673350250, 'Order - Procedures', 'Other Procedure'],\n",
       "       [653886989, 'Order - Procedures', 'PFT STANDARD TESTING'],\n",
       "       [691164107, 'Lab Order - Result', 'TOTAL PROTEIN'],\n",
       "       [686478815, 'Order - Procedures', 'INCISION AND DRAINAGE'],\n",
       "       [669649728, 'Order - Procedures', 'LACERATION REPAIR'],\n",
       "       [671203711, 'Order - Procedures', 'LACERATION REPAIR'],\n",
       "       [682806224, 'Order - Procedures', 'CHEST TUBE INSERTION'],\n",
       "       [689863507, 'Event', 'Admit started'],\n",
       "       [671621452, 'Event', 'Admission Order Rec Public Pend']],\n",
       "      dtype=object)"
      ]
     },
     "execution_count": 29,
     "metadata": {},
     "output_type": "execute_result"
    }
   ],
   "source": [
    "dee.filter(pl.col('elapsed_time_hr')<0).group_by('PAT_ENC_CSN_ID').agg(\n",
    "    [\n",
    "        pl.len().alias('count'),\n",
    "        pl.col('elapsed_time_hr').min().alias('min_elapsed_hr'),\n",
    "        pl.col('Arrived_Time').first(),\n",
    "        pl.col('Calculated_DateTime').first(),\n",
    "        pl.col('EVENT_NAME').first(),\n",
    "        pl.col('Type').first()\n",
    "    ]\n",
    ").sort('min_elapsed_hr').select(['PAT_ENC_CSN_ID', 'Type', 'EVENT_NAME']).to_numpy()"
   ]
  },
  {
   "cell_type": "code",
   "execution_count": 33,
   "id": "9436a1f2-6485-4914-ad8d-879e75121874",
   "metadata": {},
   "outputs": [
    {
     "ename": "ImportError",
     "evalue": "/home2/s223850/.conda/envs/ED/lib/python3.10/site-packages/zmq/backend/cython/../../../../.././libstdc++.so.6: version `GLIBCXX_3.4.30' not found (required by /home2/s223850/.conda/envs/ED/lib/python3.10/site-packages/pyarrow/../../../libarrow.so.900)",
     "output_type": "error",
     "traceback": [
      "\u001b[0;31m---------------------------------------------------------------------------\u001b[0m",
      "\u001b[0;31mImportError\u001b[0m                               Traceback (most recent call last)",
      "Cell \u001b[0;32mIn[33], line 1\u001b[0m\n\u001b[0;32m----> 1\u001b[0m \u001b[43mdf\u001b[49m\u001b[38;5;241;43m.\u001b[39;49m\u001b[43mfilter\u001b[49m\u001b[43m(\u001b[49m\u001b[43mpl\u001b[49m\u001b[38;5;241;43m.\u001b[39;49m\u001b[43mcol\u001b[49m\u001b[43m(\u001b[49m\u001b[38;5;124;43m'\u001b[39;49m\u001b[38;5;124;43mPAT_ENC_CSN_ID\u001b[39;49m\u001b[38;5;124;43m'\u001b[39;49m\u001b[43m)\u001b[49m\u001b[38;5;241;43m==\u001b[39;49m\u001b[38;5;241;43m691164107\u001b[39;49m\u001b[43m)\u001b[49m\u001b[38;5;241;43m.\u001b[39;49m\u001b[43mselect\u001b[49m\u001b[43m(\u001b[49m\u001b[43m[\u001b[49m\u001b[38;5;124;43m\"\u001b[39;49m\u001b[38;5;124;43mArrived_Time\u001b[39;49m\u001b[38;5;124;43m\"\u001b[39;49m\u001b[43m,\u001b[49m\u001b[43m \u001b[49m\u001b[38;5;124;43m\"\u001b[39;49m\u001b[38;5;124;43mCalculated_DateTime\u001b[39;49m\u001b[38;5;124;43m\"\u001b[39;49m\u001b[43m,\u001b[49m\u001b[43m \u001b[49m\u001b[38;5;124;43m\"\u001b[39;49m\u001b[38;5;124;43mType\u001b[39;49m\u001b[38;5;124;43m\"\u001b[39;49m\u001b[43m,\u001b[49m\u001b[43m \u001b[49m\u001b[38;5;124;43m\"\u001b[39;49m\u001b[38;5;124;43mEVENT_NAME\u001b[39;49m\u001b[38;5;124;43m\"\u001b[39;49m\u001b[43m]\u001b[49m\u001b[43m)\u001b[49m\u001b[38;5;241;43m.\u001b[39;49m\u001b[43mto_pandas\u001b[49m\u001b[43m(\u001b[49m\u001b[43m)\u001b[49m\n",
      "File \u001b[0;32m~/.conda/envs/ED/lib/python3.10/site-packages/polars/dataframe/frame.py:1710\u001b[0m, in \u001b[0;36mDataFrame.to_pandas\u001b[0;34m(self, use_pyarrow_extension_array, **kwargs)\u001b[0m\n\u001b[1;32m   1705\u001b[0m \u001b[38;5;28;01mif\u001b[39;00m Object \u001b[38;5;129;01min\u001b[39;00m \u001b[38;5;28mself\u001b[39m\u001b[38;5;241m.\u001b[39mdtypes:\n\u001b[1;32m   1706\u001b[0m     \u001b[38;5;28;01mreturn\u001b[39;00m \u001b[38;5;28mself\u001b[39m\u001b[38;5;241m.\u001b[39m_to_pandas_with_object_columns(\n\u001b[1;32m   1707\u001b[0m         use_pyarrow_extension_array\u001b[38;5;241m=\u001b[39muse_pyarrow_extension_array, \u001b[38;5;241m*\u001b[39m\u001b[38;5;241m*\u001b[39mkwargs\n\u001b[1;32m   1708\u001b[0m     )\n\u001b[0;32m-> 1710\u001b[0m \u001b[38;5;28;01mreturn\u001b[39;00m \u001b[38;5;28;43mself\u001b[39;49m\u001b[38;5;241;43m.\u001b[39;49m\u001b[43m_to_pandas_without_object_columns\u001b[49m\u001b[43m(\u001b[49m\n\u001b[1;32m   1711\u001b[0m \u001b[43m    \u001b[49m\u001b[38;5;28;43mself\u001b[39;49m\u001b[43m,\u001b[49m\u001b[43m \u001b[49m\u001b[43muse_pyarrow_extension_array\u001b[49m\u001b[38;5;241;43m=\u001b[39;49m\u001b[43muse_pyarrow_extension_array\u001b[49m\u001b[43m,\u001b[49m\u001b[43m \u001b[49m\u001b[38;5;241;43m*\u001b[39;49m\u001b[38;5;241;43m*\u001b[39;49m\u001b[43mkwargs\u001b[49m\n\u001b[1;32m   1712\u001b[0m \u001b[43m\u001b[49m\u001b[43m)\u001b[49m\n",
      "File \u001b[0;32m~/.conda/envs/ED/lib/python3.10/site-packages/polars/dataframe/frame.py:1761\u001b[0m, in \u001b[0;36mDataFrame._to_pandas_without_object_columns\u001b[0;34m(self, df, use_pyarrow_extension_array, **kwargs)\u001b[0m\n\u001b[1;32m   1758\u001b[0m \u001b[38;5;28;01mif\u001b[39;00m \u001b[38;5;129;01mnot\u001b[39;00m df\u001b[38;5;241m.\u001b[39mwidth:  \u001b[38;5;66;03m# Empty dataframe, cannot infer schema from batches\u001b[39;00m\n\u001b[1;32m   1759\u001b[0m     \u001b[38;5;28;01mreturn\u001b[39;00m pd\u001b[38;5;241m.\u001b[39mDataFrame()\n\u001b[0;32m-> 1761\u001b[0m record_batches \u001b[38;5;241m=\u001b[39m \u001b[43mdf\u001b[49m\u001b[38;5;241;43m.\u001b[39;49m\u001b[43m_df\u001b[49m\u001b[38;5;241;43m.\u001b[39;49m\u001b[43mto_pandas\u001b[49m\u001b[43m(\u001b[49m\u001b[43m)\u001b[49m\n\u001b[1;32m   1762\u001b[0m tbl \u001b[38;5;241m=\u001b[39m pa\u001b[38;5;241m.\u001b[39mTable\u001b[38;5;241m.\u001b[39mfrom_batches(record_batches)\n\u001b[1;32m   1763\u001b[0m \u001b[38;5;28;01mif\u001b[39;00m use_pyarrow_extension_array:\n",
      "File \u001b[0;32m~/.conda/envs/ED/lib/python3.10/site-packages/pyarrow/__init__.py:65\u001b[0m\n\u001b[1;32m     63\u001b[0m _gc_enabled \u001b[38;5;241m=\u001b[39m _gc\u001b[38;5;241m.\u001b[39misenabled()\n\u001b[1;32m     64\u001b[0m _gc\u001b[38;5;241m.\u001b[39mdisable()\n\u001b[0;32m---> 65\u001b[0m \u001b[38;5;28;01mimport\u001b[39;00m \u001b[38;5;21;01mpyarrow\u001b[39;00m\u001b[38;5;21;01m.\u001b[39;00m\u001b[38;5;21;01mlib\u001b[39;00m \u001b[38;5;28;01mas\u001b[39;00m \u001b[38;5;21;01m_lib\u001b[39;00m\n\u001b[1;32m     66\u001b[0m \u001b[38;5;28;01mif\u001b[39;00m _gc_enabled:\n\u001b[1;32m     67\u001b[0m     _gc\u001b[38;5;241m.\u001b[39menable()\n",
      "\u001b[0;31mImportError\u001b[0m: /home2/s223850/.conda/envs/ED/lib/python3.10/site-packages/zmq/backend/cython/../../../../.././libstdc++.so.6: version `GLIBCXX_3.4.30' not found (required by /home2/s223850/.conda/envs/ED/lib/python3.10/site-packages/pyarrow/../../../libarrow.so.900)"
     ]
    }
   ],
   "source": [
    "df.filter(pl.col('PAT_ENC_CSN_ID')==691164107).select([\"Arrived_Time\", \"Calculated_DateTime\", \"Type\", \"EVENT_NAME\"]).to_pandas()"
   ]
  },
  {
   "cell_type": "code",
   "execution_count": 17,
   "id": "ea86b7dd-e2a6-45e7-a3f3-250f0efd1227",
   "metadata": {},
   "outputs": [
    {
     "data": {
      "text/html": [
       "<div><style>\n",
       ".dataframe > thead > tr,\n",
       ".dataframe > tbody > tr {\n",
       "  text-align: right;\n",
       "  white-space: pre-wrap;\n",
       "}\n",
       "</style>\n",
       "<small>shape: (100, 31)</small><table border=\"1\" class=\"dataframe\"><thead><tr><th>PAT_ENC_CSN_ID</th><th>PAT_MRN_ID</th><th>PAT_ID</th><th>Ethnicity</th><th>FirstRace</th><th>MultiRacial</th><th>Sex</th><th>Arrived_Time</th><th>ED_Disposition</th><th>Admitted_YN</th><th>Patient_Age</th><th>Acuity_Level</th><th>Means_Of_Arrival</th><th>Chief_Complaint</th><th>Chief_Complaint_All</th><th>Count_of_Chief_Complaints</th><th>Calculated_DateTime</th><th>Coverage_Financial_Class_Grouper</th><th>Has Completed Appt in Last Seven Days</th><th>Has Hospital Encounter in Last Seven Days</th><th>Number of Inpatient Admissions in the last 30 Days</th><th>Number of past appointments in last 60 days</th><th>Number of past inpatient admissions over ED visits in last three years</th><th>Type</th><th>EVENT_NAME</th><th>ED_Location_YN</th><th>Order_Status</th><th>Result_Flag</th><th>Primary_DX_Name</th><th>Primary_DX_First_ICD10</th><th>Primary_DX_ICD10</th></tr><tr><td>i64</td><td>i64</td><td>str</td><td>str</td><td>str</td><td>i64</td><td>str</td><td>datetime[ns]</td><td>str</td><td>str</td><td>f64</td><td>str</td><td>str</td><td>str</td><td>str</td><td>i64</td><td>datetime[ns]</td><td>str</td><td>str</td><td>str</td><td>i64</td><td>i64</td><td>i64</td><td>str</td><td>str</td><td>str</td><td>str</td><td>str</td><td>str</td><td>str</td><td>str</td></tr></thead><tbody><tr><td>619927095</td><td>92441846</td><td>&quot;Z4900113&quot;</td><td>&quot;Non-Hispanic/L…</td><td>&quot;Unavailable/Un…</td><td>0</td><td>&quot;Female&quot;</td><td>2022-03-03 11:43:00</td><td>&quot;Discharged&quot;</td><td>&quot;Not Admitted&quot;</td><td>43.392197</td><td>&quot;NULL&quot;</td><td>&quot;Car&quot;</td><td>&quot;EYE PROBLEM&quot;</td><td>&quot;EYE PROBLEM&quot;</td><td>1</td><td>2019-11-14 10:18:28</td><td>&quot;Medicaid&quot;</td><td>&quot;Yes&quot;</td><td>&quot;No&quot;</td><td>0</td><td>16</td><td>0</td><td>&quot;Event&quot;</td><td>&quot;Emergency enco…</td><td>&quot;Yes&quot;</td><td>null</td><td>null</td><td>&quot;NULL&quot;</td><td>&quot;NULL&quot;</td><td>&quot;NULL&quot;</td></tr><tr><td>619927095</td><td>92441846</td><td>&quot;Z4900113&quot;</td><td>&quot;Non-Hispanic/L…</td><td>&quot;Unavailable/Un…</td><td>0</td><td>&quot;Female&quot;</td><td>2022-03-03 11:43:00</td><td>&quot;Discharged&quot;</td><td>&quot;Not Admitted&quot;</td><td>43.392197</td><td>&quot;NULL&quot;</td><td>&quot;Car&quot;</td><td>&quot;EYE PROBLEM&quot;</td><td>&quot;EYE PROBLEM&quot;</td><td>1</td><td>2019-11-14 10:18:35</td><td>&quot;Medicaid&quot;</td><td>&quot;Yes&quot;</td><td>&quot;No&quot;</td><td>0</td><td>16</td><td>0</td><td>&quot;Event&quot;</td><td>&quot;Admission FAM …</td><td>&quot;Yes&quot;</td><td>null</td><td>null</td><td>&quot;NULL&quot;</td><td>&quot;NULL&quot;</td><td>&quot;NULL&quot;</td></tr><tr><td>619927095</td><td>92441846</td><td>&quot;Z4900113&quot;</td><td>&quot;Non-Hispanic/L…</td><td>&quot;Unavailable/Un…</td><td>0</td><td>&quot;Female&quot;</td><td>2022-03-03 11:43:00</td><td>&quot;Discharged&quot;</td><td>&quot;Not Admitted&quot;</td><td>43.392197</td><td>&quot;NULL&quot;</td><td>&quot;Car&quot;</td><td>&quot;EYE PROBLEM&quot;</td><td>&quot;EYE PROBLEM&quot;</td><td>1</td><td>2019-11-14 10:18:35</td><td>&quot;Medicaid&quot;</td><td>&quot;Yes&quot;</td><td>&quot;No&quot;</td><td>0</td><td>16</td><td>0</td><td>&quot;Event&quot;</td><td>&quot;Admission Med …</td><td>&quot;Yes&quot;</td><td>null</td><td>null</td><td>&quot;NULL&quot;</td><td>&quot;NULL&quot;</td><td>&quot;NULL&quot;</td></tr><tr><td>619927095</td><td>92441846</td><td>&quot;Z4900113&quot;</td><td>&quot;Non-Hispanic/L…</td><td>&quot;Unavailable/Un…</td><td>0</td><td>&quot;Female&quot;</td><td>2022-03-03 11:43:00</td><td>&quot;Discharged&quot;</td><td>&quot;Not Admitted&quot;</td><td>43.392197</td><td>&quot;NULL&quot;</td><td>&quot;Car&quot;</td><td>&quot;EYE PROBLEM&quot;</td><td>&quot;EYE PROBLEM&quot;</td><td>1</td><td>2019-11-14 10:18:35</td><td>&quot;Medicaid&quot;</td><td>&quot;Yes&quot;</td><td>&quot;No&quot;</td><td>0</td><td>16</td><td>0</td><td>&quot;Event&quot;</td><td>&quot;Prev Admission…</td><td>&quot;Yes&quot;</td><td>null</td><td>null</td><td>&quot;NULL&quot;</td><td>&quot;NULL&quot;</td><td>&quot;NULL&quot;</td></tr><tr><td>619927095</td><td>92441846</td><td>&quot;Z4900113&quot;</td><td>&quot;Non-Hispanic/L…</td><td>&quot;Unavailable/Un…</td><td>0</td><td>&quot;Female&quot;</td><td>2022-03-03 11:43:00</td><td>&quot;Discharged&quot;</td><td>&quot;Not Admitted&quot;</td><td>43.392197</td><td>&quot;II&quot;</td><td>&quot;Car&quot;</td><td>&quot;EYE PROBLEM&quot;</td><td>&quot;EYE PROBLEM&quot;</td><td>1</td><td>2019-11-14 10:19:52</td><td>&quot;Medicaid&quot;</td><td>&quot;Yes&quot;</td><td>&quot;No&quot;</td><td>0</td><td>16</td><td>0</td><td>&quot;Event&quot;</td><td>&quot;ED SECONDARY T…</td><td>&quot;Yes&quot;</td><td>null</td><td>null</td><td>&quot;NULL&quot;</td><td>&quot;NULL&quot;</td><td>&quot;NULL&quot;</td></tr><tr><td>&hellip;</td><td>&hellip;</td><td>&hellip;</td><td>&hellip;</td><td>&hellip;</td><td>&hellip;</td><td>&hellip;</td><td>&hellip;</td><td>&hellip;</td><td>&hellip;</td><td>&hellip;</td><td>&hellip;</td><td>&hellip;</td><td>&hellip;</td><td>&hellip;</td><td>&hellip;</td><td>&hellip;</td><td>&hellip;</td><td>&hellip;</td><td>&hellip;</td><td>&hellip;</td><td>&hellip;</td><td>&hellip;</td><td>&hellip;</td><td>&hellip;</td><td>&hellip;</td><td>&hellip;</td><td>&hellip;</td><td>&hellip;</td><td>&hellip;</td><td>&hellip;</td></tr><tr><td>619927095</td><td>92441846</td><td>&quot;Z4900113&quot;</td><td>&quot;Non-Hispanic/L…</td><td>&quot;Unavailable/Un…</td><td>0</td><td>&quot;Female&quot;</td><td>2022-03-03 11:43:00</td><td>&quot;Discharged&quot;</td><td>&quot;Not Admitted&quot;</td><td>43.392197</td><td>&quot;II&quot;</td><td>&quot;Car&quot;</td><td>&quot;EYE PROBLEM&quot;</td><td>&quot;EYE PROBLEM&quot;</td><td>1</td><td>2019-11-14 14:41:58</td><td>&quot;Medicaid&quot;</td><td>&quot;Yes&quot;</td><td>&quot;No&quot;</td><td>0</td><td>16</td><td>0</td><td>&quot;Event&quot;</td><td>&quot;Discharge Stat…</td><td>&quot;Yes&quot;</td><td>null</td><td>null</td><td>&quot;Abdominal pain…</td><td>&quot;R10.9&quot;</td><td>&quot;R10.9&quot;</td></tr><tr><td>619927095</td><td>92441846</td><td>&quot;Z4900113&quot;</td><td>&quot;Non-Hispanic/L…</td><td>&quot;Unavailable/Un…</td><td>0</td><td>&quot;Female&quot;</td><td>2022-03-03 11:43:00</td><td>&quot;Discharged&quot;</td><td>&quot;Not Admitted&quot;</td><td>43.392197</td><td>&quot;II&quot;</td><td>&quot;Car&quot;</td><td>&quot;EYE PROBLEM&quot;</td><td>&quot;EYE PROBLEM&quot;</td><td>1</td><td>2019-11-14 14:43:12</td><td>&quot;Medicaid&quot;</td><td>&quot;Yes&quot;</td><td>&quot;No&quot;</td><td>0</td><td>16</td><td>0</td><td>&quot;Event&quot;</td><td>&quot;FAM Discharge …</td><td>&quot;Yes&quot;</td><td>null</td><td>null</td><td>&quot;Abdominal disc…</td><td>&quot;R10.32&quot;</td><td>&quot;R10.32&quot;</td></tr><tr><td>619927095</td><td>92441846</td><td>&quot;Z4900113&quot;</td><td>&quot;Non-Hispanic/L…</td><td>&quot;Unavailable/Un…</td><td>0</td><td>&quot;Female&quot;</td><td>2022-03-03 11:43:00</td><td>&quot;Discharged&quot;</td><td>&quot;Not Admitted&quot;</td><td>43.392197</td><td>&quot;II&quot;</td><td>&quot;Car&quot;</td><td>&quot;EYE PROBLEM&quot;</td><td>&quot;EYE PROBLEM&quot;</td><td>1</td><td>2019-11-14 14:43:12</td><td>&quot;Medicaid&quot;</td><td>&quot;Yes&quot;</td><td>&quot;No&quot;</td><td>0</td><td>16</td><td>0</td><td>&quot;Event&quot;</td><td>&quot;AVS Printed&quot;</td><td>&quot;Yes&quot;</td><td>null</td><td>null</td><td>&quot;Abdominal disc…</td><td>&quot;R10.32&quot;</td><td>&quot;R10.32&quot;</td></tr><tr><td>619927095</td><td>92441846</td><td>&quot;Z4900113&quot;</td><td>&quot;Non-Hispanic/L…</td><td>&quot;Unavailable/Un…</td><td>0</td><td>&quot;Female&quot;</td><td>2022-03-03 11:43:00</td><td>&quot;Discharged&quot;</td><td>&quot;Not Admitted&quot;</td><td>43.392197</td><td>&quot;II&quot;</td><td>&quot;Car&quot;</td><td>&quot;EYE PROBLEM&quot;</td><td>&quot;EYE PROBLEM&quot;</td><td>1</td><td>2019-11-14 14:43:12</td><td>&quot;Medicaid&quot;</td><td>&quot;Yes&quot;</td><td>&quot;No&quot;</td><td>0</td><td>16</td><td>0</td><td>&quot;Event&quot;</td><td>&quot;Discharge AVS …</td><td>&quot;Yes&quot;</td><td>null</td><td>null</td><td>&quot;Abdominal disc…</td><td>&quot;R10.32&quot;</td><td>&quot;R10.32&quot;</td></tr><tr><td>619927095</td><td>92441846</td><td>&quot;Z4900113&quot;</td><td>&quot;Non-Hispanic/L…</td><td>&quot;Unavailable/Un…</td><td>0</td><td>&quot;Female&quot;</td><td>2022-03-03 11:43:00</td><td>&quot;Discharged&quot;</td><td>&quot;Not Admitted&quot;</td><td>43.392197</td><td>&quot;II&quot;</td><td>&quot;Car&quot;</td><td>&quot;EYE PROBLEM&quot;</td><td>&quot;EYE PROBLEM&quot;</td><td>1</td><td>2019-11-14 14:43:53</td><td>&quot;Medicaid&quot;</td><td>&quot;Yes&quot;</td><td>&quot;No&quot;</td><td>0</td><td>16</td><td>0</td><td>&quot;Event&quot;</td><td>&quot;ED Note Filed&quot;</td><td>&quot;Yes&quot;</td><td>null</td><td>null</td><td>&quot;Abdominal disc…</td><td>&quot;R10.32&quot;</td><td>&quot;R10.32&quot;</td></tr></tbody></table></div>"
      ],
      "text/plain": [
       "shape: (100, 31)\n",
       "┌───────────┬───────────┬──────────┬───────────┬───┬───────────┬───────────┬───────────┬───────────┐\n",
       "│ PAT_ENC_C ┆ PAT_MRN_I ┆ PAT_ID   ┆ Ethnicity ┆ … ┆ Result_Fl ┆ Primary_D ┆ Primary_D ┆ Primary_D │\n",
       "│ SN_ID     ┆ D         ┆ ---      ┆ ---       ┆   ┆ ag        ┆ X_Name    ┆ X_First_I ┆ X_ICD10   │\n",
       "│ ---       ┆ ---       ┆ str      ┆ str       ┆   ┆ ---       ┆ ---       ┆ CD10      ┆ ---       │\n",
       "│ i64       ┆ i64       ┆          ┆           ┆   ┆ str       ┆ str       ┆ ---       ┆ str       │\n",
       "│           ┆           ┆          ┆           ┆   ┆           ┆           ┆ str       ┆           │\n",
       "╞═══════════╪═══════════╪══════════╪═══════════╪═══╪═══════════╪═══════════╪═══════════╪═══════════╡\n",
       "│ 619927095 ┆ 92441846  ┆ Z4900113 ┆ Non-Hispa ┆ … ┆ null      ┆ NULL      ┆ NULL      ┆ NULL      │\n",
       "│           ┆           ┆          ┆ nic/Latin ┆   ┆           ┆           ┆           ┆           │\n",
       "│           ┆           ┆          ┆ o         ┆   ┆           ┆           ┆           ┆           │\n",
       "│ 619927095 ┆ 92441846  ┆ Z4900113 ┆ Non-Hispa ┆ … ┆ null      ┆ NULL      ┆ NULL      ┆ NULL      │\n",
       "│           ┆           ┆          ┆ nic/Latin ┆   ┆           ┆           ┆           ┆           │\n",
       "│           ┆           ┆          ┆ o         ┆   ┆           ┆           ┆           ┆           │\n",
       "│ 619927095 ┆ 92441846  ┆ Z4900113 ┆ Non-Hispa ┆ … ┆ null      ┆ NULL      ┆ NULL      ┆ NULL      │\n",
       "│           ┆           ┆          ┆ nic/Latin ┆   ┆           ┆           ┆           ┆           │\n",
       "│           ┆           ┆          ┆ o         ┆   ┆           ┆           ┆           ┆           │\n",
       "│ 619927095 ┆ 92441846  ┆ Z4900113 ┆ Non-Hispa ┆ … ┆ null      ┆ NULL      ┆ NULL      ┆ NULL      │\n",
       "│           ┆           ┆          ┆ nic/Latin ┆   ┆           ┆           ┆           ┆           │\n",
       "│           ┆           ┆          ┆ o         ┆   ┆           ┆           ┆           ┆           │\n",
       "│ 619927095 ┆ 92441846  ┆ Z4900113 ┆ Non-Hispa ┆ … ┆ null      ┆ NULL      ┆ NULL      ┆ NULL      │\n",
       "│           ┆           ┆          ┆ nic/Latin ┆   ┆           ┆           ┆           ┆           │\n",
       "│           ┆           ┆          ┆ o         ┆   ┆           ┆           ┆           ┆           │\n",
       "│ …         ┆ …         ┆ …        ┆ …         ┆ … ┆ …         ┆ …         ┆ …         ┆ …         │\n",
       "│ 619927095 ┆ 92441846  ┆ Z4900113 ┆ Non-Hispa ┆ … ┆ null      ┆ Abdominal ┆ R10.9     ┆ R10.9     │\n",
       "│           ┆           ┆          ┆ nic/Latin ┆   ┆           ┆ pain, uns ┆           ┆           │\n",
       "│           ┆           ┆          ┆ o         ┆   ┆           ┆ pecified  ┆           ┆           │\n",
       "│           ┆           ┆          ┆           ┆   ┆           ┆ abdo…     ┆           ┆           │\n",
       "│ 619927095 ┆ 92441846  ┆ Z4900113 ┆ Non-Hispa ┆ … ┆ null      ┆ Abdominal ┆ R10.32    ┆ R10.32    │\n",
       "│           ┆           ┆          ┆ nic/Latin ┆   ┆           ┆ discomfor ┆           ┆           │\n",
       "│           ┆           ┆          ┆ o         ┆   ┆           ┆ t in left ┆           ┆           │\n",
       "│           ┆           ┆          ┆           ┆   ┆           ┆ low…      ┆           ┆           │\n",
       "│ 619927095 ┆ 92441846  ┆ Z4900113 ┆ Non-Hispa ┆ … ┆ null      ┆ Abdominal ┆ R10.32    ┆ R10.32    │\n",
       "│           ┆           ┆          ┆ nic/Latin ┆   ┆           ┆ discomfor ┆           ┆           │\n",
       "│           ┆           ┆          ┆ o         ┆   ┆           ┆ t in left ┆           ┆           │\n",
       "│           ┆           ┆          ┆           ┆   ┆           ┆ low…      ┆           ┆           │\n",
       "│ 619927095 ┆ 92441846  ┆ Z4900113 ┆ Non-Hispa ┆ … ┆ null      ┆ Abdominal ┆ R10.32    ┆ R10.32    │\n",
       "│           ┆           ┆          ┆ nic/Latin ┆   ┆           ┆ discomfor ┆           ┆           │\n",
       "│           ┆           ┆          ┆ o         ┆   ┆           ┆ t in left ┆           ┆           │\n",
       "│           ┆           ┆          ┆           ┆   ┆           ┆ low…      ┆           ┆           │\n",
       "│ 619927095 ┆ 92441846  ┆ Z4900113 ┆ Non-Hispa ┆ … ┆ null      ┆ Abdominal ┆ R10.32    ┆ R10.32    │\n",
       "│           ┆           ┆          ┆ nic/Latin ┆   ┆           ┆ discomfor ┆           ┆           │\n",
       "│           ┆           ┆          ┆ o         ┆   ┆           ┆ t in left ┆           ┆           │\n",
       "│           ┆           ┆          ┆           ┆   ┆           ┆ low…      ┆           ┆           │\n",
       "└───────────┴───────────┴──────────┴───────────┴───┴───────────┴───────────┴───────────┴───────────┘"
      ]
     },
     "execution_count": 17,
     "metadata": {},
     "output_type": "execute_result"
    }
   ],
   "source": [
    "df.filter(pl.col('Calculated_DateTime').dt.year()<2021).sort('Calculated_DateTime')"
   ]
  },
  {
   "cell_type": "code",
   "execution_count": null,
   "id": "f286de32-feba-4ff2-ad56-6b882afbfbae",
   "metadata": {},
   "outputs": [],
   "source": []
  }
 ],
 "metadata": {
  "kernelspec": {
   "display_name": "Python 3 (ipykernel)",
   "language": "python",
   "name": "python3"
  },
  "language_info": {
   "codemirror_mode": {
    "name": "ipython",
    "version": 3
   },
   "file_extension": ".py",
   "mimetype": "text/x-python",
   "name": "python",
   "nbconvert_exporter": "python",
   "pygments_lexer": "ipython3",
   "version": "3.10.11"
  }
 },
 "nbformat": 4,
 "nbformat_minor": 5
}
