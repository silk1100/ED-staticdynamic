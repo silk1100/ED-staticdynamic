{
 "cells": [
  {
   "cell_type": "code",
   "execution_count": 3,
   "id": "c142f58f-6d0d-4283-993b-75c93c4714d0",
   "metadata": {},
   "outputs": [],
   "source": [
    "import joblib\n",
    "import polars as pl\n",
    "import pandas as pd\n",
    "import numpy as np\n",
    "from pandas.tseries.holiday import USFederalHolidayCalendar\n",
    "import time"
   ]
  },
  {
   "cell_type": "code",
   "execution_count": 5,
   "id": "474b2db7-d8f3-404b-a872-c4124a5dfcca",
   "metadata": {},
   "outputs": [],
   "source": [
    "# output_dir = \"/work/InternalMedicine/s223850/ED-StaticDynamic/raw_data/ED_EVENTS_6624_clean.joblib\"\n",
    "output_dir = \"../src/ED_EVENTS_6624_clean.joblib\""
   ]
  },
  {
   "cell_type": "code",
   "execution_count": 6,
   "id": "d4494436-ce17-4f9d-ab61-8abb9c27a043",
   "metadata": {},
   "outputs": [],
   "source": [
    "with open(output_dir, 'rb') as f:\n",
    "    df = joblib.load(f)"
   ]
  },
  {
   "cell_type": "code",
   "execution_count": 4,
   "id": "8f72d758-d362-42c5-8320-76abce81c0bf",
   "metadata": {},
   "outputs": [
    {
     "data": {
      "text/plain": [
       "['PAT_ENC_CSN_ID',\n",
       " 'PAT_MRN_ID',\n",
       " 'PAT_ID',\n",
       " 'Ethnicity',\n",
       " 'FirstRace',\n",
       " 'MultiRacial',\n",
       " 'Sex',\n",
       " 'Arrived_Time',\n",
       " 'ED_Disposition',\n",
       " 'Admitted_YN',\n",
       " 'Patient_Age',\n",
       " 'Acuity_Level',\n",
       " 'Means_Of_Arrival',\n",
       " 'Chief_Complaint',\n",
       " 'Chief_Complaint_All',\n",
       " 'Count_of_Chief_Complaints',\n",
       " 'Calculated_DateTime',\n",
       " 'Coverage_Financial_Class_Grouper',\n",
       " 'Dispo_Prov_Admission_Rate',\n",
       " 'ProblemList_Sixty_Admission_YN',\n",
       " 'ProblemList_Eighty_Admission_YN',\n",
       " 'Procedure in the Last 4 Weeks',\n",
       " 'Has Completed Appt in Last Seven Days',\n",
       " 'Has Hospital Encounter in Last Seven Days',\n",
       " 'Number of Inpatient Admissions in the last 30 Days',\n",
       " 'Number of past appointments in last 60 days',\n",
       " 'Number of past inpatient admissions over ED visits in last three years',\n",
       " 'Type',\n",
       " 'EVENT_NAME',\n",
       " 'ED_Location_YN',\n",
       " 'Order_Status',\n",
       " 'Result_Flag',\n",
       " 'MEAS_VALUE',\n",
       " 'Primary_DX_Name',\n",
       " 'Primary_DX_First_ICD10',\n",
       " 'Primary_DX_ICD10',\n",
       " 'has_admit_order',\n",
       " 'n_admit_orders',\n",
       " 'n_disch_orders',\n",
       " 'elapsed_time_min',\n",
       " 'event_idx',\n",
       " 'tta',\n",
       " 'eidx_ed',\n",
       " 'cc_list',\n",
       " 'dxcode_list',\n",
       " 'EVENT_NAME_NORM',\n",
       " 'Type_NORM',\n",
       " 'arr_day',\n",
       " 'arr_dow',\n",
       " 'arr_year',\n",
       " 'arr_month',\n",
       " 'arr_hour',\n",
       " 'holiday',\n",
       " 'type_name',\n",
       " 'MEAS_VALUE_UP',\n",
       " 'MEAS_VALUE_Weight',\n",
       " 'MEAS_VALUE_Temp',\n",
       " 'MEAS_VALUE_BP',\n",
       " 'MEAS_VALUE_SpO2',\n",
       " 'MEAS_VALUE_BSA (Dubois Calc)',\n",
       " 'MEAS_VALUE_(0-10) Pain Rating: Activity',\n",
       " 'MEAS_VALUE_BP (MAP)',\n",
       " 'MEAS_VALUE_BMI (Calculated)',\n",
       " 'MEAS_VALUE_(0-10) Pain Rating: Rest',\n",
       " 'MEAS_VALUE_Resp',\n",
       " 'MEAS_VALUE_Pulse']"
      ]
     },
     "execution_count": 4,
     "metadata": {},
     "output_type": "execute_result"
    }
   ],
   "source": [
    "df.columns"
   ]
  },
  {
   "cell_type": "code",
   "execution_count": 8,
   "id": "9e03b7dc-8cd7-4e0a-b982-653b8c4966d1",
   "metadata": {},
   "outputs": [],
   "source": [
    "static_cols =     [\n",
    "         \"Ethnicity\", \"FirstRace\", \"Sex\", \"Acuity_Level\", \"Means_Of_Arrival\",\n",
    "        \"cc_list\", \"Coverage_Financial_Class_Grouper\", \"Procedure in the Last 4 Weeks\",\n",
    "        \"Has Completed Appt in Last Seven Days\", \"Has Hospital Encounter in Last Seven Days\", \"MultiRacial\",\n",
    "        \"Patient_Age\", \"Dispo_Prov_Admission_Rate\", \"Number of Inpatient Admissions in the last 30 Days\",\n",
    "        \"Number of past appointments in last 60 days\", \"Number of past inpatient admissions over ED visits in last three years\",\n",
    "       \"ProblemList_Sixty_Admission_YN\", \"ProblemList_Eighty_Admission_YN\",\n",
    "        'arr_year', 'arr_month','arr_day','arr_hour', 'holiday' ,\"Arrived_Time\", \n",
    "    ]"
   ]
  },
  {
   "cell_type": "code",
   "execution_count": 6,
   "id": "570eefa5-3ab5-4882-b288-ddb3c9fc3259",
   "metadata": {},
   "outputs": [],
   "source": [
    "df_static = df.select(\n",
    "    static_cols\n",
    ")"
   ]
  },
  {
   "cell_type": "markdown",
   "id": "e0f4ac57-dbea-485b-83bf-62392260e5b7",
   "metadata": {},
   "source": [
    "# Create static dictionary"
   ]
  },
  {
   "cell_type": "code",
   "execution_count": 24,
   "id": "4f32b154-c7bc-42df-b1b2-887d87973547",
   "metadata": {},
   "outputs": [],
   "source": [
    "USCal = USFederalHolidayCalendar()\n",
    "def get_holiday(x):\n",
    "    # n = USCal.holidays(pd.to_datetime(x), pd.to_datetime(x), return_name=True)\n",
    "    n = USCal.holidays(x, x, return_name=True)\n",
    "\n",
    "    if len(n) == 0:\n",
    "        return 'null'\n",
    "    else:\n",
    "        return n.iloc[0]"
   ]
  },
  {
   "cell_type": "code",
   "execution_count": 25,
   "id": "82776ec2-4336-4019-8eeb-14dabed9e92f",
   "metadata": {},
   "outputs": [
    {
     "data": {
      "text/plain": [
       "\"New Year's Day\""
      ]
     },
     "execution_count": 25,
     "metadata": {},
     "output_type": "execute_result"
    }
   ],
   "source": [
    "get_holiday(\"2024-01-01\")"
   ]
  },
  {
   "cell_type": "code",
   "execution_count": 26,
   "id": "e58ff06f-fde5-4e54-834f-76ed4f8ecfd5",
   "metadata": {},
   "outputs": [],
   "source": [
    "df_static = df_static.with_columns(\n",
    "    pl.col('Arrived_Time').map_elements(lambda x: get_holiday(x.date()), return_dtype=pl.String).alias('holiday')\n",
    ")"
   ]
  },
  {
   "cell_type": "code",
   "execution_count": 22,
   "id": "4167f166-bfd1-4a53-8be3-0dea9c68fb63",
   "metadata": {},
   "outputs": [
    {
     "ename": "DuplicateError",
     "evalue": "unable to hstack, column with name \"holiday_right\" already exists",
     "output_type": "error",
     "traceback": [
      "\u001b[0;31m---------------------------------------------------------------------------\u001b[0m",
      "\u001b[0;31mDuplicateError\u001b[0m                            Traceback (most recent call last)",
      "Cell \u001b[0;32mIn[22], line 12\u001b[0m\n\u001b[1;32m     10\u001b[0m df_holiday[\u001b[38;5;124m'\u001b[39m\u001b[38;5;124marr_date\u001b[39m\u001b[38;5;124m'\u001b[39m] \u001b[38;5;241m=\u001b[39m df_holiday[\u001b[38;5;124m'\u001b[39m\u001b[38;5;124marr_date\u001b[39m\u001b[38;5;124m'\u001b[39m]\u001b[38;5;241m.\u001b[39mdt\u001b[38;5;241m.\u001b[39mdate\n\u001b[1;32m     11\u001b[0m df_holiday \u001b[38;5;241m=\u001b[39m pl\u001b[38;5;241m.\u001b[39mDataFrame(df_holiday)\n\u001b[0;32m---> 12\u001b[0m df_static \u001b[38;5;241m=\u001b[39m \u001b[43mdf_static\u001b[49m\u001b[38;5;241;43m.\u001b[39;49m\u001b[43mjoin\u001b[49m\u001b[43m(\u001b[49m\u001b[43mdf_holiday\u001b[49m\u001b[43m,\u001b[49m\u001b[43m \u001b[49m\u001b[43mon\u001b[49m\u001b[38;5;241;43m=\u001b[39;49m\u001b[38;5;124;43m'\u001b[39;49m\u001b[38;5;124;43marr_date\u001b[39;49m\u001b[38;5;124;43m'\u001b[39;49m\u001b[43m,\u001b[49m\u001b[43m \u001b[49m\u001b[43mhow\u001b[49m\u001b[38;5;241;43m=\u001b[39;49m\u001b[38;5;124;43m'\u001b[39;49m\u001b[38;5;124;43mleft\u001b[39;49m\u001b[38;5;124;43m'\u001b[39;49m\u001b[43m)\u001b[49m\n",
      "File \u001b[0;32m~/.conda/envs/ED/lib/python3.10/site-packages/polars/dataframe/frame.py:5968\u001b[0m, in \u001b[0;36mDataFrame.join\u001b[0;34m(self, other, on, how, left_on, right_on, suffix, validate, join_nulls)\u001b[0m\n\u001b[1;32m   5964\u001b[0m     msg \u001b[38;5;241m=\u001b[39m \u001b[38;5;124mf\u001b[39m\u001b[38;5;124m\"\u001b[39m\u001b[38;5;124mexpected `other` join table to be a DataFrame, got \u001b[39m\u001b[38;5;132;01m{\u001b[39;00m\u001b[38;5;28mtype\u001b[39m(other)\u001b[38;5;241m.\u001b[39m\u001b[38;5;18m__name__\u001b[39m\u001b[38;5;132;01m!r}\u001b[39;00m\u001b[38;5;124m\"\u001b[39m\n\u001b[1;32m   5965\u001b[0m     \u001b[38;5;28;01mraise\u001b[39;00m \u001b[38;5;167;01mTypeError\u001b[39;00m(msg)\n\u001b[1;32m   5967\u001b[0m \u001b[38;5;28;01mreturn\u001b[39;00m (\n\u001b[0;32m-> 5968\u001b[0m     \u001b[38;5;28;43mself\u001b[39;49m\u001b[38;5;241;43m.\u001b[39;49m\u001b[43mlazy\u001b[49m\u001b[43m(\u001b[49m\u001b[43m)\u001b[49m\n\u001b[1;32m   5969\u001b[0m \u001b[43m    \u001b[49m\u001b[38;5;241;43m.\u001b[39;49m\u001b[43mjoin\u001b[49m\u001b[43m(\u001b[49m\n\u001b[1;32m   5970\u001b[0m \u001b[43m        \u001b[49m\u001b[43mother\u001b[49m\u001b[38;5;241;43m=\u001b[39;49m\u001b[43mother\u001b[49m\u001b[38;5;241;43m.\u001b[39;49m\u001b[43mlazy\u001b[49m\u001b[43m(\u001b[49m\u001b[43m)\u001b[49m\u001b[43m,\u001b[49m\n\u001b[1;32m   5971\u001b[0m \u001b[43m        \u001b[49m\u001b[43mleft_on\u001b[49m\u001b[38;5;241;43m=\u001b[39;49m\u001b[43mleft_on\u001b[49m\u001b[43m,\u001b[49m\n\u001b[1;32m   5972\u001b[0m \u001b[43m        \u001b[49m\u001b[43mright_on\u001b[49m\u001b[38;5;241;43m=\u001b[39;49m\u001b[43mright_on\u001b[49m\u001b[43m,\u001b[49m\n\u001b[1;32m   5973\u001b[0m \u001b[43m        \u001b[49m\u001b[43mon\u001b[49m\u001b[38;5;241;43m=\u001b[39;49m\u001b[43mon\u001b[49m\u001b[43m,\u001b[49m\n\u001b[1;32m   5974\u001b[0m \u001b[43m        \u001b[49m\u001b[43mhow\u001b[49m\u001b[38;5;241;43m=\u001b[39;49m\u001b[43mhow\u001b[49m\u001b[43m,\u001b[49m\n\u001b[1;32m   5975\u001b[0m \u001b[43m        \u001b[49m\u001b[43msuffix\u001b[49m\u001b[38;5;241;43m=\u001b[39;49m\u001b[43msuffix\u001b[49m\u001b[43m,\u001b[49m\n\u001b[1;32m   5976\u001b[0m \u001b[43m        \u001b[49m\u001b[43mvalidate\u001b[49m\u001b[38;5;241;43m=\u001b[39;49m\u001b[43mvalidate\u001b[49m\u001b[43m,\u001b[49m\n\u001b[1;32m   5977\u001b[0m \u001b[43m        \u001b[49m\u001b[43mjoin_nulls\u001b[49m\u001b[38;5;241;43m=\u001b[39;49m\u001b[43mjoin_nulls\u001b[49m\u001b[43m,\u001b[49m\n\u001b[1;32m   5978\u001b[0m \u001b[43m    \u001b[49m\u001b[43m)\u001b[49m\n\u001b[1;32m   5979\u001b[0m \u001b[43m    \u001b[49m\u001b[38;5;241;43m.\u001b[39;49m\u001b[43mcollect\u001b[49m\u001b[43m(\u001b[49m\u001b[43m_eager\u001b[49m\u001b[38;5;241;43m=\u001b[39;49m\u001b[38;5;28;43;01mTrue\u001b[39;49;00m\u001b[43m)\u001b[49m\n\u001b[1;32m   5980\u001b[0m )\n",
      "File \u001b[0;32m~/.conda/envs/ED/lib/python3.10/site-packages/polars/lazyframe/frame.py:1708\u001b[0m, in \u001b[0;36mLazyFrame.collect\u001b[0;34m(self, type_coercion, predicate_pushdown, projection_pushdown, simplify_expression, slice_pushdown, comm_subplan_elim, comm_subexpr_elim, no_optimization, streaming, background, _eager)\u001b[0m\n\u001b[1;32m   1705\u001b[0m \u001b[38;5;28;01mif\u001b[39;00m background:\n\u001b[1;32m   1706\u001b[0m     \u001b[38;5;28;01mreturn\u001b[39;00m InProcessQuery(ldf\u001b[38;5;241m.\u001b[39mcollect_concurrently())\n\u001b[0;32m-> 1708\u001b[0m \u001b[38;5;28;01mreturn\u001b[39;00m wrap_df(\u001b[43mldf\u001b[49m\u001b[38;5;241;43m.\u001b[39;49m\u001b[43mcollect\u001b[49m\u001b[43m(\u001b[49m\u001b[43m)\u001b[49m)\n",
      "\u001b[0;31mDuplicateError\u001b[0m: unable to hstack, column with name \"holiday_right\" already exists"
     ]
    }
   ],
   "source": [
    "# Add holiday optimized version (Already implemented in prepare_data.py)\n",
    "df_static = df_static.with_columns(\n",
    "    pl.col('Arrived_Time').dt.date().alias('arr_date')\n",
    ")\n",
    "start = df_static['Arrived_Time'].to_pandas().min()\n",
    "end = df_static['Arrived_Time'].to_pandas().max()\n",
    "\n",
    "df_holiday = USCal.holidays(start, end, return_name=True).to_frame().reset_index()\n",
    "df_holiday.columns = ['arr_date', 'holiday']\n",
    "df_holiday['arr_date'] = df_holiday['arr_date'].dt.date\n",
    "df_holiday = pl.DataFrame(df_holiday)\n",
    "df_static = df_static.join(df_holiday, on='arr_date', how='left')"
   ]
  },
  {
   "cell_type": "code",
   "execution_count": 29,
   "id": "35afc675-6956-4d6e-8b5a-0d80fb48b89e",
   "metadata": {},
   "outputs": [
    {
     "data": {
      "text/plain": [
       "0"
      ]
     },
     "execution_count": 29,
     "metadata": {},
     "output_type": "execute_result"
    }
   ],
   "source": [
    "(df_static['holiday_right']!=df_static['holiday']).sum()"
   ]
  },
  {
   "cell_type": "code",
   "execution_count": 14,
   "id": "ca5a19ad-3760-4a99-8cb5-1f240b5e941b",
   "metadata": {},
   "outputs": [
    {
     "data": {
      "text/html": [
       "<div><style>\n",
       ".dataframe > thead > tr,\n",
       ".dataframe > tbody > tr {\n",
       "  text-align: right;\n",
       "  white-space: pre-wrap;\n",
       "}\n",
       "</style>\n",
       "<small>shape: (22, 2)</small><table border=\"1\" class=\"dataframe\"><thead><tr><th>arr_date</th><th>holiday</th></tr><tr><td>datetime[ns]</td><td>str</td></tr></thead><tbody><tr><td>2022-06-20 00:00:00</td><td>&quot;Juneteenth Nat…</td></tr><tr><td>2022-07-04 00:00:00</td><td>&quot;Independence D…</td></tr><tr><td>2022-09-05 00:00:00</td><td>&quot;Labor Day&quot;</td></tr><tr><td>2022-10-10 00:00:00</td><td>&quot;Columbus Day&quot;</td></tr><tr><td>2022-11-11 00:00:00</td><td>&quot;Veterans Day&quot;</td></tr><tr><td>&hellip;</td><td>&hellip;</td></tr><tr><td>2023-12-25 00:00:00</td><td>&quot;Christmas Day&quot;</td></tr><tr><td>2024-01-01 00:00:00</td><td>&quot;New Year&#x27;s Day…</td></tr><tr><td>2024-01-15 00:00:00</td><td>&quot;Birthday of Ma…</td></tr><tr><td>2024-02-19 00:00:00</td><td>&quot;Washington’s B…</td></tr><tr><td>2024-05-27 00:00:00</td><td>&quot;Memorial Day&quot;</td></tr></tbody></table></div>"
      ],
      "text/plain": [
       "shape: (22, 2)\n",
       "┌─────────────────────┬───────────────────────────────────┐\n",
       "│ arr_date            ┆ holiday                           │\n",
       "│ ---                 ┆ ---                               │\n",
       "│ datetime[ns]        ┆ str                               │\n",
       "╞═════════════════════╪═══════════════════════════════════╡\n",
       "│ 2022-06-20 00:00:00 ┆ Juneteenth National Independence… │\n",
       "│ 2022-07-04 00:00:00 ┆ Independence Day                  │\n",
       "│ 2022-09-05 00:00:00 ┆ Labor Day                         │\n",
       "│ 2022-10-10 00:00:00 ┆ Columbus Day                      │\n",
       "│ 2022-11-11 00:00:00 ┆ Veterans Day                      │\n",
       "│ …                   ┆ …                                 │\n",
       "│ 2023-12-25 00:00:00 ┆ Christmas Day                     │\n",
       "│ 2024-01-01 00:00:00 ┆ New Year's Day                    │\n",
       "│ 2024-01-15 00:00:00 ┆ Birthday of Martin Luther King, … │\n",
       "│ 2024-02-19 00:00:00 ┆ Washington’s Birthday             │\n",
       "│ 2024-05-27 00:00:00 ┆ Memorial Day                      │\n",
       "└─────────────────────┴───────────────────────────────────┘"
      ]
     },
     "execution_count": 14,
     "metadata": {},
     "output_type": "execute_result"
    }
   ],
   "source": [
    "pl.DataFrame(df_holiday)"
   ]
  },
  {
   "cell_type": "code",
   "execution_count": 90,
   "id": "7d78864a-f13b-4d6a-82ae-ec974a346c1b",
   "metadata": {},
   "outputs": [
    {
     "data": {
      "text/html": [
       "<div><style>\n",
       ".dataframe > thead > tr,\n",
       ".dataframe > tbody > tr {\n",
       "  text-align: right;\n",
       "  white-space: pre-wrap;\n",
       "}\n",
       "</style>\n",
       "<small>shape: (12, 2)</small><table border=\"1\" class=\"dataframe\"><thead><tr><th>holname</th><th>count</th></tr><tr><td>str</td><td>u32</td></tr></thead><tbody><tr><td>&quot;Washington’s B…</td><td>54851</td></tr><tr><td>&quot;null&quot;</td><td>17308018</td></tr><tr><td>&quot;Juneteenth Nat…</td><td>58921</td></tr><tr><td>&quot;Veterans Day&quot;</td><td>47643</td></tr><tr><td>&quot;Thanksgiving D…</td><td>29213</td></tr><tr><td>&hellip;</td><td>&hellip;</td></tr><tr><td>&quot;New Year&#x27;s Day…</td><td>48347</td></tr><tr><td>&quot;Independence D…</td><td>40398</td></tr><tr><td>&quot;Birthday of Ma…</td><td>42755</td></tr><tr><td>&quot;Labor Day&quot;</td><td>48559</td></tr><tr><td>&quot;Columbus Day&quot;</td><td>58795</td></tr></tbody></table></div>"
      ],
      "text/plain": [
       "shape: (12, 2)\n",
       "┌───────────────────────────────────┬──────────┐\n",
       "│ holname                           ┆ count    │\n",
       "│ ---                               ┆ ---      │\n",
       "│ str                               ┆ u32      │\n",
       "╞═══════════════════════════════════╪══════════╡\n",
       "│ Washington’s Birthday             ┆ 54851    │\n",
       "│ null                              ┆ 17308018 │\n",
       "│ Juneteenth National Independence… ┆ 58921    │\n",
       "│ Veterans Day                      ┆ 47643    │\n",
       "│ Thanksgiving Day                  ┆ 29213    │\n",
       "│ …                                 ┆ …        │\n",
       "│ New Year's Day                    ┆ 48347    │\n",
       "│ Independence Day                  ┆ 40398    │\n",
       "│ Birthday of Martin Luther King, … ┆ 42755    │\n",
       "│ Labor Day                         ┆ 48559    │\n",
       "│ Columbus Day                      ┆ 58795    │\n",
       "└───────────────────────────────────┴──────────┘"
      ]
     },
     "execution_count": 90,
     "metadata": {},
     "output_type": "execute_result"
    }
   ],
   "source": [
    "df_static['holname'].value_counts()"
   ]
  },
  {
   "cell_type": "code",
   "execution_count": 26,
   "id": "a56a29cf-0ad7-431b-9e9c-85f86a602d3d",
   "metadata": {},
   "outputs": [
    {
     "data": {
      "text/html": [
       "<div><style>\n",
       ".dataframe > thead > tr,\n",
       ".dataframe > tbody > tr {\n",
       "  text-align: right;\n",
       "  white-space: pre-wrap;\n",
       "}\n",
       "</style>\n",
       "<small>shape: (8, 2)</small><table border=\"1\" class=\"dataframe\"><thead><tr><th>Ethnicity</th><th>count</th></tr><tr><td>str</td><td>u32</td></tr></thead><tbody><tr><td>&quot;Black or Afric…</td><td>1955</td></tr><tr><td>&quot;Non-Hispanic/L…</td><td>14001138</td></tr><tr><td>&quot;Asian&quot;</td><td>150</td></tr><tr><td>&quot;Hispanic or La…</td><td>3431154</td></tr><tr><td>&quot;American India…</td><td>2546</td></tr><tr><td>&quot;Unknown&quot;</td><td>280707</td></tr><tr><td>&quot;White&quot;</td><td>3610</td></tr><tr><td>&quot;Declined&quot;</td><td>115746</td></tr></tbody></table></div>"
      ],
      "text/plain": [
       "shape: (8, 2)\n",
       "┌──────────────────────────────────┬──────────┐\n",
       "│ Ethnicity                        ┆ count    │\n",
       "│ ---                              ┆ ---      │\n",
       "│ str                              ┆ u32      │\n",
       "╞══════════════════════════════════╪══════════╡\n",
       "│ Black or African American        ┆ 1955     │\n",
       "│ Non-Hispanic/Latino              ┆ 14001138 │\n",
       "│ Asian                            ┆ 150      │\n",
       "│ Hispanic or Latino               ┆ 3431154  │\n",
       "│ American Indian or Alaska Native ┆ 2546     │\n",
       "│ Unknown                          ┆ 280707   │\n",
       "│ White                            ┆ 3610     │\n",
       "│ Declined                         ┆ 115746   │\n",
       "└──────────────────────────────────┴──────────┘"
      ]
     },
     "execution_count": 26,
     "metadata": {},
     "output_type": "execute_result"
    }
   ],
   "source": [
    "df_static['Ethnicity'].value_counts()"
   ]
  },
  {
   "cell_type": "code",
   "execution_count": 35,
   "id": "47e1510b-94d6-44fa-adb6-d535707732dd",
   "metadata": {},
   "outputs": [],
   "source": [
    "null_vals = [None,\n",
    "             'none',\n",
    "             'null', \n",
    "             'unknown',\n",
    "             'undefined',\n",
    "             '*unspecified',\n",
    "             'unspecified']"
   ]
  },
  {
   "cell_type": "code",
   "execution_count": 36,
   "id": "d3ea0c7d-e185-4946-aed9-c286478aa91c",
   "metadata": {},
   "outputs": [],
   "source": [
    "static_dict = {}\n",
    "for col in df_static.columns:\n",
    "    if df_static[col].dtype == pl.String:\n",
    "        static_dict[col] = {'null': 0, 'unk':1}\n",
    "        for v in df_static[col].value_counts().sort(by='count', descending=True)[col]:\n",
    "            if v is not None and v.lower().strip() not in null_vals: # null list\n",
    "                static_dict[col][v] = len(static_dict[col])"
   ]
  },
  {
   "cell_type": "code",
   "execution_count": 37,
   "id": "f3ce2581-045e-4fca-b56b-a776601229ed",
   "metadata": {},
   "outputs": [
    {
     "data": {
      "text/plain": [
       "dict_keys(['null', 'unk', 'Juneteenth National Independence Day', 'Columbus Day', 'Washington’s Birthday', 'Memorial Day', 'Labor Day', 'Christmas Day', \"New Year's Day\", 'Veterans Day', 'Birthday of Martin Luther King, Jr.', 'Independence Day', 'Thanksgiving Day'])"
      ]
     },
     "execution_count": 37,
     "metadata": {},
     "output_type": "execute_result"
    }
   ],
   "source": [
    "static_dict['holiday'].keys()"
   ]
  },
  {
   "cell_type": "code",
   "execution_count": 38,
   "id": "304f02e4-e816-4519-9975-1b2a89917ffb",
   "metadata": {},
   "outputs": [],
   "source": [
    "thresh = 1.0\n",
    "inc_cc_df = df_static['cc_list'].explode().value_counts().sort(by='count', descending=True).with_columns(\n",
    "    pl.col('count').cum_sum().alias('cumsum')\n",
    ").with_columns((pl.col('cumsum')/pl.col('cumsum').last()).alias('prob')).with_columns( (pl.col('prob')<=thresh).cast(pl.UInt32).alias('included') )"
   ]
  },
  {
   "cell_type": "code",
   "execution_count": 105,
   "id": "526e6243-d7cc-4b4c-bac0-ca4e0f81d12d",
   "metadata": {},
   "outputs": [
    {
     "data": {
      "text/html": [
       "<div><style>\n",
       ".dataframe > thead > tr,\n",
       ".dataframe > tbody > tr {\n",
       "  text-align: right;\n",
       "  white-space: pre-wrap;\n",
       "}\n",
       "</style>\n",
       "<small>shape: (575, 5)</small><table border=\"1\" class=\"dataframe\"><thead><tr><th>cc_list</th><th>count</th><th>cumsum</th><th>prob</th><th>included</th></tr><tr><td>str</td><td>u32</td><td>u32</td><td>f64</td><td>u32</td></tr></thead><tbody><tr><td>&quot;abdominalpain&quot;</td><td>2719692</td><td>2719692</td><td>0.12189</td><td>1</td></tr><tr><td>&quot;chestpain&quot;</td><td>1642000</td><td>4361692</td><td>0.19548</td><td>1</td></tr><tr><td>&quot;breathingprobl…</td><td>1571989</td><td>5933681</td><td>0.265932</td><td>1</td></tr><tr><td>&quot;generalizedwea…</td><td>701351</td><td>6635032</td><td>0.297365</td><td>1</td></tr><tr><td>&quot;headache&quot;</td><td>640195</td><td>7275227</td><td>0.326057</td><td>1</td></tr><tr><td>&hellip;</td><td>&hellip;</td><td>&hellip;</td><td>&hellip;</td><td>&hellip;</td></tr><tr><td>&quot;concussion&quot;</td><td>29</td><td>22312648</td><td>0.999996</td><td>1</td></tr><tr><td>&quot;postsurgicalfo…</td><td>25</td><td>22312673</td><td>0.999997</td><td>1</td></tr><tr><td>&quot;eyesurgery&quot;</td><td>22</td><td>22312695</td><td>0.999998</td><td>1</td></tr><tr><td>&quot;consultonly&quot;</td><td>21</td><td>22312716</td><td>0.999999</td><td>1</td></tr><tr><td>&quot;erf/u&quot;</td><td>21</td><td>22312737</td><td>1.0</td><td>1</td></tr></tbody></table></div>"
      ],
      "text/plain": [
       "shape: (575, 5)\n",
       "┌──────────────────────┬─────────┬──────────┬──────────┬──────────┐\n",
       "│ cc_list              ┆ count   ┆ cumsum   ┆ prob     ┆ included │\n",
       "│ ---                  ┆ ---     ┆ ---      ┆ ---      ┆ ---      │\n",
       "│ str                  ┆ u32     ┆ u32      ┆ f64      ┆ u32      │\n",
       "╞══════════════════════╪═════════╪══════════╪══════════╪══════════╡\n",
       "│ abdominalpain        ┆ 2719692 ┆ 2719692  ┆ 0.12189  ┆ 1        │\n",
       "│ chestpain            ┆ 1642000 ┆ 4361692  ┆ 0.19548  ┆ 1        │\n",
       "│ breathingproblem     ┆ 1571989 ┆ 5933681  ┆ 0.265932 ┆ 1        │\n",
       "│ generalizedweakness  ┆ 701351  ┆ 6635032  ┆ 0.297365 ┆ 1        │\n",
       "│ headache             ┆ 640195  ┆ 7275227  ┆ 0.326057 ┆ 1        │\n",
       "│ …                    ┆ …       ┆ …        ┆ …        ┆ …        │\n",
       "│ concussion           ┆ 29      ┆ 22312648 ┆ 0.999996 ┆ 1        │\n",
       "│ postsurgicalfollowup ┆ 25      ┆ 22312673 ┆ 0.999997 ┆ 1        │\n",
       "│ eyesurgery           ┆ 22      ┆ 22312695 ┆ 0.999998 ┆ 1        │\n",
       "│ consultonly          ┆ 21      ┆ 22312716 ┆ 0.999999 ┆ 1        │\n",
       "│ erf/u                ┆ 21      ┆ 22312737 ┆ 1.0      ┆ 1        │\n",
       "└──────────────────────┴─────────┴──────────┴──────────┴──────────┘"
      ]
     },
     "execution_count": 105,
     "metadata": {},
     "output_type": "execute_result"
    }
   ],
   "source": [
    "inc_cc_df"
   ]
  },
  {
   "cell_type": "code",
   "execution_count": 39,
   "id": "6d7b8949-c046-471a-80fb-44d0e81ce22f",
   "metadata": {},
   "outputs": [],
   "source": [
    "cc_dict = {'null':0, 'unk':1}\n",
    "for v in inc_cc_df.filter(pl.col('included')==1)['cc_list']:\n",
    "    if v not in null_vals:\n",
    "        cc_dict[v] = len(cc_dict)"
   ]
  },
  {
   "cell_type": "code",
   "execution_count": 112,
   "id": "fd507774-1cc1-490d-8981-e96d1fa9ef75",
   "metadata": {
    "collapsed": true,
    "jupyter": {
     "outputs_hidden": true
    }
   },
   "outputs": [
    {
     "data": {
      "text/plain": [
       "{'null': 0,\n",
       " 'unk': 1,\n",
       " 'abdominalpain': 2,\n",
       " 'chestpain': 3,\n",
       " 'breathingproblem': 4,\n",
       " 'generalizedweakness': 5,\n",
       " 'headache': 6,\n",
       " 'falls': 7,\n",
       " 'fever': 8,\n",
       " 'dizziness': 9,\n",
       " 'other': 10,\n",
       " 'abnormaltests': 11,\n",
       " 'backpain': 12,\n",
       " 'flulikesymptoms': 13,\n",
       " 'nauseaandvomiting': 14,\n",
       " 'cough': 15,\n",
       " 'flankpain': 16,\n",
       " 'vomiting': 17,\n",
       " 'alteredmentalstatus': 18,\n",
       " 'legpain': 19,\n",
       " 'nausea': 20,\n",
       " 'pain': 21,\n",
       " 'diarrhea': 22,\n",
       " 'eyeproblem': 23,\n",
       " 'syncope': 24,\n",
       " 'swelling': 25,\n",
       " 'palpitations': 26,\n",
       " 'vaginalbleeding': 27,\n",
       " 'fatigue': 28,\n",
       " 'legswelling': 29,\n",
       " 'psychiatricevaluation': 30,\n",
       " 'seizures': 31,\n",
       " 'numbness': 32,\n",
       " 'extremityweakness': 33,\n",
       " 'bloodpressure': 34,\n",
       " 'hematuria': 35,\n",
       " 'suicidal': 36,\n",
       " 'rectalbleeding': 37,\n",
       " 'hypotension': 38,\n",
       " 'sobatrest': 39,\n",
       " 'armpain': 40,\n",
       " 'hypertension': 41,\n",
       " 'sicklecellcrisis': 42,\n",
       " 'lowbackpain': 43,\n",
       " 'motorvehiclecrash': 44,\n",
       " 'throatproblem': 45,\n",
       " 'footpain': 46,\n",
       " 'neckpain': 47,\n",
       " 'confusion': 48,\n",
       " 'hippain': 49,\n",
       " 'kneepain': 50,\n",
       " 'postopcomplaints': 51,\n",
       " 'psychiatricproblem': 52,\n",
       " 'shoulderpain': 53,\n",
       " 'constipation': 54,\n",
       " 'rectalproblem': 55,\n",
       " 'rash': 56,\n",
       " 'woundcheck': 57,\n",
       " 'burningwithurination': 58,\n",
       " 'speechproblem': 59,\n",
       " 'chills': 60,\n",
       " 'woundinfection': 61,\n",
       " 'urinarytractsymptoms': 62,\n",
       " 'urinaryretention': 63,\n",
       " 'tachycardia': 64,\n",
       " 'abscess': 65,\n",
       " 'hyperglycemia': 66,\n",
       " 'nonhealing': 67,\n",
       " 'wound': 68,\n",
       " 'abdominalswelling': 69,\n",
       " 'bloodsugarproblem': 70,\n",
       " 'earproblem': 71,\n",
       " 'facialdroop': 72,\n",
       " 'allergicreaction': 73,\n",
       " 'anklepain': 74,\n",
       " 'groinpain': 75,\n",
       " 'edema': 76,\n",
       " 'bleeding/bruising': 77,\n",
       " 'eyepain': 78,\n",
       " 'hematemesis': 79,\n",
       " 'anxiety': 80,\n",
       " 'catheterproblemsissues': 81,\n",
       " 'facialswelling': 82,\n",
       " 'headpain': 83,\n",
       " 'dermproblem': 84,\n",
       " 'handpain': 85,\n",
       " 'labwork': 86,\n",
       " 'urinaryfrequency': 87,\n",
       " 'testicularpain': 88,\n",
       " 'lethargic': 89,\n",
       " 'laceration': 90,\n",
       " 'hemoptysis': 91,\n",
       " 'fingerpain': 92,\n",
       " 'ribpain': 93,\n",
       " 'feedingtubeproblem': 94,\n",
       " 'appetiteproblem': 95,\n",
       " 'sore': 96,\n",
       " 'tingling': 97,\n",
       " 'troubleswallowing': 98,\n",
       " 'sobwithactivity': 99,\n",
       " 'armswelling': 100,\n",
       " 'toepain': 101,\n",
       " 'hallucinations': 102,\n",
       " 'alcoholproblem': 103,\n",
       " 'lossofvision': 104,\n",
       " 'depression': 105,\n",
       " 'tremors': 106,\n",
       " 'congestion': 107,\n",
       " 'nosebleeds': 108,\n",
       " 'jawpain': 109,\n",
       " 'lowerextremityweakness': 110,\n",
       " 'headinjury': 111,\n",
       " 'uti': 112,\n",
       " 'pharyngitis': 113,\n",
       " 'poorbalance': 114,\n",
       " 'increasedtemperature': 115,\n",
       " 'hypoglycemia': 116,\n",
       " 'bradycardia': 117,\n",
       " 'aphasia': 118,\n",
       " 'analpain': 119,\n",
       " 'drugoverdose': 120,\n",
       " 'visualchanges': 121,\n",
       " 'assaultvictim': 122,\n",
       " 'facialpain': 123,\n",
       " 'penis/scrotumproblem': 124,\n",
       " 'wristpain': 125,\n",
       " 'respiratorydistress': 126,\n",
       " 'toothpain': 127,\n",
       " 'epistaxis': 128,\n",
       " 'inabilitytourinate': 129,\n",
       " 'weightloss': 130,\n",
       " 'vaginaldischarge': 131,\n",
       " 'breastpain': 132,\n",
       " 'dentalpain': 133,\n",
       " 'infection': 134,\n",
       " 'jointpain': 135,\n",
       " 'vaginalpain': 136,\n",
       " 'asthma': 137,\n",
       " 'musclepain': 138,\n",
       " 'animalbite': 139,\n",
       " 'panicattack': 140,\n",
       " 'alcoholintoxication': 141,\n",
       " 'insectbite': 142,\n",
       " 'drainagefromincision': 143,\n",
       " 'shaking': 144,\n",
       " 'medicationrequest': 145,\n",
       " 'nasalcongestion': 146,\n",
       " 'stroke': 147,\n",
       " 'changes/ptube': 148,\n",
       " 'abnormallabwork': 149,\n",
       " 'arminjury': 150,\n",
       " 'heartburn': 151,\n",
       " 'neurologicproblem': 152,\n",
       " 'suicideattempt': 153,\n",
       " 'dentalproblem': 154,\n",
       " 'handinjury': 155,\n",
       " 'jaundice': 156,\n",
       " 'ostomyproblem': 157,\n",
       " 'vaginalproblem': 158,\n",
       " 'urinaryincontinence': 159,\n",
       " 'shoulderinjury': 160,\n",
       " 'withdrawal': 161,\n",
       " 'memoryloss': 162,\n",
       " 'abnormalmovements': 163,\n",
       " 'surgical': 164,\n",
       " 'mouth/lipproblem': 165,\n",
       " 'sleepproblem': 166,\n",
       " 'leginjury': 167,\n",
       " 'hemodialysisaccessocclusion': 168,\n",
       " 'frequenturination/urgency': 169,\n",
       " 'gaitabnormality': 170,\n",
       " 'kneeinjury': 171,\n",
       " 'dehydration': 172,\n",
       " 'difficultywalking': 173,\n",
       " 'eyeinjury': 174,\n",
       " 'anemia': 175,\n",
       " 'groinswelling': 176,\n",
       " 'wristinjury': 177,\n",
       " 'cellulitis': 178,\n",
       " 'aicdproblem': 179,\n",
       " 'kidneyproblem': 180,\n",
       " 'emesisduringpregnancy': 181,\n",
       " 'giproblem': 182,\n",
       " 'atrialfibrillation': 183,\n",
       " 'cysts': 184,\n",
       " 'irregularbleeding': 185,\n",
       " 'toeinjury': 186,\n",
       " 'dysphagia': 187,\n",
       " 'drugproblem': 188,\n",
       " 'difficultyswallowing': 189,\n",
       " 'exposuretostd': 190,\n",
       " 'trauma': 191,\n",
       " 'failuretothrive': 192,\n",
       " 'hernia': 193,\n",
       " 'tongueproblem': 194,\n",
       " 'spasms': 195,\n",
       " 'breastproblem': 196,\n",
       " 'alcoholabuse': 197,\n",
       " 'bleedinggums': 198,\n",
       " 'scrotalpain': 199,\n",
       " 'bump': 200,\n",
       " 'neckmass': 201,\n",
       " 'incisionalpain': 202,\n",
       " 'urinaryhesitancy': 203,\n",
       " 'pacemakerproblem': 204,\n",
       " 'medicationreaction': 205,\n",
       " 'heartproblem': 206,\n",
       " 'vaginalitching': 207,\n",
       " 'lump': 208,\n",
       " 'arrhythmia': 209,\n",
       " 'dvt': 210,\n",
       " 'burn': 211,\n",
       " 'blister': 212,\n",
       " 'bladderpain': 213,\n",
       " 'hearingproblem': 214,\n",
       " 'oralswelling': 215,\n",
       " 'medicationproblem': 216,\n",
       " 'buttoxpain': 217,\n",
       " 'hiccups': 218,\n",
       " 'agitation': 219,\n",
       " 'manicbehavior': 220,\n",
       " 'exposure': 221,\n",
       " 'urinaryurgency': 222,\n",
       " 'wounddehiscence': 223,\n",
       " 'lesions': 224,\n",
       " 'rhinorrhoea': 225,\n",
       " 'supraventriculartachycardia': 226,\n",
       " 'heatexposure': 227,\n",
       " 'std': 228,\n",
       " 'eyedrainage': 229,\n",
       " 'homicidal': 230,\n",
       " 'peniledischarge': 231,\n",
       " 'priapism': 232,\n",
       " 'changefoleycatheter': 233,\n",
       " 'elevatedbloodpressure': 234,\n",
       " 'earfullness': 235,\n",
       " 'abdominaldistention': 236,\n",
       " 'sinusproblem': 237,\n",
       " 'refillrequest': 238,\n",
       " 'kidneystones': 239,\n",
       " 'leakingurine': 240,\n",
       " 'behavioralproblem': 241,\n",
       " 'headlaceration': 242,\n",
       " 'mass': 243,\n",
       " 'chronicpelvicpain': 244,\n",
       " 'drains': 245,\n",
       " 'fecalincontinence': 246,\n",
       " 'tinnitus': 247,\n",
       " 'musculoskeletalproblem': 248,\n",
       " 'weightgain': 249,\n",
       " 'mouthlesions': 250,\n",
       " 'swallowedforeignbody': 251,\n",
       " 'menstrualproblem': 252,\n",
       " 'eyelidproblems': 253,\n",
       " 'suture/stapleremoval': 254,\n",
       " 'inguinal': 255,\n",
       " 'hemodialysiscomplications': 256,\n",
       " 'livertestabnormalities': 257,\n",
       " 'aggressivebehavior': 258,\n",
       " 'hives': 259,\n",
       " 'lossofappetite': 260,\n",
       " 'vascularaccessproblem': 261,\n",
       " 'uri': 262,\n",
       " 'umbilical': 263,\n",
       " 'sexualassault': 264,\n",
       " 'insomnia': 265,\n",
       " 'ankleinjury': 266,\n",
       " 'pregnancytest': 267,\n",
       " 'noseproblem': 268,\n",
       " 'patientcontact': 269,\n",
       " 'bladderspasms': 270,\n",
       " 'blurredvision': 271,\n",
       " 'sobduringsleep': 272,\n",
       " 'peritonealdialysiscomplications': 273,\n",
       " 'fingerinjury': 274,\n",
       " 'pneumonia': 275,\n",
       " 'lupus': 276,\n",
       " 'gas': 277,\n",
       " 'rectalpain': 278,\n",
       " 'addictionproblem': 279,\n",
       " 'eardrainage': 280,\n",
       " 'abrasion': 281,\n",
       " 'delusional': 282,\n",
       " 'diabetes': 283,\n",
       " 'breastlump': 284,\n",
       " 'pancreatitis': 285,\n",
       " 'footinjury': 286,\n",
       " 'drainremoval': 287,\n",
       " 'bloated': 288,\n",
       " 'breastincisionpain/redness/drainage': 289,\n",
       " 'upperrespiratoryinfection': 290,\n",
       " 'sweats': 291,\n",
       " 'musclecramps': 292,\n",
       " 'lossofconsciousness': 293,\n",
       " 'facialinjury': 294,\n",
       " 'mediportcheck': 295,\n",
       " 'paralysis': 296,\n",
       " 'chestinjury': 297,\n",
       " 'hemorrhoids': 298,\n",
       " 'disorientation': 299,\n",
       " 'dementia': 300,\n",
       " 'selfharm': 301,\n",
       " 'swollenglands': 302,\n",
       " 'toenail': 303,\n",
       " 'ribinjury': 304,\n",
       " 'bleedingdisorder': 305,\n",
       " 'gunshotwound': 306,\n",
       " 'gibleeding': 307,\n",
       " 'defibrillator': 308,\n",
       " 'ingestion': 309,\n",
       " 'foreignbodyineye': 310,\n",
       " 'faciallaceration': 311,\n",
       " 'encopresisbloodinstool': 312,\n",
       " 'breastredness/rash/heat/swelling': 313,\n",
       " 'diverticulitis': 314,\n",
       " 'skinulcer': 315,\n",
       " 'facialredness': 316,\n",
       " 'suspiciousskin': 317,\n",
       " 'motorcyclecrash': 318,\n",
       " 'puncturewound': 319,\n",
       " 'trachleaking': 320,\n",
       " 'pregnancyproblem': 321,\n",
       " 'orthostatichypotension': 322,\n",
       " 'stiffness': 323,\n",
       " 'motorvehicleversuspedestrian': 324,\n",
       " 'paranoid': 325,\n",
       " 'delirium': 326,\n",
       " 'drooling': 327,\n",
       " 'thyroidproblem': 328,\n",
       " 'cardiacarrest': 329,\n",
       " 'prostateproblem': 330,\n",
       " 'consult': 331,\n",
       " 'peritonealdialysis': 332,\n",
       " 'gastrostomytubeleaking': 333,\n",
       " 'anorexia': 334,\n",
       " 'bloodculturepositive': 335,\n",
       " 'irregularmenses': 336,\n",
       " 'bloodtransfusion': 337,\n",
       " 'removefoleycatheter': 338,\n",
       " 'pulmonarycongestion': 339,\n",
       " 'breastdischarge': 340,\n",
       " 'insertfoleycatheter': 341,\n",
       " 'jointswelling': 342,\n",
       " 'influenza': 343,\n",
       " 'thrush': 344,\n",
       " 'gastroesophagealreflux': 345,\n",
       " 'tailbonepain': 346,\n",
       " 'chemicalexposure': 347,\n",
       " 'poormotercoordination': 348,\n",
       " 'ivmedication': 349,\n",
       " 'atrialflutter': 350,\n",
       " 'dislocation': 351,\n",
       " 'axillarypain/redness/drainage': 352,\n",
       " 'trachchange': 353,\n",
       " 'workrelatedinjury': 354,\n",
       " 'nasalpain': 355,\n",
       " 'humanbite': 356,\n",
       " 'trigeminalneuralgia': 357,\n",
       " 'imm/inj': 358,\n",
       " 'woundcare': 359,\n",
       " 'breastmass': 360,\n",
       " 'csfleak': 361,\n",
       " 'bloodinfection': 362,\n",
       " 'chestpainnoncardiac': 363,\n",
       " 'aorticaneurysm': 364,\n",
       " 'excessivemenstruation': 365,\n",
       " 'hyperemesis': 366,\n",
       " 'trachreplacement': 367,\n",
       " 'nightsweats': 368,\n",
       " 'peritonealdialysisaccessocclusion': 369,\n",
       " 'threatenedmiscarriage': 370,\n",
       " 'catheterization': 371,\n",
       " 'aspiration': 372,\n",
       " 'ascites': 373,\n",
       " 'allergies': 374,\n",
       " 'earinjury': 375,\n",
       " 'possiblehernia': 376,\n",
       " 'pelvicorganprolapse': 377,\n",
       " 'foreignbodyinear': 378,\n",
       " 'abnormalsputum': 379,\n",
       " 'skindamage': 380,\n",
       " 'crushinjury': 381,\n",
       " 'respiratoryarrest': 382,\n",
       " 'foreignbodyinvagina': 383,\n",
       " 'dressingchange': 384,\n",
       " 'painfulurination': 385,\n",
       " 'abdominalinjury': 386,\n",
       " 'sobwithtalking': 387,\n",
       " 'restlesslegs': 388,\n",
       " 'footburn': 389,\n",
       " 'choking': 390,\n",
       " 'sutureremoval': 391,\n",
       " 'tia': 392,\n",
       " 'multiplesclerosis': 393,\n",
       " 'kidneyinfection': 394,\n",
       " 'hyperventilating': 395,\n",
       " 'letterforschool/work': 396,\n",
       " 'electricshock': 397,\n",
       " 'foreignbodyinskin': 398,\n",
       " 'eczema': 399,\n",
       " 'stabwound': 400,\n",
       " 'ulcer': 401,\n",
       " 'clavicleinjury': 402,\n",
       " 'vascularaccesssiteinfection': 403,\n",
       " 'doublevision': 404,\n",
       " 'circulatoryproblem': 405,\n",
       " 'mania': 406,\n",
       " 'pulmonary': 407,\n",
       " 'abnormalpotassiumlevels': 408,\n",
       " 'liplaceration': 409,\n",
       " 'retinalproblem': 410,\n",
       " 'rapidheartrate': 411,\n",
       " 'snakebite': 412,\n",
       " 'miscarriage': 413,\n",
       " 'smokeinhalation': 414,\n",
       " 'dentalinjury': 415,\n",
       " 'cannotcough': 416,\n",
       " 'airwayobstruction': 417,\n",
       " 'lumbarstrain': 418,\n",
       " 'nailproblem': 419,\n",
       " 'eatingdisorder': 420,\n",
       " 'uterineprolapse': 421,\n",
       " 'renalfailure': 422,\n",
       " 'stoolcolorchange': 423,\n",
       " 'handburn': 424,\n",
       " 'weakcough': 425,\n",
       " 'tracheostomytubechange': 426,\n",
       " 'slowurinarystream': 427,\n",
       " 'cancer': 428,\n",
       " 'neckinjury': 429,\n",
       " 'copd': 430,\n",
       " 'bulimia': 431,\n",
       " 'formsother': 432,\n",
       " 'arthritis': 433,\n",
       " 'sensationoffoodstuckinthroat': 434,\n",
       " 'abnormalfindings': 435,\n",
       " 'gastrostomyissues': 436,\n",
       " 'ivinfusion': 437,\n",
       " 'poorappetite': 438,\n",
       " 'abnormalabdominalctfinding': 439,\n",
       " 'pulmonaryhypertension': 440,\n",
       " 'testicularinjury': 441,\n",
       " 'allegedsexualassault': 442,\n",
       " 'abnormalmri': 443,\n",
       " 'growth': 444,\n",
       " 'carpaltunnel': 445,\n",
       " 'surgicalfollowup': 446,\n",
       " 'preprocedurecovidscreen': 447,\n",
       " 'urgeurinaryincontinence': 448,\n",
       " 'sobwakingup': 449,\n",
       " 'cervicalpain': 450,\n",
       " 'stress': 451,\n",
       " 'hemodialysisaccessinfection': 452,\n",
       " 'homeless': 453,\n",
       " 'abdominalcramping': 454,\n",
       " 'pacemaker': 455,\n",
       " 'changingskinlesion': 456,\n",
       " 'allegeddomesticviolence': 457,\n",
       " 'face': 458,\n",
       " 'hoarseness': 459,\n",
       " 'abnormalsodiumlevels': 460,\n",
       " 'bowel/bladderdysfunction': 461,\n",
       " 'ventral': 462,\n",
       " 'postopproblem': 463,\n",
       " 'backinjury': 464,\n",
       " 'abnormalcbc': 465,\n",
       " 'foreignbodyinnose': 466,\n",
       " 'fecalimpaction': 467,\n",
       " 'chf': 468,\n",
       " 'hair/scalpproblem': 469,\n",
       " 'abnormalelectrolytes': 470,\n",
       " 'secondopinion': 471,\n",
       " 'groininjury': 472,\n",
       " 'claudication': 473,\n",
       " '1bstract': 474,\n",
       " 'blackheads': 475,\n",
       " 'mouthinjury': 476,\n",
       " 'poisoning': 477,\n",
       " 'fussy': 478,\n",
       " 'feedingintolerance': 479,\n",
       " 'facialburn': 480,\n",
       " 'painfulerection': 481,\n",
       " 'foreignbodyinrectum': 482,\n",
       " 'cirrhosis': 483,\n",
       " 'covid': 484,\n",
       " 'lightningstrike': 485,\n",
       " 'testresults': 486,\n",
       " 'painfulswallowing': 487,\n",
       " 'castproblem': 488,\n",
       " 'diaperrash': 489,\n",
       " 'referral/consultcontact': 490,\n",
       " 'parkinson': 491,\n",
       " 'ureteralstone': 492,\n",
       " 'shortbowelsyndrome': 493,\n",
       " 'perianalfistula': 494,\n",
       " 'followupresults': 495,\n",
       " 'kidneystonesrecurrent': 496,\n",
       " 'coldextremity': 497,\n",
       " 'folliculitis': 498,\n",
       " 'thoracicpain': 499,\n",
       " 'endstagerenaldisease': 500,\n",
       " 'lossofmotorcontrol': 501,\n",
       " 'evaluation': 502,\n",
       " 'leakingbowels': 503,\n",
       " 'referral': 504,\n",
       " 'toothsensitivity': 505,\n",
       " 'lowerurinarytractinfection': 506,\n",
       " 'oraltrauma': 507,\n",
       " 'postpartumcomplications': 508,\n",
       " 'angina': 509,\n",
       " 'intercostalpain': 510,\n",
       " 'coldexposure': 511,\n",
       " 'daytimesleepiness': 512,\n",
       " 'physical': 513,\n",
       " 'psoriasis': 514,\n",
       " 'blindness': 515,\n",
       " 'leukemia': 516,\n",
       " 'regurgitation': 517,\n",
       " 'orbitalproblem': 518,\n",
       " 'woundpackingremoval': 519,\n",
       " 'cognitiveimpairment': 520,\n",
       " 'braintumor': 521,\n",
       " 'otalgia': 522,\n",
       " 'abdominalpressure': 523,\n",
       " 'carecoordination': 524,\n",
       " 'peritonealdialysisaccessinfection': 525,\n",
       " 'lumbarpain': 526,\n",
       " 'holtermonitorreadonly': 527,\n",
       " 'pleurisy': 528,\n",
       " 'contractions': 529,\n",
       " 'wellman': 530,\n",
       " 'sunburn': 531,\n",
       " 'viralsyndrome': 532,\n",
       " 'procedure': 533,\n",
       " 'pruritis': 534,\n",
       " 'bladdercancer': 535,\n",
       " 'obvisit': 536,\n",
       " 'decreased/absentfetalmovement': 537,\n",
       " 'amenorrhea': 538,\n",
       " 'surgeryconsult': 539,\n",
       " 'personalitychange': 540,\n",
       " 'liverfailure': 541,\n",
       " 'abnormalcalciumlevel': 542,\n",
       " 'coronaryarterydisease': 543,\n",
       " 'bodyfluidexposure': 544,\n",
       " 'earwax': 545,\n",
       " 'spots': 546,\n",
       " 'mediportremoval': 547,\n",
       " 'painfulintercourse': 548,\n",
       " 'drugscreen': 549,\n",
       " 'coagulationdisorder': 550,\n",
       " 'gastrostomytubeinfection': 551,\n",
       " 'earlaceration': 552,\n",
       " 'aneurysm': 553,\n",
       " 'penilefracture': 554,\n",
       " 'gynexam': 555,\n",
       " 'durablemedicalequipment': 556,\n",
       " 'sinusitis': 557,\n",
       " 'medicalcomplication': 558,\n",
       " 'sexualproblem': 559,\n",
       " 'voidingtrialremovefoleycatheter': 560,\n",
       " 'castremoval': 561,\n",
       " 'gastrostomytubered': 562,\n",
       " 'varicosevein': 563,\n",
       " 'croup': 564,\n",
       " 'oralsurgeryconsult': 565,\n",
       " 'recheck': 566,\n",
       " 'trachneedssizeadjustment': 567,\n",
       " 'gbuttonbroken': 568,\n",
       " 'abnormalmagnesiumlevels': 569,\n",
       " 'bellspalsy': 570,\n",
       " 'concussion': 571,\n",
       " 'postsurgicalfollowup': 572,\n",
       " 'eyesurgery': 573,\n",
       " 'consultonly': 574,\n",
       " 'erf/u': 575}"
      ]
     },
     "execution_count": 112,
     "metadata": {},
     "output_type": "execute_result"
    }
   ],
   "source": [
    "cc_dict"
   ]
  },
  {
   "cell_type": "code",
   "execution_count": 114,
   "id": "eae54457-6efc-4135-bc0e-8976904b788a",
   "metadata": {
    "scrolled": true
   },
   "outputs": [
    {
     "data": {
      "text/plain": [
       "False"
      ]
     },
     "execution_count": 114,
     "metadata": {},
     "output_type": "execute_result"
    }
   ],
   "source": [
    "None in cc_dict"
   ]
  },
  {
   "cell_type": "code",
   "execution_count": 40,
   "id": "741920a6-f2d4-4efb-9291-ac08abe2429d",
   "metadata": {},
   "outputs": [
    {
     "name": "stdout",
     "output_type": "stream",
     "text": [
      "Took 38.14787769317627 seconds ...\n"
     ]
    }
   ],
   "source": [
    "t = time.time()\n",
    "df_static = df_static.with_columns(\n",
    "    [\n",
    "        pl.col(key).map_elements(lambda x: val_dict.get(x, 1) if x not in null_vals else 0, return_dtype=pl.UInt16).alias(f'{key}_index')\n",
    "        for key, val_dict in static_dict.items()\n",
    "    ]\n",
    ")\n",
    "print(f'Took {time.time()-t} seconds ...')"
   ]
  },
  {
   "cell_type": "code",
   "execution_count": 41,
   "id": "46a9f732-0ba8-4266-ab84-c1540dd1c9c9",
   "metadata": {},
   "outputs": [],
   "source": [
    "import cProfile"
   ]
  },
  {
   "cell_type": "code",
   "execution_count": 43,
   "id": "4e71fe2f-206d-43fe-ab99-06dda2a42504",
   "metadata": {},
   "outputs": [],
   "source": [
    "def create_key_index(df_static):\n",
    "    df_static = df_static.with_columns(    [\n",
    "        pl.col(key).map_elements(lambda x: val_dict.get(x, 1) if x not in null_vals else 0, return_dtype=pl.UInt16).alias(f'{key}_index')\n",
    "        for key, val_dict in static_dict.items()\n",
    "    ]\n",
    "    )\n",
    "    return df_static"
   ]
  },
  {
   "cell_type": "code",
   "execution_count": 44,
   "id": "c13ebf36-6452-4ada-b91f-b6c1f9d43053",
   "metadata": {},
   "outputs": [
    {
     "name": "stdout",
     "output_type": "stream",
     "text": [
      "         9708 function calls (9697 primitive calls) in 36.319 seconds\n",
      "\n",
      "   Ordered by: standard name\n",
      "\n",
      "   ncalls  tottime  percall  cumtime  percall filename:lineno(function)\n",
      "        1    0.000    0.000   36.314   36.314 2577217657.py:1(create_key_index)\n",
      "        1    0.000    0.000    0.004    0.004 2577217657.py:2(<listcomp>)\n",
      "      108    0.000    0.000    0.000    0.000 <string>:1(<lambda>)\n",
      "        1    0.004    0.004   36.319   36.319 <string>:1(<module>)\n",
      "        1    0.000    0.000    0.000    0.000 _collections_abc.py:821(get)\n",
      "        1    0.000    0.000    0.000    0.000 abc.py:121(__subclasscheck__)\n",
      "        9    0.000    0.000    0.000    0.000 col.py:145(__new__)\n",
      "        9    0.000    0.000    0.000    0.000 col.py:20(_create_col)\n",
      "        9    0.000    0.000    0.000    0.000 convert.py:142(is_polars_dtype)\n",
      "        9    0.000    0.000    0.000    0.000 convert.py:382(py_type_to_dtype)\n",
      "        9    0.000    0.000    0.000    0.000 dis.py:128(_get_code_object)\n",
      "        9    0.000    0.000    0.000    0.000 dis.py:261(get_instructions)\n",
      "       18    0.000    0.000    0.000    0.000 dis.py:283(_get_const_info)\n",
      "       45    0.000    0.000    0.000    0.000 dis.py:295(_get_name_info)\n",
      "      117    0.000    0.000    0.000    0.000 dis.py:311(_get_instructions_bytes)\n",
      "      234    0.000    0.000    0.000    0.000 dis.py:422(_unpack_opargs)\n",
      "        9    0.000    0.000    0.000    0.000 dis.py:434(findlabels)\n",
      "       18    0.000    0.000    0.000    0.000 dis.py:453(findlinestarts)\n",
      "        9    0.000    0.000    0.000    0.000 enum.py:359(__call__)\n",
      "        9    0.000    0.000    0.000    0.000 enum.py:678(__new__)\n",
      "        9    0.000    0.000    0.000    0.000 expr.py:10166(meta)\n",
      "       27    0.000    0.000    0.000    0.000 expr.py:129(_from_pyexpr)\n",
      "        9    0.000    0.000    0.000    0.000 expr.py:4118(__init__)\n",
      "        9    0.000    0.000    0.000    0.000 expr.py:4132(map_batches)\n",
      "        9    0.000    0.000    0.004    0.000 expr.py:4252(map_elements)\n",
      "        9    0.000    0.000    0.000    0.000 expr.py:648(alias)\n",
      "        1    0.000    0.000   36.310   36.310 frame.py:1579(collect)\n",
      "        2    0.000    0.000    0.000    0.000 frame.py:316(_from_pyldf)\n",
      "        1    0.000    0.000    0.000    0.000 frame.py:3891(with_columns)\n",
      "        1    0.000    0.000    0.000    0.000 frame.py:431(_from_pydf)\n",
      "        1    0.000    0.000    0.000    0.000 frame.py:7562(lazy)\n",
      "        1    0.000    0.000   36.310   36.310 frame.py:7728(with_columns)\n",
      "        9    0.000    0.000    0.000    0.000 inspect.py:2280(_signature_from_function)\n",
      "        9    0.000    0.000    0.000    0.000 inspect.py:2375(_signature_from_callable)\n",
      "        9    0.000    0.000    0.000    0.000 inspect.py:2637(__init__)\n",
      "        9    0.000    0.000    0.000    0.000 inspect.py:2687(name)\n",
      "       18    0.000    0.000    0.000    0.000 inspect.py:277(isfunction)\n",
      "        9    0.000    0.000    0.000    0.000 inspect.py:2920(__init__)\n",
      "       18    0.000    0.000    0.000    0.000 inspect.py:2969(<genexpr>)\n",
      "        9    0.000    0.000    0.000    0.000 inspect.py:2998(from_callable)\n",
      "        9    0.000    0.000    0.000    0.000 inspect.py:3006(parameters)\n",
      "        9    0.000    0.000    0.000    0.000 inspect.py:3252(signature)\n",
      "        9    0.000    0.000    0.000    0.000 inspect.py:612(unwrap)\n",
      "        9    0.000    0.000    0.000    0.000 inspect.py:632(_is_wrapper)\n",
      "        9    0.000    0.000    0.000    0.000 inspect.py:66(get_annotations)\n",
      "        9    0.000    0.000    0.000    0.000 meta.py:169(root_names)\n",
      "        9    0.000    0.000    0.000    0.000 meta.py:26(__init__)\n",
      "        1    0.000    0.000    0.000    0.000 os.py:675(__getitem__)\n",
      "        1    0.000    0.000    0.000    0.000 os.py:755(encode)\n",
      "        1    0.000    0.000    0.000    0.000 parse_expr_input.py:20(parse_as_list_of_expressions)\n",
      "        1    0.000    0.000    0.000    0.000 parse_expr_input.py:50(_parse_positional_inputs)\n",
      "        1    0.000    0.000    0.000    0.000 parse_expr_input.py:56(<listcomp>)\n",
      "        1    0.000    0.000    0.000    0.000 parse_expr_input.py:59(_parse_inputs_as_iterable)\n",
      "        1    0.000    0.000    0.000    0.000 parse_expr_input.py:72(_is_iterable)\n",
      "        9    0.000    0.000    0.000    0.000 parse_expr_input.py:85(parse_as_expression)\n",
      "        1    0.000    0.000    0.000    0.000 typing.py:1154(__subclasscheck__)\n",
      "        1    0.000    0.000    0.000    0.000 typing.py:993(__instancecheck__)\n",
      "       90    0.000    0.000    0.000    0.000 udfs.py:1019(_upgrade_instruction)\n",
      "        9    0.000    0.000    0.000    0.000 udfs.py:1040(_raw_function_meta)\n",
      "        9    0.000    0.000    0.004    0.000 udfs.py:1073(warn_on_inefficient_map)\n",
      "        9    0.000    0.000    0.004    0.000 udfs.py:332(__init__)\n",
      "        9    0.000    0.000    0.000    0.000 udfs.py:365(_get_param_name)\n",
      "        9    0.000    0.000    0.000    0.000 udfs.py:410(can_attempt_rewrite)\n",
      "       63    0.000    0.000    0.000    0.000 udfs.py:422(<genexpr>)\n",
      "        9    0.000    0.000    0.003    0.000 udfs.py:741(__init__)\n",
      "       99    0.000    0.000    0.000    0.000 udfs.py:750(<genexpr>)\n",
      "        9    0.000    0.000    0.000    0.000 udfs.py:756(__len__)\n",
      "        9    0.000    0.000    0.000    0.000 udfs.py:759(__iter__)\n",
      "     1260    0.001    0.000    0.002    0.000 udfs.py:765(_matches)\n",
      "     1719    0.000    0.000    0.000    0.000 udfs.py:797(<genexpr>)\n",
      "        9    0.000    0.000    0.003    0.000 udfs.py:807(_rewrite)\n",
      "      315    0.000    0.000    0.003    0.000 udfs.py:820(<genexpr>)\n",
      "       63    0.000    0.000    0.000    0.000 udfs.py:834(_rewrite_attrs)\n",
      "       63    0.000    0.000    0.000    0.000 udfs.py:851(_rewrite_builtins)\n",
      "       63    0.001    0.000    0.002    0.000 udfs.py:877(_rewrite_functions)\n",
      "       63    0.000    0.000    0.000    0.000 udfs.py:978(_rewrite_methods)\n",
      "        1    0.000    0.000    0.000    0.000 wrap.py:12(wrap_df)\n",
      "        1    0.000    0.000    0.000    0.000 wrap.py:16(wrap_ldf)\n",
      "        9    0.000    0.000    0.000    0.000 wrap.py:24(wrap_expr)\n",
      "      138    0.000    0.000    0.000    0.000 {built-in method __new__ of type object at 0x741500}\n",
      "        1    0.000    0.000    0.000    0.000 {built-in method _abc._abc_subclasscheck}\n",
      "      864    0.000    0.000    0.000    0.000 {built-in method builtins.all}\n",
      "       63    0.000    0.000    0.003    0.000 {built-in method builtins.any}\n",
      "       18    0.000    0.000    0.000    0.000 {built-in method builtins.callable}\n",
      "        1    0.000    0.000   36.319   36.319 {built-in method builtins.exec}\n",
      "       27    0.000    0.000    0.000    0.000 {built-in method builtins.getattr}\n",
      "       36    0.000    0.000    0.000    0.000 {built-in method builtins.hasattr}\n",
      "        9    0.000    0.000    0.000    0.000 {built-in method builtins.id}\n",
      "  122/120    0.000    0.000    0.000    0.000 {built-in method builtins.isinstance}\n",
      "        1    0.000    0.000    0.000    0.000 {built-in method builtins.issubclass}\n",
      "       18    0.000    0.000    0.000    0.000 {built-in method builtins.iter}\n",
      "2854/2845    0.000    0.000    0.000    0.000 {built-in method builtins.len}\n",
      "        9    0.000    0.000    0.000    0.000 {built-in method builtins.next}\n",
      "       27    0.000    0.000    0.000    0.000 {built-in method builtins.repr}\n",
      "        9    0.000    0.000    0.000    0.000 {built-in method sys.getrecursionlimit}\n",
      "        9    0.000    0.000    0.000    0.000 {col}\n",
      "        9    0.000    0.000    0.000    0.000 {method 'alias' of 'builtins.PyExpr' objects}\n",
      "      108    0.000    0.000    0.000    0.000 {method 'append' of 'list' objects}\n",
      "        9    0.000    0.000    0.000    0.000 {method 'co_lines' of 'code' objects}\n",
      "        1   36.310   36.310   36.310   36.310 {method 'collect' of 'builtins.PyLazyFrame' objects}\n",
      "        1    0.000    0.000    0.000    0.000 {method 'disable' of '_lsprof.Profiler' objects}\n",
      "        1    0.000    0.000    0.000    0.000 {method 'encode' of 'str' objects}\n",
      "      567    0.000    0.000    0.000    0.000 {method 'get' of 'dict' objects}\n",
      "        9    0.000    0.000    0.000    0.000 {method 'isidentifier' of 'str' objects}\n",
      "        1    0.000    0.000    0.000    0.000 {method 'items' of 'dict' objects}\n",
      "        9    0.000    0.000    0.000    0.000 {method 'keys' of 'mappingproxy' objects}\n",
      "        1    0.000    0.000    0.000    0.000 {method 'lazy' of 'builtins.PyDataFrame' objects}\n",
      "        9    0.000    0.000    0.000    0.000 {method 'map_batches' of 'builtins.PyExpr' objects}\n",
      "        9    0.000    0.000    0.000    0.000 {method 'meta_root_names' of 'builtins.PyExpr' objects}\n",
      "        1    0.000    0.000    0.000    0.000 {method 'optimization_toggle' of 'builtins.PyLazyFrame' objects}\n",
      "        1    0.000    0.000    0.000    0.000 {method 'with_columns' of 'builtins.PyLazyFrame' objects}\n",
      "\n",
      "\n"
     ]
    }
   ],
   "source": [
    "dd = cProfile.run('create_key_index(df_static)')"
   ]
  },
  {
   "cell_type": "code",
   "execution_count": 122,
   "id": "3e134c5f-1ef1-4cc9-8bc8-9dd1284717d9",
   "metadata": {},
   "outputs": [],
   "source": [
    "def list2idx(x, vocab):\n",
    "    if x is None or len(x) == 0:\n",
    "        return [0]\n",
    "    o = []\n",
    "    for v in x:\n",
    "        if v in null_vals:\n",
    "            o.append(0)\n",
    "        else:\n",
    "            o.append(vocab.get(v, 1))\n",
    "    return o"
   ]
  },
  {
   "cell_type": "code",
   "execution_count": 125,
   "id": "033403f8-6197-47f1-8010-044865b8b821",
   "metadata": {},
   "outputs": [],
   "source": [
    "vec = []\n",
    "for row in df_static.iter_rows(named=True):\n",
    "    vec.append(list2idx(row['cc_list'], cc_dict))"
   ]
  },
  {
   "cell_type": "code",
   "execution_count": 132,
   "id": "a5277feb-2cfd-43b8-a518-c20621f86b9b",
   "metadata": {
    "scrolled": true
   },
   "outputs": [],
   "source": [
    "for v in vec:\n",
    "    if v is None or len(v) == 0 or None in v:\n",
    "        print(\"There is none\")"
   ]
  },
  {
   "cell_type": "code",
   "execution_count": 134,
   "id": "6d0184e8-715b-4638-82df-923ec9c9250b",
   "metadata": {},
   "outputs": [
    {
     "name": "stdout",
     "output_type": "stream",
     "text": [
      "Took 184.5332260131836 seconds ...\n"
     ]
    }
   ],
   "source": [
    "t = time.time()\n",
    "df_static = df_static.with_columns(\n",
    "    pl.col('cc_list').map_elements(lambda x: list2idx(x, cc_dict), pl.List(pl.Int64)).alias('cc_list_index')\n",
    ")\n",
    "print(f'Took {time.time()-t} seconds ...')"
   ]
  },
  {
   "cell_type": "code",
   "execution_count": 136,
   "id": "e39adcf7-ea07-4076-8f2e-9dac7108ecde",
   "metadata": {},
   "outputs": [
    {
     "data": {
      "text/plain": [
       "'\\nOUTPUT of a fitted model\\n'"
      ]
     },
     "execution_count": 136,
     "metadata": {},
     "output_type": "execute_result"
    }
   ],
   "source": [
    "\"\"\"\n",
    "OUTPUT of a fitted model\n",
    "\"\"\"\n",
    "# static_dict, cc_dict, null_vals"
   ]
  },
  {
   "cell_type": "code",
   "execution_count": 138,
   "id": "a77d4815-d5ac-4e37-be97-fce3b1e80dd4",
   "metadata": {},
   "outputs": [],
   "source": [
    "### Split data into events"
   ]
  },
  {
   "cell_type": "code",
   "execution_count": 45,
   "id": "04c204cc-b7e9-43bf-a296-3e4146b68b24",
   "metadata": {},
   "outputs": [],
   "source": [
    "idx = 50"
   ]
  },
  {
   "cell_type": "code",
   "execution_count": 46,
   "id": "74585555-cc11-439e-bcea-d3fc2ed13499",
   "metadata": {},
   "outputs": [],
   "source": [
    "df_50 = df.filter(pl.col('event_idx')<50)"
   ]
  },
  {
   "cell_type": "code",
   "execution_count": 47,
   "id": "c8f7c18d-7480-43d0-b09d-e9016bb051cd",
   "metadata": {},
   "outputs": [],
   "source": [
    "df_50_static = df_50.select(static_cols)"
   ]
  },
  {
   "cell_type": "code",
   "execution_count": 48,
   "id": "d35bc96c-4e8f-4336-8cbf-1564969afa07",
   "metadata": {},
   "outputs": [
    {
     "data": {
      "text/plain": [
       "(151425, 24)"
      ]
     },
     "execution_count": 48,
     "metadata": {},
     "output_type": "execute_result"
    }
   ],
   "source": [
    "df_50_static.shape"
   ]
  },
  {
   "cell_type": "code",
   "execution_count": 50,
   "id": "857a2a39-94f1-4bb4-b283-dc1b60038f69",
   "metadata": {},
   "outputs": [
    {
     "data": {
      "text/plain": [
       "(shape: (151_425,)\n",
       " Series: 'Ethnicity' [str]\n",
       " [\n",
       " \t\"Non-Hispanic/L…\n",
       " \t\"Non-Hispanic/L…\n",
       " \t\"Non-Hispanic/L…\n",
       " \t\"Non-Hispanic/L…\n",
       " \t\"Non-Hispanic/L…\n",
       " \t…\n",
       " \t\"Non-Hispanic/L…\n",
       " \t\"Non-Hispanic/L…\n",
       " \t\"Non-Hispanic/L…\n",
       " \t\"Non-Hispanic/L…\n",
       " \t\"Non-Hispanic/L…\n",
       " ],\n",
       " {'null': 0,\n",
       "  'unk': 1,\n",
       "  'Non-Hispanic/Latino': 2,\n",
       "  'Hispanic or Latino': 3,\n",
       "  'Declined': 4,\n",
       "  'White': 5,\n",
       "  'American Indian or Alaska Native': 6,\n",
       "  'Black or African American': 7,\n",
       "  'Asian': 8})"
      ]
     },
     "execution_count": 50,
     "metadata": {},
     "output_type": "execute_result"
    }
   ],
   "source": [
    "df_50_static['Ethnicity'], static_dict['Ethnicity']"
   ]
  },
  {
   "cell_type": "code",
   "execution_count": 52,
   "id": "833e2a24-c4c7-4203-b0c6-66e34e85be2b",
   "metadata": {},
   "outputs": [],
   "source": [
    "def onehotencode_series2mat(series, vocab):\n",
    "    X = np.zeros((len(series), len(vocab)), dtype=np.uint16)\n",
    "    for idx, v in enumerate(series):\n",
    "        if v in null_vals:\n",
    "            X[idx, 0] += 1\n",
    "        else:\n",
    "            X[idx, vocab.get(v, 1)] += 1\n",
    "    return X"
   ]
  },
  {
   "cell_type": "code",
   "execution_count": 56,
   "id": "a8e9a883-1bd6-47ad-bcd2-8372421256e7",
   "metadata": {},
   "outputs": [],
   "source": [
    "X =onehotencode_series2mat(df_50_static[\"Ethnicity\"], static_dict[\"Ethnicity\"])"
   ]
  },
  {
   "cell_type": "code",
   "execution_count": 66,
   "id": "b395433a-4e4a-46a0-a92b-f7db6d823382",
   "metadata": {},
   "outputs": [
    {
     "data": {
      "text/plain": [
       "'White'"
      ]
     },
     "execution_count": 66,
     "metadata": {},
     "output_type": "execute_result"
    }
   ],
   "source": [
    "df_50_static[\"Ethnicity\"][124864]"
   ]
  },
  {
   "cell_type": "code",
   "execution_count": 75,
   "id": "09595c24-1aab-423c-bbc2-9db61d09b15c",
   "metadata": {},
   "outputs": [],
   "source": [
    "colnames = [\"\"]*len(static_dict[\"Ethnicity\"])\n",
    "for k, v in static_dict['Ethnicity'].items():\n",
    "    colnames[v] = f\"Ethnicity_{k}\""
   ]
  },
  {
   "cell_type": "code",
   "execution_count": 76,
   "id": "106e27a3-82cb-490f-b929-52f27e41713e",
   "metadata": {},
   "outputs": [],
   "source": [
    "Xdf = pl.DataFrame(X)"
   ]
  },
  {
   "cell_type": "code",
   "execution_count": 77,
   "id": "1fcbfa5e-1e47-4ef6-a51e-51ea3c8c0f0a",
   "metadata": {},
   "outputs": [],
   "source": [
    "Xdf.columns = colnames"
   ]
  },
  {
   "cell_type": "code",
   "execution_count": 80,
   "id": "ad0cee42-ccea-41f6-834e-ecd45d91f9c1",
   "metadata": {},
   "outputs": [
    {
     "data": {
      "text/html": [
       "<div><style>\n",
       ".dataframe > thead > tr,\n",
       ".dataframe > tbody > tr {\n",
       "  text-align: right;\n",
       "  white-space: pre-wrap;\n",
       "}\n",
       "</style>\n",
       "<small>shape: (151_425, 33)</small><table border=\"1\" class=\"dataframe\"><thead><tr><th>Ethnicity</th><th>FirstRace</th><th>Sex</th><th>Acuity_Level</th><th>Means_Of_Arrival</th><th>cc_list</th><th>Coverage_Financial_Class_Grouper</th><th>Procedure in the Last 4 Weeks</th><th>Has Completed Appt in Last Seven Days</th><th>Has Hospital Encounter in Last Seven Days</th><th>MultiRacial</th><th>Patient_Age</th><th>Dispo_Prov_Admission_Rate</th><th>Number of Inpatient Admissions in the last 30 Days</th><th>Number of past appointments in last 60 days</th><th>Number of past inpatient admissions over ED visits in last three years</th><th>ProblemList_Sixty_Admission_YN</th><th>ProblemList_Eighty_Admission_YN</th><th>arr_year</th><th>arr_month</th><th>arr_day</th><th>arr_hour</th><th>holiday</th><th>Arrived_Time</th><th>Ethnicity_null</th><th>Ethnicity_unk</th><th>Ethnicity_Non-Hispanic/Latino</th><th>Ethnicity_Hispanic or Latino</th><th>Ethnicity_Declined</th><th>Ethnicity_White</th><th>Ethnicity_American Indian or Alaska Native</th><th>Ethnicity_Black or African American</th><th>Ethnicity_Asian</th></tr><tr><td>str</td><td>str</td><td>str</td><td>str</td><td>str</td><td>list[str]</td><td>str</td><td>str</td><td>u8</td><td>u8</td><td>i64</td><td>f64</td><td>f64</td><td>u16</td><td>u16</td><td>u16</td><td>i64</td><td>i64</td><td>i32</td><td>i8</td><td>i8</td><td>i8</td><td>str</td><td>datetime[ns]</td><td>u16</td><td>u16</td><td>u16</td><td>u16</td><td>u16</td><td>u16</td><td>u16</td><td>u16</td><td>u16</td></tr></thead><tbody><tr><td>&quot;Non-Hispanic/L…</td><td>&quot;White&quot;</td><td>&quot;Male&quot;</td><td>null</td><td>&quot;Ambulance&quot;</td><td>[&quot;hypotension&quot;]</td><td>&quot;Medicaid&quot;</td><td>&quot;No&quot;</td><td>0</td><td>0</td><td>0</td><td>67.882272</td><td>1.0</td><td>1</td><td>5</td><td>3</td><td>1</td><td>1</td><td>2022</td><td>6</td><td>20</td><td>0</td><td>&quot;Juneteenth Nat…</td><td>2022-06-20 00:15:55</td><td>0</td><td>0</td><td>1</td><td>0</td><td>0</td><td>0</td><td>0</td><td>0</td><td>0</td></tr><tr><td>&quot;Non-Hispanic/L…</td><td>&quot;White&quot;</td><td>&quot;Male&quot;</td><td>null</td><td>&quot;Ambulance&quot;</td><td>[&quot;hypotension&quot;]</td><td>&quot;Medicaid&quot;</td><td>&quot;No&quot;</td><td>0</td><td>0</td><td>0</td><td>67.882272</td><td>1.0</td><td>1</td><td>5</td><td>3</td><td>1</td><td>1</td><td>2022</td><td>6</td><td>20</td><td>0</td><td>&quot;Juneteenth Nat…</td><td>2022-06-20 00:15:55</td><td>0</td><td>0</td><td>1</td><td>0</td><td>0</td><td>0</td><td>0</td><td>0</td><td>0</td></tr><tr><td>&quot;Non-Hispanic/L…</td><td>&quot;White&quot;</td><td>&quot;Male&quot;</td><td>null</td><td>&quot;Ambulance&quot;</td><td>[&quot;hypotension&quot;]</td><td>&quot;Medicaid&quot;</td><td>&quot;No&quot;</td><td>0</td><td>0</td><td>0</td><td>67.882272</td><td>1.0</td><td>1</td><td>5</td><td>3</td><td>1</td><td>1</td><td>2022</td><td>6</td><td>20</td><td>0</td><td>&quot;Juneteenth Nat…</td><td>2022-06-20 00:15:55</td><td>0</td><td>0</td><td>1</td><td>0</td><td>0</td><td>0</td><td>0</td><td>0</td><td>0</td></tr><tr><td>&quot;Non-Hispanic/L…</td><td>&quot;White&quot;</td><td>&quot;Male&quot;</td><td>null</td><td>&quot;Ambulance&quot;</td><td>[&quot;hypotension&quot;]</td><td>&quot;Medicaid&quot;</td><td>&quot;No&quot;</td><td>0</td><td>0</td><td>0</td><td>67.882272</td><td>1.0</td><td>1</td><td>5</td><td>3</td><td>1</td><td>1</td><td>2022</td><td>6</td><td>20</td><td>0</td><td>&quot;Juneteenth Nat…</td><td>2022-06-20 00:15:55</td><td>0</td><td>0</td><td>1</td><td>0</td><td>0</td><td>0</td><td>0</td><td>0</td><td>0</td></tr><tr><td>&quot;Non-Hispanic/L…</td><td>&quot;White&quot;</td><td>&quot;Male&quot;</td><td>null</td><td>&quot;Ambulance&quot;</td><td>[&quot;hypotension&quot;]</td><td>&quot;Medicaid&quot;</td><td>&quot;No&quot;</td><td>0</td><td>0</td><td>0</td><td>67.882272</td><td>1.0</td><td>1</td><td>5</td><td>3</td><td>1</td><td>1</td><td>2022</td><td>6</td><td>20</td><td>0</td><td>&quot;Juneteenth Nat…</td><td>2022-06-20 00:15:55</td><td>0</td><td>0</td><td>1</td><td>0</td><td>0</td><td>0</td><td>0</td><td>0</td><td>0</td></tr><tr><td>&hellip;</td><td>&hellip;</td><td>&hellip;</td><td>&hellip;</td><td>&hellip;</td><td>&hellip;</td><td>&hellip;</td><td>&hellip;</td><td>&hellip;</td><td>&hellip;</td><td>&hellip;</td><td>&hellip;</td><td>&hellip;</td><td>&hellip;</td><td>&hellip;</td><td>&hellip;</td><td>&hellip;</td><td>&hellip;</td><td>&hellip;</td><td>&hellip;</td><td>&hellip;</td><td>&hellip;</td><td>&hellip;</td><td>&hellip;</td><td>&hellip;</td><td>&hellip;</td><td>&hellip;</td><td>&hellip;</td><td>&hellip;</td><td>&hellip;</td><td>&hellip;</td><td>&hellip;</td><td>&hellip;</td></tr><tr><td>&quot;Non-Hispanic/L…</td><td>&quot;Black or Afric…</td><td>&quot;Male&quot;</td><td>&quot;II&quot;</td><td>&quot;Ambulance&quot;</td><td>[&quot;chestpain&quot;]</td><td>&quot;Commercial&quot;</td><td>&quot;No&quot;</td><td>1</td><td>0</td><td>0</td><td>41.823408</td><td>0.4</td><td>1</td><td>5</td><td>3</td><td>1</td><td>1</td><td>2024</td><td>5</td><td>27</td><td>23</td><td>&quot;Memorial Day&quot;</td><td>2024-05-27 23:40:07</td><td>0</td><td>0</td><td>1</td><td>0</td><td>0</td><td>0</td><td>0</td><td>0</td><td>0</td></tr><tr><td>&quot;Non-Hispanic/L…</td><td>&quot;Black or Afric…</td><td>&quot;Male&quot;</td><td>&quot;II&quot;</td><td>&quot;Ambulance&quot;</td><td>[&quot;chestpain&quot;]</td><td>&quot;Commercial&quot;</td><td>&quot;No&quot;</td><td>1</td><td>0</td><td>0</td><td>41.823408</td><td>0.4</td><td>1</td><td>5</td><td>3</td><td>1</td><td>1</td><td>2024</td><td>5</td><td>27</td><td>23</td><td>&quot;Memorial Day&quot;</td><td>2024-05-27 23:40:07</td><td>0</td><td>0</td><td>1</td><td>0</td><td>0</td><td>0</td><td>0</td><td>0</td><td>0</td></tr><tr><td>&quot;Non-Hispanic/L…</td><td>&quot;Black or Afric…</td><td>&quot;Male&quot;</td><td>&quot;II&quot;</td><td>&quot;Ambulance&quot;</td><td>[&quot;chestpain&quot;]</td><td>&quot;Commercial&quot;</td><td>&quot;No&quot;</td><td>1</td><td>0</td><td>0</td><td>41.823408</td><td>0.4</td><td>1</td><td>5</td><td>3</td><td>1</td><td>1</td><td>2024</td><td>5</td><td>27</td><td>23</td><td>&quot;Memorial Day&quot;</td><td>2024-05-27 23:40:07</td><td>0</td><td>0</td><td>1</td><td>0</td><td>0</td><td>0</td><td>0</td><td>0</td><td>0</td></tr><tr><td>&quot;Non-Hispanic/L…</td><td>&quot;Black or Afric…</td><td>&quot;Male&quot;</td><td>&quot;II&quot;</td><td>&quot;Ambulance&quot;</td><td>[&quot;chestpain&quot;]</td><td>&quot;Commercial&quot;</td><td>&quot;No&quot;</td><td>1</td><td>0</td><td>0</td><td>41.823408</td><td>0.4</td><td>1</td><td>5</td><td>3</td><td>1</td><td>1</td><td>2024</td><td>5</td><td>27</td><td>23</td><td>&quot;Memorial Day&quot;</td><td>2024-05-27 23:40:07</td><td>0</td><td>0</td><td>1</td><td>0</td><td>0</td><td>0</td><td>0</td><td>0</td><td>0</td></tr><tr><td>&quot;Non-Hispanic/L…</td><td>&quot;Black or Afric…</td><td>&quot;Male&quot;</td><td>&quot;II&quot;</td><td>&quot;Ambulance&quot;</td><td>[&quot;chestpain&quot;]</td><td>&quot;Commercial&quot;</td><td>&quot;No&quot;</td><td>1</td><td>0</td><td>0</td><td>41.823408</td><td>0.4</td><td>1</td><td>5</td><td>3</td><td>1</td><td>1</td><td>2024</td><td>5</td><td>27</td><td>23</td><td>&quot;Memorial Day&quot;</td><td>2024-05-27 23:40:07</td><td>0</td><td>0</td><td>1</td><td>0</td><td>0</td><td>0</td><td>0</td><td>0</td><td>0</td></tr></tbody></table></div>"
      ],
      "text/plain": [
       "shape: (151_425, 33)\n",
       "┌────────────┬────────────┬──────┬────────────┬───┬────────────┬───────────┬───────────┬───────────┐\n",
       "│ Ethnicity  ┆ FirstRace  ┆ Sex  ┆ Acuity_Lev ┆ … ┆ Ethnicity_ ┆ Ethnicity ┆ Ethnicity ┆ Ethnicity │\n",
       "│ ---        ┆ ---        ┆ ---  ┆ el         ┆   ┆ White      ┆ _American ┆ _Black or ┆ _Asian    │\n",
       "│ str        ┆ str        ┆ str  ┆ ---        ┆   ┆ ---        ┆ Indian or ┆ African   ┆ ---       │\n",
       "│            ┆            ┆      ┆ str        ┆   ┆ u16        ┆ Ala…      ┆ Ameri…    ┆ u16       │\n",
       "│            ┆            ┆      ┆            ┆   ┆            ┆ ---       ┆ ---       ┆           │\n",
       "│            ┆            ┆      ┆            ┆   ┆            ┆ u16       ┆ u16       ┆           │\n",
       "╞════════════╪════════════╪══════╪════════════╪═══╪════════════╪═══════════╪═══════════╪═══════════╡\n",
       "│ Non-Hispan ┆ White      ┆ Male ┆ null       ┆ … ┆ 0          ┆ 0         ┆ 0         ┆ 0         │\n",
       "│ ic/Latino  ┆            ┆      ┆            ┆   ┆            ┆           ┆           ┆           │\n",
       "│ Non-Hispan ┆ White      ┆ Male ┆ null       ┆ … ┆ 0          ┆ 0         ┆ 0         ┆ 0         │\n",
       "│ ic/Latino  ┆            ┆      ┆            ┆   ┆            ┆           ┆           ┆           │\n",
       "│ Non-Hispan ┆ White      ┆ Male ┆ null       ┆ … ┆ 0          ┆ 0         ┆ 0         ┆ 0         │\n",
       "│ ic/Latino  ┆            ┆      ┆            ┆   ┆            ┆           ┆           ┆           │\n",
       "│ Non-Hispan ┆ White      ┆ Male ┆ null       ┆ … ┆ 0          ┆ 0         ┆ 0         ┆ 0         │\n",
       "│ ic/Latino  ┆            ┆      ┆            ┆   ┆            ┆           ┆           ┆           │\n",
       "│ Non-Hispan ┆ White      ┆ Male ┆ null       ┆ … ┆ 0          ┆ 0         ┆ 0         ┆ 0         │\n",
       "│ ic/Latino  ┆            ┆      ┆            ┆   ┆            ┆           ┆           ┆           │\n",
       "│ …          ┆ …          ┆ …    ┆ …          ┆ … ┆ …          ┆ …         ┆ …         ┆ …         │\n",
       "│ Non-Hispan ┆ Black or   ┆ Male ┆ II         ┆ … ┆ 0          ┆ 0         ┆ 0         ┆ 0         │\n",
       "│ ic/Latino  ┆ African    ┆      ┆            ┆   ┆            ┆           ┆           ┆           │\n",
       "│            ┆ American   ┆      ┆            ┆   ┆            ┆           ┆           ┆           │\n",
       "│ Non-Hispan ┆ Black or   ┆ Male ┆ II         ┆ … ┆ 0          ┆ 0         ┆ 0         ┆ 0         │\n",
       "│ ic/Latino  ┆ African    ┆      ┆            ┆   ┆            ┆           ┆           ┆           │\n",
       "│            ┆ American   ┆      ┆            ┆   ┆            ┆           ┆           ┆           │\n",
       "│ Non-Hispan ┆ Black or   ┆ Male ┆ II         ┆ … ┆ 0          ┆ 0         ┆ 0         ┆ 0         │\n",
       "│ ic/Latino  ┆ African    ┆      ┆            ┆   ┆            ┆           ┆           ┆           │\n",
       "│            ┆ American   ┆      ┆            ┆   ┆            ┆           ┆           ┆           │\n",
       "│ Non-Hispan ┆ Black or   ┆ Male ┆ II         ┆ … ┆ 0          ┆ 0         ┆ 0         ┆ 0         │\n",
       "│ ic/Latino  ┆ African    ┆      ┆            ┆   ┆            ┆           ┆           ┆           │\n",
       "│            ┆ American   ┆      ┆            ┆   ┆            ┆           ┆           ┆           │\n",
       "│ Non-Hispan ┆ Black or   ┆ Male ┆ II         ┆ … ┆ 0          ┆ 0         ┆ 0         ┆ 0         │\n",
       "│ ic/Latino  ┆ African    ┆      ┆            ┆   ┆            ┆           ┆           ┆           │\n",
       "│            ┆ American   ┆      ┆            ┆   ┆            ┆           ┆           ┆           │\n",
       "└────────────┴────────────┴──────┴────────────┴───┴────────────┴───────────┴───────────┴───────────┘"
      ]
     },
     "execution_count": 80,
     "metadata": {},
     "output_type": "execute_result"
    }
   ],
   "source": [
    "pl.concat([df_50_static, Xdf], how='horizontal')"
   ]
  },
  {
   "cell_type": "markdown",
   "id": "bf77bde1-1bc3-4317-814d-51a5ef1997f3",
   "metadata": {},
   "source": [
    "### Implement transformers"
   ]
  },
  {
   "cell_type": "code",
   "execution_count": null,
   "id": "7008ec54-f6c6-460c-9e38-60a0aa7c9267",
   "metadata": {},
   "outputs": [],
   "source": [
    "'''\n",
    "Take dataframe, dictionaries, and how do you want to preprocess it\n",
    "'''\n",
    "'''\n",
    "Since the same function will be called on multiple columns, those calls are indepenent and thus can be parallelized\n",
    "    - Send each vocabulary with only the series corresponding to that raw column data to the function\n",
    "    - Map each element to the series to the corresponding row and column in X sparse matrix\n",
    "    - return a dictionary with name of the column and X\n",
    "'''\n",
    "def onehotencoding(df, vocab_dict, null_vals):\n",
    "    # Initialize the newly added matrix\n",
    "    X = np.zeros((len(df), len(vocab_dict)), dtype=np.uint16)\n",
    "    for idx, row in enumerate(df.iterrows(named=True)):\n",
    "        X[idx, vocab_dict[row"
   ]
  },
  {
   "cell_type": "code",
   "execution_count": null,
   "id": "37aa717e-3326-453b-a363-e6bc34229b6b",
   "metadata": {},
   "outputs": [],
   "source": [
    "class CustomOneHotEncoding:\n",
    "    def __init__(self, single_val_cols, multi_val_cols, vocabthresh=100, cumprob_inc_thresh=0.99):\n",
    "        '''\n",
    "            multi_val_cols are expected to be passed in a list datastructure. null values in the data should be mapped to empty list\n",
    "            for multi_val_cols\n",
    "        '''\n",
    "        self.single_val_cols = single_val_cols\n",
    "        self.multi_val_cols = multi_val_cols\n",
    "        self.vocab_thr = vocabthresh\n",
    "        self.inc_thr = cumprob_inc_thresh\n",
    "        self.fitted = False\n",
    "\n",
    "    def _build_vocab_col(self, df, colname)\n",
    "        dd = dd.with_columns(\n",
    "            pl.col('count').cum_sum().alias('cumsum')\n",
    "        ).with_columns(\n",
    "            (pl.col('cumsum')/pl.col('cumsum').max()).alias('prob')\n",
    "        ).with_columns(\n",
    "            (pl.col('prob')<=inc_cum_thresh).alias('included')\n",
    "        )\n",
    "        inc_df = dd.filter(pl.col('included'))\n",
    "        inc_vals = inc_df[colname].to_list()\n",
    "        inc_dict = {}\n",
    "        inc_dict[f'null_{colname}'] = 0\n",
    "        if inc_cum_thresh < 1.0:\n",
    "            inc_dict[f'rare_{colname}'] = 1\n",
    "        for c in inc_vals:\n",
    "            inc_dict[c] = len(inc_dict)\n",
    "        return inc_dict\n",
    "\n",
    "    def _build_vocab(self, df):\n",
    "        multival_vocab_ = {}\n",
    "        for colname in self.multi_val_cols:\n",
    "            dd = df.explode(colname)[colname].value_counts().sort(by='count', descending=True)\n",
    "            vocab = self._build_vocab_col(dd, colname)\n",
    "            multival_vocab_[colname] = vocab\n",
    "            \n",
    "        singleval_vocab_ = {}\n",
    "        for colname in self.single_val_cols:\n",
    "            vocab = self._build_vocab_col(df, colname)\n",
    "            singleval_vocab_[colname] = vocab\n",
    "    \n",
    "        return singleval_vocab_, multival_vocab_\n",
    "\n",
    "    def fit(self, X: pl.DataFrame, y=None):\n",
    "        for col in self.single_val_cols:\n",
    "            assert col in X.columns, f'{col} is supposed to be processed as a single valued column using CustomOneHotEncoding. However it doesnt exist in the passed X'\n",
    "        \n",
    "        for col in self.multi_val_cols:\n",
    "            assert col in X.columns, f'{col} is supposed to be processed as a multi valued column using CustomOneHotEncoding. However it doesnt exist in the passed X'\n",
    "            \n",
    "        # Create dictionaries\n",
    "        self.singleval_vocab_, self.multi_val_cols = self._build_vocab(df)\n",
    "        self.fitted  = True\n",
    "        \n",
    "        return self\n",
    "    \n",
    "    def _transform_single_val(series, vocab):\n",
    "        X = np.zeros((len(series), len(vocab)), dtype=np.uint16)\n",
    "        for idx, v in enumerate(series):\n",
    "            if v in null_vals:\n",
    "                X[idx, 0] += 1\n",
    "            else:\n",
    "                X[idx, vocab.get(v, 1)] += 1\n",
    "        return X\n",
    "    \n",
    "    def transform(self, X, y=None):\n",
    "        if not self.fitted:\n",
    "            raise ValueError(\"You need to run .fit() method first\")\n",
    "        X_    \n",
    "        \n",
    "    def fit_transform(self, X, y=None):\n",
    "        self.fit(X, y)\n",
    "        return self.transform(X, y)"
   ]
  },
  {
   "cell_type": "markdown",
   "id": "2c98d6a9",
   "metadata": {},
   "source": [
    "# Handle the dependency of Result_Flag column"
   ]
  },
  {
   "cell_type": "code",
   "execution_count": 12,
   "id": "e00bf262-47bc-44d1-974e-41f0bb0ad6fd",
   "metadata": {},
   "outputs": [
    {
     "data": {
      "text/html": [
       "<div><style>\n",
       ".dataframe > thead > tr,\n",
       ".dataframe > tbody > tr {\n",
       "  text-align: right;\n",
       "  white-space: pre-wrap;\n",
       "}\n",
       "</style>\n",
       "<small>shape: (8, 2)</small><table border=\"1\" class=\"dataframe\"><thead><tr><th>Type</th><th>count</th></tr><tr><td>str</td><td>u32</td></tr></thead><tbody><tr><td>&quot;Order - Imaging&quot;</td><td>13942</td></tr><tr><td>&quot;Order Result - Imaging&quot;</td><td>2704</td></tr><tr><td>&quot;Order - Nursing&quot;</td><td>15970</td></tr><tr><td>&quot;Order - Procedures&quot;</td><td>255</td></tr><tr><td>&quot;Vitals&quot;</td><td>10848</td></tr><tr><td>&quot;Order - Consult&quot;</td><td>1700</td></tr><tr><td>&quot;Order - Lab&quot;</td><td>44622</td></tr><tr><td>&quot;Order Result - Lab&quot;</td><td>145068</td></tr></tbody></table></div>"
      ],
      "text/plain": [
       "shape: (8, 2)\n",
       "┌────────────────────────┬────────┐\n",
       "│ Type                   ┆ count  │\n",
       "│ ---                    ┆ ---    │\n",
       "│ str                    ┆ u32    │\n",
       "╞════════════════════════╪════════╡\n",
       "│ Order - Imaging        ┆ 13942  │\n",
       "│ Order Result - Imaging ┆ 2704   │\n",
       "│ Order - Nursing        ┆ 15970  │\n",
       "│ Order - Procedures     ┆ 255    │\n",
       "│ Vitals                 ┆ 10848  │\n",
       "│ Order - Consult        ┆ 1700   │\n",
       "│ Order - Lab            ┆ 44622  │\n",
       "│ Order Result - Lab     ┆ 145068 │\n",
       "└────────────────────────┴────────┘"
      ]
     },
     "execution_count": 12,
     "metadata": {},
     "output_type": "execute_result"
    }
   ],
   "source": [
    "df.filter(~pl.col('Result_Flag').is_null())['Type'].value_counts()"
   ]
  },
  {
   "cell_type": "code",
   "execution_count": 15,
   "id": "094341b6-9473-4157-88d4-bf653b60051f",
   "metadata": {},
   "outputs": [
    {
     "data": {
      "text/html": [
       "<div><style>\n",
       ".dataframe > thead > tr,\n",
       ".dataframe > tbody > tr {\n",
       "  text-align: right;\n",
       "  white-space: pre-wrap;\n",
       "}\n",
       "</style>\n",
       "<small>shape: (1_071, 2)</small><table border=\"1\" class=\"dataframe\"><thead><tr><th>EVENT_NAME</th><th>count</th></tr><tr><td>str</td><td>u32</td></tr></thead><tbody><tr><td>&quot;EGD &quot;</td><td>3</td></tr><tr><td>&quot;XR SKULL 1 VIEW&quot;</td><td>3</td></tr><tr><td>&quot;TEAR DROP CELLS&quot;</td><td>53</td></tr><tr><td>&quot;ABO + RH&quot;</td><td>15</td></tr><tr><td>&quot;SODIUM&quot;</td><td>2492</td></tr><tr><td>&hellip;</td><td>&hellip;</td></tr><tr><td>&quot;XR THORACOLUMBAR SPINE 2 VIEWS&quot;</td><td>3</td></tr><tr><td>&quot;SPEP + IFE REFLEX&quot;</td><td>1</td></tr><tr><td>&quot;SODIUM URINE RANDOM&quot;</td><td>49</td></tr><tr><td>&quot;BANDS PCT&quot;</td><td>1</td></tr><tr><td>&quot;IP NUR STRAIN ALL URINE&quot;</td><td>8</td></tr></tbody></table></div>"
      ],
      "text/plain": [
       "shape: (1_071, 2)\n",
       "┌────────────────────────────────┬───────┐\n",
       "│ EVENT_NAME                     ┆ count │\n",
       "│ ---                            ┆ ---   │\n",
       "│ str                            ┆ u32   │\n",
       "╞════════════════════════════════╪═══════╡\n",
       "│ EGD                            ┆ 3     │\n",
       "│ XR SKULL 1 VIEW                ┆ 3     │\n",
       "│ TEAR DROP CELLS                ┆ 53    │\n",
       "│ ABO + RH                       ┆ 15    │\n",
       "│ SODIUM                         ┆ 2492  │\n",
       "│ …                              ┆ …     │\n",
       "│ XR THORACOLUMBAR SPINE 2 VIEWS ┆ 3     │\n",
       "│ SPEP + IFE REFLEX              ┆ 1     │\n",
       "│ SODIUM URINE RANDOM            ┆ 49    │\n",
       "│ BANDS PCT                      ┆ 1     │\n",
       "│ IP NUR STRAIN ALL URINE        ┆ 8     │\n",
       "└────────────────────────────────┴───────┘"
      ]
     },
     "execution_count": 15,
     "metadata": {},
     "output_type": "execute_result"
    }
   ],
   "source": [
    "df.filter(~pl.col('Result_Flag').is_null())['EVENT_NAME'].value_counts()"
   ]
  },
  {
   "cell_type": "code",
   "execution_count": 16,
   "id": "b6076cff-018e-41d9-a418-959597727994",
   "metadata": {},
   "outputs": [
    {
     "data": {
      "text/html": [
       "<div><style>\n",
       ".dataframe > thead > tr,\n",
       ".dataframe > tbody > tr {\n",
       "  text-align: right;\n",
       "  white-space: pre-wrap;\n",
       "}\n",
       "</style>\n",
       "<small>shape: (9, 2)</small><table border=\"1\" class=\"dataframe\"><thead><tr><th>Result_Flag</th><th>count</th></tr><tr><td>str</td><td>u32</td></tr></thead><tbody><tr><td>&quot;Low Panic&quot;</td><td>103</td></tr><tr><td>&quot;Abnormal&quot;</td><td>3183</td></tr><tr><td>&quot;High Panic&quot;</td><td>320</td></tr><tr><td>&quot;Ordered&quot;</td><td>46857</td></tr><tr><td>&quot;High&quot;</td><td>23549</td></tr><tr><td>&quot;Low&quot;</td><td>11026</td></tr><tr><td>&quot;Resulted&quot;</td><td>27287</td></tr><tr><td>&quot;Canceled&quot;</td><td>2345</td></tr><tr><td>&quot;Normal&quot;</td><td>120439</td></tr></tbody></table></div>"
      ],
      "text/plain": [
       "shape: (9, 2)\n",
       "┌─────────────┬────────┐\n",
       "│ Result_Flag ┆ count  │\n",
       "│ ---         ┆ ---    │\n",
       "│ str         ┆ u32    │\n",
       "╞═════════════╪════════╡\n",
       "│ Low Panic   ┆ 103    │\n",
       "│ Abnormal    ┆ 3183   │\n",
       "│ High Panic  ┆ 320    │\n",
       "│ Ordered     ┆ 46857  │\n",
       "│ High        ┆ 23549  │\n",
       "│ Low         ┆ 11026  │\n",
       "│ Resulted    ┆ 27287  │\n",
       "│ Canceled    ┆ 2345   │\n",
       "│ Normal      ┆ 120439 │\n",
       "└─────────────┴────────┘"
      ]
     },
     "execution_count": 16,
     "metadata": {},
     "output_type": "execute_result"
    }
   ],
   "source": [
    "df.filter(~pl.col('Result_Flag').is_null())['Result_Flag'].value_counts()"
   ]
  },
  {
   "cell_type": "code",
   "execution_count": 17,
   "id": "810c7062",
   "metadata": {},
   "outputs": [
    {
     "data": {
      "text/html": [
       "<div><style>\n",
       ".dataframe > thead > tr,\n",
       ".dataframe > tbody > tr {\n",
       "  text-align: right;\n",
       "  white-space: pre-wrap;\n",
       "}\n",
       "</style>\n",
       "<small>shape: (10, 2)</small><table border=\"1\" class=\"dataframe\"><thead><tr><th>Result_Flag</th><th>count</th></tr><tr><td>str</td><td>u32</td></tr></thead><tbody><tr><td>null</td><td>293879</td></tr><tr><td>&quot;High Panic&quot;</td><td>320</td></tr><tr><td>&quot;Low&quot;</td><td>11026</td></tr><tr><td>&quot;Low Panic&quot;</td><td>103</td></tr><tr><td>&quot;Normal&quot;</td><td>120439</td></tr><tr><td>&quot;Abnormal&quot;</td><td>3183</td></tr><tr><td>&quot;Canceled&quot;</td><td>2345</td></tr><tr><td>&quot;High&quot;</td><td>23549</td></tr><tr><td>&quot;Resulted&quot;</td><td>27287</td></tr><tr><td>&quot;Ordered&quot;</td><td>46857</td></tr></tbody></table></div>"
      ],
      "text/plain": [
       "shape: (10, 2)\n",
       "┌─────────────┬────────┐\n",
       "│ Result_Flag ┆ count  │\n",
       "│ ---         ┆ ---    │\n",
       "│ str         ┆ u32    │\n",
       "╞═════════════╪════════╡\n",
       "│ null        ┆ 293879 │\n",
       "│ High Panic  ┆ 320    │\n",
       "│ Low         ┆ 11026  │\n",
       "│ Low Panic   ┆ 103    │\n",
       "│ Normal      ┆ 120439 │\n",
       "│ Abnormal    ┆ 3183   │\n",
       "│ Canceled    ┆ 2345   │\n",
       "│ High        ┆ 23549  │\n",
       "│ Resulted    ┆ 27287  │\n",
       "│ Ordered     ┆ 46857  │\n",
       "└─────────────┴────────┘"
      ]
     },
     "execution_count": 17,
     "metadata": {},
     "output_type": "execute_result"
    }
   ],
   "source": [
    "df['Result_Flag'].value_counts()"
   ]
  },
  {
   "cell_type": "code",
   "execution_count": 27,
   "id": "93726c7d",
   "metadata": {},
   "outputs": [
    {
     "data": {
      "text/html": [
       "<div><style>\n",
       ".dataframe > thead > tr,\n",
       ".dataframe > tbody > tr {\n",
       "  text-align: right;\n",
       "  white-space: pre-wrap;\n",
       "}\n",
       "</style>\n",
       "<small>shape: (4, 2)</small><table border=\"1\" class=\"dataframe\"><thead><tr><th>Type</th><th>count</th></tr><tr><td>str</td><td>u32</td></tr></thead><tbody><tr><td>&quot;Order - Lab&quot;</td><td>18153</td></tr><tr><td>&quot;Order - Imaging&quot;</td><td>8565</td></tr><tr><td>&quot;Order - Procedures&quot;</td><td>72</td></tr><tr><td>&quot;Order - Nursing&quot;</td><td>497</td></tr></tbody></table></div>"
      ],
      "text/plain": [
       "shape: (4, 2)\n",
       "┌────────────────────┬───────┐\n",
       "│ Type               ┆ count │\n",
       "│ ---                ┆ ---   │\n",
       "│ str                ┆ u32   │\n",
       "╞════════════════════╪═══════╡\n",
       "│ Order - Lab        ┆ 18153 │\n",
       "│ Order - Imaging    ┆ 8565  │\n",
       "│ Order - Procedures ┆ 72    │\n",
       "│ Order - Nursing    ┆ 497   │\n",
       "└────────────────────┴───────┘"
      ]
     },
     "execution_count": 27,
     "metadata": {},
     "output_type": "execute_result"
    }
   ],
   "source": [
    "df.filter(df['Result_Flag']=='Resulted')['Type'].value_counts()"
   ]
  },
  {
   "cell_type": "code",
   "execution_count": 28,
   "id": "94453435",
   "metadata": {},
   "outputs": [],
   "source": [
    "uniq_flags = df.filter(~pl.col(\"Result_Flag\").is_null())['Result_Flag'].unique()\n",
    "df = df.with_columns(\n",
    "    pl.when(\n",
    "        pl.col('Result_Flag')==val\n",
    "    ).then(\n",
    "        pl.lit(1)\n",
    "    ).otherwise(0).cast(pl.UInt16).alias(f'Result_Flag_{val}')\n",
    "    for val in uniq_flags\n",
    ")"
   ]
  },
  {
   "cell_type": "code",
   "execution_count": 30,
   "id": "5a6364b3",
   "metadata": {},
   "outputs": [],
   "source": [
    "df_res_flag = df.select([c for c in df.columns if 'Result_Flag' in c])"
   ]
  },
  {
   "cell_type": "code",
   "execution_count": 33,
   "id": "4c58e80a",
   "metadata": {},
   "outputs": [
    {
     "name": "stdout",
     "output_type": "stream",
     "text": [
      "Total number of mistakes for Low is: 0\n",
      "Total number of mistakes for High is: 0\n",
      "Total number of mistakes for Normal is: 0\n",
      "Total number of mistakes for High Panic is: 0\n",
      "Total number of mistakes for Abnormal is: 0\n",
      "Total number of mistakes for Canceled is: 0\n",
      "Total number of mistakes for Resulted is: 0\n",
      "Total number of mistakes for Ordered is: 0\n",
      "Total number of mistakes for Low Panic is: 0\n"
     ]
    }
   ],
   "source": [
    "for v in uniq_flags:\n",
    "    mistakes = (df_res_flag.filter(pl.col('Result_Flag') == v)[f'Result_Flag_{v}']!=1).sum()\n",
    "    print(f'Total number of mistakes for {v} is: {mistakes}')"
   ]
  },
  {
   "cell_type": "code",
   "execution_count": 6,
   "id": "1e17401a",
   "metadata": {},
   "outputs": [
    {
     "data": {
      "text/html": [
       "<div><style>\n",
       ".dataframe > thead > tr,\n",
       ".dataframe > tbody > tr {\n",
       "  text-align: right;\n",
       "  white-space: pre-wrap;\n",
       "}\n",
       "</style>\n",
       "<small>shape: (3, 2)</small><table border=\"1\" class=\"dataframe\"><thead><tr><th>Order_Status</th><th>count</th></tr><tr><td>str</td><td>u32</td></tr></thead><tbody><tr><td>&quot;Sent&quot;</td><td>650</td></tr><tr><td>&quot;Completed&quot;</td><td>57652</td></tr><tr><td>&quot;Canceled&quot;</td><td>18183</td></tr></tbody></table></div>"
      ],
      "text/plain": [
       "shape: (3, 2)\n",
       "┌──────────────┬───────┐\n",
       "│ Order_Status ┆ count │\n",
       "│ ---          ┆ ---   │\n",
       "│ str          ┆ u32   │\n",
       "╞══════════════╪═══════╡\n",
       "│ Sent         ┆ 650   │\n",
       "│ Completed    ┆ 57652 │\n",
       "│ Canceled     ┆ 18183 │\n",
       "└──────────────┴───────┘"
      ]
     },
     "execution_count": 6,
     "metadata": {},
     "output_type": "execute_result"
    }
   ],
   "source": [
    "df.filter(~pl.col(\"Order_Status\").is_null())['Order_Status'].value_counts()"
   ]
  },
  {
   "cell_type": "code",
   "execution_count": 10,
   "id": "0ae4d139",
   "metadata": {},
   "outputs": [
    {
     "data": {
      "text/html": [
       "<div><style>\n",
       ".dataframe > thead > tr,\n",
       ".dataframe > tbody > tr {\n",
       "  text-align: right;\n",
       "  white-space: pre-wrap;\n",
       "}\n",
       "</style>\n",
       "<small>shape: (3, 2)</small><table border=\"1\" class=\"dataframe\"><thead><tr><th>Order_Status</th><th>count</th></tr><tr><td>str</td><td>u32</td></tr></thead><tbody><tr><td>&quot;Completed&quot;</td><td>57652</td></tr><tr><td>&quot;Sent&quot;</td><td>650</td></tr><tr><td>&quot;Canceled&quot;</td><td>18183</td></tr></tbody></table></div>"
      ],
      "text/plain": [
       "shape: (3, 2)\n",
       "┌──────────────┬───────┐\n",
       "│ Order_Status ┆ count │\n",
       "│ ---          ┆ ---   │\n",
       "│ str          ┆ u32   │\n",
       "╞══════════════╪═══════╡\n",
       "│ Completed    ┆ 57652 │\n",
       "│ Sent         ┆ 650   │\n",
       "│ Canceled     ┆ 18183 │\n",
       "└──────────────┴───────┘"
      ]
     },
     "execution_count": 10,
     "metadata": {},
     "output_type": "execute_result"
    }
   ],
   "source": [
    "df.filter(~pl.col(\"Order_Status\").is_null())['Order_Status'].value_counts()"
   ]
  },
  {
   "cell_type": "code",
   "execution_count": 11,
   "id": "96fd3224",
   "metadata": {},
   "outputs": [
    {
     "data": {
      "text/plain": [
       "['Result_Flag',\n",
       " 'Result_Flag_Resulted',\n",
       " 'Result_Flag_Low',\n",
       " 'Result_Flag_Canceled',\n",
       " 'Result_Flag_Low Panic',\n",
       " 'Result_Flag_Ordered',\n",
       " 'Result_Flag_Normal',\n",
       " 'Result_Flag_High Panic',\n",
       " 'Result_Flag_Abnormal',\n",
       " 'Result_Flag_High']"
      ]
     },
     "execution_count": 11,
     "metadata": {},
     "output_type": "execute_result"
    }
   ],
   "source": [
    "[c for c in df.columns if 'Result_Flag' in c]"
   ]
  },
  {
   "cell_type": "code",
   "execution_count": 8,
   "id": "ebc4bb9f",
   "metadata": {},
   "outputs": [
    {
     "data": {
      "text/html": [
       "<div><style>\n",
       ".dataframe > thead > tr,\n",
       ".dataframe > tbody > tr {\n",
       "  text-align: right;\n",
       "  white-space: pre-wrap;\n",
       "}\n",
       "</style>\n",
       "<small>shape: (0, 78)</small><table border=\"1\" class=\"dataframe\"><thead><tr><th>PAT_ENC_CSN_ID</th><th>PAT_MRN_ID</th><th>PAT_ID</th><th>Ethnicity</th><th>FirstRace</th><th>MultiRacial</th><th>Sex</th><th>Arrived_Time</th><th>ED_Disposition</th><th>Admitted_YN</th><th>Patient_Age</th><th>Acuity_Level</th><th>Means_Of_Arrival</th><th>Chief_Complaint</th><th>Chief_Complaint_All</th><th>Count_of_Chief_Complaints</th><th>Calculated_DateTime</th><th>Coverage_Financial_Class_Grouper</th><th>Dispo_Prov_Admission_Rate</th><th>ProblemList_Sixty_Admission_YN</th><th>ProblemList_Eighty_Admission_YN</th><th>Procedure in the Last 4 Weeks</th><th>Has Completed Appt in Last Seven Days</th><th>Has Hospital Encounter in Last Seven Days</th><th>Number of Inpatient Admissions in the last 30 Days</th><th>Number of past appointments in last 60 days</th><th>Number of past inpatient admissions over ED visits in last three years</th><th>Type</th><th>EVENT_NAME</th><th>ED_Location_YN</th><th>Order_Status</th><th>Result_Flag</th><th>MEAS_VALUE</th><th>Primary_DX_Name</th><th>Primary_DX_First_ICD10</th><th>Primary_DX_ICD10</th><th>has_admit_order</th><th>&hellip;</th><th>tta</th><th>eidx_ed</th><th>cc_list</th><th>dxcode_list</th><th>EVENT_NAME_NORM</th><th>Type_NORM</th><th>arr_day</th><th>arr_dow</th><th>arr_year</th><th>arr_month</th><th>arr_hour</th><th>type_name</th><th>holiday</th><th>MEAS_VALUE_UP</th><th>MEAS_VALUE_BSA (Dubois Calc)</th><th>MEAS_VALUE_Weight</th><th>MEAS_VALUE_(0-10) Pain Rating: Rest</th><th>MEAS_VALUE_(0-10) Pain Rating: Activity</th><th>MEAS_VALUE_Pulse</th><th>MEAS_VALUE_Temp</th><th>MEAS_VALUE_BP (MAP)</th><th>MEAS_VALUE_BMI (Calculated)</th><th>MEAS_VALUE_SpO2</th><th>MEAS_VALUE_BP</th><th>MEAS_VALUE_Resp</th><th>Result_Flag_Low</th><th>Result_Flag_Canceled</th><th>Result_Flag_Abnormal</th><th>Result_Flag_High</th><th>Result_Flag_High Panic</th><th>Result_Flag_Resulted</th><th>Result_Flag_Ordered</th><th>Result_Flag_Normal</th><th>Result_Flag_Low Panic</th><th>Order_Status_Sent</th><th>Order_Status_Completed</th><th>Order_Status_Canceled</th></tr><tr><td>i64</td><td>i64</td><td>str</td><td>str</td><td>str</td><td>i64</td><td>str</td><td>datetime[ns]</td><td>str</td><td>u8</td><td>f64</td><td>str</td><td>str</td><td>str</td><td>str</td><td>i64</td><td>datetime[ns]</td><td>str</td><td>f64</td><td>i64</td><td>i64</td><td>str</td><td>u8</td><td>u8</td><td>u16</td><td>u16</td><td>u16</td><td>str</td><td>str</td><td>u8</td><td>str</td><td>str</td><td>f64</td><td>str</td><td>str</td><td>str</td><td>i32</td><td>&hellip;</td><td>f32</td><td>u32</td><td>list[str]</td><td>list[str]</td><td>str</td><td>str</td><td>i8</td><td>i8</td><td>i32</td><td>i8</td><td>i8</td><td>str</td><td>str</td><td>f64</td><td>f64</td><td>f64</td><td>f64</td><td>f64</td><td>f64</td><td>f64</td><td>f64</td><td>f64</td><td>f64</td><td>f64</td><td>f64</td><td>u16</td><td>u16</td><td>u16</td><td>u16</td><td>u16</td><td>u16</td><td>u16</td><td>u16</td><td>u16</td><td>u16</td><td>u16</td><td>u16</td></tr></thead><tbody></tbody></table></div>"
      ],
      "text/plain": [
       "shape: (0, 78)\n",
       "┌────────────┬────────────┬────────┬───────────┬───┬───────────┬───────────┬───────────┬───────────┐\n",
       "│ PAT_ENC_CS ┆ PAT_MRN_ID ┆ PAT_ID ┆ Ethnicity ┆ … ┆ Result_Fl ┆ Order_Sta ┆ Order_Sta ┆ Order_Sta │\n",
       "│ N_ID       ┆ ---        ┆ ---    ┆ ---       ┆   ┆ ag_Low    ┆ tus_Sent  ┆ tus_Compl ┆ tus_Cance │\n",
       "│ ---        ┆ i64        ┆ str    ┆ str       ┆   ┆ Panic     ┆ ---       ┆ eted      ┆ led       │\n",
       "│ i64        ┆            ┆        ┆           ┆   ┆ ---       ┆ u16       ┆ ---       ┆ ---       │\n",
       "│            ┆            ┆        ┆           ┆   ┆ u16       ┆           ┆ u16       ┆ u16       │\n",
       "╞════════════╪════════════╪════════╪═══════════╪═══╪═══════════╪═══════════╪═══════════╪═══════════╡\n",
       "└────────────┴────────────┴────────┴───────────┴───┴───────────┴───────────┴───────────┴───────────┘"
      ]
     },
     "execution_count": 8,
     "metadata": {},
     "output_type": "execute_result"
    }
   ],
   "source": [
    "df.filter((pl.col('Arrived_Time').dt.year()==2022)&(pl.col('Arrived_Time').dt.month()==8))"
   ]
  },
  {
   "cell_type": "code",
   "execution_count": null,
   "id": "28337e9c",
   "metadata": {},
   "outputs": [],
   "source": []
  },
  {
   "cell_type": "markdown",
   "id": "d6afd66a",
   "metadata": {},
   "source": [
    "# Check labeling for the original data\n",
    "- I found out that the preprocessed data dumped 5000 patients arrived in August 2022. So I am revising the preprocessing pipeline"
   ]
  },
  {
   "cell_type": "code",
   "execution_count": 4,
   "id": "70e524e2",
   "metadata": {},
   "outputs": [],
   "source": [
    "d = pl.read_csv(\"../src/ED Events Last 2 Years - compiled 6.6.24.csv\",\n",
    "                null_values=[\"null\", \"NULL\", \"Null\"])"
   ]
  },
  {
   "cell_type": "code",
   "execution_count": 5,
   "id": "90b262a0",
   "metadata": {},
   "outputs": [],
   "source": [
    "d = d.with_columns(pl.col('Arrived_Time').str.strptime(pl.Datetime, \"%Y-%m-%d %H:%M:%S%.f\"))\n"
   ]
  },
  {
   "cell_type": "code",
   "execution_count": 6,
   "id": "6b85c629",
   "metadata": {},
   "outputs": [
    {
     "data": {
      "text/html": [
       "<div>\n",
       "<style scoped>\n",
       "    .dataframe tbody tr th:only-of-type {\n",
       "        vertical-align: middle;\n",
       "    }\n",
       "\n",
       "    .dataframe tbody tr th {\n",
       "        vertical-align: top;\n",
       "    }\n",
       "\n",
       "    .dataframe thead th {\n",
       "        text-align: right;\n",
       "    }\n",
       "</style>\n",
       "<table border=\"1\" class=\"dataframe\">\n",
       "  <thead>\n",
       "    <tr style=\"text-align: right;\">\n",
       "      <th></th>\n",
       "      <th>ED_Disposition</th>\n",
       "      <th>count</th>\n",
       "    </tr>\n",
       "  </thead>\n",
       "  <tbody>\n",
       "    <tr>\n",
       "      <th>0</th>\n",
       "      <td>Pending Discharge</td>\n",
       "      <td>372384</td>\n",
       "    </tr>\n",
       "    <tr>\n",
       "      <th>1</th>\n",
       "      <td>Admitted</td>\n",
       "      <td>11078589</td>\n",
       "    </tr>\n",
       "    <tr>\n",
       "      <th>2</th>\n",
       "      <td>Send to L&amp;D</td>\n",
       "      <td>19547</td>\n",
       "    </tr>\n",
       "    <tr>\n",
       "      <th>3</th>\n",
       "      <td>Eloped</td>\n",
       "      <td>148481</td>\n",
       "    </tr>\n",
       "    <tr>\n",
       "      <th>4</th>\n",
       "      <td>None</td>\n",
       "      <td>6060</td>\n",
       "    </tr>\n",
       "    <tr>\n",
       "      <th>5</th>\n",
       "      <td>LWBS</td>\n",
       "      <td>51522</td>\n",
       "    </tr>\n",
       "    <tr>\n",
       "      <th>6</th>\n",
       "      <td>Deceased</td>\n",
       "      <td>6829</td>\n",
       "    </tr>\n",
       "    <tr>\n",
       "      <th>7</th>\n",
       "      <td>Discharged</td>\n",
       "      <td>9266394</td>\n",
       "    </tr>\n",
       "    <tr>\n",
       "      <th>8</th>\n",
       "      <td>Transfer to Another Facility</td>\n",
       "      <td>180223</td>\n",
       "    </tr>\n",
       "    <tr>\n",
       "      <th>9</th>\n",
       "      <td>AMA</td>\n",
       "      <td>402534</td>\n",
       "    </tr>\n",
       "    <tr>\n",
       "      <th>10</th>\n",
       "      <td>Dismiss - Incorrect Chart</td>\n",
       "      <td>12318</td>\n",
       "    </tr>\n",
       "    <tr>\n",
       "      <th>11</th>\n",
       "      <td>Admit-Zale Lipshy</td>\n",
       "      <td>8968</td>\n",
       "    </tr>\n",
       "  </tbody>\n",
       "</table>\n",
       "</div>"
      ],
      "text/plain": [
       "                  ED_Disposition     count\n",
       "0              Pending Discharge    372384\n",
       "1                       Admitted  11078589\n",
       "2                    Send to L&D     19547\n",
       "3                         Eloped    148481\n",
       "4                           None      6060\n",
       "5                           LWBS     51522\n",
       "6                       Deceased      6829\n",
       "7                     Discharged   9266394\n",
       "8   Transfer to Another Facility    180223\n",
       "9                            AMA    402534\n",
       "10     Dismiss - Incorrect Chart     12318\n",
       "11             Admit-Zale Lipshy      8968"
      ]
     },
     "execution_count": 6,
     "metadata": {},
     "output_type": "execute_result"
    }
   ],
   "source": [
    "d['ED_Disposition'].value_counts().to_pandas()"
   ]
  },
  {
   "cell_type": "code",
   "execution_count": 7,
   "id": "be305bb5",
   "metadata": {},
   "outputs": [],
   "source": [
    "pat_dispo = d.group_by('PAT_ENC_CSN_ID').agg(\n",
    "    pl.col('ED_Disposition').last()\n",
    ")"
   ]
  },
  {
   "cell_type": "code",
   "execution_count": 24,
   "id": "255fc9ef",
   "metadata": {},
   "outputs": [
    {
     "data": {
      "text/html": [
       "<div>\n",
       "<style scoped>\n",
       "    .dataframe tbody tr th:only-of-type {\n",
       "        vertical-align: middle;\n",
       "    }\n",
       "\n",
       "    .dataframe tbody tr th {\n",
       "        vertical-align: top;\n",
       "    }\n",
       "\n",
       "    .dataframe thead th {\n",
       "        text-align: right;\n",
       "    }\n",
       "</style>\n",
       "<table border=\"1\" class=\"dataframe\">\n",
       "  <thead>\n",
       "    <tr style=\"text-align: right;\">\n",
       "      <th></th>\n",
       "      <th>ED_Disposition</th>\n",
       "      <th>count</th>\n",
       "    </tr>\n",
       "  </thead>\n",
       "  <tbody>\n",
       "    <tr>\n",
       "      <th>0</th>\n",
       "      <td>None</td>\n",
       "      <td>2027</td>\n",
       "    </tr>\n",
       "    <tr>\n",
       "      <th>1</th>\n",
       "      <td>Admitted</td>\n",
       "      <td>43744</td>\n",
       "    </tr>\n",
       "    <tr>\n",
       "      <th>2</th>\n",
       "      <td>Send to L&amp;D</td>\n",
       "      <td>1720</td>\n",
       "    </tr>\n",
       "    <tr>\n",
       "      <th>3</th>\n",
       "      <td>Deceased</td>\n",
       "      <td>40</td>\n",
       "    </tr>\n",
       "    <tr>\n",
       "      <th>4</th>\n",
       "      <td>Admit-Zale Lipshy</td>\n",
       "      <td>45</td>\n",
       "    </tr>\n",
       "    <tr>\n",
       "      <th>5</th>\n",
       "      <td>Discharged</td>\n",
       "      <td>58991</td>\n",
       "    </tr>\n",
       "    <tr>\n",
       "      <th>6</th>\n",
       "      <td>Dismiss - Incorrect Chart</td>\n",
       "      <td>1075</td>\n",
       "    </tr>\n",
       "    <tr>\n",
       "      <th>7</th>\n",
       "      <td>LWBS</td>\n",
       "      <td>2130</td>\n",
       "    </tr>\n",
       "    <tr>\n",
       "      <th>8</th>\n",
       "      <td>Transfer to Another Facility</td>\n",
       "      <td>817</td>\n",
       "    </tr>\n",
       "    <tr>\n",
       "      <th>9</th>\n",
       "      <td>Eloped</td>\n",
       "      <td>2541</td>\n",
       "    </tr>\n",
       "    <tr>\n",
       "      <th>10</th>\n",
       "      <td>Pending Discharge</td>\n",
       "      <td>2307</td>\n",
       "    </tr>\n",
       "    <tr>\n",
       "      <th>11</th>\n",
       "      <td>AMA</td>\n",
       "      <td>4329</td>\n",
       "    </tr>\n",
       "  </tbody>\n",
       "</table>\n",
       "</div>"
      ],
      "text/plain": [
       "                  ED_Disposition  count\n",
       "0                           None   2027\n",
       "1                       Admitted  43744\n",
       "2                    Send to L&D   1720\n",
       "3                       Deceased     40\n",
       "4              Admit-Zale Lipshy     45\n",
       "5                     Discharged  58991\n",
       "6      Dismiss - Incorrect Chart   1075\n",
       "7                           LWBS   2130\n",
       "8   Transfer to Another Facility    817\n",
       "9                         Eloped   2541\n",
       "10             Pending Discharge   2307\n",
       "11                           AMA   4329"
      ]
     },
     "execution_count": 24,
     "metadata": {},
     "output_type": "execute_result"
    }
   ],
   "source": [
    "pat_dispo['ED_Disposition'].value_counts().to_pandas()"
   ]
  },
  {
   "cell_type": "code",
   "execution_count": 26,
   "id": "89524a43",
   "metadata": {},
   "outputs": [
    {
     "data": {
      "text/html": [
       "<div>\n",
       "<style scoped>\n",
       "    .dataframe tbody tr th:only-of-type {\n",
       "        vertical-align: middle;\n",
       "    }\n",
       "\n",
       "    .dataframe tbody tr th {\n",
       "        vertical-align: top;\n",
       "    }\n",
       "\n",
       "    .dataframe thead th {\n",
       "        text-align: right;\n",
       "    }\n",
       "</style>\n",
       "<table border=\"1\" class=\"dataframe\">\n",
       "  <thead>\n",
       "    <tr style=\"text-align: right;\">\n",
       "      <th></th>\n",
       "      <th>Type</th>\n",
       "      <th>count</th>\n",
       "    </tr>\n",
       "  </thead>\n",
       "  <tbody>\n",
       "    <tr>\n",
       "      <th>0</th>\n",
       "      <td>Order Result - Lab</td>\n",
       "      <td>120732</td>\n",
       "    </tr>\n",
       "    <tr>\n",
       "      <th>1</th>\n",
       "      <td>Order - Imaging</td>\n",
       "      <td>11160</td>\n",
       "    </tr>\n",
       "    <tr>\n",
       "      <th>2</th>\n",
       "      <td>Order - Nursing</td>\n",
       "      <td>15762</td>\n",
       "    </tr>\n",
       "    <tr>\n",
       "      <th>3</th>\n",
       "      <td>Order - Admission</td>\n",
       "      <td>371</td>\n",
       "    </tr>\n",
       "    <tr>\n",
       "      <th>4</th>\n",
       "      <td>Vitals</td>\n",
       "      <td>79975</td>\n",
       "    </tr>\n",
       "    <tr>\n",
       "      <th>5</th>\n",
       "      <td>Order Result - Imaging</td>\n",
       "      <td>2220</td>\n",
       "    </tr>\n",
       "    <tr>\n",
       "      <th>6</th>\n",
       "      <td>Order - Lab</td>\n",
       "      <td>40965</td>\n",
       "    </tr>\n",
       "    <tr>\n",
       "      <th>7</th>\n",
       "      <td>Order - Consult</td>\n",
       "      <td>704</td>\n",
       "    </tr>\n",
       "    <tr>\n",
       "      <th>8</th>\n",
       "      <td>Event</td>\n",
       "      <td>122192</td>\n",
       "    </tr>\n",
       "    <tr>\n",
       "      <th>9</th>\n",
       "      <td>Order - Medication</td>\n",
       "      <td>8397</td>\n",
       "    </tr>\n",
       "    <tr>\n",
       "      <th>10</th>\n",
       "      <td>Order - Procedures</td>\n",
       "      <td>47</td>\n",
       "    </tr>\n",
       "    <tr>\n",
       "      <th>11</th>\n",
       "      <td>Order - Discharge</td>\n",
       "      <td>9</td>\n",
       "    </tr>\n",
       "  </tbody>\n",
       "</table>\n",
       "</div>"
      ],
      "text/plain": [
       "                      Type   count\n",
       "0       Order Result - Lab  120732\n",
       "1          Order - Imaging   11160\n",
       "2          Order - Nursing   15762\n",
       "3        Order - Admission     371\n",
       "4                   Vitals   79975\n",
       "5   Order Result - Imaging    2220\n",
       "6              Order - Lab   40965\n",
       "7          Order - Consult     704\n",
       "8                    Event  122192\n",
       "9       Order - Medication    8397\n",
       "10      Order - Procedures      47\n",
       "11       Order - Discharge       9"
      ]
     },
     "execution_count": 26,
     "metadata": {},
     "output_type": "execute_result"
    }
   ],
   "source": [
    "d.filter(pl.col(\"ED_Disposition\")==\"AMA\")['Type'].value_counts().to_pandas()"
   ]
  },
  {
   "cell_type": "code",
   "execution_count": 27,
   "id": "754b50ce",
   "metadata": {},
   "outputs": [
    {
     "data": {
      "text/html": [
       "<div>\n",
       "<style scoped>\n",
       "    .dataframe tbody tr th:only-of-type {\n",
       "        vertical-align: middle;\n",
       "    }\n",
       "\n",
       "    .dataframe tbody tr th {\n",
       "        vertical-align: top;\n",
       "    }\n",
       "\n",
       "    .dataframe thead th {\n",
       "        text-align: right;\n",
       "    }\n",
       "</style>\n",
       "<table border=\"1\" class=\"dataframe\">\n",
       "  <thead>\n",
       "    <tr style=\"text-align: right;\">\n",
       "      <th></th>\n",
       "      <th>Type</th>\n",
       "      <th>count</th>\n",
       "    </tr>\n",
       "  </thead>\n",
       "  <tbody>\n",
       "    <tr>\n",
       "      <th>0</th>\n",
       "      <td>Order - Admission</td>\n",
       "      <td>10</td>\n",
       "    </tr>\n",
       "    <tr>\n",
       "      <th>1</th>\n",
       "      <td>Order - Procedures</td>\n",
       "      <td>99</td>\n",
       "    </tr>\n",
       "    <tr>\n",
       "      <th>2</th>\n",
       "      <td>Order Result - Imaging</td>\n",
       "      <td>27</td>\n",
       "    </tr>\n",
       "    <tr>\n",
       "      <th>3</th>\n",
       "      <td>Order - Imaging</td>\n",
       "      <td>136</td>\n",
       "    </tr>\n",
       "    <tr>\n",
       "      <th>4</th>\n",
       "      <td>Vitals</td>\n",
       "      <td>1159</td>\n",
       "    </tr>\n",
       "    <tr>\n",
       "      <th>5</th>\n",
       "      <td>Order - Lab</td>\n",
       "      <td>723</td>\n",
       "    </tr>\n",
       "    <tr>\n",
       "      <th>6</th>\n",
       "      <td>Order - Medication</td>\n",
       "      <td>295</td>\n",
       "    </tr>\n",
       "    <tr>\n",
       "      <th>7</th>\n",
       "      <td>Order - Consult</td>\n",
       "      <td>30</td>\n",
       "    </tr>\n",
       "    <tr>\n",
       "      <th>8</th>\n",
       "      <td>Order - Nursing</td>\n",
       "      <td>177</td>\n",
       "    </tr>\n",
       "    <tr>\n",
       "      <th>9</th>\n",
       "      <td>Event</td>\n",
       "      <td>2596</td>\n",
       "    </tr>\n",
       "    <tr>\n",
       "      <th>10</th>\n",
       "      <td>Order Result - Lab</td>\n",
       "      <td>1577</td>\n",
       "    </tr>\n",
       "  </tbody>\n",
       "</table>\n",
       "</div>"
      ],
      "text/plain": [
       "                      Type  count\n",
       "0        Order - Admission     10\n",
       "1       Order - Procedures     99\n",
       "2   Order Result - Imaging     27\n",
       "3          Order - Imaging    136\n",
       "4                   Vitals   1159\n",
       "5              Order - Lab    723\n",
       "6       Order - Medication    295\n",
       "7          Order - Consult     30\n",
       "8          Order - Nursing    177\n",
       "9                    Event   2596\n",
       "10      Order Result - Lab   1577"
      ]
     },
     "execution_count": 27,
     "metadata": {},
     "output_type": "execute_result"
    }
   ],
   "source": [
    "d.filter(pl.col(\"ED_Disposition\")==\"Deceased\")['Type'].value_counts().to_pandas()"
   ]
  },
  {
   "cell_type": "code",
   "execution_count": 28,
   "id": "5ce6cc5d",
   "metadata": {},
   "outputs": [
    {
     "data": {
      "text/html": [
       "<div>\n",
       "<style scoped>\n",
       "    .dataframe tbody tr th:only-of-type {\n",
       "        vertical-align: middle;\n",
       "    }\n",
       "\n",
       "    .dataframe tbody tr th {\n",
       "        vertical-align: top;\n",
       "    }\n",
       "\n",
       "    .dataframe thead th {\n",
       "        text-align: right;\n",
       "    }\n",
       "</style>\n",
       "<table border=\"1\" class=\"dataframe\">\n",
       "  <thead>\n",
       "    <tr style=\"text-align: right;\">\n",
       "      <th></th>\n",
       "      <th>Type</th>\n",
       "      <th>count</th>\n",
       "    </tr>\n",
       "  </thead>\n",
       "  <tbody>\n",
       "    <tr>\n",
       "      <th>0</th>\n",
       "      <td>Order - Admission</td>\n",
       "      <td>12</td>\n",
       "    </tr>\n",
       "    <tr>\n",
       "      <th>1</th>\n",
       "      <td>Order - Consult</td>\n",
       "      <td>16</td>\n",
       "    </tr>\n",
       "    <tr>\n",
       "      <th>2</th>\n",
       "      <td>Vitals</td>\n",
       "      <td>603</td>\n",
       "    </tr>\n",
       "    <tr>\n",
       "      <th>3</th>\n",
       "      <td>Order Result - Lab</td>\n",
       "      <td>378</td>\n",
       "    </tr>\n",
       "    <tr>\n",
       "      <th>4</th>\n",
       "      <td>Event</td>\n",
       "      <td>4153</td>\n",
       "    </tr>\n",
       "    <tr>\n",
       "      <th>5</th>\n",
       "      <td>Order - Imaging</td>\n",
       "      <td>75</td>\n",
       "    </tr>\n",
       "    <tr>\n",
       "      <th>6</th>\n",
       "      <td>Order - Medication</td>\n",
       "      <td>152</td>\n",
       "    </tr>\n",
       "    <tr>\n",
       "      <th>7</th>\n",
       "      <td>Order - Procedures</td>\n",
       "      <td>3</td>\n",
       "    </tr>\n",
       "    <tr>\n",
       "      <th>8</th>\n",
       "      <td>Order - Lab</td>\n",
       "      <td>343</td>\n",
       "    </tr>\n",
       "    <tr>\n",
       "      <th>9</th>\n",
       "      <td>Order - Nursing</td>\n",
       "      <td>315</td>\n",
       "    </tr>\n",
       "    <tr>\n",
       "      <th>10</th>\n",
       "      <td>Order Result - Imaging</td>\n",
       "      <td>10</td>\n",
       "    </tr>\n",
       "  </tbody>\n",
       "</table>\n",
       "</div>"
      ],
      "text/plain": [
       "                      Type  count\n",
       "0        Order - Admission     12\n",
       "1          Order - Consult     16\n",
       "2                   Vitals    603\n",
       "3       Order Result - Lab    378\n",
       "4                    Event   4153\n",
       "5          Order - Imaging     75\n",
       "6       Order - Medication    152\n",
       "7       Order - Procedures      3\n",
       "8              Order - Lab    343\n",
       "9          Order - Nursing    315\n",
       "10  Order Result - Imaging     10"
      ]
     },
     "execution_count": 28,
     "metadata": {},
     "output_type": "execute_result"
    }
   ],
   "source": [
    "d.filter(pl.col(\"ED_Disposition\").is_null())['Type'].value_counts().to_pandas()"
   ]
  },
  {
   "cell_type": "code",
   "execution_count": 29,
   "id": "c8549d8c",
   "metadata": {},
   "outputs": [
    {
     "data": {
      "text/html": [
       "<div>\n",
       "<style scoped>\n",
       "    .dataframe tbody tr th:only-of-type {\n",
       "        vertical-align: middle;\n",
       "    }\n",
       "\n",
       "    .dataframe tbody tr th {\n",
       "        vertical-align: top;\n",
       "    }\n",
       "\n",
       "    .dataframe thead th {\n",
       "        text-align: right;\n",
       "    }\n",
       "</style>\n",
       "<table border=\"1\" class=\"dataframe\">\n",
       "  <thead>\n",
       "    <tr style=\"text-align: right;\">\n",
       "      <th></th>\n",
       "      <th>Type</th>\n",
       "      <th>count</th>\n",
       "    </tr>\n",
       "  </thead>\n",
       "  <tbody>\n",
       "    <tr>\n",
       "      <th>0</th>\n",
       "      <td>Order - Medication</td>\n",
       "      <td>114</td>\n",
       "    </tr>\n",
       "    <tr>\n",
       "      <th>1</th>\n",
       "      <td>Order - Nursing</td>\n",
       "      <td>343</td>\n",
       "    </tr>\n",
       "    <tr>\n",
       "      <th>2</th>\n",
       "      <td>Order - Admission</td>\n",
       "      <td>10</td>\n",
       "    </tr>\n",
       "    <tr>\n",
       "      <th>3</th>\n",
       "      <td>Event</td>\n",
       "      <td>12944</td>\n",
       "    </tr>\n",
       "    <tr>\n",
       "      <th>4</th>\n",
       "      <td>Order - Imaging</td>\n",
       "      <td>141</td>\n",
       "    </tr>\n",
       "    <tr>\n",
       "      <th>5</th>\n",
       "      <td>Order - Discharge</td>\n",
       "      <td>1</td>\n",
       "    </tr>\n",
       "    <tr>\n",
       "      <th>6</th>\n",
       "      <td>Vitals</td>\n",
       "      <td>3751</td>\n",
       "    </tr>\n",
       "    <tr>\n",
       "      <th>7</th>\n",
       "      <td>Order Result - Imaging</td>\n",
       "      <td>11</td>\n",
       "    </tr>\n",
       "    <tr>\n",
       "      <th>8</th>\n",
       "      <td>Order - Lab</td>\n",
       "      <td>762</td>\n",
       "    </tr>\n",
       "    <tr>\n",
       "      <th>9</th>\n",
       "      <td>Order Result - Lab</td>\n",
       "      <td>1433</td>\n",
       "    </tr>\n",
       "    <tr>\n",
       "      <th>10</th>\n",
       "      <td>Order - Consult</td>\n",
       "      <td>37</td>\n",
       "    </tr>\n",
       "  </tbody>\n",
       "</table>\n",
       "</div>"
      ],
      "text/plain": [
       "                      Type  count\n",
       "0       Order - Medication    114\n",
       "1          Order - Nursing    343\n",
       "2        Order - Admission     10\n",
       "3                    Event  12944\n",
       "4          Order - Imaging    141\n",
       "5        Order - Discharge      1\n",
       "6                   Vitals   3751\n",
       "7   Order Result - Imaging     11\n",
       "8              Order - Lab    762\n",
       "9       Order Result - Lab   1433\n",
       "10         Order - Consult     37"
      ]
     },
     "execution_count": 29,
     "metadata": {},
     "output_type": "execute_result"
    }
   ],
   "source": [
    "\n",
    "d.filter(pl.col(\"ED_Disposition\")=='Send to L&D')['Type'].value_counts().to_pandas()"
   ]
  },
  {
   "cell_type": "code",
   "execution_count": 30,
   "id": "4643d083",
   "metadata": {},
   "outputs": [],
   "source": [
    "admit_events = d.filter(pl.col(\"EVENT_NAME\").str.to_lowercase().str.contains('admit'))"
   ]
  },
  {
   "cell_type": "code",
   "execution_count": 35,
   "id": "c6fabbc7",
   "metadata": {},
   "outputs": [],
   "source": [
    "pat_with_admit_event = admit_events['PAT_ENC_CSN_ID'].unique().to_frame"
   ]
  },
  {
   "cell_type": "code",
   "execution_count": 40,
   "id": "ae509636",
   "metadata": {},
   "outputs": [
    {
     "data": {
      "text/html": [
       "<div>\n",
       "<style scoped>\n",
       "    .dataframe tbody tr th:only-of-type {\n",
       "        vertical-align: middle;\n",
       "    }\n",
       "\n",
       "    .dataframe tbody tr th {\n",
       "        vertical-align: top;\n",
       "    }\n",
       "\n",
       "    .dataframe thead th {\n",
       "        text-align: right;\n",
       "    }\n",
       "</style>\n",
       "<table border=\"1\" class=\"dataframe\">\n",
       "  <thead>\n",
       "    <tr style=\"text-align: right;\">\n",
       "      <th></th>\n",
       "      <th>ED_Disposition</th>\n",
       "      <th>count</th>\n",
       "    </tr>\n",
       "  </thead>\n",
       "  <tbody>\n",
       "    <tr>\n",
       "      <th>0</th>\n",
       "      <td>AMA</td>\n",
       "      <td>218</td>\n",
       "    </tr>\n",
       "    <tr>\n",
       "      <th>1</th>\n",
       "      <td>Dismiss - Incorrect Chart</td>\n",
       "      <td>10</td>\n",
       "    </tr>\n",
       "    <tr>\n",
       "      <th>2</th>\n",
       "      <td>None</td>\n",
       "      <td>18</td>\n",
       "    </tr>\n",
       "    <tr>\n",
       "      <th>3</th>\n",
       "      <td>Transfer to Another Facility</td>\n",
       "      <td>30</td>\n",
       "    </tr>\n",
       "    <tr>\n",
       "      <th>4</th>\n",
       "      <td>Admit-Zale Lipshy</td>\n",
       "      <td>45</td>\n",
       "    </tr>\n",
       "    <tr>\n",
       "      <th>5</th>\n",
       "      <td>Send to L&amp;D</td>\n",
       "      <td>14</td>\n",
       "    </tr>\n",
       "    <tr>\n",
       "      <th>6</th>\n",
       "      <td>Deceased</td>\n",
       "      <td>6</td>\n",
       "    </tr>\n",
       "    <tr>\n",
       "      <th>7</th>\n",
       "      <td>Admitted</td>\n",
       "      <td>43463</td>\n",
       "    </tr>\n",
       "    <tr>\n",
       "      <th>8</th>\n",
       "      <td>Pending Discharge</td>\n",
       "      <td>42</td>\n",
       "    </tr>\n",
       "    <tr>\n",
       "      <th>9</th>\n",
       "      <td>Eloped</td>\n",
       "      <td>21</td>\n",
       "    </tr>\n",
       "    <tr>\n",
       "      <th>10</th>\n",
       "      <td>Discharged</td>\n",
       "      <td>1622</td>\n",
       "    </tr>\n",
       "    <tr>\n",
       "      <th>11</th>\n",
       "      <td>LWBS</td>\n",
       "      <td>1</td>\n",
       "    </tr>\n",
       "  </tbody>\n",
       "</table>\n",
       "</div>"
      ],
      "text/plain": [
       "                  ED_Disposition  count\n",
       "0                            AMA    218\n",
       "1      Dismiss - Incorrect Chart     10\n",
       "2                           None     18\n",
       "3   Transfer to Another Facility     30\n",
       "4              Admit-Zale Lipshy     45\n",
       "5                    Send to L&D     14\n",
       "6                       Deceased      6\n",
       "7                       Admitted  43463\n",
       "8              Pending Discharge     42\n",
       "9                         Eloped     21\n",
       "10                    Discharged   1622\n",
       "11                          LWBS      1"
      ]
     },
     "execution_count": 40,
     "metadata": {},
     "output_type": "execute_result"
    }
   ],
   "source": [
    "pat_dispo.join(pat_with_admit_event.to_frame(), on='PAT_ENC_CSN_ID')['ED_Disposition'].value_counts().to_pandas()"
   ]
  },
  {
   "cell_type": "code",
   "execution_count": 1,
   "id": "17739777",
   "metadata": {},
   "outputs": [
    {
     "ename": "NameError",
     "evalue": "name 'admit_events' is not defined",
     "output_type": "error",
     "traceback": [
      "\u001b[1;31m---------------------------------------------------------------------------\u001b[0m",
      "\u001b[1;31mNameError\u001b[0m                                 Traceback (most recent call last)",
      "Cell \u001b[1;32mIn[1], line 1\u001b[0m\n\u001b[1;32m----> 1\u001b[0m \u001b[43madmit_events\u001b[49m[\u001b[38;5;124m'\u001b[39m\u001b[38;5;124mEVENT_NAME\u001b[39m\u001b[38;5;124m'\u001b[39m]\u001b[38;5;241m.\u001b[39mvalue_counts()\u001b[38;5;241m.\u001b[39mto_pandas()\u001b[38;5;241m.\u001b[39msort(by\u001b[38;5;241m=\u001b[39m\u001b[38;5;124m'\u001b[39m\u001b[38;5;124mcount\u001b[39m\u001b[38;5;124m'\u001b[39m, ascending\u001b[38;5;241m=\u001b[39m\u001b[38;5;28;01mFalse\u001b[39;00m)\n",
      "\u001b[1;31mNameError\u001b[0m: name 'admit_events' is not defined"
     ]
    }
   ],
   "source": [
    "admit_events['EVENT_NAME'].value_counts().to_pandas().sort(by='count', ascending=False)"
   ]
  },
  {
   "cell_type": "code",
   "execution_count": null,
   "id": "097c447d",
   "metadata": {},
   "outputs": [],
   "source": [
    "d.filter(pl.col(\"EVENT_NAME\") == 'ADMIT ')"
   ]
  }
 ],
 "metadata": {
  "kernelspec": {
   "display_name": "Python 3 (ipykernel)",
   "language": "python",
   "name": "python3"
  },
  "language_info": {
   "codemirror_mode": {
    "name": "ipython",
    "version": 3
   },
   "file_extension": ".py",
   "mimetype": "text/x-python",
   "name": "python",
   "nbconvert_exporter": "python",
   "pygments_lexer": "ipython3",
   "version": "3.10.11"
  }
 },
 "nbformat": 4,
 "nbformat_minor": 5
}
